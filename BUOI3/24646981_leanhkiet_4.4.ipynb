{
 "cells": [
  {
   "cell_type": "code",
   "execution_count": 1,
   "id": "cf8acb7d",
   "metadata": {},
   "outputs": [
    {
     "name": "stdout",
     "output_type": "stream",
     "text": [
      "[[1 2 3]\n",
      " [4 5 6]]\n",
      "<class 'numpy.ndarray'>\n"
     ]
    }
   ],
   "source": [
    "#Từ object có định dạng array: sử dụng array() \n",
    "import numpy as np \n",
    "array_2 = np.array([[1,2,3], [4,5,6]])\n",
    "print(array_2)\n",
    "print(type(array_2))"
   ]
  },
  {
   "cell_type": "code",
   "execution_count": 4,
   "id": "b9e3ef98",
   "metadata": {},
   "outputs": [
    {
     "name": "stdout",
     "output_type": "stream",
     "text": [
      "Mảng zeros\n",
      "[[[0 0]\n",
      "  [0 0]]\n",
      "\n",
      " [[0 0]\n",
      "  [0 0]]]\n",
      "Mảng ones\n",
      "[[1 1]\n",
      " [1 1]]\n"
     ]
    }
   ],
   "source": [
    "# tạo mảng với 0 hoặc 1\n",
    "mang_zeros = np.zeros([2,2,2], dtype = int)\n",
    "print(\"Mảng zeros\")\n",
    "print(mang_zeros)\n",
    "print(\"Mảng ones\")\n",
    "mang_ones = np.ones([2,2], dtype = int)\n",
    "print(mang_ones)"
   ]
  },
  {
   "cell_type": "code",
   "execution_count": 5,
   "id": "3ab860fb",
   "metadata": {},
   "outputs": [
    {
     "name": "stdout",
     "output_type": "stream",
     "text": [
      "[[1 2 3]\n",
      " [4 5 6]]\n",
      "(2, 3)\n"
     ]
    }
   ],
   "source": [
    "#4.2.2\n",
    "#Số dòng, cột trên mảng \n",
    "print(array_2) \n",
    "print(array_2.shape)"
   ]
  },
  {
   "cell_type": "code",
   "execution_count": 6,
   "id": "edabcea1",
   "metadata": {},
   "outputs": [
    {
     "name": "stdout",
     "output_type": "stream",
     "text": [
      "[[100   2   3]\n",
      " [  4   5   6]]\n"
     ]
    }
   ],
   "source": [
    "#Cập nhật phần tử trong mảng \n",
    "\n",
    "array_2[0][0] = 100 \n",
    "print(array_2)"
   ]
  },
  {
   "cell_type": "code",
   "execution_count": 7,
   "id": "26302933",
   "metadata": {},
   "outputs": [
    {
     "name": "stdout",
     "output_type": "stream",
     "text": [
      "[[100   2   3]\n",
      " [  4   5   6]]\n",
      "6\n",
      "[4 5 6]\n"
     ]
    }
   ],
   "source": [
    "# Truy xuất phần tử trên mảng: theo ma trận, dòng, cột (index = 0 -> chiều dài - 1) \n",
    "print(array_2)\n",
    "print(array_2[1][2])\n",
    "print(array_2[1],)"
   ]
  },
  {
   "cell_type": "code",
   "execution_count": 12,
   "id": "fe4929f3",
   "metadata": {},
   "outputs": [
    {
     "name": "stdout",
     "output_type": "stream",
     "text": [
      "[[100   2]\n",
      " [  3   4]\n",
      " [  5   6]]\n",
      "(3, 2)\n",
      "[[100   2]\n",
      " [  3   4]\n",
      " [  5   6]]\n"
     ]
    }
   ],
   "source": [
    "#thay doi kich thuoc mang \n",
    "print(array_2)\n",
    "print(array_2.shape )\n",
    "array_2.shape = (3,2 )\n",
    "print(array_2)"
   ]
  },
  {
   "cell_type": "code",
   "execution_count": 13,
   "id": "55203c2b",
   "metadata": {},
   "outputs": [
    {
     "name": "stdout",
     "output_type": "stream",
     "text": [
      "[ 0  1  2  3  4  5  6  7  8  9 10 11 12 13 14 15 16 17 18 19 20 21 22 23]\n",
      "[[[ 0  1  2  3]\n",
      "  [ 4  5  6  7]\n",
      "  [ 8  9 10 11]]\n",
      "\n",
      " [[12 13 14 15]\n",
      "  [16 17 18 19]\n",
      "  [20 21 22 23]]]\n",
      "6\n"
     ]
    }
   ],
   "source": [
    "#thay doi kich thuoc mang dung reshape \n",
    "a= np.arange(24) \n",
    "print(a) \n",
    "b = a.reshape(2,3,4)\n",
    "print(b)\n",
    "print(b[0][1][2])"
   ]
  },
  {
   "cell_type": "code",
   "execution_count": 15,
   "id": "1c99c498",
   "metadata": {},
   "outputs": [
    {
     "name": "stdout",
     "output_type": "stream",
     "text": [
      "Max: 23\n",
      "Min: 0\n",
      "Max - theo từng cột: 23\n",
      "Min theo từng cột: 0\n"
     ]
    }
   ],
   "source": [
    "#Tìm max, min: sử dụng amax(), amin()\n",
    "print(\"Max:\", np.amax(a))\n",
    "print(\"Min:\", np.amin(a))\n",
    "print(\"Max - theo từng cột:\", np.amax(a, 0))\n",
    "print(\"Min theo từng cột:\", np.amin(a, 0))\n",
    "# Không thể dùng axis=1 cho mảng 1 chiều"
   ]
  },
  {
   "cell_type": "code",
   "execution_count": 17,
   "id": "b54111fb",
   "metadata": {},
   "outputs": [
    {
     "name": "stdout",
     "output_type": "stream",
     "text": [
      "[[[3 7]\n",
      "  [8 4]]\n",
      "\n",
      " [[2 4]\n",
      "  [1 5]]]\n",
      "Mean b:\n",
      "4.25\n",
      "Mean b[0]:\n",
      "5.5\n"
     ]
    }
   ],
   "source": [
    "#Giá trị trung bình số học: sử dụng mean()\n",
    "b = np.array([[[3,7], [8,4]], [[2,4], [1, 5]]])\n",
    "print(b)\n",
    "print('Mean b:')\n",
    "print(np.mean(b))\n",
    "print('Mean b[0]:')\n",
    "print(np.mean(b[0]))"
   ]
  },
  {
   "cell_type": "code",
   "execution_count": 18,
   "id": "b742aa62",
   "metadata": {},
   "outputs": [
    {
     "name": "stdout",
     "output_type": "stream",
     "text": [
      "[[[3 7]\n",
      "  [8 4]]\n",
      "\n",
      " [[2 4]\n",
      "  [1 5]]]\n",
      "Median b:\n",
      "4.0\n",
      "Median b[1]:\n",
      "3.0\n"
     ]
    }
   ],
   "source": [
    "#Giá trị trung bình giữa: sử dụng median() dựa trên mảng đã sắp xếp, lấy trung bình phần tử ở giữa mảng\n",
    "print(b)\n",
    "print('Median b:')\n",
    "print(np.median(b))\n",
    "print('Median b[1]:')\n",
    "print(np.median(b[1]))"
   ]
  },
  {
   "cell_type": "code",
   "execution_count": 19,
   "id": "4ad8f6cb",
   "metadata": {},
   "outputs": [
    {
     "name": "stdout",
     "output_type": "stream",
     "text": [
      "[[[9 7]\n",
      "  [8 4]]\n",
      "\n",
      " [[2 4]\n",
      "  [6 5]]]\n",
      "Sort c\n",
      "[[[7 9]\n",
      "  [4 8]]\n",
      "\n",
      " [[2 4]\n",
      "  [5 6]]]\n"
     ]
    }
   ],
   "source": [
    "#Sắp xếp tăng dần trong mảng: sử dụng sort() \n",
    "c = np.array([[[9,7], [8,4]], [[2,4], [6, 5]]])\n",
    "print(c)\n",
    "print(\"Sort c\")\n",
    "print(np.sort(c))"
   ]
  },
  {
   "cell_type": "code",
   "execution_count": 20,
   "id": "2dbe8e45",
   "metadata": {},
   "outputs": [
    {
     "name": "stdout",
     "output_type": "stream",
     "text": [
      "Sort c[0] axis 1 (theo dòng):\n",
      "[[7 9]\n",
      " [4 8]]\n"
     ]
    }
   ],
   "source": [
    "print('Sort c[0] axis 1 (theo dòng):')\n",
    "print(np.sort(c[0], axis = 1))"
   ]
  },
  {
   "cell_type": "code",
   "execution_count": 21,
   "id": "0c73b900",
   "metadata": {},
   "outputs": [
    {
     "name": "stdout",
     "output_type": "stream",
     "text": [
      "Sort c[0] axis 0 (theo cột):\n",
      "[[8 4]\n",
      " [9 7]]\n"
     ]
    }
   ],
   "source": [
    "print('Sort c[0] axis 0 (theo cột):')\n",
    "print(np.sort(c[0], axis = 0))"
   ]
  },
  {
   "cell_type": "code",
   "execution_count": 22,
   "id": "2323e7a4",
   "metadata": {},
   "outputs": [
    {
     "name": "stdout",
     "output_type": "stream",
     "text": [
      "[[[9 7]\n",
      "  [8 4]]\n",
      "\n",
      " [[2 4]\n",
      "  [6 5]]]\n",
      "(array([0, 0, 0, 1]), array([0, 0, 1, 1]), array([0, 1, 0, 0]))\n",
      "[9 7 8 6]\n"
     ]
    }
   ],
   "source": [
    "#Tìm index của các phần tử trong mảng thỏa điều kiện: sử dụng where() \n",
    "print(c)\n",
    "cond = np.where(c>5)\n",
    "print(cond)\n",
    "print(c[cond])"
   ]
  },
  {
   "cell_type": "code",
   "execution_count": 23,
   "id": "a1597154",
   "metadata": {},
   "outputs": [
    {
     "name": "stdout",
     "output_type": "stream",
     "text": [
      "[[[9 7]\n",
      "  [8 4]]\n",
      "\n",
      " [[2 4]\n",
      "  [6 5]]]\n",
      "Trên c: [9 7 8 6 5]\n",
      "Trên c[0]: [9 7 8]\n"
     ]
    }
   ],
   "source": [
    "#Tìm các phần tử trong mảng thỏa điều kiện: sử dụng extract(điều kiện, mảng)\n",
    "print(c)\n",
    "print(\"Trên c:\", np.extract (c >= 5, c) )\n",
    "print(\"Trên c[0]:\", np.extract (c[0] >= 5, c[0]))"
   ]
  }
 ],
 "metadata": {
  "kernelspec": {
   "display_name": "Python 3",
   "language": "python",
   "name": "python3"
  },
  "language_info": {
   "codemirror_mode": {
    "name": "ipython",
    "version": 3
   },
   "file_extension": ".py",
   "mimetype": "text/x-python",
   "name": "python",
   "nbconvert_exporter": "python",
   "pygments_lexer": "ipython3",
   "version": "3.13.5"
  }
 },
 "nbformat": 4,
 "nbformat_minor": 5
}
