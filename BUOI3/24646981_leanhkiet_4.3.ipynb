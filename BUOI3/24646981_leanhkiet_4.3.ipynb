{
 "cells": [
  {
   "cell_type": "code",
   "execution_count": 1,
   "id": "ac6a8dbe",
   "metadata": {},
   "outputs": [
    {
     "name": "stdout",
     "output_type": "stream",
     "text": [
      "[1 2 3]\n",
      "<class 'numpy.ndarray'>\n"
     ]
    }
   ],
   "source": [
    "#4.3 Cac Vi Du \n",
    "import numpy as np \n",
    "#tao mang mot chieu \n",
    "array_1 = np.array([1,2,3])\n",
    "print(array_1)\n",
    "print(type(array_1))"
   ]
  },
  {
   "cell_type": "code",
   "execution_count": 1,
   "id": "bb718698",
   "metadata": {},
   "outputs": [
    {
     "name": "stdout",
     "output_type": "stream",
     "text": [
      "[1 2 3]\n",
      "<class 'numpy.ndarray'>\n"
     ]
    }
   ],
   "source": [
    "import numpy as np \n",
    "x = [1,2,3] \n",
    "a = np.asarray(x)\n",
    "print(a)\n",
    "print(type(a))"
   ]
  },
  {
   "cell_type": "code",
   "execution_count": null,
   "id": "d3712535",
   "metadata": {},
   "outputs": [
    {
     "name": "stdout",
     "output_type": "stream",
     "text": [
      "[1 2 3]\n",
      "<class 'numpy.ndarray'>\n"
     ]
    }
   ],
   "source": [
    "x = (1,2,3 )\n",
    "a = np.asarray(x) \n",
    "print(a)\n"
   ]
  },
  {
   "cell_type": "code",
   "execution_count": 8,
   "id": "142ecbfb",
   "metadata": {},
   "outputs": [
    {
     "name": "stdout",
     "output_type": "stream",
     "text": [
      "[10 12 14 16 18]\n"
     ]
    }
   ],
   "source": [
    "mang_2 = np.arange(10,20,2 )\n",
    "print(mang_2) "
   ]
  },
  {
   "cell_type": "code",
   "execution_count": 9,
   "id": "d0b4299e",
   "metadata": {},
   "outputs": [
    {
     "name": "stdout",
     "output_type": "stream",
     "text": [
      "[10.  12.5 15.  17.5 20. ]\n",
      "[10. 12. 14. 16. 18.]\n"
     ]
    }
   ],
   "source": [
    "mang_3 = np.linspace(10, 20, 5)\n",
    "print(mang_3)\n",
    "mang_4 = np.linspace(10,20,5, endpoint = False )\n",
    "print(mang_4)"
   ]
  },
  {
   "cell_type": "code",
   "execution_count": 11,
   "id": "f6f0ed0d",
   "metadata": {},
   "outputs": [
    {
     "name": "stdout",
     "output_type": "stream",
     "text": [
      "[1 2 3]\n",
      "3\n"
     ]
    }
   ],
   "source": [
    "#Số phần tử của mảng \n",
    "print(a)\n",
    "print(a.shape[0])"
   ]
  },
  {
   "cell_type": "code",
   "execution_count": 18,
   "id": "c8467072",
   "metadata": {},
   "outputs": [
    {
     "name": "stdout",
     "output_type": "stream",
     "text": [
      "[  1 250   3]\n"
     ]
    }
   ],
   "source": [
    "#cap nhat so phan tu trong mang \n",
    "a[1] = 250 \n",
    "print(a)"
   ]
  },
  {
   "cell_type": "code",
   "execution_count": 21,
   "id": "d2bfbf3a",
   "metadata": {},
   "outputs": [
    {
     "name": "stdout",
     "output_type": "stream",
     "text": [
      "[1 3 2 4 5 7 9]\n",
      "4\n",
      "[4 5 7 9]\n",
      "[4 5]\n",
      "[1 3 2 4]\n"
     ]
    }
   ],
   "source": [
    "# Truy xuất phần tử trong mảng\n",
    "mang_4 = np.array([1, 3, 2, 4, 5, 7, 9])\n",
    "print(mang_4)\n",
    "print(mang_4[3])\n",
    "print(mang_4[3:])\n",
    "print(mang_4[3:5])\n",
    "print(mang_4[mang_4 < 5]) # có kèm điều kiện"
   ]
  },
  {
   "cell_type": "code",
   "execution_count": 24,
   "id": "71648e99",
   "metadata": {},
   "outputs": [
    {
     "name": "stdout",
     "output_type": "stream",
     "text": [
      "[ 0  1  2  3  4  5  6  7  8  9 25 30]\n"
     ]
    }
   ],
   "source": [
    "# Thêm các phần tử vào cuối mảng\n",
    "mang_5 = np.arange(10)\n",
    "mang_5 = np.append(mang_5, [25, 30])\n",
    "print(mang_5)"
   ]
  },
  {
   "cell_type": "code",
   "execution_count": null,
   "id": "405510c6",
   "metadata": {},
   "outputs": [
    {
     "name": "stdout",
     "output_type": "stream",
     "text": [
      "[ 0  1  2  3  4  5  6  7  8  9 25 30]\n",
      "[  0   1   2 100   3   4   5   6   7   8   9  25  30]\n"
     ]
    }
   ],
   "source": [
    "#chen phan tu vao trong index  gia tri 100 \n",
    "print(mang_5)\n",
    "mang_5 = np.insert(mang_5,3,100 )\n",
    "print(mang_5)\n"
   ]
  },
  {
   "cell_type": "code",
   "execution_count": 26,
   "id": "0549c4b1",
   "metadata": {},
   "outputs": [
    {
     "name": "stdout",
     "output_type": "stream",
     "text": [
      "[  0   1   2 100   3   4   5   6   7   8   9  25  30]\n",
      "[  0   1   2 100   3   4   5   6   7   8   9  30]\n"
     ]
    }
   ],
   "source": [
    "print(mang_5)\n",
    "mang_5 = np.delete(mang_5,11 )\n",
    "print(mang_5)"
   ]
  },
  {
   "cell_type": "code",
   "execution_count": 28,
   "id": "bcbf8f33",
   "metadata": {},
   "outputs": [
    {
     "name": "stdout",
     "output_type": "stream",
     "text": [
      "[ 6  8 10 12]\n",
      "[-4 -4 -4 -4]\n",
      "[ 5 12 21 32]\n",
      "[0.2        0.33333333 0.42857143 0.5       ]\n"
     ]
    }
   ],
   "source": [
    "import numpy as np\n",
    "a = np.array([1, 2, 3, 4])\n",
    "b = np.array([5, 6, 7, 8]) \n",
    "mang_cong = a + b\n",
    "print(mang_cong)\n",
    "mang_tru = a - b\n",
    "print(mang_tru)\n",
    "mang_nhan = a*b\n",
    "print(mang_nhan)\n",
    "mang_chia = a / b\n",
    "print(mang_chia)"
   ]
  },
  {
   "cell_type": "code",
   "execution_count": 29,
   "id": "5f8720ab",
   "metadata": {},
   "outputs": [
    {
     "name": "stdout",
     "output_type": "stream",
     "text": [
      "12\n",
      "3\n"
     ]
    }
   ],
   "source": [
    "d = np.array([3, 10, 9, 12, 8, 5])\n",
    "print(np.amax(d))\n",
    "print(np.amin(d))"
   ]
  },
  {
   "cell_type": "code",
   "execution_count": null,
   "id": "0c3a4530",
   "metadata": {},
   "outputs": [
    {
     "data": {
      "text/plain": [
       "np.int64(45)"
      ]
     },
     "execution_count": 34,
     "metadata": {},
     "output_type": "execute_result"
    }
   ],
   "source": [
    "#Tính tổng giá trị: sử dụng sum() \n",
    "arr = np.arange(10) \n",
    "arr.sum()\n"
   ]
  },
  {
   "cell_type": "code",
   "execution_count": null,
   "id": "f546d2a1",
   "metadata": {},
   "outputs": [
    {
     "name": "stdout",
     "output_type": "stream",
     "text": [
      "[ 3 10  9 12  8  5]\n",
      "7.833333333333333\n"
     ]
    }
   ],
   "source": [
    "#Giá trị trung bình số học: sử dụng mean() \n",
    "print(d) \n",
    "print(np.mean(d))"
   ]
  },
  {
   "cell_type": "code",
   "execution_count": 36,
   "id": "8d967008",
   "metadata": {},
   "outputs": [
    {
     "name": "stdout",
     "output_type": "stream",
     "text": [
      "[ 3 10  9 12  8  5]\n",
      "8.5\n"
     ]
    }
   ],
   "source": [
    "print(d)\n",
    "print(np.median(d))"
   ]
  },
  {
   "cell_type": "code",
   "execution_count": null,
   "id": "909c5fcc",
   "metadata": {},
   "outputs": [
    {
     "name": "stdout",
     "output_type": "stream",
     "text": [
      "[3 1 2 4 7 8 9 5 6]\n",
      "[1 2 3 4 5 6 7 8 9]\n"
     ]
    }
   ],
   "source": [
    "#su dung sort de sap xep mang \n",
    "mang_5 = np.array([3,1,2,4,7,8,9,5,6])\n",
    "print(mang_5)\n",
    "print(np.sort(mang_5))"
   ]
  },
  {
   "cell_type": "code",
   "execution_count": null,
   "id": "78e43064",
   "metadata": {},
   "outputs": [
    {
     "name": "stdout",
     "output_type": "stream",
     "text": [
      "[3 1 2 4 7 8 9 5 6]\n",
      "(array([4, 5, 6, 7, 8]),)\n",
      "[7 8 9 5 6]\n"
     ]
    }
   ],
   "source": [
    "#Tìm index của các phần tử trong mảng thỏa điều kiện: sử dụng where() \n",
    "print(mang_5)\n",
    "idexes = np.where(mang_5 >= 5)\n",
    "print(idexes)\n",
    "print(mang_5[idexes])"
   ]
  },
  {
   "cell_type": "code",
   "execution_count": 44,
   "id": "b0ebcb84",
   "metadata": {},
   "outputs": [
    {
     "name": "stdout",
     "output_type": "stream",
     "text": [
      "[3 1 2 4 7 8 9 5 6]\n",
      "[2 4 8 6]\n",
      "[7 8 9 5 6]\n"
     ]
    }
   ],
   "source": [
    "print(mang_5)\n",
    "print(np.extract(np.mod(mang_5 , 2 )== 0,mang_5 ))\n",
    "print(np.extract(mang_5 >=  5 , mang_5 )) \n"
   ]
  }
 ],
 "metadata": {
  "kernelspec": {
   "display_name": "Python 3",
   "language": "python",
   "name": "python3"
  },
  "language_info": {
   "codemirror_mode": {
    "name": "ipython",
    "version": 3
   },
   "file_extension": ".py",
   "mimetype": "text/x-python",
   "name": "python",
   "nbconvert_exporter": "python",
   "pygments_lexer": "ipython3",
   "version": "3.13.5"
  }
 },
 "nbformat": 4,
 "nbformat_minor": 5
}
