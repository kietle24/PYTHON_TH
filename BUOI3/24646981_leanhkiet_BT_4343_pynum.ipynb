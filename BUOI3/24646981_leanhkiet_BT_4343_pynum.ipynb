{
 "cells": [
  {
   "cell_type": "code",
   "execution_count": null,
   "id": "21afadbb",
   "metadata": {
    "vscode": {
     "languageId": "bat"
    }
   },
   "outputs": [],
   "source": [
    "BÀI TẬP:\n",
    "BT1: 1. Cho 2 array arr_a = [1,2,3,2,3,4,3,4,5,6] và arr_b = [7,2,10,2,7,4,9,4,9,8], tạo array arr_c\n",
    "chỉ lấy duy nhất các phần tử xuất hiện ở cả arr_a và arr_b.\n",
    "2. Từ arr_a và arr_b ở câu 1 => Tạo arr_d chứa các phần tử chỉ xuất hiện ở arr_a.\n",
    "3. Cho arr_e = np.array([2, 6, 1, 9, 10, 3, 27, 8, 6, 25, 16]), hãy tạo arr_f chỉ chứa các phần tử\n",
    "có giá trị từ 5 đến 10 của arr_e. "
   ]
  },
  {
   "cell_type": "code",
   "execution_count": 3,
   "id": "1706c611",
   "metadata": {},
   "outputs": [
    {
     "name": "stdout",
     "output_type": "stream",
     "text": [
      "arr_c: [2 4]\n",
      "arr_d: [1 3 5 6]\n",
      "arr_f: [ 6  9 10  8  6]\n"
     ]
    }
   ],
   "source": [
    "import numpy as np\n",
    "arr_a = np.array([1, 2, 3, 2, 3, 4, 3, 4, 5, 6])\n",
    "arr_b = np.array([7, 2, 10, 2, 7, 4, 9, 4, 9, 8])\n",
    "#tạo array arr_c chỉ lấy duy nhất các phần tử xuất hiện ở cả arr_a và arr_b. \n",
    "arr_c = np.intersect1d(arr_a, arr_b)\n",
    "#Tạo arr_d chứa các phần tử chỉ xuất hiện ở arr_a. \n",
    "arr_d = np.setdiff1d(arr_a, arr_b)\n",
    "#phần tử trong arr_e có giá trị từ 5 đến 10\n",
    "arr_e = np.array([2, 6, 1, 9, 10, 3, 27, 8, 6, 25, 16])\n",
    "arr_f = arr_e[(arr_e >= 5) & (arr_e <= 10)]\n",
    "\n",
    "\n",
    "print(\"arr_c:\", arr_c)\n",
    "print(\"arr_d:\", arr_d)\n",
    "print(\"arr_f:\", arr_f)\n"
   ]
  },
  {
   "cell_type": "code",
   "execution_count": null,
   "id": "867b3f5d",
   "metadata": {
    "vscode": {
     "languageId": "bat"
    }
   },
   "outputs": [],
   "source": [
    "BT2: Hãy hoàn tất file đính kèm với các yêu cầu sau:\n",
    "1. Tạo arr_zeros có 10 phần tử 0, cập nhật phần tử ở vị trí thứ 5 là 1.\n",
    "2. Tạo arr_h có giá trị từ 10 đến 24. In danh sách các phần tử theo tứ tự đảo ngược của arr_h.\n",
    "3. Cho arr_k = np.array([1, 2, 0, 8, 2, 0, 1, 3, 0, 5, 0]), tạo arr_1 từ arr_k với các phần tử khác 0.\n",
    "4. Từ arr_1 của câu 3, thêm 2 phần tử có giá trị là 10 và 20 vào cuối array.\n",
    "5. Từ array của câu 4, thêm phần tử có giá trị 100 vào vị trí có index = 5.\n",
    "6. Từ array của câu 5, xóa các phần tử tại vị trí có index = 0, 1, 2."
   ]
  },
  {
   "cell_type": "code",
   "execution_count": 6,
   "id": "96fa5622",
   "metadata": {},
   "outputs": [
    {
     "name": "stdout",
     "output_type": "stream",
     "text": [
      "1) arr_zeros: [0 0 0 0 1 0 0 0 0 0]\n",
      "2) arr_h: [10 11 12 13 14 15 16 17 18 19 20 21 22 23 24]\n",
      "   arr_h_reversed: [24 23 22 21 20 19 18 17 16 15 14 13 12 11 10]\n",
      "3) arr_k: [1 2 0 8 2 0 1 3 0 5 0]\n",
      "   arr_1 (khong co zero): [1 2 8 2 1 3 5]\n",
      "4) after append [10,20]: [ 1  2  8  2  1  3  5 10 20]\n",
      "5) after insert 100 at index 5: [  1   2   8   2   1 100   3   5  10  20]\n",
      "6) after delete indices [0,1,2]: [  2   1 100   3   5  10  20]\n"
     ]
    }
   ],
   "source": [
    "import numpy as np\n",
    "# 1) Tạo arr_zeros có 10 phần tử 0, cập nhật phần tử ở vị trí thứ 5 (1-based) là 1\n",
    "arr_zeros = np.zeros(10, dtype=int)\n",
    "arr_zeros[4] = 1\n",
    "\n",
    "# 2) Tạo arr_h có giá trị từ 10 đến 24, in danh sách các phần tử theo thứ tự đảo ngược\n",
    "arr_h = np.arange(10, 25)  # 10..24 inclusive\n",
    "arr_h_reversed = arr_h[::-1]\n",
    "\n",
    "# 3) Cho arr_k, tạo arr_1 gồm các phần tử khác 0\n",
    "arr_k = np.array([1, 2, 0, 8, 2, 0, 1, 3, 0, 5, 0])\n",
    "arr_1 = arr_k[arr_k != 0]\n",
    "\n",
    "# 4) Từ arr_1, thêm 2 phần tử 10 và 20 vào cuối array\n",
    "arr_after_append = np.append(arr_1, [10, 20])\n",
    "\n",
    "# 5) Từ array của câu 4, thêm phần tử có giá trị 100 vào vị trí có index = 5 (0-based)\n",
    "arr_after_insert = np.insert(arr_after_append, 5, 100)\n",
    "\n",
    "# 6) Từ array của câu 5, xóa các phần tử tại vị trí có index = 0, 1, 2\n",
    "arr_after_delete = np.delete(arr_after_insert, [0, 1, 2])\n",
    "\n",
    "# In kết quả từng bước\n",
    "print(\"1) arr_zeros:\", arr_zeros)\n",
    "print(\"2) arr_h:\", arr_h)\n",
    "print(\"   arr_h_reversed:\", arr_h_reversed)\n",
    "print(\"3) arr_k:\", arr_k)\n",
    "print(\"   arr_1 (khong co zero):\", arr_1)\n",
    "print(\"4) after append [10,20]:\", arr_after_append)\n",
    "print(\"5) after insert 100 at index 5:\", arr_after_insert)\n",
    "print(\"6) after delete indices [0,1,2]:\", arr_after_delete)\n"
   ]
  },
  {
   "cell_type": "markdown",
   "id": "90488427",
   "metadata": {},
   "source": [
    "BT3: Hãy hoàn tất file đính kèm với các yêu cầu sau:\n",
    "1. Tạo array arr có kích thước 3x3 với các giá trị True\n",
    "2. Cho arr_1D = np.array([0 1 2 3 4 5 6 7 8]). Tạo array 2 chiều có kích thước 3x3 từ arr_1D, và lưu vào arr_2D Trong arr_2D, chuyển cột 1 sang cột 3 và ngược lại.\n",
    "3. Từ arr_2D của câu 2 (sau khi đổi thứ tự cột), chuyển dòng 1 sang dòng 2 và ngược lại.\n",
    "4. Từ arr_2D của câu 3, đảo ngược các dòng của arr_2D.\n",
    "5. Từ arr_2D của câu 4, đảo ngược các cột của arr_2D.\n",
    "6. Cho arr_2D_null = np.array([[1, 2, 3], [np.NaN, 5, 6], [7, np.NaN, 9], [4, 5, 6]]), Kiểm tra trong array có giá trị rỗng không?\n",
    "7. Từ arr_2D_null của câu 6, thay thế giá trị null bằng 0."
   ]
  },
  {
   "cell_type": "code",
   "execution_count": null,
   "id": "fe807455",
   "metadata": {},
   "outputs": [
    {
     "name": "stdout",
     "output_type": "stream",
     "text": [
      "\n",
      " [[ True  True  True]\n",
      " [ True  True  True]\n",
      " [ True  True  True]]\n"
     ]
    }
   ],
   "source": [
    "#1 Tạo array arr có kích thước 3x3 với các giá trị True\n",
    "arr = np.full((3, 3), True)\n",
    "print(\"\\n\", arr)\n",
    "\n",
    "'"
   ]
  },
  {
   "cell_type": "code",
   "execution_count": null,
   "id": "ce47e8c7",
   "metadata": {},
   "outputs": [
    {
     "name": "stdout",
     "output_type": "stream",
     "text": [
      "\n",
      " [[2 1 0]\n",
      " [5 4 3]\n",
      " [8 7 6]]\n"
     ]
    }
   ],
   "source": [
    "#2Tạo array 2 chiều có kích thước 3x3 từ arr_1D, và lưu vào arr_2D Trong arr_2D, chuyển cột 1 sang cột 3 và ngược lại.\n",
    "arr_1D = np.array([0, 1, 2, 3, 4, 5, 6, 7, 8])\n",
    "arr_2D = arr_1D.reshape(3, 3)\n",
    "arr_2D[:, [0, 2]] = arr_2D[:, [2, 0]]\n",
    "print(\"\\n\", arr_2D)"
   ]
  },
  {
   "cell_type": "code",
   "execution_count": null,
   "id": "4f8ab51f",
   "metadata": {},
   "outputs": [
    {
     "name": "stdout",
     "output_type": "stream",
     "text": [
      "\n",
      " [[5 4 3]\n",
      " [2 1 0]\n",
      " [8 7 6]]\n"
     ]
    }
   ],
   "source": [
    "#3 Từ arr_2D của câu 2 (sau khi đổi thứ tự cột), chuyển dòng 1 sang dòng 2 và ngược lại.\n",
    "arr_2D[[0, 1]] = arr_2D[[1, 0]]\n",
    "print(\"\\n\", arr_2D)"
   ]
  },
  {
   "cell_type": "code",
   "execution_count": null,
   "id": "b9592222",
   "metadata": {},
   "outputs": [
    {
     "name": "stdout",
     "output_type": "stream",
     "text": [
      "\n",
      " [[8 7 6]\n",
      " [2 1 0]\n",
      " [5 4 3]]\n"
     ]
    }
   ],
   "source": [
    "# 4. Đảo ngược các dòng\n",
    "arr_2D = arr_2D[::-1]\n",
    "print(\"\\n\", arr_2D)"
   ]
  },
  {
   "cell_type": "code",
   "execution_count": null,
   "id": "906e5b3b",
   "metadata": {},
   "outputs": [
    {
     "name": "stdout",
     "output_type": "stream",
     "text": [
      "\n",
      " [[6 7 8]\n",
      " [0 1 2]\n",
      " [3 4 5]]\n"
     ]
    }
   ],
   "source": [
    "#5. Đảo ngược các cột\n",
    "arr_2D = arr_2D[:, ::-1]\n",
    "print(\"\\n\", arr_2D)"
   ]
  },
  {
   "cell_type": "code",
   "execution_count": null,
   "id": "e7852276",
   "metadata": {},
   "outputs": [
    {
     "name": "stdout",
     "output_type": "stream",
     "text": [
      "Có giá trị rỗng không? True\n"
     ]
    }
   ],
   "source": [
    "#6. Kiểm tra giá trị rỗng trong mảng\n",
    "arr_2D_null = np.array([[1, 2, 3], [np.nan, 5, 6], [7, np.nan, 9], [4, 5, 6]])\n",
    "has_null = np.isnan(arr_2D_null).any()\n",
    "print(\"Có giá trị rỗng không?\", has_null)"
   ]
  },
  {
   "cell_type": "code",
   "execution_count": null,
   "id": "e52fe8ab",
   "metadata": {},
   "outputs": [
    {
     "name": "stdout",
     "output_type": "stream",
     "text": [
      "\n",
      " [[1. 2. 3.]\n",
      " [0. 5. 6.]\n",
      " [7. 0. 9.]\n",
      " [4. 5. 6.]]\n"
     ]
    }
   ],
   "source": [
    "#7. Từ arr_2D_null của câu 6, thay thế giá trị null bằng 0.\n",
    "arr_2D_null[np.isnan(arr_2D_null)] = 0\n",
    "print(\"\\n\", arr_2D_null)"
   ]
  }
 ],
 "metadata": {
  "kernelspec": {
   "display_name": "Python 3",
   "language": "python",
   "name": "python3"
  },
  "language_info": {
   "codemirror_mode": {
    "name": "ipython",
    "version": 3
   },
   "file_extension": ".py",
   "mimetype": "text/x-python",
   "name": "python",
   "nbconvert_exporter": "python",
   "pygments_lexer": "ipython3",
   "version": "3.13.5"
  }
 },
 "nbformat": 4,
 "nbformat_minor": 5
}
