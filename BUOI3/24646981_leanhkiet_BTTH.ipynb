{
 "cells": [
  {
   "cell_type": "markdown",
   "id": "bc686664",
   "metadata": {},
   "source": [
    "Bài tập 1: Tạo và thao tác với mảng NumPy\n",
    "1.\tCâu hỏi lớn: Làm việc với mảng 1D trong NumPy.\n",
    "o\ta. Tạo một mảng NumPy gồm 10 phần tử với các giá trị từ 1 đến 10.\n",
    "o\tb. Thay đổi phần tử thứ 5 (index 4) trong mảng thành giá trị 20.\n",
    "o\tc. Tính tổng các phần tử trong mảng. \n",
    "o\td. Sắp xếp mảng theo thứ tự giảm dần.\n"
   ]
  },
  {
   "cell_type": "code",
   "execution_count": null,
   "id": "80d444ed",
   "metadata": {},
   "outputs": [
    {
     "name": "stdout",
     "output_type": "stream",
     "text": [
      "mang ban dau:\n",
      " [ 1  2  3  4  5  6  7  8  9 10]\n"
     ]
    }
   ],
   "source": [
    "\n",
    "import numpy as np\n",
    "arr = np.arange(1,11)\n",
    "print(\"mang ban dau:\\n\",arr) \n"
   ]
  },
  {
   "cell_type": "code",
   "execution_count": null,
   "id": "3da2d012",
   "metadata": {},
   "outputs": [
    {
     "name": "stdout",
     "output_type": "stream",
     "text": [
      "Thay đổi phần tử thứ 5 (index 4) thành 20 [ 1  2  3  4 20  6  7  8  9 10]\n"
     ]
    }
   ],
   "source": [
    "\n",
    "arr[4] = 20 \n",
    "print(\"Thay đổi phần tử thứ 5 (index 4) thành 20\",arr)"
   ]
  },
  {
   "cell_type": "code",
   "execution_count": null,
   "id": "be64c7cf",
   "metadata": {},
   "outputs": [
    {
     "name": "stdout",
     "output_type": "stream",
     "text": [
      "tong cac phan tu  70\n"
     ]
    }
   ],
   "source": [
    "\n",
    "total = arr.sum() \n",
    "print(\"tong cac phan tu \", total)"
   ]
  },
  {
   "cell_type": "code",
   "execution_count": null,
   "id": "8f90e73e",
   "metadata": {},
   "outputs": [
    {
     "name": "stdout",
     "output_type": "stream",
     "text": [
      "Mảng sắp xếp giảm dần: 20\n"
     ]
    }
   ],
   "source": [
    "\n",
    "sorted_desc = np.sort(arr)[-1]\n",
    "print(\"Mảng sắp xếp giảm dần:\", sorted_desc)"
   ]
  },
  {
   "cell_type": "markdown",
   "id": "ea0cfc76",
   "metadata": {},
   "source": [
    "Bài tập 2: Mảng 2D và các phép toán ma trận\n",
    "2.\tCâu hỏi lớn: Làm việc với mảng 2D trong NumPy.\n",
    "o\ta. Tạo một ma trận 3x3 với các số nguyên ngẫu nhiên từ 0 đến 10.\n",
    "o\tb. Tính tổng các phần tử trên đường chéo chính của ma trận.\n",
    "o\tc. Tạo một ma trận 3x3 mới với giá trị mỗi phần tử bằng 2 lần giá trị của ma trận ban đầu.\n",
    "o\td. Chuyển vị (transpose) ma trận vừa tạo.\n"
   ]
  },
  {
   "cell_type": "code",
   "execution_count": 28,
   "id": "0d9a2654",
   "metadata": {},
   "outputs": [
    {
     "name": "stdout",
     "output_type": "stream",
     "text": [
      "a)\n",
      " [[5 0 3]\n",
      " [3 7 9]\n",
      " [3 5 2]]\n"
     ]
    }
   ],
   "source": [
    "import numpy as np \n",
    "np.random.seed(0)\n",
    "\n",
    "mat = np.random.randint(0, 11, size=(3, 3))\n",
    "print(\"a)\\n\", mat)"
   ]
  },
  {
   "cell_type": "code",
   "execution_count": 30,
   "id": "7099bcbc",
   "metadata": {},
   "outputs": [
    {
     "name": "stdout",
     "output_type": "stream",
     "text": [
      "b) 14\n"
     ]
    }
   ],
   "source": [
    "\n",
    "diag_sum = np.trace(mat)         \n",
    "print(\"b)\", diag_sum)"
   ]
  },
  {
   "cell_type": "code",
   "execution_count": 31,
   "id": "4f021cbe",
   "metadata": {},
   "outputs": [
    {
     "name": "stdout",
     "output_type": "stream",
     "text": [
      "c) \n",
      " [[10  0  6]\n",
      " [ 6 14 18]\n",
      " [ 6 10  4]]\n"
     ]
    }
   ],
   "source": [
    "\n",
    "mat_double = mat * 2           \n",
    "print(\"c) \\n\", mat_double)"
   ]
  },
  {
   "cell_type": "code",
   "execution_count": null,
   "id": "0576aba7",
   "metadata": {},
   "outputs": [
    {
     "name": "stdout",
     "output_type": "stream",
     "text": [
      "d )\n",
      " [[10  6  6]\n",
      " [ 0 14 10]\n",
      " [ 6 18  4]]\n"
     ]
    }
   ],
   "source": [
    "\n",
    "mat_double = mat * 2\n",
    "mat_double_T = mat_double.T   \n",
    "print(\"d)\\n\", mat_double_T)"
   ]
  },
  {
   "cell_type": "markdown",
   "id": "e3e4e3e9",
   "metadata": {},
   "source": [
    "Bài tập 3: Sử dụng các hàm ufunc (universal functions)\n",
    "3.\tCâu hỏi lớn: Khám phá các hàm toán học trong NumPy.\n",
    "o\ta. Tạo một mảng 1D với các giá trị từ 0 đến 2π, chia thành 50 phần tử.\n",
    "o\tb. Áp dụng hàm sin lên mảng này và lưu kết quả vào một mảng mới.\n",
    "o\tc. Tính tổng các giá trị trong mảng sin vừa tạo.\n",
    "o\td. Tìm giá trị lớn nhất và nhỏ nhất trong mảng sin.\n"
   ]
  },
  {
   "cell_type": "code",
   "execution_count": 12,
   "id": "b053160f",
   "metadata": {},
   "outputs": [],
   "source": [
    "import numpy as np\n",
    "#a. Tạo một mảng 1D với các giá trị từ 0 đến 2π, chia thành 50 phần tử.\n",
    "x= np.linspace(0,2*np.pi, 50)"
   ]
  },
  {
   "cell_type": "code",
   "execution_count": 13,
   "id": "c50c3793",
   "metadata": {},
   "outputs": [],
   "source": [
    "# b) Áp dụng hàm sin (ufunc) lên mảng và lưu kết quả\n",
    "sin_x = np.sin(x) "
   ]
  },
  {
   "cell_type": "code",
   "execution_count": 14,
   "id": "a42ce3f3",
   "metadata": {},
   "outputs": [],
   "source": [
    "# c) Tính tổng các giá trị trong mảng sin vừa tạo\n",
    "sum_sin = np.sum(sin_x) "
   ]
  },
  {
   "cell_type": "code",
   "execution_count": 17,
   "id": "6ef2f8e5",
   "metadata": {},
   "outputs": [],
   "source": [
    "# d) Tìm giá trị lớn nhất và nhỏ nhất trong mảng sin\n",
    "max_sin = sin_x.max()               \n",
    "min_sin = sin_x.min()"
   ]
  },
  {
   "cell_type": "code",
   "execution_count": 16,
   "id": "c5fac80d",
   "metadata": {},
   "outputs": [
    {
     "name": "stdout",
     "output_type": "stream",
     "text": [
      "x[0], x[-1] = 0.0 6.283185307179586\n",
      "Một vài giá trị sin(x) đầu: [0.         0.12787716 0.25365458 0.375267   0.49071755]\n",
      "Tổng sin(x): -8.555520233733068e-16\n",
      "Giá trị lớn nhất của sin(x): 0.9994862162006879\n",
      "Giá trị nhỏ nhất của sin(x): -0.9994862162006879\n"
     ]
    }
   ],
   "source": [
    "# In kết quả\n",
    "max_sin = sin_x.max()\n",
    "min_sin = sin_x.min()\n",
    "print(\"x[0], x[-1] =\", x[0], x[-1])\n",
    "print(\"Một vài giá trị sin(x) đầu:\", sin_x[:5])\n",
    "print(\"Tổng sin(x):\", sum_sin)\n",
    "print(\"Giá trị lớn nhất của sin(x):\", max_sin)\n",
    "print(\"Giá trị nhỏ nhất của sin(x):\", min_sin)"
   ]
  },
  {
   "cell_type": "markdown",
   "id": "d43669a7",
   "metadata": {},
   "source": [
    "Bài tập 4: Thao tác với chỉ số và cắt mảng\n",
    "4.\tCâu hỏi lớn: Làm việc với các chỉ số trong mảng.\n",
    "o\ta. Tạo một mảng NumPy 1D với 15 phần tử ngẫu nhiên từ 1 đến 100.\n",
    "o\tb. Lấy ra các phần tử có chỉ số lẻ trong mảng.\n",
    "o\tc. Thay tất cả các phần tử có giá trị lớn hơn 50 thành 0.\n",
    "o\td. Tính số lượng phần tử trong mảng có giá trị khác 0\n"
   ]
  },
  {
   "cell_type": "code",
   "execution_count": null,
   "id": "91788297",
   "metadata": {},
   "outputs": [
    {
     "name": "stdout",
     "output_type": "stream",
     "text": [
      "Mảng ban đầu:\n",
      " [ 52  93  15  72  61  21  83  87  75  75  88 100  24   3  22]\n"
     ]
    }
   ],
   "source": [
    "import numpy as np\n",
    "#a Thiết lập seed để kết quả tái lập (tuỳ chọn)\n",
    "np.random.seed(42)\n",
    "arr = np.random.randint(1, 101, size=15)\n",
    "print(\"Mảng ban đầu:\\n\", arr)"
   ]
  },
  {
   "cell_type": "code",
   "execution_count": 19,
   "id": "1bd92ec2",
   "metadata": {},
   "outputs": [
    {
     "name": "stdout",
     "output_type": "stream",
     "text": [
      "\n",
      "Các phần tử có chỉ số lẻ:\n",
      " [ 93  72  21  87  75 100   3]\n"
     ]
    }
   ],
   "source": [
    "\n",
    "# b) Lấy ra các phần tử có chỉ số lẻ (index 1,3,5,...)\n",
    "odd_index_elements = arr[1::2]        # bắt đầu từ index=1, bước 2\n",
    "print(\"\\nCác phần tử có chỉ số lẻ:\\n\", odd_index_elements)"
   ]
  },
  {
   "cell_type": "code",
   "execution_count": 20,
   "id": "4c9aab39",
   "metadata": {},
   "outputs": [
    {
     "name": "stdout",
     "output_type": "stream",
     "text": [
      "\n",
      "Mảng sau khi thay tất cả giá trị > 50 thành 0:\n",
      " [ 0  0 15  0  0 21  0  0  0  0  0  0 24  3 22]\n"
     ]
    }
   ],
   "source": [
    "# c) Thay tất cả phần tử có giá trị lớn hơn 50 thành 0 (thay đổi trực tiếp trên arr)\n",
    "arr[arr > 50] = 0\n",
    "print(\"\\nMảng sau khi thay tất cả giá trị > 50 thành 0:\\n\", arr)"
   ]
  },
  {
   "cell_type": "code",
   "execution_count": 21,
   "id": "68cdc43a",
   "metadata": {},
   "outputs": [
    {
     "name": "stdout",
     "output_type": "stream",
     "text": [
      "\n",
      "Số lượng phần tử khác 0: 5\n"
     ]
    }
   ],
   "source": [
    "\n",
    "# d) Tính số lượng phần tử khác 0\n",
    "count_nonzero = np.count_nonzero(arr)    # hoặc (arr != 0).sum()\n",
    "print(\"\\nSố lượng phần tử khác 0:\", count_nonzero)"
   ]
  },
  {
   "cell_type": "markdown",
   "id": "6fbfc6ca",
   "metadata": {},
   "source": [
    "Bài tập 5: Boolean Indexing và lọc mảng\n",
    "5.\tCâu hỏi lớn: Sử dụng Boolean Indexing để lọc mảng.\n",
    "o\ta. Tạo một mảng 1D với 20 phần tử ngẫu nhiên từ -10 đến 10.\n",
    "o\tb. Tạo một mảng Boolean để kiểm tra các phần tử dương trong mảng.\n",
    "o\tc. Lọc ra các phần tử âm từ mảng ban đầu.\n",
    "o\td. Thay các phần tử âm trong mảng ban đầu thành giá trị tuyệt đối của chúng.\n"
   ]
  },
  {
   "cell_type": "code",
   "execution_count": 13,
   "id": "15cc47fd",
   "metadata": {},
   "outputs": [
    {
     "name": "stdout",
     "output_type": "stream",
     "text": [
      "\n",
      " [  2   5 -10  -7  -7  -3  -1   9   8  -6  -4   2  -9  -4  -3   4   7  -5\n",
      "   3  -2]\n",
      "\n",
      "\n",
      " [ True  True False False False False False  True  True False False  True\n",
      " False False False  True  True False  True False]\n",
      "\n",
      "\n",
      " [-10  -7  -7  -3  -1  -6  -4  -9  -4  -3  -5  -2]\n",
      "\n",
      "\n",
      " [ 2  5 10  7  7  3  1  9  8  6  4  2  9  4  3  4  7  5  3  2]\n"
     ]
    }
   ],
   "source": [
    "import numpy as np\n",
    "\n",
    "\n",
    "np.random.seed(0)\n",
    "\n",
    "\n",
    "arr = np.random.randint(-10, 11, size=20)\n",
    "print(\"\\n\", arr)\n",
    "\n",
    "\n",
    "positive_mask = arr > 0\n",
    "print(\"\\n\\n\", positive_mask)\n",
    "\n",
    "\n",
    "negative_elements = arr[arr < 0]\n",
    "print(\"\\n\\n\", negative_elements)\n",
    "\n",
    "\n",
    "arr[arr < 0] = np.abs(arr[arr < 0])\n",
    "print(\"\\n\\n\", arr)\n"
   ]
  },
  {
   "cell_type": "markdown",
   "id": "92189196",
   "metadata": {},
   "source": [
    "Bài tập 6: Tạo mảng với các giá trị đặc biệt\n",
    "6.\tCâu hỏi lớn: Tạo các mảng đặc biệt và thao tác với chúng.\n",
    "o\ta. Tạo một mảng 1D có 10 phần tử, tất cả giá trị đều là 5.\n",
    "o\tb. Tạo một ma trận đơn vị 4x4 (ma trận có các giá trị trên đường chéo chính là 1, các giá trị khác là 0).\n",
    "o\tc. Tạo một ma trận 3x3 chỉ chứa giá trị 9.\n",
    "o\td. Tạo một mảng với 20 phần tử, từ 1 đến 20, và chuyển đổi nó thành một ma trận 4x5. "
   ]
  },
  {
   "cell_type": "code",
   "execution_count": 15,
   "id": "d6491a13",
   "metadata": {},
   "outputs": [
    {
     "name": "stdout",
     "output_type": "stream",
     "text": [
      "a) \n",
      " [5 5 5 5 5 5 5 5 5 5]\n",
      "b)\n",
      "  [[1. 0. 0. 0.]\n",
      " [0. 1. 0. 0.]\n",
      " [0. 0. 1. 0.]\n",
      " [0. 0. 0. 1.]]\n",
      "c)\n",
      " [[9 9 9]\n",
      " [9 9 9]\n",
      " [9 9 9]]\n",
      "d)\n",
      " [[ 1  2  3  4  5]\n",
      " [ 6  7  8  9 10]\n",
      " [11 12 13 14 15]\n",
      " [16 17 18 19 20]]\n"
     ]
    }
   ],
   "source": [
    "import numpy as np\n",
    "\n",
    "# a) Tạo mảng 1D có 10 phần tử, tất cả giá trị đều là 5\n",
    "arr_a = np.full(10, 5)\n",
    "print(\"a) \\n\", arr_a)\n",
    "\n",
    "# b) Tạo ma trận đơn vị 4x4\n",
    "arr_b = np.eye(4)\n",
    "print(\"b)\\n \", arr_b)\n",
    "\n",
    "# c) Tạo ma trận 3x3 chỉ chứa giá trị 9\n",
    "arr_c = np.full((3, 3), 9)\n",
    "print(\"c)\\n\", arr_c)\n",
    "\n",
    "# d) Tạo mảng 20 phần tử từ 1 đến 20 rồi chuyển thành ma trận 4x5\n",
    "arr_d = np.arange(1, 21).reshape(4, 5)\n",
    "print(\"d)\\n\", arr_d)\n"
   ]
  },
  {
   "cell_type": "markdown",
   "id": "06fd2357",
   "metadata": {},
   "source": [
    "Bài tập 7: Thống kê cơ bản\n",
    "7.\tCâu hỏi lớn: Thực hiện các phép toán thống kê cơ bản.\n",
    "o\ta. Tạo một mảng 1D gồm 100 phần tử ngẫu nhiên từ 0 đến 100.\n",
    "o\tb. Tính giá trị trung bình (mean) của mảng.\n",
    "o\tc. Tìm giá trị lớn nhất và nhỏ nhất trong mảng.\n",
    "o\td. Tính độ lệch chuẩn (standard deviation) của mảng.\n"
   ]
  },
  {
   "cell_type": "code",
   "execution_count": null,
   "id": "1e5c0f16",
   "metadata": {},
   "outputs": [
    {
     "name": "stdout",
     "output_type": "stream",
     "text": [
      "a) \n",
      " [ 44  47  64  67  67   9  83  21  36  87  70  88  88  12  58  65  39  87\n",
      "  46  88  81  37  25  77  72   9  20  80  69  79  47  64  82  99  88  49\n",
      "  29  19  19  14  39  32  65   9  57  32  31  74  23  35  75  55  28  34\n",
      "   0   0  36  53   5  38  17  79   4  42  58  31   1  65  41  57  35  11\n",
      "  46  82  91   0  14  99  53  12  42  84  75  68   6  68  47   3  76 100\n",
      "  52  78  15  20  99  58  23  79  13  85]\n",
      "\n",
      "b)  48.75\n",
      "c)  100\n",
      "    0\n",
      "d) 28.696123431571728\n"
     ]
    }
   ],
   "source": [
    "import numpy as np\n",
    "\n",
    "# a) Tạo mảng 1D gồm 100 phần tử ngẫu nhiên từ 0 đến 100\n",
    "np.random.seed(0) \n",
    "arr = np.random.randint(0, 101, size=100)\n",
    "print(\"a) \\n\", arr)\n",
    "\n",
    "# b) Tính giá trị trung bình (mean)\n",
    "mean_val = np.mean(arr)\n",
    "print(\"\\nb) \", mean_val)\n",
    "\n",
    "# c) Tìm giá trị lớn nhất và nhỏ nhất\n",
    "max_val = np.max(arr)\n",
    "min_val = np.min(arr)\n",
    "print(\"c) \", max_val)\n",
    "print(\"   \", min_val)\n",
    "\n",
    "# d) Tính độ lệch chuẩn (standard deviation)\n",
    "std_val = np.std(arr)\n",
    "print(\"d)\", std_val)\n"
   ]
  },
  {
   "cell_type": "markdown",
   "id": "f236111e",
   "metadata": {},
   "source": [
    "Bài tập 8: Làm việc với mảng nhiều chiều\n",
    "8.\tCâu hỏi lớn: Thao tác với mảng nhiều chiều.\n",
    "o\ta. Tạo một mảng 3D với kích thước (3x3x3) chứa các số ngẫu nhiên từ 1 đến 27.\n",
    "o\tb. Truy xuất phần tử ở vị trí (2,2,2).\n",
    "o\tc. Tính tổng của mảng trên trục thứ nhất (axis 0).\n",
    "o\td. Thay đổi giá trị của phần tử ở vị trí (1,1,1) thành 100.\n"
   ]
  },
  {
   "cell_type": "code",
   "execution_count": 22,
   "id": "bf168ebf",
   "metadata": {},
   "outputs": [
    {
     "name": "stdout",
     "output_type": "stream",
     "text": [
      "a) Mảng 3D:\n",
      " [[[13 16 22]\n",
      "  [ 1  4  4]\n",
      "  [ 8 10 20]]\n",
      "\n",
      " [[22 19  5]\n",
      "  [24  7 25]\n",
      "  [25 13 27]]\n",
      "\n",
      " [[ 2  7  8]\n",
      "  [24 15 25]\n",
      "  [18  6 26]]]\n",
      "\n",
      "b) Phần tử ở (2,2,2): 7\n",
      "\n",
      "c) Tổng trên axis=0:\n",
      " [[37 42 35]\n",
      " [49 26 54]\n",
      " [51 29 73]]\n",
      "\n",
      "d) Mảng sau khi thay đổi (1,1,1) = 100:\n",
      " [[[100  16  22]\n",
      "  [  1   4   4]\n",
      "  [  8  10  20]]\n",
      "\n",
      " [[ 22  19   5]\n",
      "  [ 24   7  25]\n",
      "  [ 25  13  27]]\n",
      "\n",
      " [[  2   7   8]\n",
      "  [ 24  15  25]\n",
      "  [ 18   6  26]]]\n"
     ]
    }
   ],
   "source": [
    "import numpy as np\n",
    "np.random.seed(0)  \n",
    "arr = np.random.randint(1, 28, size=(3, 3, 3))\n",
    "print(\"a) Mảng 3D:\\n\", arr)\n",
    "\n",
    "element_222 = arr[1, 1, 1]\n",
    "print(\"\\nb) Phần tử ở (2,2,2):\", element_222)\n",
    "\n",
    "sum_axis0 = np.sum(arr, axis=0)\n",
    "print(\"\\nc) Tổng trên axis=0:\\n\", sum_axis0)\n",
    "\n",
    "arr[0, 0, 0] = 100\n",
    "print(\"\\nd) Mảng sau khi thay đổi (1,1,1) = 100:\\n\", arr)\n"
   ]
  },
  {
   "cell_type": "markdown",
   "id": "de93b940",
   "metadata": {},
   "source": [
    "Bài tập 9: Tích lũy (Cumulative)\n",
    "9.\tCâu hỏi lớn: Tính tích lũy các giá trị trong mảng.\n",
    "o\ta. Tạo một mảng 1D gồm 10 phần tử từ 1 đến 10.\n",
    "o\tb. Tính tổng tích lũy (cumulative sum) của các phần tử trong mảng.\n",
    "o\tc. Tính tích lũy (cumulative product) của mảng.\n",
    "o\td. Tìm các giá trị tích lũy lớn hơn 20.\n"
   ]
  },
  {
   "cell_type": "code",
   "execution_count": 1,
   "id": "e05a51d6",
   "metadata": {},
   "outputs": [
    {
     "name": "stdout",
     "output_type": "stream",
     "text": [
      "a) [ 1  2  3  4  5  6  7  8  9 10]\n"
     ]
    }
   ],
   "source": [
    "import numpy as np\n",
    "\n",
    "arr = np.arange(1, 11)\n",
    "print(\"a)\", arr)\n"
   ]
  },
  {
   "cell_type": "code",
   "execution_count": 2,
   "id": "b76ff919",
   "metadata": {},
   "outputs": [
    {
     "name": "stdout",
     "output_type": "stream",
     "text": [
      "\n",
      "b) [ 1  3  6 10 15 21 28 36 45 55]\n"
     ]
    }
   ],
   "source": [
    "cumsum_arr = np.cumsum(arr)\n",
    "print(\"\\nb)\", cumsum_arr)\n"
   ]
  },
  {
   "cell_type": "code",
   "execution_count": 4,
   "id": "a601137b",
   "metadata": {},
   "outputs": [
    {
     "name": "stdout",
     "output_type": "stream",
     "text": [
      "\n",
      "c) [      1       2       6      24     120     720    5040   40320  362880\n",
      " 3628800]\n"
     ]
    }
   ],
   "source": [
    "cumprod_arr = np.cumprod(arr)\n",
    "print(\"\\nc)\", cumprod_arr)\n"
   ]
  },
  {
   "cell_type": "code",
   "execution_count": 5,
   "id": "96456ee3",
   "metadata": {},
   "outputs": [
    {
     "name": "stdout",
     "output_type": "stream",
     "text": [
      "\n",
      "d) [21 28 36 45 55]\n"
     ]
    }
   ],
   "source": [
    "greater_than_20_sum = cumsum_arr[cumsum_arr > 20]\n",
    "print(\"\\nd)\", greater_than_20_sum)\n"
   ]
  },
  {
   "cell_type": "markdown",
   "id": "f828205e",
   "metadata": {},
   "source": [
    "Bài tập 10: Xử lý dữ liệu thiếu\n",
    "10.\tCâu hỏi lớn: Xử lý các giá trị thiếu trong mảng.\n",
    "o\ta. Tạo một mảng 1D với 10 phần tử, có một vài phần tử là np.nan.\n",
    "o\tb. Tính tổng của mảng, bỏ qua các giá trị nan.\n",
    "o\tc. Thay thế tất cả các giá trị nan trong mảng bằng 0.\n",
    "o\td. Tính giá trị trung bình của mảng sau khi thay thế nan.\n"
   ]
  },
  {
   "cell_type": "code",
   "execution_count": 10,
   "id": "b081ae89",
   "metadata": {},
   "outputs": [
    {
     "name": "stdout",
     "output_type": "stream",
     "text": [
      "a) [ 1.  2. nan  4.  5. nan  7.  8.  9. nan]\n"
     ]
    }
   ],
   "source": [
    "import numpy as np\n",
    "\n",
    "arr = np.array([1, 2, np.nan, 4, 5, np.nan, 7, 8, 9, np.nan])\n",
    "print(\"a)\", arr)\n"
   ]
  },
  {
   "cell_type": "code",
   "execution_count": null,
   "id": "04561b55",
   "metadata": {},
   "outputs": [
    {
     "name": "stdout",
     "output_type": "stream",
     "text": [
      "\n",
      "b) Tổng (bỏ qua nan): 36.0\n"
     ]
    }
   ],
   "source": [
    "sum_ignore_nan = np.nansum(arr)\n",
    "print(\"\\nb)\", sum_ignore_nan)\n"
   ]
  },
  {
   "cell_type": "code",
   "execution_count": 11,
   "id": "90c551bb",
   "metadata": {},
   "outputs": [
    {
     "name": "stdout",
     "output_type": "stream",
     "text": [
      "\n",
      "c) [1. 2. 0. 4. 5. 0. 7. 8. 9. 0.]\n"
     ]
    }
   ],
   "source": [
    "arr_no_nan = np.nan_to_num(arr, nan=0)\n",
    "print(\"\\nc)\", arr_no_nan)\n"
   ]
  },
  {
   "cell_type": "code",
   "execution_count": 12,
   "id": "07d649e4",
   "metadata": {},
   "outputs": [
    {
     "name": "stdout",
     "output_type": "stream",
     "text": [
      "\n",
      "d) 3.6\n"
     ]
    }
   ],
   "source": [
    "mean_after_replace = np.mean(arr_no_nan)\n",
    "print(\"\\nd)\", mean_after_replace)\n"
   ]
  },
  {
   "cell_type": "markdown",
   "id": "eeb57d83",
   "metadata": {},
   "source": [
    "Bài tập 1: NumPy cơ bản\n",
    "1.\tCâu hỏi lớn: Làm việc với NumPy 1D.\n",
    "o\ta. Tạo một mảng NumPy gồm 20 số ngẫu nhiên từ 1 đến 100.\n",
    "o\tb. Tìm giá trị trung bình, tổng, và giá trị lớn nhất của mảng.\n",
    "o\tc. Nhân tất cả các phần tử của mảng với 2.\n",
    "o\td. Tìm tất cả các số chia hết cho 3 trong mảng.\n"
   ]
  },
  {
   "cell_type": "code",
   "execution_count": 23,
   "id": "8bff3bd6",
   "metadata": {},
   "outputs": [
    {
     "name": "stdout",
     "output_type": "stream",
     "text": [
      "a) [45 48 65 68 68 10 84 22 37 88 71 89 89 13 59 66 40 88 47 89]\n"
     ]
    }
   ],
   "source": [
    "import numpy as np \n",
    "np.random.seed(0)\n",
    "arr = np.random.randint(1,101 ,size =20 )\n",
    "print(\"a)\",arr) "
   ]
  },
  {
   "cell_type": "code",
   "execution_count": 24,
   "id": "0051c2ae",
   "metadata": {},
   "outputs": [
    {
     "name": "stdout",
     "output_type": "stream",
     "text": [
      "b)\n",
      " 59.3\n",
      "tong:  1186\n",
      "gia tri lon nhat 89\n"
     ]
    }
   ],
   "source": [
    "mean_val = np.mean(arr)\n",
    "sum_val = np.sum(arr) \n",
    "max_val = np.max(arr)\n",
    "print(\"b)\\n\", mean_val) \n",
    "print(\"tong: \", sum_val)\n",
    "print(\"gia tri lon nhat\",max_val) "
   ]
  },
  {
   "cell_type": "code",
   "execution_count": 25,
   "id": "88f3eeb5",
   "metadata": {},
   "outputs": [
    {
     "name": "stdout",
     "output_type": "stream",
     "text": [
      "\n",
      "mang sau khi nhan doi:\n",
      " [ 90  96 130 136 136  20 168  44  74 176 142 178 178  26 118 132  80 176\n",
      "  94 178]\n"
     ]
    }
   ],
   "source": [
    "arr_mul2 = arr *2 \n",
    "print(\"\\nmang sau khi nhan doi:\\n\", arr_mul2)"
   ]
  },
  {
   "cell_type": "code",
   "execution_count": 26,
   "id": "64b6c8fd",
   "metadata": {},
   "outputs": [
    {
     "name": "stdout",
     "output_type": "stream",
     "text": [
      "cac so chia het cho 3:  [45 48 84 66]\n"
     ]
    }
   ],
   "source": [
    "div3 = arr[arr % 3 == 0]\n",
    "print(\"cac so chia het cho 3: \", div3)"
   ]
  },
  {
   "cell_type": "markdown",
   "id": "6ce1dc25",
   "metadata": {},
   "source": [
    "Bài tập 2: Function cơ bản trong Python\n",
    "2.\tCâu hỏi lớn: Viết các hàm để xử lý số học.\n",
    "o\ta. Viết hàm tính tổng hai số.\n",
    "o\tb. Viết hàm kiểm tra xem một số có phải là số nguyên tố hay không.\n",
    "o\tc. Viết hàm tính giai thừa của một số nguyên dương.\n",
    "o\td. Viết hàm kiểm tra một số có phải là số hoàn hảo hay không (số mà tổng các ước bằng chính nó).\n"
   ]
  },
  {
   "cell_type": "code",
   "execution_count": 33,
   "id": "cdceeabb",
   "metadata": {},
   "outputs": [
    {
     "name": "stdout",
     "output_type": "stream",
     "text": [
      "a) Tổng 5 + 7 = 12\n"
     ]
    }
   ],
   "source": [
    "def tong_hai_so(a, b):\n",
    "    return a + b\n",
    "\n",
    "# Ví dụ:\n",
    "print(\"a) Tổng 5 + 7 =\", tong_hai_so(5, 7))\n"
   ]
  },
  {
   "cell_type": "code",
   "execution_count": 34,
   "id": "6472e87b",
   "metadata": {},
   "outputs": [
    {
     "name": "stdout",
     "output_type": "stream",
     "text": [
      "b) 17 là số nguyên tố? True\n",
      "   20 là số nguyên tố? False\n"
     ]
    }
   ],
   "source": [
    "def la_so_nguyen_to(n):\n",
    "    if n < 2:\n",
    "        return False\n",
    "    for i in range(2, int(n**0.5) + 1):\n",
    "        if n % i == 0:\n",
    "            return False\n",
    "    return True\n",
    "\n",
    "# Ví dụ:\n",
    "print(\"b) 17 là số nguyên tố?\", la_so_nguyen_to(17))\n",
    "print(\"   20 là số nguyên tố?\", la_so_nguyen_to(20))\n"
   ]
  },
  {
   "cell_type": "code",
   "execution_count": 35,
   "id": "660a3342",
   "metadata": {},
   "outputs": [
    {
     "name": "stdout",
     "output_type": "stream",
     "text": [
      "c) 5! = 120\n"
     ]
    }
   ],
   "source": [
    "def giai_thua(n):\n",
    "    if n < 0:\n",
    "        return None  \n",
    "    if n == 0 or n == 1:\n",
    "        return 1\n",
    "    kq = 1\n",
    "    for i in range(2, n + 1):\n",
    "        kq *= i\n",
    "    return kq\n",
    "\n",
    "# Ví dụ:\n",
    "print(\"c) 5! =\", giai_thua(5))\n"
   ]
  },
  {
   "cell_type": "code",
   "execution_count": 36,
   "id": "f5294199",
   "metadata": {},
   "outputs": [
    {
     "name": "stdout",
     "output_type": "stream",
     "text": [
      "d) 6 là số hoàn hảo? True\n",
      "   28 là số hoàn hảo? True\n",
      "   12 là số hoàn hảo? False\n"
     ]
    }
   ],
   "source": [
    "def la_so_hoan_hao(n):\n",
    "    if n <= 1:\n",
    "        return False\n",
    "    tong_uoc = 0\n",
    "    for i in range(1, n):\n",
    "        if n % i == 0:\n",
    "            tong_uoc += i\n",
    "    return tong_uoc == n\n",
    "\n",
    "# Ví dụ:\n",
    "print(\"d) 6 là số hoàn hảo?\", la_so_hoan_hao(6))\n",
    "print(\"   28 là số hoàn hảo?\", la_so_hoan_hao(28))\n",
    "print(\"   12 là số hoàn hảo?\", la_so_hoan_hao(12))\n"
   ]
  },
  {
   "cell_type": "markdown",
   "id": "d2cf5b85",
   "metadata": {},
   "source": [
    "Bài tập 3: Các module và import\n",
    "3.\tCâu hỏi lớn: Sử dụng các module chuẩn.\n",
    "o\ta. Import module math và sử dụng hàm tính căn bậc hai của 16.\n",
    "o\tb. Import module random và tạo một số ngẫu nhiên từ 1 đến 10.\n",
    "o\tc. Import module datetime và lấy ngày hiện tại.\n",
    "o\td. Viết một chương trình nhỏ sử dụng các module trên để tạo một thông điệp chào buổi sáng với ngày tháng và số may mắn\n"
   ]
  },
  {
   "cell_type": "code",
   "execution_count": 37,
   "id": "70a35af8",
   "metadata": {},
   "outputs": [
    {
     "name": "stdout",
     "output_type": "stream",
     "text": [
      "a  4.0\n"
     ]
    }
   ],
   "source": [
    "import math \n",
    "can_bac_hai = math.sqrt(16) \n",
    "print(\"a \",can_bac_hai)"
   ]
  },
  {
   "cell_type": "code",
   "execution_count": 42,
   "id": "da021e69",
   "metadata": {},
   "outputs": [
    {
     "name": "stdout",
     "output_type": "stream",
     "text": [
      "b  7\n"
     ]
    }
   ],
   "source": [
    "import random \n",
    "random.seed(0)\n",
    "so_ngau_nhien = random.randint(1,10) \n",
    "print(\"b \",so_ngau_nhien)"
   ]
  },
  {
   "cell_type": "code",
   "execution_count": 44,
   "id": "690b2aec",
   "metadata": {},
   "outputs": [
    {
     "name": "stdout",
     "output_type": "stream",
     "text": [
      "c ngay hien tai 2025-08-31\n"
     ]
    }
   ],
   "source": [
    "import datetime\n",
    "ngay_hien_tai = datetime.date.today() \n",
    "print(\"c ngay hien tai\", ngay_hien_tai)"
   ]
  },
  {
   "cell_type": "code",
   "execution_count": 49,
   "id": "603d2327",
   "metadata": {},
   "outputs": [
    {
     "name": "stdout",
     "output_type": "stream",
     "text": [
      "Xin chào! Hôm nay là ngày 2025-08-31.\n",
      "Số may mắn của bạn là: 1.\n",
      "Và bạn có biết? Căn bậc hai của 16 là 4.0.\n"
     ]
    }
   ],
   "source": [
    "import math\n",
    "import random\n",
    "import datetime\n",
    "\n",
    "def chao_buoi_sang():\n",
    "    ngay = datetime.date.today()\n",
    "    so_may_man = random.randint(1, 10)\n",
    "    can_16 = math.sqrt(16)\n",
    "    print(f\"Xin chào! Hôm nay là ngày {ngay}.\")\n",
    "    print(f\"Số may mắn của bạn là: {so_may_man}.\")\n",
    "    print(f\"Và bạn có biết? Căn bậc hai của 16 là {can_16}.\")\n",
    "\n",
    "chao_buoi_sang()\n"
   ]
  },
  {
   "cell_type": "markdown",
   "id": "2d70e627",
   "metadata": {},
   "source": [
    "Bài tập 4: Các lệnh điều kiện (control flow)\n",
    "4.\tCâu hỏi lớn: Sử dụng if-else để xử lý tình huống.\n",
    "o\ta. Viết chương trình kiểm tra xem một số là dương, âm hay bằng 0.\n",
    "o\tb. Viết chương trình tìm số lớn nhất trong ba số a, b, và c.\n",
    "o\tc. Viết chương trình kiểm tra xem một năm có phải là năm nhuận hay không.\n",
    "o\td. Viết chương trình cho phép nhập tuổi và in ra xem người đó là trẻ em, thanh niên hay người lớn.\n"
   ]
  },
  {
   "cell_type": "code",
   "execution_count": 50,
   "id": "29a25705",
   "metadata": {},
   "outputs": [
    {
     "name": "stdout",
     "output_type": "stream",
     "text": [
      "Số dương\n"
     ]
    }
   ],
   "source": [
    "\n",
    "x = int(input(\"Nhập một số: \"))\n",
    "\n",
    "if x > 0:\n",
    "    print(\"Số dương\")\n",
    "elif x < 0:\n",
    "    print(\"Số âm\")\n",
    "else:\n",
    "    print(\"Số bằng 0\")\n"
   ]
  },
  {
   "cell_type": "code",
   "execution_count": 51,
   "id": "95349119",
   "metadata": {},
   "outputs": [
    {
     "name": "stdout",
     "output_type": "stream",
     "text": [
      "Số lớn nhất là: 7\n"
     ]
    }
   ],
   "source": [
    "\n",
    "a = int(input(\"Nhập số a: \"))\n",
    "b = int(input(\"Nhập số b: \"))\n",
    "c = int(input(\"Nhập số c: \"))\n",
    "\n",
    "if a >= b and a >= c:\n",
    "    print(\"Số lớn nhất là:\", a)\n",
    "elif b >= a and b >= c:\n",
    "    print(\"Số lớn nhất là:\", b)\n",
    "else:\n",
    "    print(\"Số lớn nhất là:\", c)\n"
   ]
  },
  {
   "cell_type": "code",
   "execution_count": null,
   "id": "adb949bf",
   "metadata": {},
   "outputs": [
    {
     "name": "stdout",
     "output_type": "stream",
     "text": [
      "2025 không phải năm nhuận\n"
     ]
    }
   ],
   "source": [
    "nam = int(input(\"Nhập năm: \"))\n",
    "\n",
    "if (nam % 400 == 0) or (nam % 4 == 0 and nam % 100 != 0):\n",
    "    print(nam, \"là năm nhuận\")\n",
    "else:\n",
    "    print(nam, \"không phải năm nhuận\")\n"
   ]
  },
  {
   "cell_type": "code",
   "execution_count": null,
   "id": "f3abb672",
   "metadata": {},
   "outputs": [
    {
     "name": "stdout",
     "output_type": "stream",
     "text": [
      "Người lớn\n"
     ]
    }
   ],
   "source": [
    "\n",
    "tuoi = int(input(\"Nhập tuổi: \"))\n",
    "if tuoi < 13:\n",
    "    print(\"Trẻ em\")\n",
    "elif tuoi < 20:\n",
    "    print(\"Thanh niên\")\n",
    "else:\n",
    "    print(\"Người lớn\")\n"
   ]
  },
  {
   "cell_type": "markdown",
   "id": "6aafb921",
   "metadata": {},
   "source": [
    "Bài tập 5: List và các thao tác cơ bản\n",
    "5.\tCâu hỏi lớn: Làm việc với danh sách.\n",
    "o\ta. Tạo một danh sách chứa 10 số nguyên từ 1 đến 10.\n",
    "o\tb. Thêm phần tử 20 vào cuối danh sách.\n",
    "o\tc. Xóa phần tử có giá trị 5 trong danh sách.\n",
    "o\td. Đếm số lần xuất hiện của số 2 trong danh sách.\n"
   ]
  },
  {
   "cell_type": "code",
   "execution_count": 56,
   "id": "48d77c4f",
   "metadata": {},
   "outputs": [
    {
     "name": "stdout",
     "output_type": "stream",
     "text": [
      "Danh sách ban đầu: [1, 2, 3, 4, 5, 6, 7, 8, 9, 10]\n"
     ]
    }
   ],
   "source": [
    "ds = list(range(1, 11))\n",
    "print(\"Danh sách ban đầu:\", ds)\n"
   ]
  },
  {
   "cell_type": "code",
   "execution_count": 57,
   "id": "7c6fc800",
   "metadata": {},
   "outputs": [
    {
     "name": "stdout",
     "output_type": "stream",
     "text": [
      "sau khi them  [1, 2, 3, 4, 5, 6, 7, 8, 9, 10, 20]\n"
     ]
    }
   ],
   "source": [
    "ds.append(20)\n",
    "print(\"sau khi them \",ds )"
   ]
  },
  {
   "cell_type": "code",
   "execution_count": 59,
   "id": "2c744304",
   "metadata": {},
   "outputs": [
    {
     "name": "stdout",
     "output_type": "stream",
     "text": [
      "Sau khi xóa 5: [1, 2, 3, 4, 6, 7, 8, 9, 10, 20]\n"
     ]
    }
   ],
   "source": [
    "\n",
    "if 5 in ds:\n",
    "    ds.remove(5)\n",
    "print(\"Sau khi xóa 5:\", ds)\n"
   ]
  },
  {
   "cell_type": "code",
   "execution_count": 61,
   "id": "f088d9a4",
   "metadata": {},
   "outputs": [
    {
     "name": "stdout",
     "output_type": "stream",
     "text": [
      "Số lần xuất hiện của 2: 1\n"
     ]
    }
   ],
   "source": [
    "so_lan = ds.count(2)\n",
    "print(\"Số lần xuất hiện của 2:\", so_lan)\n"
   ]
  },
  {
   "cell_type": "markdown",
   "id": "b165a5d3",
   "metadata": {},
   "source": [
    "Bài tập 6: Tuple và các thao tác cơ bản\n",
    "6.\tCâu hỏi lớn: Làm việc với tuple.\n",
    "o\ta. Tạo một tuple chứa các số từ 1 đến 5.\n",
    "o\tb. Truy cập phần tử thứ 3 của tuple.\n",
    "o\tc. Tìm độ dài của tuple.\n",
    "o\td. Chuyển đổi tuple thành danh sách\n"
   ]
  },
  {
   "cell_type": "code",
   "execution_count": 63,
   "id": "b6d2480e",
   "metadata": {},
   "outputs": [
    {
     "name": "stdout",
     "output_type": "stream",
     "text": [
      "Tuple: (1, 2, 3, 4, 5)\n"
     ]
    }
   ],
   "source": [
    "\n",
    "tup = (1, 2, 3, 4, 5)\n",
    "print(\"Tuple:\", tup)\n"
   ]
  },
  {
   "cell_type": "code",
   "execution_count": 64,
   "id": "c4c33af9",
   "metadata": {},
   "outputs": [
    {
     "name": "stdout",
     "output_type": "stream",
     "text": [
      "Phần tử thứ 3: 3\n"
     ]
    }
   ],
   "source": [
    "\n",
    "print(\"Phần tử thứ 3:\", tup[2])\n"
   ]
  },
  {
   "cell_type": "code",
   "execution_count": 65,
   "id": "1623b718",
   "metadata": {},
   "outputs": [
    {
     "name": "stdout",
     "output_type": "stream",
     "text": [
      "Độ dài của tuple: 5\n"
     ]
    }
   ],
   "source": [
    "\n",
    "print(\"Độ dài của tuple:\", len(tup))\n"
   ]
  },
  {
   "cell_type": "code",
   "execution_count": 66,
   "id": "32fb9d86",
   "metadata": {},
   "outputs": [
    {
     "name": "stdout",
     "output_type": "stream",
     "text": [
      "Danh sách sau khi chuyển: [1, 2, 3, 4, 5]\n"
     ]
    }
   ],
   "source": [
    "\n",
    "lst = list(tup)\n",
    "print(\"Danh sách sau khi chuyển:\", lst)\n"
   ]
  },
  {
   "cell_type": "markdown",
   "id": "1eabb505",
   "metadata": {},
   "source": [
    "7.\tCâu hỏi lớn: Làm việc với dictionary.\n",
    "o\ta. Tạo một dictionary với các cặp khóa-giá trị là tên và tuổi của 3 người.\n",
    "o\tb. Thêm một người mới vào dictionary.\n",
    "o\tc. Xóa một người khỏi dictionary theo tên.\n",
    "o\td. Tìm tuổi của một người trong dictionary.\n"
   ]
  },
  {
   "cell_type": "code",
   "execution_count": 68,
   "id": "34b127dc",
   "metadata": {},
   "outputs": [
    {
     "name": "stdout",
     "output_type": "stream",
     "text": [
      "Dictionary ban đầu: {'An': 20, 'Bình': 22, 'Chi': 19}\n"
     ]
    }
   ],
   "source": [
    "people = {\n",
    "    \"An\": 20,\n",
    "    \"Bình\": 22,\n",
    "    \"Chi\": 19\n",
    "}\n",
    "print(\"Dictionary ban đầu:\", people)\n"
   ]
  },
  {
   "cell_type": "code",
   "execution_count": null,
   "id": "2c62fe58",
   "metadata": {},
   "outputs": [
    {
     "name": "stdout",
     "output_type": "stream",
     "text": [
      "Sau khi xóa Bình: {'An': 20, 'Chi': 19}\n"
     ]
    }
   ],
   "source": [
    "\n",
    "del people[\"Bình\"]\n",
    "print(\"Sau khi xóa Bình:\", people)\n"
   ]
  },
  {
   "cell_type": "code",
   "execution_count": 71,
   "id": "610e47c5",
   "metadata": {},
   "outputs": [
    {
     "name": "stdout",
     "output_type": "stream",
     "text": [
      "Tuổi của Chi là: 19\n"
     ]
    }
   ],
   "source": [
    "\n",
    "ten = \"Chi\"\n",
    "if ten in people:\n",
    "    print(f\"Tuổi của {ten} là:\", people[ten])\n",
    "else:\n",
    "    print(f\"{ten} không có trong dictionary\")\n"
   ]
  },
  {
   "cell_type": "markdown",
   "id": "3db28e8d",
   "metadata": {},
   "source": [
    "Bài tập 8: Các thao tác trên chuỗi\n",
    "8.\tCâu hỏi lớn: Xử lý chuỗi ký tự.\n",
    "o\ta. Nhập vào một chuỗi và in ra độ dài của nó.\n",
    "o\tb. Chuyển chuỗi thành chữ hoa và chữ thường.\n",
    "o\tc. Kiểm tra xem chuỗi có chứa từ “Python” hay không.\n",
    "o\td. Thay thế tất cả các khoảng trắng trong chuỗi bằng dấu gạch ngang. "
   ]
  },
  {
   "cell_type": "code",
   "execution_count": 72,
   "id": "450f93f9",
   "metadata": {},
   "outputs": [
    {
     "name": "stdout",
     "output_type": "stream",
     "text": [
      "Độ dài chuỗi là: 13\n"
     ]
    }
   ],
   "source": [
    "text = input(\"Nhập chuỗi: \")\n",
    "print(\"Độ dài chuỗi là:\", len(text))\n"
   ]
  },
  {
   "cell_type": "code",
   "execution_count": 73,
   "id": "b1d1e4ea",
   "metadata": {},
   "outputs": [
    {
     "name": "stdout",
     "output_type": "stream",
     "text": [
      "text int hoa CHUC MAY MAN \n",
      "text in thuong chuc may man \n"
     ]
    }
   ],
   "source": [
    "print(\"text int hoa\", text.upper())\n",
    "print(\"text in thuong\" , text.lower()) "
   ]
  },
  {
   "cell_type": "code",
   "execution_count": 74,
   "id": "e83a2eaf",
   "metadata": {},
   "outputs": [
    {
     "name": "stdout",
     "output_type": "stream",
     "text": [
      "Chuỗi KHÔNG chứa từ 'Python'\n"
     ]
    }
   ],
   "source": [
    "if \"Python\" in text:\n",
    "    print(\"Chuỗi có chứa từ 'Python'\")\n",
    "else:\n",
    "    print(\"Chuỗi KHÔNG chứa từ 'Python'\")\n"
   ]
  },
  {
   "cell_type": "code",
   "execution_count": null,
   "id": "2e99a183",
   "metadata": {},
   "outputs": [
    {
     "name": "stdout",
     "output_type": "stream",
     "text": [
      "Chuỗi sau khi thay thế: chuc-may-man-\n"
     ]
    }
   ],
   "source": [
    "new_text = text.replace(\" \", \"-\")\n",
    "print(\"Chuỗi sau khi thay thế:\", new_text)\n"
   ]
  },
  {
   "cell_type": "markdown",
   "id": "42c67337",
   "metadata": {},
   "source": [
    "Bài tập 9: Tạo và sử dụng hàm (Function)\n",
    "9.\tCâu hỏi lớn: Viết các hàm tính toán cơ bản.\n",
    "o\ta. Viết hàm tính tổng các phần tử trong một danh sách.\n",
    "o\tb. Viết hàm tìm số lớn nhất trong một danh sách.\n",
    "o\tc. Viết hàm đảo ngược chuỗi.\n",
    "o\td. Viết hàm kiểm tra xem một chuỗi có phải là palindrome hay không.\n"
   ]
  },
  {
   "cell_type": "code",
   "execution_count": 76,
   "id": "7385c546",
   "metadata": {},
   "outputs": [
    {
     "name": "stdout",
     "output_type": "stream",
     "text": [
      "tinh tong  15\n"
     ]
    }
   ],
   "source": [
    "def tinh_tong(lst): \n",
    "    return sum(lst)\n",
    "ds = [1,2,3,4,5]\n",
    "print(\"tinh tong \", tinh_tong(ds))"
   ]
  },
  {
   "cell_type": "code",
   "execution_count": 78,
   "id": "b2871748",
   "metadata": {},
   "outputs": [
    {
     "name": "stdout",
     "output_type": "stream",
     "text": [
      "so lon nhat 30\n"
     ]
    }
   ],
   "source": [
    "def tim_max(lst):\n",
    "    return max(lst) \n",
    "ds =[10,25 ,7,30 ,15 ]\n",
    "print(\"so lon nhat\", tim_max(ds))"
   ]
  },
  {
   "cell_type": "code",
   "execution_count": null,
   "id": "7eb790d7",
   "metadata": {},
   "outputs": [
    {
     "name": "stdout",
     "output_type": "stream",
     "text": [
      "chuoi dao nguoc nohtyP\n"
     ]
    }
   ],
   "source": [
    "def dao_nguoc_chuoi(s): \n",
    "    return s[::-1] \n",
    "ds =\"Python\"\n",
    "print(\"chuoi dao nguoc\",dao_nguoc_chuoi(ds))"
   ]
  },
  {
   "cell_type": "code",
   "execution_count": 84,
   "id": "74d20937",
   "metadata": {},
   "outputs": [
    {
     "name": "stdout",
     "output_type": "stream",
     "text": [
      "madam -> True\n",
      "python -> False\n"
     ]
    }
   ],
   "source": [
    "def la_palindrome(s):\n",
    "    return s == s[::-1]\n",
    "\n",
    "# Ví dụ\n",
    "chuoi1 = \"madam\"\n",
    "chuoi2 = \"python\"\n",
    "print(chuoi1, \"->\", la_palindrome(chuoi1))\n",
    "print(chuoi2, \"->\", la_palindrome(chuoi2))\n"
   ]
  },
  {
   "cell_type": "markdown",
   "id": "70af4494",
   "metadata": {},
   "source": [
    "Bài tập 10: Các vòng lặp (Loops)\n",
    "10.\tCâu hỏi lớn: Sử dụng vòng lặp for và while.\n",
    "o\ta. Viết chương trình in ra các số từ 1 đến 10.\n",
    "o\tb. Sử dụng vòng lặp để tính tổng các số chẵn từ 1 đến 100.\n",
    "o\tc. Dùng vòng lặp while để tính giai thừa của một số.\n",
    "o\td. Viết chương trình cho phép người dùng nhập các số cho đến khi tổng của chúng lớn hơn 100.\n"
   ]
  },
  {
   "cell_type": "code",
   "execution_count": 85,
   "id": "372949da",
   "metadata": {},
   "outputs": [
    {
     "name": "stdout",
     "output_type": "stream",
     "text": [
      "1 2 3 4 5 6 7 8 9 10 "
     ]
    }
   ],
   "source": [
    "for i in range(1, 11):\n",
    "    print(i, end=\" \")\n"
   ]
  },
  {
   "cell_type": "code",
   "execution_count": 86,
   "id": "f7f9817f",
   "metadata": {},
   "outputs": [
    {
     "name": "stdout",
     "output_type": "stream",
     "text": [
      "Tổng các số chẵn từ 1 đến 100: 2550\n"
     ]
    }
   ],
   "source": [
    "tong_chan = 0\n",
    "for i in range(2, 101, 2):\n",
    "    tong_chan += i\n",
    "print(\"Tổng các số chẵn từ 1 đến 100:\", tong_chan)\n"
   ]
  },
  {
   "cell_type": "code",
   "execution_count": null,
   "id": "71b5fe88",
   "metadata": {},
   "outputs": [
    {
     "name": "stdout",
     "output_type": "stream",
     "text": [
      "gia thua cua  4 la 24\n"
     ]
    }
   ],
   "source": [
    "n = int(input(\"nhap so nguyen n \"))\n",
    "giai_thua = 1\n",
    "i = 1\n",
    "while i <= n:\n",
    "    giai_thua *= i\n",
    "    i += 1\n",
    "print(\"gia thua cua\",n,\"la\", giai_thua)\n"
   ]
  },
  {
   "cell_type": "code",
   "execution_count": 1,
   "id": "195f0389",
   "metadata": {},
   "outputs": [
    {
     "name": "stdout",
     "output_type": "stream",
     "text": [
      "Tổng cuối cùng: 200\n"
     ]
    }
   ],
   "source": [
    "tong = 0\n",
    "while tong <= 100:\n",
    "    x = int(input(\"Nhập số: \"))\n",
    "    tong += x\n",
    "print(\"Tổng cuối cùng:\", tong)\n"
   ]
  },
  {
   "cell_type": "markdown",
   "id": "195174f6",
   "metadata": {},
   "source": [
    "Bài tập 11: List comprehension\n",
    "11.\tCâu hỏi lớn: Sử dụng list comprehension để xử lý dữ liệu.\n",
    "o\ta. Tạo một danh sách các số chẵn từ 0 đến 20 bằng list comprehension.\n",
    "o\tb. Tạo một danh sách các bình phương của các số từ 1 đến 10.\n",
    "o\tc. Tạo một danh sách các chuỗi ký tự từ một chuỗi cho trước mà không chứa ký tự 'a'.\n",
    "o\td. Sử dụng list comprehension để lọc các số nguyên tố từ danh sách các số từ 1 đến 50.\n"
   ]
  },
  {
   "cell_type": "code",
   "execution_count": 2,
   "id": "41cfa1a5",
   "metadata": {},
   "outputs": [
    {
     "name": "stdout",
     "output_type": "stream",
     "text": [
      "[0, 2, 4, 6, 8, 10, 12, 14, 16, 18, 20]\n"
     ]
    }
   ],
   "source": [
    "ds_chan = [x for x in range(21) if x % 2 == 0]\n",
    "print(ds_chan)\n"
   ]
  },
  {
   "cell_type": "code",
   "execution_count": 3,
   "id": "67fd2f4f",
   "metadata": {},
   "outputs": [
    {
     "name": "stdout",
     "output_type": "stream",
     "text": [
      "[1, 4, 9, 16, 25, 36, 49, 64, 81, 100]\n"
     ]
    }
   ],
   "source": [
    "ds_binh_phuong = [x**2 for x in range(1, 11)]\n",
    "print(ds_binh_phuong)\n"
   ]
  },
  {
   "cell_type": "code",
   "execution_count": 4,
   "id": "bbf1608d",
   "metadata": {},
   "outputs": [
    {
     "name": "stdout",
     "output_type": "stream",
     "text": [
      "['b', 'n', 'n']\n"
     ]
    }
   ],
   "source": [
    "chuoi = \"banana\"\n",
    "ds_ky_tu = [ch for ch in chuoi if ch != 'a']\n",
    "print(ds_ky_tu)\n"
   ]
  },
  {
   "cell_type": "code",
   "execution_count": 5,
   "id": "18cfbf9c",
   "metadata": {},
   "outputs": [
    {
     "name": "stdout",
     "output_type": "stream",
     "text": [
      "[2, 3, 5, 7, 11, 13, 17, 19, 23, 29, 31, 37, 41, 43, 47]\n"
     ]
    }
   ],
   "source": [
    "def la_nguyen_to(n):\n",
    "    if n < 2:\n",
    "        return False\n",
    "    for i in range(2, int(n**0.5) + 1):\n",
    "        if n % i == 0:\n",
    "            return False\n",
    "    return True\n",
    "\n",
    "ds_nguyen_to = [x for x in range(1, 51) if la_nguyen_to(x)]\n",
    "print(ds_nguyen_to)\n"
   ]
  },
  {
   "cell_type": "markdown",
   "id": "f71bd187",
   "metadata": {},
   "source": [
    "Bài tập 12: Tạo và sử dụng Module\n",
    "12.\tCâu hỏi lớn: Tạo module và sử dụng trong chương trình.\n",
    "o\ta. Tạo một file module tên math_operations.py chứa các hàm cộng, trừ, nhân, chia.\n",
    "o\tb. Import và sử dụng các hàm trong math_operations.py để tính toán.\n",
    "o\tc. Viết hàm tính bình phương trong module và sử dụng nó.\n",
    "o\td. Sử dụng module vừa tạo để tính toán một dãy số cho trước.\n"
   ]
  },
  {
   "cell_type": "code",
   "execution_count": 11,
   "id": "19a34463",
   "metadata": {},
   "outputs": [
    {
     "name": "stdout",
     "output_type": "stream",
     "text": [
      "Cộng 5 + 3 = 8\n",
      "Trừ 10 - 4 = 6\n",
      "Nhân 6 * 7 = 42\n",
      "Chia 8 / 2 = 4.0\n"
     ]
    }
   ],
   "source": [
    "# main.py\n",
    "import math_operations as mo\n",
    "\n",
    "print(\"Cộng 5 + 3 =\", mo.cong(5, 3))\n",
    "print(\"Trừ 10 - 4 =\", mo.tru(10, 4))\n",
    "print(\"Nhân 6 * 7 =\", mo.nhan(6, 7))\n",
    "print(\"Chia 8 / 2 =\", mo.chia(8, 2))\n"
   ]
  },
  {
   "cell_type": "code",
   "execution_count": 12,
   "id": "c9b899a2",
   "metadata": {},
   "outputs": [
    {
     "name": "stdout",
     "output_type": "stream",
     "text": [
      "Bình phương của 9 = 81\n"
     ]
    }
   ],
   "source": [
    "# main.py (tiếp)\n",
    "print(\"Bình phương của 9 =\", mo.binh_phuong(9))\n"
   ]
  },
  {
   "cell_type": "code",
   "execution_count": 13,
   "id": "b3eab91b",
   "metadata": {},
   "outputs": [
    {
     "name": "stdout",
     "output_type": "stream",
     "text": [
      "Dãy số: [1, 2, 3, 4, 5]\n",
      "Tổng các phần tử = 15\n",
      "Bình phương từng phần tử = [1, 4, 9, 16, 25]\n"
     ]
    }
   ],
   "source": [
    "# main.py (tiếp)\n",
    "day_so = [1, 2, 3, 4, 5]\n",
    "\n",
    "# Tính tổng các số trong dãy\n",
    "tong = 0\n",
    "for x in day_so:\n",
    "    tong = mo.cong(tong, x)\n",
    "\n",
    "# Tính bình phương của từng phần tử\n",
    "binh_phuong_day_so = [mo.binh_phuong(x) for x in day_so]\n",
    "\n",
    "print(\"Dãy số:\", day_so)\n",
    "print(\"Tổng các phần tử =\", tong)\n",
    "print(\"Bình phương từng phần tử =\", binh_phuong_day_so)\n"
   ]
  },
  {
   "cell_type": "markdown",
   "id": "b2bfb77e",
   "metadata": {},
   "source": [
    "Bài tập 13: Thao tác trên dictionary\n",
    "13.\tCâu hỏi lớn: Các thao tác với dictionary.\n",
    "o\ta. Tạo một dictionary lưu tên và điểm của 5 học sinh.\n",
    "o\tb. Tính điểm trung bình của lớp.\n",
    "o\tc. Thêm một học sinh mới với điểm ngẫu nhiên.\n",
    "o\td. Tìm học sinh có điểm cao nhất và thấp nhất.\n"
   ]
  },
  {
   "cell_type": "code",
   "execution_count": 14,
   "id": "254e130d",
   "metadata": {},
   "outputs": [
    {
     "name": "stdout",
     "output_type": "stream",
     "text": [
      "Danh sách học sinh và điểm: {'An': 8.5, 'Bình': 7.0, 'Chi': 9.0, 'Dũng': 6.5, 'Hà': 8.0}\n"
     ]
    }
   ],
   "source": [
    "# Tạo dictionary\n",
    "students = {\n",
    "    \"An\": 8.5,\n",
    "    \"Bình\": 7.0,\n",
    "    \"Chi\": 9.0,\n",
    "    \"Dũng\": 6.5,\n",
    "    \"Hà\": 8.0\n",
    "}\n",
    "\n",
    "print(\"Danh sách học sinh và điểm:\", students)\n"
   ]
  },
  {
   "cell_type": "code",
   "execution_count": 15,
   "id": "9feb3805",
   "metadata": {},
   "outputs": [
    {
     "name": "stdout",
     "output_type": "stream",
     "text": [
      "Điểm trung bình của lớp = 7.8\n"
     ]
    }
   ],
   "source": [
    "# Tính điểm trung bình\n",
    "average_score = sum(students.values()) / len(students)\n",
    "print(\"Điểm trung bình của lớp =\", average_score)\n"
   ]
  },
  {
   "cell_type": "code",
   "execution_count": 16,
   "id": "081f3ff9",
   "metadata": {},
   "outputs": [
    {
     "name": "stdout",
     "output_type": "stream",
     "text": [
      "Danh sách sau khi thêm học sinh mới: {'An': 8.5, 'Bình': 7.0, 'Chi': 9.0, 'Dũng': 6.5, 'Hà': 8.0, 'Lan': 9.1}\n"
     ]
    }
   ],
   "source": [
    "import random\n",
    "\n",
    "# Thêm học sinh mới\n",
    "new_student = \"Lan\"\n",
    "new_score = round(random.uniform(5.0, 10.0), 1)  # Điểm ngẫu nhiên từ 5.0 đến 10.0\n",
    "students[new_student] = new_score\n",
    "\n",
    "print(\"Danh sách sau khi thêm học sinh mới:\", students)\n"
   ]
  },
  {
   "cell_type": "code",
   "execution_count": 17,
   "id": "0c11f464",
   "metadata": {},
   "outputs": [
    {
     "name": "stdout",
     "output_type": "stream",
     "text": [
      "Học sinh có điểm cao nhất: Lan - 9.1\n",
      "Học sinh có điểm thấp nhất: Dũng - 6.5\n"
     ]
    }
   ],
   "source": [
    "# Học sinh có điểm cao nhất\n",
    "max_student = max(students, key=students.get)\n",
    "# Học sinh có điểm thấp nhất\n",
    "min_student = min(students, key=students.get)\n",
    "\n",
    "print(\"Học sinh có điểm cao nhất:\", max_student, \"-\", students[max_student])\n",
    "print(\"Học sinh có điểm thấp nhất:\", min_student, \"-\", students[min_student])\n"
   ]
  },
  {
   "cell_type": "markdown",
   "id": "1a4229e4",
   "metadata": {},
   "source": [
    "Bài tập 14: Làm việc với file (Đọc và ghi file)\n",
    "14.\tCâu hỏi lớn: Đọc và ghi file trong Python.\n",
    "o\ta. Viết một chương trình ghi 10 số nguyên từ 1 đến 10 vào file numbers.txt.\n",
    "o\tb. Đọc nội dung từ file numbers.txt và in ra màn hình.\n",
    "o\tc. Tính tổng các số trong file.\n",
    "o\td. Thêm một dãy số ngẫu nhiên vào file và ghi lại.\n"
   ]
  },
  {
   "cell_type": "code",
   "execution_count": 18,
   "id": "5bcd9d95",
   "metadata": {},
   "outputs": [],
   "source": [
    "# Ghi 10 số từ 1 đến 10 vào file\n",
    "with open(\"numbers.txt\", \"w\") as f:\n",
    "    for i in range(1, 11):\n",
    "        f.write(str(i) + \"\\n\")\n"
   ]
  },
  {
   "cell_type": "code",
   "execution_count": 19,
   "id": "732158a5",
   "metadata": {},
   "outputs": [
    {
     "name": "stdout",
     "output_type": "stream",
     "text": [
      "Nội dung file:\n",
      "1\n",
      "2\n",
      "3\n",
      "4\n",
      "5\n",
      "6\n",
      "7\n",
      "8\n",
      "9\n",
      "10\n"
     ]
    }
   ],
   "source": [
    "# Đọc file và in nội dung\n",
    "with open(\"numbers.txt\", \"r\") as f:\n",
    "    content = f.readlines()\n",
    "\n",
    "print(\"Nội dung file:\")\n",
    "for line in content:\n",
    "    print(line.strip())\n"
   ]
  },
  {
   "cell_type": "code",
   "execution_count": 20,
   "id": "ca1772f2",
   "metadata": {},
   "outputs": [
    {
     "name": "stdout",
     "output_type": "stream",
     "text": [
      "Tổng các số trong file = 55\n"
     ]
    }
   ],
   "source": [
    "# Tính tổng các số\n",
    "numbers = [int(line.strip()) for line in content]\n",
    "total = sum(numbers)\n",
    "print(\"Tổng các số trong file =\", total)\n"
   ]
  },
  {
   "cell_type": "code",
   "execution_count": 21,
   "id": "4d678845",
   "metadata": {},
   "outputs": [
    {
     "name": "stdout",
     "output_type": "stream",
     "text": [
      "Đã thêm dãy số ngẫu nhiên: [99, 65, 3, 42, 75]\n"
     ]
    }
   ],
   "source": [
    "import random\n",
    "\n",
    "# Sinh dãy số ngẫu nhiên\n",
    "random_numbers = [random.randint(1, 100) for _ in range(5)]\n",
    "\n",
    "# Ghi thêm vào file\n",
    "with open(\"numbers.txt\", \"a\") as f:\n",
    "    for num in random_numbers:\n",
    "        f.write(str(num) + \"\\n\")\n",
    "\n",
    "print(\"Đã thêm dãy số ngẫu nhiên:\", random_numbers)\n"
   ]
  },
  {
   "cell_type": "markdown",
   "id": "422deb6c",
   "metadata": {},
   "source": [
    "Bài tập 15: Xử lý chuỗi nâng cao\n",
    "15.\tCâu hỏi lớn: Các thao tác chuỗi phức tạp.\n",
    "o\ta. Nhập vào một câu và in ra các từ trong câu dưới dạng danh sách.\n",
    "o\tb. Đếm số từ trong câu.\n",
    "o\tc. Đảo ngược thứ tự các từ trong câu.\n",
    "o\td. Viết một chương trình chuyển đổi câu thành dạng title (mỗi từ viết hoa chữ cái đầu).\n"
   ]
  },
  {
   "cell_type": "code",
   "execution_count": 22,
   "id": "e9eff55d",
   "metadata": {},
   "outputs": [
    {
     "name": "stdout",
     "output_type": "stream",
     "text": [
      "Danh sách các từ: ['chuc', 'may', 'man']\n"
     ]
    }
   ],
   "source": [
    "# a. Nhập câu và tách thành danh sách từ\n",
    "sentence = input(\"Nhập vào một câu: \")\n",
    "words = sentence.split()   # tách theo khoảng trắng\n",
    "print(\"Danh sách các từ:\", words)\n"
   ]
  },
  {
   "cell_type": "code",
   "execution_count": 23,
   "id": "db0777ec",
   "metadata": {},
   "outputs": [
    {
     "name": "stdout",
     "output_type": "stream",
     "text": [
      "Số từ trong câu: 3\n"
     ]
    }
   ],
   "source": [
    "# b. Đếm số từ\n",
    "word_count = len(words)\n",
    "print(\"Số từ trong câu:\", word_count)\n"
   ]
  },
  {
   "cell_type": "code",
   "execution_count": 24,
   "id": "a2fdfcb1",
   "metadata": {},
   "outputs": [
    {
     "name": "stdout",
     "output_type": "stream",
     "text": [
      "Câu sau khi đảo ngược từ: man may chuc\n"
     ]
    }
   ],
   "source": [
    "# c. Đảo ngược thứ tự từ\n",
    "reversed_words = words[::-1]\n",
    "print(\"Câu sau khi đảo ngược từ:\", \" \".join(reversed_words))\n"
   ]
  },
  {
   "cell_type": "code",
   "execution_count": 25,
   "id": "704279bf",
   "metadata": {},
   "outputs": [
    {
     "name": "stdout",
     "output_type": "stream",
     "text": [
      "Câu dạng Title Case: Chuc May Man \n"
     ]
    }
   ],
   "source": [
    "# d. Chuyển sang dạng title\n",
    "title_sentence = sentence.title()\n",
    "print(\"Câu dạng Title Case:\", title_sentence)\n"
   ]
  },
  {
   "cell_type": "markdown",
   "id": "e4b1c89c",
   "metadata": {},
   "source": [
    "Bài tập 16: Tạo từ điển từ list\n",
    "16.\tCâu hỏi lớn: Tạo dictionary từ danh sách.\n",
    "o\ta. Cho hai danh sách names = ['A', 'B', 'C'] và scores = [90, 85, 95], tạo dictionary kết hợp hai danh sách.\n",
    "o\tb. Tính điểm trung bình từ dictionary vừa tạo.\n",
    "o\tc. Thêm một học sinh mới vào dictionary.\n",
    "o\td. Tìm và in tên học sinh có điểm cao nhất.\n"
   ]
  },
  {
   "cell_type": "code",
   "execution_count": 26,
   "id": "57978424",
   "metadata": {},
   "outputs": [
    {
     "name": "stdout",
     "output_type": "stream",
     "text": [
      "Dictionary kết quả: {'A': 90, 'B': 85, 'C': 95}\n"
     ]
    }
   ],
   "source": [
    "# a. Tạo dictionary từ 2 danh sách\n",
    "names = ['A', 'B', 'C']\n",
    "scores = [90, 85, 95]\n",
    "\n",
    "student_dict = dict(zip(names, scores))\n",
    "print(\"Dictionary kết quả:\", student_dict)\n"
   ]
  },
  {
   "cell_type": "code",
   "execution_count": 27,
   "id": "08f9f6f5",
   "metadata": {},
   "outputs": [
    {
     "name": "stdout",
     "output_type": "stream",
     "text": [
      "Điểm trung bình: 90.0\n"
     ]
    }
   ],
   "source": [
    "# b. Tính điểm trung bình\n",
    "average_score = sum(student_dict.values()) / len(student_dict)\n",
    "print(\"Điểm trung bình:\", average_score)\n"
   ]
  },
  {
   "cell_type": "code",
   "execution_count": 28,
   "id": "bd09610c",
   "metadata": {},
   "outputs": [
    {
     "name": "stdout",
     "output_type": "stream",
     "text": [
      "Danh sách học sinh sau khi thêm: {'A': 90, 'B': 85, 'C': 95, 'D': 88}\n"
     ]
    }
   ],
   "source": [
    "student_dict = {'A': 90, 'B': 85, 'C': 95}\n",
    "\n",
    "# Thêm học sinh mới D với điểm 88\n",
    "student_dict['D'] = 88\n",
    "\n",
    "print(\"Danh sách học sinh sau khi thêm:\", student_dict)\n"
   ]
  },
  {
   "cell_type": "code",
   "execution_count": 29,
   "id": "e683ef3b",
   "metadata": {},
   "outputs": [
    {
     "name": "stdout",
     "output_type": "stream",
     "text": [
      "Học sinh có điểm cao nhất: C -> 95\n"
     ]
    }
   ],
   "source": [
    "top_student = max(student_dict, key=student_dict.get)\n",
    "print(\"Học sinh có điểm cao nhất:\", top_student, \"->\", student_dict[top_student])\n"
   ]
  },
  {
   "cell_type": "markdown",
   "id": "d1a5bd9e",
   "metadata": {},
   "source": [
    "Bài tập 17: NumPy với dữ liệu tài chính\n",
    "17.\tCâu hỏi lớn: Xử lý dữ liệu với NumPy.\n",
    "o\ta. Tạo một mảng NumPy với các giá trị đại diện cho giá cổ phiếu trong 10 ngày.\n",
    "o\tb. Tính giá trị trung bình, lớn nhất và nhỏ nhất của giá cổ phiếu.\n",
    "o\tc. Tính trung bình trượt 3 ngày.\n",
    "o\td. Vẽ biểu đồ giá cổ phiếu theo ngày.\n"
   ]
  },
  {
   "cell_type": "code",
   "execution_count": 30,
   "id": "7bae8258",
   "metadata": {},
   "outputs": [
    {
     "name": "stdout",
     "output_type": "stream",
     "text": [
      "Giá cổ phiếu 10 ngày: [100 102  98 105 110 108 107 115 120 118]\n"
     ]
    }
   ],
   "source": [
    "import numpy as np\n",
    "\n",
    "# Giả sử giá cổ phiếu trong 10 ngày\n",
    "prices = np.array([100, 102, 98, 105, 110, 108, 107, 115, 120, 118])\n",
    "print(\"Giá cổ phiếu 10 ngày:\", prices)\n"
   ]
  },
  {
   "cell_type": "code",
   "execution_count": 31,
   "id": "be82f9f2",
   "metadata": {},
   "outputs": [
    {
     "name": "stdout",
     "output_type": "stream",
     "text": [
      "Giá trung bình: 108.3\n",
      "Giá cao nhất: 120\n",
      "Giá thấp nhất: 98\n"
     ]
    }
   ],
   "source": [
    "average_price = np.mean(prices)\n",
    "max_price = np.max(prices)\n",
    "min_price = np.min(prices)\n",
    "\n",
    "print(\"Giá trung bình:\", average_price)\n",
    "print(\"Giá cao nhất:\", max_price)\n",
    "print(\"Giá thấp nhất:\", min_price)\n"
   ]
  },
  {
   "cell_type": "code",
   "execution_count": 32,
   "id": "40a68307",
   "metadata": {},
   "outputs": [
    {
     "name": "stdout",
     "output_type": "stream",
     "text": [
      "Trung bình trượt 3 ngày: [100.         101.66666667 104.33333333 107.66666667 108.33333333\n",
      " 110.         114.         117.66666667]\n"
     ]
    }
   ],
   "source": [
    "moving_avg = np.convolve(prices, np.ones(3)/3, mode='valid')\n",
    "print(\"Trung bình trượt 3 ngày:\", moving_avg)\n"
   ]
  },
  {
   "cell_type": "code",
   "execution_count": 33,
   "id": "64573458",
   "metadata": {},
   "outputs": [
    {
     "data": {
      "image/png": "[encoded data removed]",
      "text/plain": [
       "<Figure size 640x480 with 1 Axes>"
      ]
     },
     "metadata": {},
     "output_type": "display_data"
    }
   ],
   "source": [
    "import matplotlib.pyplot as plt\n",
    "\n",
    "days = np.arange(1, 11)  # ngày 1 đến 10\n",
    "\n",
    "plt.plot(days, prices, marker='o', label='Giá cổ phiếu')\n",
    "plt.plot(np.arange(3, 11), moving_avg, marker='s', label='Trung bình trượt 3 ngày')\n",
    "\n",
    "plt.title(\"Biểu đồ giá cổ phiếu theo ngày\")\n",
    "plt.xlabel(\"Ngày\")\n",
    "plt.ylabel(\"Giá\")\n",
    "plt.legend()\n",
    "plt.grid(True)\n",
    "plt.show()\n"
   ]
  },
  {
   "cell_type": "markdown",
   "id": "a7a4e1af",
   "metadata": {},
   "source": [
    "Bài tập 18: Tính toán ma trận với NumPy\n",
    "18.\tCâu hỏi lớn: Làm việc với ma trận.\n",
    "o\ta. Tạo hai ma trận 2x2 với các giá trị ngẫu nhiên từ 1 đến 5.\n",
    "o\tb. Tính tích của hai ma trận.\n",
    "o\tc. Tìm định thức của ma trận thứ nhất.\n",
    "o\td. Tính nghịch đảo của ma trận thứ hai (nếu có).\n"
   ]
  },
  {
   "cell_type": "code",
   "execution_count": 34,
   "id": "69c49b18",
   "metadata": {},
   "outputs": [
    {
     "name": "stdout",
     "output_type": "stream",
     "text": [
      "Ma trận A:\n",
      " [[4 4]\n",
      " [4 2]]\n",
      "Ma trận B:\n",
      " [[3 2]\n",
      " [4 3]]\n"
     ]
    }
   ],
   "source": [
    "import numpy as np\n",
    "\n",
    "# Sinh số ngẫu nhiên trong khoảng [1, 5]\n",
    "A = np.random.randint(1, 6, (2, 2))\n",
    "B = np.random.randint(1, 6, (2, 2))\n",
    "\n",
    "print(\"Ma trận A:\\n\", A)\n",
    "print(\"Ma trận B:\\n\", B)\n"
   ]
  },
  {
   "cell_type": "code",
   "execution_count": 35,
   "id": "b612ffcb",
   "metadata": {},
   "outputs": [
    {
     "name": "stdout",
     "output_type": "stream",
     "text": [
      "Tích A x B:\n",
      " [[28 20]\n",
      " [20 14]]\n"
     ]
    }
   ],
   "source": [
    "product = np.dot(A, B)\n",
    "print(\"Tích A x B:\\n\", product)\n"
   ]
  },
  {
   "cell_type": "code",
   "execution_count": 36,
   "id": "87d80439",
   "metadata": {},
   "outputs": [
    {
     "name": "stdout",
     "output_type": "stream",
     "text": [
      "Định thức của A: -7.999999999999998\n"
     ]
    }
   ],
   "source": [
    "det_A = np.linalg.det(A)\n",
    "print(\"Định thức của A:\", det_A)\n"
   ]
  },
  {
   "cell_type": "code",
   "execution_count": 37,
   "id": "6ba26602",
   "metadata": {},
   "outputs": [
    {
     "name": "stdout",
     "output_type": "stream",
     "text": [
      "Định thức của B: 1.0\n",
      "Nghịch đảo của B:\n",
      " [[ 3. -2.]\n",
      " [-4.  3.]]\n"
     ]
    }
   ],
   "source": [
    "det_B = np.linalg.det(B)\n",
    "print(\"Định thức của B:\", det_B)\n",
    "\n",
    "if det_B != 0:\n",
    "    inverse_B = np.linalg.inv(B)\n",
    "    print(\"Nghịch đảo của B:\\n\", inverse_B)\n",
    "else:\n",
    "    print(\"Ma trận B không khả nghịch (determinant = 0)\")\n"
   ]
  },
  {
   "cell_type": "markdown",
   "id": "f20ab4ca",
   "metadata": {},
   "source": [
    "Bài tập 19: Ứng dụng NumPy trong phân tích dữ liệu\n",
    "19.\tCâu hỏi lớn: Sử dụng NumPy để phân tích dữ liệu.\n",
    "o\ta. Tạo một mảng chứa 100 số ngẫu nhiên từ 1 đến 1000.\n",
    "o\tb. Tính phân vị thứ 25, 50 và 75 của mảng.\n",
    "o\tc. Lọc ra các giá trị lớn hơn phân vị thứ 50.\n",
    "o\td. Tính phương sai và độ lệch chuẩn của các giá trị vừa lọc.\n"
   ]
  },
  {
   "cell_type": "code",
   "execution_count": 38,
   "id": "6160f18e",
   "metadata": {},
   "outputs": [
    {
     "name": "stdout",
     "output_type": "stream",
     "text": [
      "Mảng dữ liệu:\n",
      " [ 842  326  898  281  206  183    7  507  957  244  989  574  431  891\n",
      "  682   59  355  345  823  162   59  149  413  672  349  520  661   86\n",
      "   93  263  588 1000  646  467   10  445  628  733  924  314  467  541\n",
      "  743  364  111  144  870   48  392  753  384  257  395  930  489  575\n",
      "  233  474  595  875  400  668  943  440  298  254  911  456   75  708\n",
      "  821  664  427  683  655  819  756  540  570  554  699  864  466  231\n",
      "  900  806  790  629   66  614  576  623  312  638   62  550   23  518\n",
      "  754  947]\n"
     ]
    }
   ],
   "source": [
    "import numpy as np\n",
    "\n",
    "# Sinh 100 số nguyên ngẫu nhiên trong [1, 1000]\n",
    "data = np.random.randint(1, 1001, 100)\n",
    "print(\"Mảng dữ liệu:\\n\", data)\n"
   ]
  },
  {
   "cell_type": "code",
   "execution_count": 39,
   "id": "91ec4a38",
   "metadata": {},
   "outputs": [
    {
     "name": "stdout",
     "output_type": "stream",
     "text": [
      "Phân vị 25%: 308.5\n",
      "Phân vị 50% (median): 530.0\n",
      "Phân vị 75%: 714.25\n"
     ]
    }
   ],
   "source": [
    "q25 = np.percentile(data, 25)\n",
    "q50 = np.percentile(data, 50)   # tương đương median\n",
    "q75 = np.percentile(data, 75)\n",
    "\n",
    "print(\"Phân vị 25%:\", q25)\n",
    "print(\"Phân vị 50% (median):\", q50)\n",
    "print(\"Phân vị 75%:\", q75)\n"
   ]
  },
  {
   "cell_type": "code",
   "execution_count": 40,
   "id": "f4318033",
   "metadata": {},
   "outputs": [
    {
     "name": "stdout",
     "output_type": "stream",
     "text": [
      "Các giá trị > phân vị 50:\n",
      " [ 842  898  957  989  574  891  682  823  672  661  588 1000  646  628\n",
      "  733  924  541  743  870  753  930  575  595  875  668  943  911  708\n",
      "  821  664  683  655  819  756  540  570  554  699  864  900  806  790\n",
      "  629  614  576  623  638  550  754  947]\n"
     ]
    }
   ],
   "source": [
    "filtered = data[data > q50]\n",
    "print(\"Các giá trị > phân vị 50:\\n\", filtered)\n"
   ]
  },
  {
   "cell_type": "code",
   "execution_count": 41,
   "id": "fa937cec",
   "metadata": {},
   "outputs": [
    {
     "name": "stdout",
     "output_type": "stream",
     "text": [
      "Phương sai: 18767.5664\n",
      "Độ lệch chuẩn: 136.99476778329893\n"
     ]
    }
   ],
   "source": [
    "variance = np.var(filtered)\n",
    "std_dev = np.std(filtered)\n",
    "\n",
    "print(\"Phương sai:\", variance)\n",
    "print(\"Độ lệch chuẩn:\", std_dev)\n"
   ]
  },
  {
   "cell_type": "markdown",
   "id": "f33f17ce",
   "metadata": {},
   "source": [
    "Bài tập 20: Ứng dụng thực tế\n",
    "20.\tCâu hỏi lớn: Viết chương trình quản lý thông tin nhân viên.\n",
    "o\ta. Tạo một dictionary lưu thông tin nhân viên với các trường: tên, tuổi, vị trí, lương.\n",
    "o\tb. Viết hàm thêm nhân viên mới vào danh sách.\n",
    "o\tc. Viết hàm tìm kiếm nhân viên theo tên.\n",
    "o\td. Tính tổng lương phải trả cho tất cả nhân viên. "
   ]
  },
  {
   "cell_type": "code",
   "execution_count": 19,
   "id": "31ab97ee",
   "metadata": {},
   "outputs": [
    {
     "name": "stdout",
     "output_type": "stream",
     "text": [
      "Danh sách nhân viên ban đầu:\n",
      "An: {'age': 25, 'position': 'Developer', 'salary': 1500}\n",
      "Binh: {'age': 30, 'position': 'Manager', 'salary': 2500}\n",
      "Chi: {'age': 28, 'position': 'Tester', 'salary': 1200}\n",
      "\n",
      "Thêm nhân viên mới:\n",
      "An: {'age': 25, 'position': 'Developer', 'salary': 1500}\n",
      "Binh: {'age': 30, 'position': 'Manager', 'salary': 2500}\n",
      "Chi: {'age': 28, 'position': 'Tester', 'salary': 1200}\n",
      "Dung: {'age': 26, 'position': 'Designer', 'salary': 1800}\n",
      "\n",
      "Tìm kiếm nhân viên 'Binh':\n",
      "{'age': 30, 'position': 'Manager', 'salary': 2500}\n",
      "\n",
      "Tìm kiếm nhân viên 'Lan':\n",
      "Không tìm thấy nhân viên!\n",
      "\n",
      "Tổng lương phải trả:\n",
      "7000\n"
     ]
    }
   ],
   "source": [
    "# a. Danh sách nhân viên ban đầu\n",
    "employees = {\n",
    "    \"An\": {\"age\": 25, \"position\": \"Developer\", \"salary\": 1500},\n",
    "    \"Binh\": {\"age\": 30, \"position\": \"Manager\", \"salary\": 2500},\n",
    "    \"Chi\": {\"age\": 28, \"position\": \"Tester\", \"salary\": 1200}\n",
    "}\n",
    "\n",
    "# b. Hàm thêm nhân viên mới\n",
    "def add_employee(employees, name, age, position, salary):\n",
    "    employees[name] = {\"age\": age, \"position\": position, \"salary\": salary}\n",
    "\n",
    "# c. Hàm tìm kiếm nhân viên theo tên\n",
    "def find_employee(employees, name):\n",
    "    return employees.get(name, \"Không tìm thấy nhân viên!\")\n",
    "\n",
    "# d. Hàm tính tổng lương\n",
    "def total_salary(employees):\n",
    "    return sum(info[\"salary\"] for info in employees.values())\n",
    "\n",
    "# ---------------------------\n",
    "# Ví dụ chạy thử chương trình\n",
    "print(\"Danh sách nhân viên ban đầu:\")\n",
    "for name, info in employees.items():\n",
    "    print(f\"{name}: {info}\")\n",
    "\n",
    "print(\"\\nThêm nhân viên mới:\")\n",
    "add_employee(employees, \"Dung\", 26, \"Designer\", 1800)\n",
    "for name, info in employees.items():\n",
    "    print(f\"{name}: {info}\")\n",
    "\n",
    "print(\"\\nTìm kiếm nhân viên 'Binh':\")\n",
    "print(find_employee(employees, \"Binh\"))\n",
    "\n",
    "print(\"\\nTìm kiếm nhân viên 'Lan':\")\n",
    "print(find_employee(employees, \"Lan\"))\n",
    "\n",
    "print(\"\\nTổng lương phải trả:\")\n",
    "print(total_salary(employees))\n"
   ]
  },
  {
   "cell_type": "markdown",
   "id": "7aec2f7a",
   "metadata": {},
   "source": [
    "Bài tập 1: Quản lý điểm thi và phân tích dữ liệu\n",
    "Bối cảnh: Bạn được giao nhiệm vụ xây dựng một chương trình quản lý điểm thi cho một lớp học và phân tích dữ liệu điểm số.\n",
    "Câu hỏi:\n",
    "1.\tNhập và xử lý dữ liệu:\n",
    "o\ta. Viết chương trình đọc dữ liệu điểm thi từ file scores.txt, mỗi dòng chứa tên học sinh và điểm số, ví dụ: John, 85.\n",
    "o\tb. Chuyển dữ liệu thành dictionary với tên là khóa và điểm số là giá trị.\n",
    "o\tc. Viết hàm hiển thị danh sách học sinh với điểm của họ.\n",
    "o\td. Vẽ flowchart thể hiện quá trình đọc file, chuyển đổi dữ liệu và hiển thị kết quả.\n",
    "2.\tPhân tích dữ liệu điểm thi:\n",
    "o\ta. Tính điểm trung bình, điểm cao nhất và thấp nhất trong lớp.\n",
    "o\tb. Tìm các học sinh có điểm cao hơn điểm trung bình.\n",
    "o\tc. Tạo biểu đồ histogram thể hiện phân bố điểm số sử dụng NumPy và Matplotlib.\n",
    "o\td. Vẽ flowchart thể hiện quá trình tính toán các chỉ số và vẽ biểu đồ.\n",
    "3.\tXếp loại học sinh:\n",
    "o\ta. Viết hàm xếp loại học sinh theo các mức: Xuất sắc (>= 90), Giỏi (>= 80), Khá (>= 70), Trung bình (>= 50), Yếu (< 50).\n",
    "o\tb. In ra danh sách học sinh thuộc mỗi mức xếp loại.\n",
    "o\tc. Lưu kết quả xếp loại vào file grade_report.txt.\n",
    "o\td. Vẽ flowchart biểu diễn quá trình xếp loại và ghi file.\n",
    "4.\tThống kê và báo cáo:\n",
    "o\ta. Tính phần trăm học sinh đạt mỗi mức xếp loại.\n",
    "o\tb. Viết hàm xuất báo cáo tổng kết với các thông tin: số lượng học sinh, điểm trung bình, tỉ lệ từng mức xếp loại.\n",
    "o\tc. Ghi báo cáo vào file summary_report.txt.\n",
    "o\td. Vẽ flowchart thể hiện quá trình thống kê và ghi báo cáo.\n"
   ]
  },
  {
   "cell_type": "code",
   "execution_count": null,
   "id": "31bee5e1",
   "metadata": {},
   "outputs": [
    {
     "name": "stdout",
     "output_type": "stream",
     "text": [
      "Dictionary điểm số: {'John': 85, 'Alice': 92, 'Bob': 76, 'Mary': 88}\n",
      "\n",
      "Danh sách học sinh và điểm số:\n",
      "John: 85\n",
      "Alice: 92\n",
      "Bob: 76\n",
      "Mary: 88\n"
     ]
    }
   ],
   "source": [
    "# 1_1 a. Đọc dữ liệu từ file\n",
    "def read_scores(filename):\n",
    "    scores = {}\n",
    "    with open(filename, \"r\", encoding=\"utf-8\") as f:\n",
    "        for line in f:\n",
    "            name, score = line.strip().split(\",\")\n",
    "            scores[name.strip()] = int(score.strip())\n",
    "    return scores\n",
    "\n",
    "# b. Chuyển dữ liệu thành dictionary\n",
    "students = read_scores(\"scores.txt\")\n",
    "print(\"Dictionary điểm số:\", students)\n",
    "\n",
    "# c. Hiển thị danh sách học sinh và điểm\n",
    "def show_scores(scores):\n",
    "    print(\"\\nDanh sách học sinh và điểm số:\")\n",
    "    for name, score in scores.items():\n",
    "        print(f\"{name}: {score}\")\n",
    "\n",
    "# Gọi hàm\n",
    "show_scores(students)\n"
   ]
  },
  {
   "cell_type": "markdown",
   "id": "1f40902e",
   "metadata": {},
   "source": [
    "<img src=\"bt1_1.drawio.svg\" alt=\"bt1_1\" width=\"50%\">\n"
   ]
  },
  {
   "cell_type": "code",
   "execution_count": null,
   "id": "3f382f89",
   "metadata": {},
   "outputs": [
    {
     "name": "stdout",
     "output_type": "stream",
     "text": [
      "Danh sách điểm: {'John': 85, 'Alice': 92, 'Bob': 76, 'Mary': 88, 'Tom': 95, 'Anna': 67}\n",
      "\n",
      "Điểm trung bình: 83.83333333333333\n",
      "Điểm cao nhất: 95\n",
      "Điểm thấp nhất: 67\n",
      "\n",
      "Học sinh trên trung bình: ['John', 'Alice', 'Mary', 'Tom']\n"
     ]
    },
    {
     "data": {
      "image/png": "[encoded data removed]",
      "text/plain": [
       "<Figure size 640x480 with 1 Axes>"
      ]
     },
     "metadata": {},
     "output_type": "display_data"
    }
   ],
   "source": [
    "import numpy as np\n",
    "import matplotlib.pyplot as plt\n",
    "\n",
    "# ----------------\n",
    "# 12. Đọc dữ liệu\n",
    "def read_scores(filename):\n",
    "    scores = {}\n",
    "    with open(filename, \"r\", encoding=\"utf-8\") as f:\n",
    "        for line in f:\n",
    "            name, score = line.strip().split(\",\")\n",
    "            scores[name.strip()] = int(score.strip())\n",
    "    return scores\n",
    "\n",
    "# 12a. Phân tích dữ liệu\n",
    "def analyze_scores(scores):\n",
    "    values = list(scores.values())\n",
    "    avg = np.mean(values)\n",
    "    max_score = np.max(values)\n",
    "    min_score = np.min(values)\n",
    "    return avg, max_score, min_score\n",
    "\n",
    "# 12b. Tìm học sinh điểm trên trung bình\n",
    "def above_average(scores):\n",
    "    avg, _, _ = analyze_scores(scores)\n",
    "    return [name for name, score in scores.items() if score > avg]\n",
    "\n",
    "# 12c. Vẽ histogram\n",
    "def plot_histogram(scores):\n",
    "    plt.hist(list(scores.values()), bins=10, edgecolor=\"black\")\n",
    "    plt.title(\"Phân bố điểm số\")\n",
    "    plt.xlabel(\"Điểm\")\n",
    "    plt.ylabel(\"Số lượng học sinh\")\n",
    "    plt.show()\n",
    "#vd\n",
    "students = {\n",
    "    \"John\": 85,\n",
    "    \"Alice\": 92,\n",
    "    \"Bob\": 76,\n",
    "    \"Mary\": 88,\n",
    "    \"Tom\": 95,\n",
    "    \"Anna\": 67\n",
    "}\n",
    "\n",
    "print(\"Danh sách điểm:\", students)\n",
    "\n",
    "# Phân tích dữ liệu\n",
    "avg, max_score, min_score = analyze_scores(students)\n",
    "print(\"\\nĐiểm trung bình:\", avg)\n",
    "print(\"Điểm cao nhất:\", max_score)\n",
    "print(\"Điểm thấp nhất:\", min_score)\n",
    "\n",
    "# Học sinh trên trung bình\n",
    "print(\"\\nHọc sinh trên trung bình:\", above_average(students))\n",
    "\n",
    "# Vẽ biểu đồ\n",
    "plot_histogram(students)\n"
   ]
  },
  {
   "cell_type": "markdown",
   "id": "c708db2a",
   "metadata": {},
   "source": [
    "#tinh diem trung binh min max\n",
    "<img src=\"bt1_2.drawio.svg\" alt=\"bt1_2\" width=\"50%\">"
   ]
  },
  {
   "cell_type": "code",
   "execution_count": 22,
   "id": "a05a34ef",
   "metadata": {},
   "outputs": [
    {
     "name": "stdout",
     "output_type": "stream",
     "text": [
      "Kết quả xếp loại:\n",
      "Xuất sắc: Alice, Tom\n",
      "Giỏi: John, Mary\n",
      "Khá: Bob\n",
      "Trung bình: Anna\n",
      "Yếu: Peter\n",
      "\n",
      "Đã lưu kết quả vào file grade_report.txt\n"
     ]
    }
   ],
   "source": [
    "#1_3a. Hàm xếp loại\n",
    "def classify(score):\n",
    "    if score >= 90:\n",
    "        return \"Xuất sắc\"\n",
    "    elif score >= 80:\n",
    "        return \"Giỏi\"\n",
    "    elif score >= 70:\n",
    "        return \"Khá\"\n",
    "    elif score >= 50:\n",
    "        return \"Trung bình\"\n",
    "    else:\n",
    "        return \"Yếu\"\n",
    "\n",
    "# b. Gom nhóm học sinh theo xếp loại\n",
    "def group_by_grade(scores):\n",
    "    categories = {\"Xuất sắc\": [], \"Giỏi\": [], \"Khá\": [], \"Trung bình\": [], \"Yếu\": []}\n",
    "    for name, score in scores.items():\n",
    "        grade = classify(score)\n",
    "        categories[grade].append(name)\n",
    "    return categories\n",
    "\n",
    "# c. Lưu kết quả ra file\n",
    "def save_report(categories, filename=\"grade_report.txt\"):\n",
    "    with open(filename, \"w\", encoding=\"utf-8\") as f:\n",
    "        for grade, students in categories.items():\n",
    "            f.write(f\"{grade}: {', '.join(students)}\\n\")\n",
    "\n",
    "# ----------------------\n",
    "# Ví dụ chạy thử\n",
    "students = {\n",
    "    \"John\": 85,\n",
    "    \"Alice\": 92,\n",
    "    \"Bob\": 76,\n",
    "    \"Mary\": 88,\n",
    "    \"Tom\": 95,\n",
    "    \"Anna\": 67,\n",
    "    \"Peter\": 45\n",
    "}\n",
    "\n",
    "categories = group_by_grade(students)\n",
    "\n",
    "print(\"Kết quả xếp loại:\")\n",
    "for grade, names in categories.items():\n",
    "    print(f\"{grade}: {', '.join(names) if names else 'Không có'}\")\n",
    "\n",
    "# Lưu ra file\n",
    "save_report(categories)\n",
    "print(\"\\nĐã lưu kết quả vào file grade_report.txt\")\n"
   ]
  },
  {
   "cell_type": "markdown",
   "id": "9416be9a",
   "metadata": {},
   "source": [
    "<img src=\"bt1_3.svg\" alt=\"bt1_3\" width=\"50%\">\n",
    "#ap dung sap xep hoc sinh\n"
   ]
  },
  {
   "cell_type": "code",
   "execution_count": null,
   "id": "171f4b4a",
   "metadata": {},
   "outputs": [],
   "source": [
    "#1_4_a viet ham \n",
    "def tinh_ty_le(grades):\n",
    "    tong_hs = sum(grades.values())\n",
    "    ty_le = {}\n",
    "    for loai, so_luong in grades.items():\n",
    "        ty_le[loai] = (so_luong / tong_hs) * 100\n",
    "    return ty_le\n"
   ]
  },
  {
   "cell_type": "code",
   "execution_count": 15,
   "id": "1d3cef54",
   "metadata": {},
   "outputs": [],
   "source": [
    "#b\n",
    "def xuat_bao_cao(diem_tb, grades):\n",
    "    tong_hs = sum(grades.values())\n",
    "    ty_le = tinh_ty_le(grades)\n",
    "    \n",
    "    bao_cao = []\n",
    "    bao_cao.append(\"=== BÁO CÁO TỔNG KẾT ===\")\n",
    "    bao_cao.append(f\"Tổng số học sinh: {tong_hs}\")\n",
    "    bao_cao.append(f\"Điểm trung bình toàn lớp: {diem_tb:.2f}\")\n",
    "    bao_cao.append(\"Tỉ lệ xếp loại:\")\n",
    "    \n",
    "    for loai, phan_tram in ty_le.items():\n",
    "        bao_cao.append(f\"  {loai}: {phan_tram:.2f}%\")\n",
    "    \n",
    "    return \"\\n\".join(bao_cao)\n"
   ]
  },
  {
   "cell_type": "code",
   "execution_count": 26,
   "id": "ce3c396d",
   "metadata": {},
   "outputs": [
    {
     "name": "stdout",
     "output_type": "stream",
     "text": [
      "=== BÁO CÁO TỔNG KẾT ===\n",
      "Tổng số học sinh: 7\n",
      "Điểm trung bình toàn lớp: 78.29\n",
      "Tỉ lệ xếp loại:\n",
      "  Xuất sắc: 28.57%\n",
      "  Giỏi: 28.57%\n",
      "  Khá: 14.29%\n",
      "  Trung bình: 14.29%\n",
      "  Yếu: 14.29%\n"
     ]
    }
   ],
   "source": [
    "import numpy as np\n",
    "\n",
    "# a. Tính tỉ lệ\n",
    "def tinh_ty_le(grades):\n",
    "    tong_hs = sum(grades.values())\n",
    "    ty_le = {}\n",
    "    for loai, so_luong in grades.items():\n",
    "        if tong_hs > 0:\n",
    "            ty_le[loai] = (so_luong / tong_hs) * 100\n",
    "        else:\n",
    "            ty_le[loai] = 0\n",
    "    return ty_le\n",
    "\n",
    "# b. Xuất báo cáo\n",
    "def xuat_bao_cao(diem_tb, grades):\n",
    "    tong_hs = sum(grades.values())\n",
    "    ty_le = tinh_ty_le(grades)\n",
    "    \n",
    "    bao_cao = []\n",
    "    bao_cao.append(\"=== BÁO CÁO TỔNG KẾT ===\")\n",
    "    bao_cao.append(f\"Tổng số học sinh: {tong_hs}\")\n",
    "    bao_cao.append(f\"Điểm trung bình toàn lớp: {diem_tb:.2f}\")\n",
    "    bao_cao.append(\"Tỉ lệ xếp loại:\")\n",
    "    \n",
    "    for loai, phan_tram in ty_le.items():\n",
    "        bao_cao.append(f\"  {loai}: {phan_tram:.2f}%\")\n",
    "    \n",
    "    return \"\\n\".join(bao_cao)\n",
    "\n",
    "# c. Ghi báo cáo vào file\n",
    "def ghi_bao_cao(filename, noi_dung):\n",
    "    with open(filename, \"w\", encoding=\"utf-8\") as f:\n",
    "        f.write(noi_dung)\n",
    "# Tính điểm trung bình\n",
    "diem_tb = np.mean(list(students.values()))\n",
    "\n",
    "# Đếm số lượng học sinh theo loại\n",
    "def count_grades(scores):\n",
    "    grade_counts = {\"Xuất sắc\": 0, \"Giỏi\": 0, \"Khá\": 0, \"Trung bình\": 0, \"Yếu\": 0}\n",
    "    for score in scores.values():\n",
    "        g = classify(score)\n",
    "        grade_counts[g] += 1\n",
    "    return grade_counts\n",
    "\n",
    "grades = count_grades(students)\n",
    "\n",
    "# Xuất báo cáo\n",
    "bao_cao = xuat_bao_cao(diem_tb, grades)\n",
    "print(bao_cao)\n",
    "\n",
    "# Ghi ra file\n",
    "ghi_bao_cao(\"summary_report.txt\", bao_cao)\n"
   ]
  },
  {
   "cell_type": "markdown",
   "id": "08868280",
   "metadata": {},
   "source": [
    "<img src=\"bai1_4.drawio.svg\" alt=\"bt1_3\" width=\"50%\">\n",
    "#ap dung sap xep hoc sinh\n"
   ]
  },
  {
   "cell_type": "markdown",
   "id": "4a183ba0",
   "metadata": {},
   "source": [
    "Bài tập 2: Phân tích doanh số bán hàng\n",
    "Bối cảnh: Một cửa hàng muốn phân tích doanh số bán hàng của các sản phẩm trong tháng.\n",
    "Câu hỏi:\n",
    "1.\tNhập dữ liệu doanh số:\n",
    "o\ta. Viết chương trình đọc dữ liệu doanh số từ file sales_data.csv, với mỗi dòng chứa tên sản phẩm, số lượng bán, và giá bán.\n",
    "o\tb. Chuyển đổi dữ liệu thành dictionary với tên sản phẩm là khóa và một tuple (số lượng, giá bán) là giá trị.\n",
    "o\tc. Viết hàm hiển thị tổng doanh thu của từng sản phẩm.\n",
    "o\td. Vẽ flowchart thể hiện quá trình đọc file và tính tổng doanh thu.\n",
    "2.\tPhân tích doanh số:\n",
    "o\ta. Tính tổng doanh thu của cửa hàng trong tháng.\n",
    "o\tb. Tìm sản phẩm bán chạy nhất và sản phẩm có doanh thu cao nhất.\n",
    "o\tc. Vẽ biểu đồ cột thể hiện doanh thu của từng sản phẩm.\n",
    "o\td. Vẽ flowchart thể hiện quá trình phân tích doanh số và vẽ biểu đồ.\n",
    "3.\tKiểm tra tồn kho:\n",
    "o\ta. Giả sử dữ liệu tồn kho ban đầu được lưu trong file inventory.txt, mỗi dòng chứa tên sản phẩm và số lượng tồn.\n",
    "o\tb. Viết chương trình cập nhật lại tồn kho sau khi bán hàng.\n",
    "o\tc. In ra danh sách các sản phẩm cần nhập thêm (số lượng tồn dưới 10).\n",
    "o\td. Vẽ flowchart thể hiện quá trình kiểm tra tồn kho và cập nhật.\n",
    "4.\tDự báo và đề xuất:\n",
    "o\ta. Tính lượng hàng cần nhập thêm cho mỗi sản phẩm dựa trên doanh số trung bình hàng ngày.\n",
    "o\tb. Viết hàm dự báo doanh số cho tháng tiếp theo dựa trên xu hướng hiện tại.\n",
    "o\tc. Lưu các đề xuất nhập hàng vào file restock_suggestions.txt.\n",
    "o\td. Vẽ flowchart thể hiện quá trình dự báo và đề xuất nhập hàng.\n",
    "\n"
   ]
  },
  {
   "cell_type": "code",
   "execution_count": 27,
   "id": "265d7034",
   "metadata": {},
   "outputs": [
    {
     "name": "stdout",
     "output_type": "stream",
     "text": [
      "=== Doanh thu từng sản phẩm ===\n",
      "Laptop: 10 × 15000 = 150000\n",
      "Phone: 25 × 8000 = 200000\n",
      "Tablet: 15 × 6000 = 90000\n",
      "Headphone: 40 × 500 = 20000\n"
     ]
    }
   ],
   "source": [
    "#bt2_1 a\n",
    "import csv\n",
    "\n",
    "# 1a + 1b. Đọc dữ liệu và lưu vào dictionary\n",
    "def read_sales(filename):\n",
    "    sales = {}\n",
    "    with open(filename, \"r\", encoding=\"utf-8\") as f:\n",
    "        reader = csv.reader(f)\n",
    "        for row in reader:\n",
    "            product = row[0].strip()\n",
    "            quantity = int(row[1].strip())\n",
    "            price = float(row[2].strip())\n",
    "            sales[product] = (quantity, price)\n",
    "    return sales\n",
    "\n",
    "# 1c. Hiển thị tổng doanh thu của từng sản phẩm\n",
    "def show_revenue(sales):\n",
    "    print(\"=== Doanh thu từng sản phẩm ===\")\n",
    "    for product, (quantity, price) in sales.items():\n",
    "        revenue = quantity * price\n",
    "        print(f\"{product}: {quantity} × {price} = {revenue}\")\n",
    "# Ví dụ dữ liệu (có thể đọc từ file)\n",
    "sales = {\n",
    "    \"Laptop\": (10, 15000),\n",
    "    \"Phone\": (25, 8000),\n",
    "    \"Tablet\": (15, 6000),\n",
    "    \"Headphone\": (40, 500)\n",
    "}\n",
    "\n",
    "show_revenue(sales)\n",
    "\n",
    "\n"
   ]
  },
  {
   "cell_type": "markdown",
   "id": "4a696ce3",
   "metadata": {},
   "source": [
    "<img src=\"bt2_1.drawio.svg\" alt=\"bt2_1\" width=\"50%\">"
   ]
  },
  {
   "cell_type": "code",
   "execution_count": null,
   "id": "59450a2d",
   "metadata": {},
   "outputs": [
    {
     "name": "stdout",
     "output_type": "stream",
     "text": [
      "=== Phân tích doanh số bán hàng ===\n",
      "Tổng doanh thu: 520000\n",
      "Sản phẩm bán chạy nhất: Headphone -> 40 sản phẩm\n",
      "Sản phẩm doanh thu cao nhất: Phone -> 200000\n"
     ]
    },
    {
     "data": {
      "image/png": "[encoded data removed]",
      "text/plain": [
       "<Figure size 640x480 with 1 Axes>"
      ]
     },
     "metadata": {},
     "output_type": "display_data"
    }
   ],
   "source": [
    "#bt2_2 a \n",
    "# a. Tính tổng doanh thu\n",
    "def tong_doanh_thu(sales_dict):\n",
    "    tong = 0\n",
    "    for ten_sp, (so_luong, gia_ban) in sales_dict.items():\n",
    "        tong += so_luong * gia_ban\n",
    "    return tong\n",
    "\n",
    "# b. Phân tích bán hàng\n",
    "def phan_tich_ban_hang(sales_dict):\n",
    "    # sản phẩm bán chạy nhất (theo số lượng)\n",
    "    sp_ban_chay = max(sales_dict.items(), key=lambda x: x[1][0])\n",
    "    # sản phẩm có doanh thu cao nhất\n",
    "    sp_dt_cao = max(sales_dict.items(), key=lambda x: x[1][0] * x[1][1])\n",
    "    return sp_ban_chay, sp_dt_cao\n",
    "\n",
    "# c. Vẽ biểu đồ doanh thu\n",
    "import matplotlib.pyplot as plt\n",
    "def ve_bieu_do(sales_dict):\n",
    "    san_pham = list(sales_dict.keys())\n",
    "    doanh_thu = [so_luong * gia_ban for so_luong, gia_ban in sales_dict.values()]\n",
    "    \n",
    "    plt.bar(san_pham, doanh_thu)\n",
    "    plt.xlabel(\"Sản phẩm\")\n",
    "    plt.ylabel(\"Doanh thu (VND)\")\n",
    "    plt.title(\"Biểu đồ doanh thu theo sản phẩm\")\n",
    "    plt.show()\n",
    "\n",
    "# -------------------------\n",
    "# Demo với dữ liệu ví dụ\n",
    "sales = {\n",
    "    \"Laptop\": (10, 15000),\n",
    "    \"Phone\": (25, 8000),\n",
    "    \"Tablet\": (15, 6000),\n",
    "    \"Headphone\":(40, 500),\n",
    "    \"Camera\": (5, 12000)\n",
    "}\n",
    "\n",
    "print(\"=== Phân tích doanh số bán hàng ===\")\n",
    "print(\"Tổng doanh thu:\", tong_doanh_thu(sales))\n",
    "\n",
    "sp_ban_chay, sp_dt_cao = phan_tich_ban_hang(sales)\n",
    "print(\"Sản phẩm bán chạy nhất:\", sp_ban_chay[0], \"->\", sp_ban_chay[1][0], \"sản phẩm\")\n",
    "print(\"Sản phẩm doanh thu cao nhất:\", sp_dt_cao[0], \"->\", sp_dt_cao[1][0] * sp_dt_cao[1][1])\n",
    "\n",
    "# Vẽ biểu đồ\n",
    "ve_bieu_do(sales)\n"
   ]
  },
  {
   "cell_type": "markdown",
   "id": "10f19872",
   "metadata": {},
   "source": [
    "<img src=\"bait2_2.drawio.svg\" alt=\"bt2_2\" width=\"50%\">"
   ]
  },
  {
   "cell_type": "code",
   "execution_count": 31,
   "id": "12cb4569",
   "metadata": {},
   "outputs": [
    {
     "name": "stdout",
     "output_type": "stream",
     "text": [
      "Tồn kho ban đầu \n",
      "{'Laptop': 12, 'Phone': 30, 'Tablet': 8, 'Headphone': 50, 'Camera': 4}\n",
      "\n",
      "Tồn kho sau bán hàng \n",
      "{'Laptop': 2, 'Phone': 5, 'Tablet': -7, 'Headphone': 10, 'Camera': -1}\n",
      "\n",
      "Sản phẩm cần nhập thêm \n",
      "['Laptop', 'Phone', 'Tablet', 'Camera']\n"
     ]
    }
   ],
   "source": [
    "# 2_3a. Đọc dữ liệu tồn kho từ file\n",
    "def read_inventory(filename):\n",
    "    inventory = {}\n",
    "    with open(filename, \"r\", encoding=\"utf-8\") as f:\n",
    "        for line in f:\n",
    "            product, qty = line.strip().split(\",\")\n",
    "            inventory[product.strip()] = int(qty.strip())\n",
    "    return inventory\n",
    "\n",
    "# b. Cập nhật tồn kho sau khi bán hàng\n",
    "def update_inventory(inventory, sales):\n",
    "    for product, (sold_qty, _) in sales.items():\n",
    "        if product in inventory:\n",
    "            inventory[product] -= sold_qty\n",
    "    return inventory\n",
    "\n",
    "# c. Liệt kê sản phẩm cần nhập thêm\n",
    "def need_restock(inventory, threshold=10):\n",
    "    return [product for product, qty in inventory.items() if qty < threshold]\n",
    "# Đọc dữ liệu tồn kho từ file (ví dụ: 'inventory.txt')\n",
    "inventory = read_inventory(\"inventory.txt\")\n",
    "\n",
    "print(\"Tồn kho ban đầu \")\n",
    "print(inventory)\n",
    "\n",
    "# Cập nhật tồn kho sau khi bán\n",
    "inventory = update_inventory(inventory, sales)\n",
    "\n",
    "print(\"\\nTồn kho sau bán hàng \")\n",
    "print(inventory)\n",
    "\n",
    "# Kiểm tra cần nhập thêm\n",
    "print(\"\\nSản phẩm cần nhập thêm \")\n",
    "print(need_restock(inventory))"
   ]
  },
  {
   "cell_type": "markdown",
   "id": "aa430e42",
   "metadata": {},
   "source": [
    "<img src=\"bt2_3.drawio.svg\" alt=\"bt1_3\" width=\"80%\">\n",
    "\n"
   ]
  },
  {
   "cell_type": "code",
   "execution_count": null,
   "id": "3b9a4c7d",
   "metadata": {},
   "outputs": [
    {
     "name": "stdout",
     "output_type": "stream",
     "text": [
      "Lượng hàng cần nhập thêm: {'Sữa': 100, 'Bánh': 75, 'Nước ngọt': 200, 'Mì gói': 40}\n",
      "Dự báo doanh số tháng tới: {'Sữa': 132, 'Bánh': 88, 'Nước ngọt': 220, 'Mì gói': 55}\n",
      "\n",
      "Đã lưu vào file restock_suggestions.txt\n"
     ]
    }
   ],
   "source": [
    "#2_4 a \n",
    "import numpy as np\n",
    "\n",
    "# Ví dụ dữ liệu: sản phẩm, số lượng bán trong tháng, giá bán\n",
    "sales_dict = {\n",
    "    \"Sữa\": (120, 15000),     # 120 hộp bán ra, giá 15k\n",
    "    \"Bánh\": (80, 10000),\n",
    "    \"Nước ngọt\": (200, 12000),\n",
    "    \"Mì gói\": (50, 5000)\n",
    "}\n",
    "\n",
    "# Giả sử số ngày trong tháng = 30\n",
    "days = 30\n",
    "\n",
    "# a. Tính lượng hàng cần nhập thêm dựa trên doanh số trung bình hàng ngày\n",
    "def tinh_nhap_them(sales_dict, days=30, ton_kho_hien_tai=None):\n",
    "    du_bao = {}\n",
    "    for sp, (so_luong, gia) in sales_dict.items():\n",
    "        tb_ngay = so_luong / days   # doanh số TB/ngày\n",
    "        can_nhap = int(tb_ngay * days)  # nhập thêm đủ cho tháng sau\n",
    "        if ton_kho_hien_tai and sp in ton_kho_hien_tai:\n",
    "            can_nhap = max(0, can_nhap - ton_kho_hien_tai[sp])  # trừ tồn kho còn lại\n",
    "        du_bao[sp] = can_nhap\n",
    "    return du_bao\n",
    "\n",
    "# b. Dự báo doanh số tháng tiếp theo (giả sử xu hướng tăng 10%)\n",
    "def du_bao_doanh_so(sales_dict, tang_truong=0.1):\n",
    "    du_bao = {}\n",
    "    for sp, (so_luong, gia) in sales_dict.items():\n",
    "        du_bao[sp] = int(so_luong * (1 + tang_truong))\n",
    "    return du_bao\n",
    "\n",
    "# c. Lưu đề xuất nhập hàng vào file\n",
    "def luu_de_xuat(filename, nhap_them, du_bao):\n",
    "    with open(filename, \"w\", encoding=\"utf-8\") as f:\n",
    "        f.write(\"=== ĐỀ XUẤT NHẬP HÀNG ===\\n\")\n",
    "        for sp in nhap_them:\n",
    "            f.write(f\"- {sp}: Nhập thêm {nhap_them[sp]} sản phẩm (dự báo bán {du_bao[sp]} trong tháng tới)\\n\")\n",
    "\n",
    "# ---------------------------\n",
    "# Ví dụ chạy\n",
    "nhap_them = tinh_nhap_them(sales_dict, days=30, ton_kho_hien_tai={\"Sữa\": 20, \"Bánh\": 5, \"Nước ngọt\": 0, \"Mì gói\": 10})\n",
    "du_bao = du_bao_doanh_so(sales_dict)\n",
    "\n",
    "# In ra màn hình\n",
    "print(\"Lượng hàng cần nhập thêm:\", nhap_them)\n",
    "print(\"Dự báo doanh số tháng tới:\", du_bao)\n",
    "\n",
    "# Lưu file\n",
    "luu_de_xuat(\"restock_suggestions.txt\", nhap_them, du_bao)\n",
    "print(\"\\nĐã lưu vào file restock_suggestions.txt\")\n",
    "\n"
   ]
  },
  {
   "cell_type": "markdown",
   "id": "30b40427",
   "metadata": {},
   "source": [
    "<img src=\"bai2_4.drawio.svg\" alt=\"bt1_3\" width=\"50%\">\n",
    "\n"
   ]
  },
  {
   "cell_type": "markdown",
   "id": "5ff241df",
   "metadata": {},
   "source": [
    "    Bài tập 3: Quản lý chi tiêu cá nhân\n",
    "Bối cảnh: Viết một chương trình giúp người dùng quản lý chi tiêu hàng tháng và phân tích tài chính cá nhân.\n",
    "Câu hỏi:\n",
    "1.\tNhập và lưu dữ liệu chi tiêu:\n",
    "o\ta. Yêu cầu người dùng nhập các khoản chi tiêu gồm tên, số tiền và ngày chi tiêu, sau đó lưu vào file expenses.txt.\n",
    "o\tb. Đọc và hiển thị các khoản chi tiêu từ file.\n",
    "o\tc. Tạo một danh sách các khoản chi tiêu theo ngày.\n",
    "o\td. Vẽ flowchart thể hiện quá trình nhập, lưu và hiển thị dữ liệu chi tiêu.\n",
    "2.\tPhân tích chi tiêu:\n",
    "o\ta. Tính tổng chi tiêu hàng tháng.\n",
    "o\tb. Phân loại chi tiêu theo các nhóm: ăn uống, đi lại, giải trí, và khác.\n",
    "o\tc. Vẽ biểu đồ tròn thể hiện tỉ lệ chi tiêu của từng nhóm.\n",
    "o\td. Vẽ flowchart thể hiện quá trình phân tích và vẽ biểu đồ.\n",
    "3.\tKiểm tra ngân sách:\n",
    "o\ta. So sánh tổng chi tiêu với ngân sách tháng do người dùng nhập vào.\n",
    "o\tb. Cảnh báo nếu chi tiêu vượt ngân sách.\n",
    "o\tc. Đưa ra gợi ý tiết kiệm nếu chi tiêu vượt ngân sách (giảm bớt các khoản chi tiêu lớn).\n",
    "o\td. Vẽ flowchart thể hiện quá trình kiểm tra ngân sách và đưa ra gợi ý.\n",
    "4.\tDự báo chi tiêu:\n",
    "o\ta. Dự báo chi tiêu cho tháng tiếp theo dựa trên xu hướng hiện tại.\n",
    "o\tb. Viết hàm tạo báo cáo chi tiêu với các thông tin: tổng chi tiêu, nhóm chi tiêu lớn nhất, dự báo tháng tiếp theo.\n",
    "o\tc. Ghi báo cáo vào file monthly_report.txt.\n",
    "o\td. Vẽ flowchart thể hiện quá trình dự báo và tạo báo cáo."
   ]
  },
  {
   "cell_type": "code",
   "execution_count": 37,
   "id": "3a5e7251",
   "metadata": {},
   "outputs": [
    {
     "name": "stdout",
     "output_type": "stream",
     "text": [
      ">> Đã lưu ví dụ chi tiêu vào file.\n",
      "Danh sách chi tiêu\n",
      "01/08/2025 - Ăn sáng: 30000.0 VND\n",
      "01/08/2025 - Cà phê: 25000.0 VND\n",
      "02/08/2025 - Xăng xe: 50000.0 VND\n",
      "03/08/2025 - Mua sách: 120000.0 VND\n",
      "\n",
      "Chi tiêu theo ngày\n",
      "01/08/2025:\n",
      "  - Ăn sáng: 30000.0 VND\n",
      "  - Cà phê: 25000.0 VND\n",
      "02/08/2025:\n",
      "  - Xăng xe: 50000.0 VND\n",
      "03/08/2025:\n",
      "  - Mua sách: 120000.0 VND\n"
     ]
    }
   ],
   "source": [
    "#bt3_1.a: Nhập và lưu dữ liệu chi tiêu\n",
    "def luu_chi_tieu(filename=\"expenses.txt\"):\n",
    "    data = [\n",
    "        (\"Ăn sáng\", 30000, \"01/08/2025\"),\n",
    "        (\"Cà phê\", 25000, \"01/08/2025\"),\n",
    "        (\"Xăng xe\", 50000, \"02/08/2025\"),\n",
    "        (\"Mua sách\", 120000, \"03/08/2025\"),\n",
    "    ]\n",
    "    with open(filename, \"w\", encoding=\"utf-8\") as f:\n",
    "        for ten, so_tien, ngay in data:\n",
    "            f.write(f\"{ten},{so_tien},{ngay}\\n\")\n",
    "    print(\">> Đã lưu ví dụ chi tiêu vào file.\")\n",
    "\n",
    "# b: Đọc và hiển thị dữ liệu chi tiêu\n",
    "def doc_chi_tieu(filename=\"expenses.txt\"):\n",
    "    expenses = []\n",
    "    with open(filename, \"r\", encoding=\"utf-8\") as f:\n",
    "        for line in f:\n",
    "            ten, so_tien, ngay = line.strip().split(\",\")\n",
    "            expenses.append((ten, float(so_tien), ngay))\n",
    "    return expenses\n",
    "\n",
    "def hien_thi(expenses):\n",
    "    print( \"Danh sách chi tiêu\")\n",
    "    for ten, so_tien, ngay in expenses:\n",
    "        print(f\"{ngay} - {ten}: {so_tien} VND\")\n",
    "\n",
    "# c: Gom chi tiêu theo ngày\n",
    "from collections import defaultdict\n",
    "\n",
    "def chi_tieu_theo_ngay(expenses):\n",
    "    theo_ngay = defaultdict(list)\n",
    "    for ten, so_tien, ngay in expenses:\n",
    "        theo_ngay[ngay].append((ten, so_tien))\n",
    "    return theo_ngay\n",
    "\n",
    "\n",
    "# ---- Demo chạy thử ----\n",
    "luu_chi_tieu()  # tạo dữ liệu mẫu\n",
    "expenses = doc_chi_tieu()\n",
    "hien_thi(expenses)\n",
    "\n",
    "print(\"\\nChi tiêu theo ngày\")\n",
    "theo_ngay = chi_tieu_theo_ngay(expenses)\n",
    "for ngay, ds in theo_ngay.items():\n",
    "    print(f\"{ngay}:\")\n",
    "    for ten, so_tien in ds:\n",
    "        print(f\"  - {ten}: {so_tien} VND\")\n"
   ]
  },
  {
   "cell_type": "markdown",
   "id": "a2727b89",
   "metadata": {},
   "source": [
    "<img src=\"bt3.drawio.svg\" alt=\"bt1_3\" width=\"40%\">\n",
    "\n"
   ]
  },
  {
   "cell_type": "code",
   "execution_count": null,
   "id": "7eb18c59",
   "metadata": {},
   "outputs": [
    {
     "name": "stdout",
     "output_type": "stream",
     "text": [
      "Tổng chi tiêu tháng: 325000 VND\n",
      "\n",
      "Chi tiêu theo nhóm:\n",
      "- ăn uống: 105000 VND\n",
      "- đi lại: 0 VND\n",
      "- giải trí: 220000 VND\n",
      "- khác: 0 VND\n",
      "\n",
      "Biểu đồ tròn đang hiển thị...\n"
     ]
    },
    {
     "data": {
      "image/png": "[encoded data removed]",
      "text/plain": [
       "<Figure size 640x480 with 1 Axes>"
      ]
     },
     "metadata": {},
     "output_type": "display_data"
    }
   ],
   "source": [
    "#3_2\n",
    "import matplotlib.pyplot as plt\n",
    "\n",
    "#a: Tính tổng chi tiêu hàng tháng\n",
    "def tong_chi_tieu(expenses):\n",
    "    return sum(so_tien for _, so_tien, _ in expenses)\n",
    "\n",
    "#b: Phân loại chi tiêu\n",
    "def phan_loai(expenses):\n",
    "    nhom = {\"ăn uống\": 0, \"đi lại\": 0, \"giải trí\": 0, \"khác\": 0}\n",
    "    for ten, so_tien, ngay in expenses:\n",
    "        ten_lower = ten.lower()\n",
    "        if \"ăn\" in ten_lower or \"cà phê\" in ten_lower:\n",
    "            nhom[\"ăn uống\"] += so_tien\n",
    "        elif \"xăng\" in ten_lower or \"vé xe\" in ten_lower:\n",
    "            nhom[\"đi lại\"] += so_tien\n",
    "        elif \"sách\" in ten_lower or \"phim\" in ten_lower:\n",
    "            nhom[\"giải trí\"] += so_tien\n",
    "        else:\n",
    "            nhom[\"khác\"] += so_tien\n",
    "    return nhom\n",
    "\n",
    "#c: Vẽ biểu đồ tròn\n",
    "def ve_bieu_do(nhom):\n",
    "    # Lọc bỏ nhóm có giá trị = 0\n",
    "    labels = [k for k, v in nhom.items() if v > 0]\n",
    "    values = [v for v in nhom.values() if v > 0]\n",
    "\n",
    "    if sum(values) == 0:\n",
    "        print(\"Không có dữ liệu chi tiêu để vẽ biểu đồ.\")\n",
    "        return\n",
    "\n",
    "    plt.pie(values, labels=labels, autopct=\"%1.1f%%\", startangle=90)\n",
    "    plt.title(\"Tỉ lệ chi tiêu theo nhóm\")\n",
    "    plt.axis(\"equal\")  # giữ tròn đều\n",
    "    plt.show()\n",
    "\n",
    "\n",
    "\n",
    "# --- Demo với dữ liệu ví dụ ---\n",
    "expenses = [\n",
    "    (\"Ăn sáng\", 30000, \"01/08/2025\"),\n",
    "    (\"Cà phê\", 25000, \"01/08/2025\"),\n",
    "    (\"Xăng xe\", 50000, \"02/08/2025\"),\n",
    "    (\"Mua sách\", 120000, \"03/08/2025\"),\n",
    "    (\"Xem phim\", 100000, \"04/08/2025\"),\n",
    "]\n",
    "\n",
    "tong = tong_chi_tieu(expenses)\n",
    "print(f\"Tổng chi tiêu tháng: {tong} VND\")\n",
    "\n",
    "nhom = phan_loai(expenses)\n",
    "print(\"\\nChi tiêu theo nhóm:\")\n",
    "for k, v in nhom.items():\n",
    "    print(f\"- {k}: {v} VND\")\n",
    "\n",
    "print(\"\\nBiểu đồ tròn đang hiển thị...\")\n",
    "nhom = {\n",
    "    \"ăn uống\": 105000,\n",
    "    \"đi lại\": 0,\n",
    "    \"giải trí\": 220000 ,\n",
    "    \"khác\": 0\n",
    "}\n",
    "\n",
    "ve_bieu_do(nhom)\n"
   ]
  },
  {
   "cell_type": "markdown",
   "id": "e327922f",
   "metadata": {},
   "source": [
    "<img src=\"bai3_2.drawio.svg\" alt=\"bt1_3\" width=\"40%\">\n",
    "\n"
   ]
  },
  {
   "cell_type": "code",
   "execution_count": 46,
   "id": "191e8b63",
   "metadata": {},
   "outputs": [
    {
     "name": "stdout",
     "output_type": "stream",
     "text": [
      "a. So sánh chi tiêu và ngân sách:\n",
      "   Tổng chi tiêu tháng: 270000 VND\n",
      "   Ngân sách tháng: 200000 VND\n",
      "\n",
      "b. Kiểm tra vượt ngân sách:\n",
      "   Chi tiêu vượt ngân sách 70000 VND\n",
      "\n",
      "c. Gợi ý tiết kiệm:\n",
      " - Cân nhắc giảm/loại bỏ khoản 'xem phim' (100000 VND, ngày 2025-08-02)\n"
     ]
    }
   ],
   "source": [
    "#3_3 \n",
    "# Hàm tính tổng chi tiêu\n",
    "def tong_chi_tieu(filename=\"expenses.txt\"):\n",
    "    tong = 0\n",
    "    with open(filename, \"r\", encoding=\"utf-8\") as f:\n",
    "        for line in f:\n",
    "            _, so_tien, _ = line.strip().split(\", \")\n",
    "            tong += int(so_tien)\n",
    "    return tong\n",
    "\n",
    "# Hàm gợi ý tiết kiệm nếu vượt ngân sách\n",
    "def goi_y_tiet_kiem(filename=\"expenses.txt\", muc_can_giam=0):\n",
    "    expenses = []\n",
    "    with open(filename, \"r\", encoding=\"utf-8\") as f:\n",
    "        for line in f:\n",
    "            ten, so_tien, ngay = line.strip().split(\", \")\n",
    "            expenses.append((ten, int(so_tien), ngay))\n",
    "\n",
    "    # Sắp xếp theo số tiền giảm dần (ưu tiên khoản lớn)\n",
    "    expenses.sort(key=lambda x: x[1], reverse=True)\n",
    "\n",
    "    print(\"\\nc. Gợi ý tiết kiệm:\")\n",
    "    giam_duoc = 0\n",
    "    for ten, so_tien, ngay in expenses:\n",
    "        if giam_duoc >= muc_can_giam:\n",
    "            break\n",
    "        print(f\" - Cân nhắc giảm/loại bỏ khoản '{ten}' ({so_tien} VND, ngày {ngay})\")\n",
    "        giam_duoc += so_tien\n",
    "\n",
    "# Hàm kiểm tra ngân sách\n",
    "def kiem_tra_ngan_sach(filename=\"expenses.txt\", ngan_sach=200000):\n",
    "    tong = tong_chi_tieu(filename)\n",
    "\n",
    "    print(\"a. So sánh chi tiêu và ngân sách:\")\n",
    "    print(f\"   Tổng chi tiêu tháng: {tong} VND\")\n",
    "    print(f\"   Ngân sách tháng: {ngan_sach} VND\")\n",
    "\n",
    "    print(\"\\nb. Kiểm tra vượt ngân sách:\")\n",
    "    if tong > ngan_sach:\n",
    "        muc_vuot = tong - ngan_sach\n",
    "        print(f\"   Chi tiêu vượt ngân sách {muc_vuot} VND\")\n",
    "        goi_y_tiet_kiem(filename, muc_vuot)\n",
    "    else:\n",
    "        print(\"   Chi tiêu trong ngân sách\")\n",
    "kiem_tra_ngan_sach(\"expenses.txt\", ngan_sach=200000)\n"
   ]
  },
  {
   "cell_type": "markdown",
   "id": "2fe36092",
   "metadata": {},
   "source": [
    "<img src=\"bai3_3.drawio.svg\" alt=\"bt1_3\" width=\"50%\">\n",
    "\n"
   ]
  },
  {
   "cell_type": "code",
   "execution_count": 48,
   "id": "478d4e6c",
   "metadata": {},
   "outputs": [
    {
     "name": "stdout",
     "output_type": "stream",
     "text": [
      "=== BÁO CÁO CHI TIÊU ===\n",
      "Tổng chi tiêu tháng này: 530000 VND\n",
      "Nhóm chi tiêu lớn nhất: Đi lại (250000 VND)\n",
      "Dự báo chi tiêu tháng tới: 556500 VND\n"
     ]
    }
   ],
   "source": [
    "#3_4a \n",
    "import random\n",
    "\n",
    "# a. Dự báo chi tiêu cho tháng tiếp theo\n",
    "def du_bao_chi_tieu(filename=\"expenses.txt\", he_so_tang=1.05):\n",
    "    tong = 0\n",
    "    with open(filename, \"r\", encoding=\"utf-8\") as f:\n",
    "        for line in f:\n",
    "            _, so_tien, _ = line.strip().split(\", \")\n",
    "            tong += int(so_tien)\n",
    "    return int(tong * he_so_tang)  # dự báo tăng 5% so với tháng trước\n",
    "\n",
    "\n",
    "# b. Tạo báo cáo chi tiêu\n",
    "def tao_bao_cao(filename=\"expenses.txt\"):\n",
    "    expenses = []\n",
    "    tong = 0\n",
    "    nhom = {\"Ăn uống\": 0, \"Đi lại\": 0, \"Giải trí\": 0, \"Khác\": 0}\n",
    "\n",
    "    with open(filename, \"r\", encoding=\"utf-8\") as f:\n",
    "        for line in f:\n",
    "            ten, so_tien, ngay = line.strip().split(\", \")\n",
    "            so_tien = int(so_tien)\n",
    "            tong += so_tien\n",
    "\n",
    "            # Phân loại chi tiêu\n",
    "            if \"ăn\" in ten.lower():\n",
    "                nhom[\"Ăn uống\"] += so_tien\n",
    "            elif \"xe\" in ten.lower() or \"bus\" in ten.lower() or \"taxi\" in ten.lower():\n",
    "                nhom[\"Đi lại\"] += so_tien\n",
    "            elif \"phim\" in ten.lower() or \"game\" in ten.lower():\n",
    "                nhom[\"Giải trí\"] += so_tien\n",
    "            else:\n",
    "                nhom[\"Khác\"] += so_tien\n",
    "\n",
    "            expenses.append((ten, so_tien, ngay))\n",
    "\n",
    "    # Nhóm chi tiêu lớn nhất\n",
    "    nhom_lon_nhat = max(nhom.items(), key=lambda x: x[1])\n",
    "\n",
    "    # Dự báo\n",
    "    du_bao = du_bao_chi_tieu(filename)\n",
    "\n",
    "    bao_cao = []\n",
    "    bao_cao.append(\"=== BÁO CÁO CHI TIÊU ===\")\n",
    "    bao_cao.append(f\"Tổng chi tiêu tháng này: {tong} VND\")\n",
    "    bao_cao.append(f\"Nhóm chi tiêu lớn nhất: {nhom_lon_nhat[0]} ({nhom_lon_nhat[1]} VND)\")\n",
    "    bao_cao.append(f\"Dự báo chi tiêu tháng tới: {du_bao} VND\")\n",
    "\n",
    "    return \"\\n\".join(bao_cao)\n",
    "\n",
    "\n",
    "# c. Ghi báo cáo vào file\n",
    "def ghi_bao_cao(filename=\"monthly_report.txt\", expenses_file=\"expenses.txt\"):\n",
    "    noi_dung = tao_bao_cao(expenses_file)\n",
    "    with open(filename, \"w\", encoding=\"utf-8\") as f:\n",
    "        f.write(noi_dung)\n",
    "    print(noi_dung)\n",
    "\n",
    "\n",
    "# ---------------------------\n",
    "# Ví dụ minh họa (giả lập file expenses.txt)\n",
    "with open(\"expenses.txt\", \"w\", encoding=\"utf-8\") as f:\n",
    "    f.write(\"Ăn sáng, 30000, 2025-08-01\\n\")\n",
    "    f.write(\"Taxi, 100000, 2025-08-02\\n\")\n",
    "    f.write(\"Xem phim, 150000, 2025-08-03\\n\")\n",
    "    f.write(\"Mua sách, 200000, 2025-08-05\\n\")\n",
    "    f.write(\"Ăn trưa, 50000, 2025-08-06\\n\")\n",
    "\n",
    "# Ghi báo cáo\n",
    "ghi_bao_cao()\n",
    "\n"
   ]
  },
  {
   "cell_type": "markdown",
   "id": "b1800d9c",
   "metadata": {},
   "source": [
    "<img src=\"bai3_4drawio.svg\" alt=\"bt1_3\" width=\"50%\">\n",
    "\n"
   ]
  },
  {
   "cell_type": "code",
   "execution_count": null,
   "id": "20dc4cb7",
   "metadata": {},
   "outputs": [
    {
     "name": "stdout",
     "output_type": "stream",
     "text": [
      "Đã lưu thông tin nhân viên vào employees.txt\n",
      "\n",
      "Danh sách nhân viên đọc từ file:\n",
      "Tên: Nguyen Van A, Tuổi: 30, Vị trí: Nhân viên kinh doanh, Lương: 1000\n",
      "Tên: Tran Thi B, Tuổi: 25, Vị trí: Kế toán, Lương: 1200\n",
      "Tên: Le Van C, Tuổi: 28, Vị trí: Lập trình viên, Lương: 1500\n"
     ]
    }
   ],
   "source": [
    "# 4_3 a \n",
    "# Lưu dữ liệu vào file với encoding UTF-8\n",
    "with open(\"employees.txt\", \"w\", encoding=\"utf-8\") as file:\n",
    "    for e in employees:\n",
    "        file.write(f\"{e['name']},{e['age']},{e['position']},{e['salary']}\\n\")\n",
    "\n",
    "print(\"Đã lưu thông tin nhân viên vào employees.txt\\n\")\n",
    "\n",
    "# b Đọc dữ liệu từ file với encoding UTF-8\n",
    "with open(\"employees.txt\", \"r\", encoding=\"utf-8\") as file:\n",
    "    lines = file.readlines()\n",
    "\n",
    "print(\"Danh sách nhân viên đọc từ file:\")\n",
    "for line in lines:\n",
    "    name, age, position, salary = line.strip().split(\",\")\n",
    "    print(f\"Tên: {name}, Tuổi: {age}, Vị trí: {position}, Lương: {salary}\")\n"
   ]
  },
  {
   "cell_type": "code",
   "execution_count": null,
   "id": "3b03fdf8",
   "metadata": {},
   "outputs": [
    {
     "name": "stdout",
     "output_type": "stream",
     "text": [
      "Danh sách nhân viên dạng dictionary:\n",
      "{'name': 'Nguyen Van A', 'age': 30, 'position': 'Nhân viên kinh doanh', 'salary': 1000.0}\n",
      "{'name': 'Tran Thi B', 'age': 25, 'position': 'Kế toán', 'salary': 1200.0}\n",
      "{'name': 'Le Van C', 'age': 28, 'position': 'Lập trình viên', 'salary': 1500.0}\n"
     ]
    }
   ],
   "source": [
    "#c Đọc dữ liệu từ file employees.txt với encoding UTF-8\n",
    "with open(\"employees.txt\", \"r\", encoding=\"utf-8\") as file:\n",
    "    lines = file.readlines()\n",
    "\n",
    "# Chuyển dữ liệu thành danh sách dictionary\n",
    "employee_list = []\n",
    "for line in lines:\n",
    "    name, age, position, salary = line.strip().split(\",\")\n",
    "    employee_list.append({\n",
    "        \"name\": name,\n",
    "        \"age\": int(age),\n",
    "        \"position\": position,\n",
    "        \"salary\": float(salary)\n",
    "    })\n",
    "\n",
    "# In ra danh sách dictionary\n",
    "print(\"Danh sách nhân viên dạng dictionary:\")\n",
    "for emp in employee_list:\n",
    "    print(emp)\n"
   ]
  },
  {
   "cell_type": "markdown",
   "id": "cc6bd29e",
   "metadata": {},
   "source": [
    "<img src=\"bai4_1.drawio.svg\" alt=\"bt1_3\" width=\"50%\">\n",
    "\n"
   ]
  },
  {
   "cell_type": "code",
   "execution_count": 58,
   "id": "bf61bcba",
   "metadata": {},
   "outputs": [
    {
     "name": "stdout",
     "output_type": "stream",
     "text": [
      "Lương trung bình: 1150.0\n",
      "Lương cao nhất: 1500.0\n",
      "Lương thấp nhất: 900.0\n",
      "\n",
      "Nhân viên có lương cao hơn mức trung bình:\n",
      "Tran Thi B - Lương: 1200.0\n",
      "Le Van C - Lương: 1500.0\n"
     ]
    },
    {
     "data": {
      "image/png": "[encoded data removed]",
      "text/plain": [
       "<Figure size 640x480 with 1 Axes>"
      ]
     },
     "metadata": {},
     "output_type": "display_data"
    }
   ],
   "source": [
    "#4_2\n",
    "import matplotlib.pyplot as plt\n",
    "\n",
    "# Giả sử danh sách nhân viên đã có dạng dictionary\n",
    "employee_list = [\n",
    "    {'name': 'Nguyen Van A', 'age': 30, 'position': 'Nhân viên kinh doanh', 'salary': 1000.0},\n",
    "    {'name': 'Tran Thi B', 'age': 25, 'position': 'Kế toán', 'salary': 1200.0},\n",
    "    {'name': 'Le Van C', 'age': 28, 'position': 'Lập trình viên', 'salary': 1500.0},\n",
    "    {'name': 'Pham Thi D', 'age': 35, 'position': 'Nhân viên marketing', 'salary': 900.0}\n",
    "]\n",
    "\n",
    "# a. Tính lương trung bình, cao nhất và thấp nhất\n",
    "salaries = [e['salary'] for e in employee_list]\n",
    "avg_salary = sum(salaries) / len(salaries)\n",
    "max_salary = max(salaries)\n",
    "min_salary = min(salaries)\n",
    "\n",
    "print(f\"Lương trung bình: {avg_salary}\")\n",
    "print(f\"Lương cao nhất: {max_salary}\")\n",
    "print(f\"Lương thấp nhất: {min_salary}\")\n",
    "\n",
    "# b. Tìm nhân viên có lương cao hơn mức trung bình\n",
    "above_avg = [e for e in employee_list if e['salary'] > avg_salary]\n",
    "print(\"\\nNhân viên có lương cao hơn mức trung bình:\")\n",
    "for e in above_avg:\n",
    "    print(f\"{e['name']} - Lương: {e['salary']}\")\n",
    "\n",
    "# c. Tạo biểu đồ phân bố lương\n",
    "names = [e['name'] for e in employee_list]\n",
    "plt.bar(names, salaries, color='skyblue')\n",
    "plt.xlabel('Tên nhân viên')\n",
    "plt.ylabel('Lương')\n",
    "plt.title('Phân bố lương trong công ty')\n",
    "plt.show()\n"
   ]
  },
  {
   "cell_type": "markdown",
   "id": "2be76d82",
   "metadata": {},
   "source": [
    "<img src=\"bai4_2.drawio.svg\" alt=\"bt1_3\" width=\"70%\">\n",
    "\n"
   ]
  },
  {
   "cell_type": "code",
   "execution_count": 60,
   "id": "1b17c987",
   "metadata": {},
   "outputs": [
    {
     "name": "stdout",
     "output_type": "stream",
     "text": [
      "Danh sách nhân viên theo mức xếp loại:\n",
      "\n",
      "Giỏi:\n",
      "Le Van C - Lương: 1500.0\n",
      "\n",
      "Khá:\n",
      "Tran Thi B - Lương: 1200.0\n",
      "\n",
      "Trung bình:\n",
      "Nguyen Van A - Lương: 1000.0\n",
      "Pham Thi D - Lương: 900.0\n",
      "\n",
      "Đã lưu kết quả xếp loại vào file employee_ranking.txt\n"
     ]
    }
   ],
   "source": [
    "# Giả sử danh sách nhân viên đã có\n",
    "employee_list = [\n",
    "    {'name': 'Nguyen Van A', 'age': 30, 'position': 'Nhân viên kinh doanh', 'salary': 1000.0},\n",
    "    {'name': 'Tran Thi B', 'age': 25, 'position': 'Kế toán', 'salary': 1200.0},\n",
    "    {'name': 'Le Van C', 'age': 28, 'position': 'Lập trình viên', 'salary': 1500.0},\n",
    "    {'name': 'Pham Thi D', 'age': 35, 'position': 'Nhân viên marketing', 'salary': 900.0}\n",
    "]\n",
    "\n",
    "# a. Xếp loại nhân viên dựa trên lương\n",
    "ranking = []\n",
    "for e in employee_list:\n",
    "    if e['salary'] >= 1400:\n",
    "        level = \"Giỏi\"\n",
    "    elif e['salary'] >= 1100:\n",
    "        level = \"Khá\"\n",
    "    else:\n",
    "        level = \"Trung bình\"\n",
    "    e['level'] = level\n",
    "    ranking.append(e)\n",
    "\n",
    "# b. Hiển thị danh sách nhân viên theo mức xếp loại\n",
    "print(\"Danh sách nhân viên theo mức xếp loại:\")\n",
    "levels = [\"Giỏi\", \"Khá\", \"Trung bình\"]\n",
    "for lvl in levels:\n",
    "    print(f\"\\n{lvl}:\")\n",
    "    for e in ranking:\n",
    "        if e['level'] == lvl:\n",
    "            print(f\"{e['name']} - Lương: {e['salary']}\")\n",
    "\n",
    "# c. Lưu kết quả xếp loại vào file employee_ranking.txt\n",
    "with open(\"employee_ranking.txt\", \"w\", encoding=\"utf-8\") as file:\n",
    "    for e in ranking:\n",
    "        file.write(f\"{e['name']},{e['age']},{e['position']},{e['salary']},{e['level']}\\n\")\n",
    "\n",
    "print(\"\\nĐã lưu kết quả xếp loại vào file employee_ranking.txt\")\n"
   ]
  },
  {
   "cell_type": "markdown",
   "id": "5cdc9fb3",
   "metadata": {},
   "source": [
    "<img src=\"bai4_3.drawio.svg\" alt=\"bt1_3\" width=\"70%\">\n",
    "\n"
   ]
  },
  {
   "cell_type": "code",
   "execution_count": 61,
   "id": "c6e0159b",
   "metadata": {},
   "outputs": [
    {
     "name": "stdout",
     "output_type": "stream",
     "text": [
      "BÁO CÁO THỐNG KÊ NHÂN VIÊN\n",
      "Tổng số nhân viên: 4\n",
      "Lương trung bình: 1150.00\n",
      "Tỉ lệ nhân viên Giỏi: 25.00%\n",
      "Tỉ lệ nhân viên Khá: 25.00%\n",
      "Tỉ lệ nhân viên Trung bình: 50.00%\n",
      "\n",
      "ĐỀ XUẤT TĂNG LƯƠNG:\n",
      "Nguyen Van A: 1000.0 -> 1100.00\n",
      "Pham Thi D: 900.0 -> 990.00\n",
      "\n",
      "Đã lưu các đề xuất tăng lương vào file salary_suggestions.txt\n"
     ]
    }
   ],
   "source": [
    "#bai4_4 \n",
    "# Giả sử danh sách nhân viên đã có mức xếp loại\n",
    "employee_list = [\n",
    "    {'name': 'Nguyen Van A', 'age': 30, 'position': 'Nhân viên kinh doanh', 'salary': 1000.0, 'level': 'Trung bình'},\n",
    "    {'name': 'Tran Thi B', 'age': 25, 'position': 'Kế toán', 'salary': 1200.0, 'level': 'Khá'},\n",
    "    {'name': 'Le Van C', 'age': 28, 'position': 'Lập trình viên', 'salary': 1500.0, 'level': 'Giỏi'},\n",
    "    {'name': 'Pham Thi D', 'age': 35, 'position': 'Nhân viên marketing', 'salary': 900.0, 'level': 'Trung bình'}\n",
    "]\n",
    "\n",
    "# a. Báo cáo thống kê\n",
    "total_employees = len(employee_list)\n",
    "avg_salary = sum(e['salary'] for e in employee_list) / total_employees\n",
    "\n",
    "# Tính tỉ lệ từng mức xếp loại\n",
    "level_counts = {'Giỏi': 0, 'Khá': 0, 'Trung bình': 0}\n",
    "for e in employee_list:\n",
    "    level_counts[e['level']] += 1\n",
    "\n",
    "print(\"BÁO CÁO THỐNG KÊ NHÂN VIÊN\")\n",
    "print(f\"Tổng số nhân viên: {total_employees}\")\n",
    "print(f\"Lương trung bình: {avg_salary:.2f}\")\n",
    "for lvl in level_counts:\n",
    "    ratio = (level_counts[lvl] / total_employees) * 100\n",
    "    print(f\"Tỉ lệ nhân viên {lvl}: {ratio:.2f}%\")\n",
    "\n",
    "# b. Đề xuất tăng lương cho nhân viên có lương thấp hơn trung bình\n",
    "salary_suggestions = []\n",
    "for e in employee_list:\n",
    "    if e['salary'] < avg_salary:\n",
    "        # Ví dụ đề xuất tăng lương 10%\n",
    "        suggested_salary = e['salary'] * 1.10\n",
    "        salary_suggestions.append({\n",
    "            'name': e['name'],\n",
    "            'current_salary': e['salary'],\n",
    "            'suggested_salary': suggested_salary\n",
    "        })\n",
    "\n",
    "# In ra đề xuất\n",
    "print(\"\\nĐỀ XUẤT TĂNG LƯƠNG:\")\n",
    "for s in salary_suggestions:\n",
    "    print(f\"{s['name']}: {s['current_salary']} -> {s['suggested_salary']:.2f}\")\n",
    "\n",
    "# c. Ghi đề xuất vào file salary_suggestions.txt\n",
    "with open(\"salary_suggestions.txt\", \"w\", encoding=\"utf-8\") as file:\n",
    "    for s in salary_suggestions:\n",
    "        file.write(f\"{s['name']},{s['current_salary']},{s['suggested_salary']:.2f}\\n\")\n",
    "\n",
    "print(\"\\nĐã lưu các đề xuất tăng lương vào file salary_suggestions.txt\")\n"
   ]
  },
  {
   "cell_type": "markdown",
   "id": "0eab65de",
   "metadata": {},
   "source": [
    "<img src=\"bai4_4.drawio.svg\" alt=\"bt1_3\" width=\"70%\">\n",
    "\n"
   ]
  },
  {
   "cell_type": "markdown",
   "id": "aa8ee80b",
   "metadata": {},
   "source": [
    "Bài tập 5: Quản lý sản phẩm và hàng tồn kho\n",
    "Bối cảnh: Viết chương trình quản lý sản phẩm và hàng tồn kho cho một cửa hàng bán lẻ.\n",
    "Câu hỏi:\n",
    "1.\tNhập và lưu thông tin sản phẩm:\n",
    "o\ta. Nhập thông tin sản phẩm gồm tên, giá, số lượng tồn kho và lưu vào file products.txt.\n",
    "o\tb. Đọc danh sách sản phẩm từ file và hiển thị ra màn hình.\n",
    "o\tc. Chuyển dữ liệu thành một dictionary với tên sản phẩm là khóa và một tuple (giá, số lượng tồn kho) là giá trị.\n",
    "o\td. Vẽ flowchart thể hiện quá trình nhập, lưu và hiển thị sản phẩm\n"
   ]
  },
  {
   "cell_type": "code",
   "execution_count": 62,
   "id": "61a0859d",
   "metadata": {},
   "outputs": [
    {
     "name": "stdout",
     "output_type": "stream",
     "text": [
      "Đã lưu thông tin sản phẩm vào products.txt\n",
      "\n",
      "Danh sách sản phẩm đọc từ file:\n",
      "Tên sản phẩm: Sữa tươi, Giá: 20000, Số lượng tồn kho: 50\n",
      "Tên sản phẩm: Bánh mì, Giá: 15000, Số lượng tồn kho: 30\n",
      "Tên sản phẩm: Trà sữa, Giá: 35000, Số lượng tồn kho: 20\n",
      "\n",
      "Danh sách sản phẩm dưới dạng dictionary:\n",
      "{'Sữa tươi': (20000.0, 50), 'Bánh mì': (15000.0, 30), 'Trà sữa': (35000.0, 20)}\n"
     ]
    }
   ],
   "source": [
    "#bt5\n",
    "# 1.a. Nhập thông tin sản phẩm và lưu vào file products.txt\n",
    "products = [\n",
    "    {\"name\": \"Sữa tươi\", \"price\": 20000, \"stock\": 50},\n",
    "    {\"name\": \"Bánh mì\", \"price\": 15000, \"stock\": 30},\n",
    "    {\"name\": \"Trà sữa\", \"price\": 35000, \"stock\": 20}\n",
    "]\n",
    "\n",
    "# Lưu dữ liệu vào file products.txt (UTF-8 để tránh lỗi ký tự)\n",
    "with open(\"products.txt\", \"w\", encoding=\"utf-8\") as file:\n",
    "    for p in products:\n",
    "        file.write(f\"{p['name']},{p['price']},{p['stock']}\\n\")\n",
    "\n",
    "print(\"Đã lưu thông tin sản phẩm vào products.txt\\n\")\n",
    "\n",
    "# 1.b. Đọc danh sách sản phẩm từ file và hiển thị\n",
    "with open(\"products.txt\", \"r\", encoding=\"utf-8\") as file:\n",
    "    lines = file.readlines()\n",
    "\n",
    "print(\"Danh sách sản phẩm đọc từ file:\")\n",
    "for line in lines:\n",
    "    name, price, stock = line.strip().split(\",\")\n",
    "    print(f\"Tên sản phẩm: {name}, Giá: {price}, Số lượng tồn kho: {stock}\")\n",
    "\n",
    "# 1.c. Chuyển dữ liệu thành dictionary\n",
    "product_dict = {}\n",
    "for line in lines:\n",
    "    name, price, stock = line.strip().split(\",\")\n",
    "    product_dict[name] = (float(price), int(stock))\n",
    "\n",
    "print(\"\\nDanh sách sản phẩm dưới dạng dictionary:\")\n",
    "print(product_dict)\n"
   ]
  },
  {
   "cell_type": "markdown",
   "id": "af1e43d3",
   "metadata": {},
   "source": [
    "<img src=\"bt5.drawio.svg\" alt=\"bt1_3\" width=\"70%\">\n",
    "\n"
   ]
  }
 ],
 "metadata": {
  "kernelspec": {
   "display_name": "Python 3",
   "language": "python",
   "name": "python3"
  },
  "language_info": {
   "codemirror_mode": {
    "name": "ipython",
    "version": 3
   },
   "file_extension": ".py",
   "mimetype": "text/x-python",
   "name": "python",
   "nbconvert_exporter": "python",
   "pygments_lexer": "ipython3",
   "version": "3.13.5"
  }
 },
 "nbformat": 4,
 "nbformat_minor": 5
}
