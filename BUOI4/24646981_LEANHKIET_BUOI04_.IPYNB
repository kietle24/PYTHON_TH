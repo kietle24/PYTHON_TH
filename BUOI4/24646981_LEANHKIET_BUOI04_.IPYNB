{
 "cells": [
  {
   "cell_type": "code",
   "execution_count": 14,
   "id": "51c796c2",
   "metadata": {},
   "outputs": [
    {
     "name": "stdout",
     "output_type": "stream",
     "text": [
      "      Name       Age\n",
      "0  BiBi, 7      None\n",
      "1  XuXu, 8  List , 9\n"
     ]
    }
   ],
   "source": [
    "lst2 = [['BiBi, 7'], ['XuXu, 8', 'List , 9']]\n",
    "df2 = pd.DataFrame(lst2, columns=['Name', 'Age'])\n",
    "print(df2)"
   ]
  },
  {
   "cell_type": "code",
   "execution_count": 15,
   "id": "3e35785e",
   "metadata": {},
   "outputs": [
    {
     "name": "stdout",
     "output_type": "stream",
     "text": [
      "     Tên  Tuổi  Điểm\n",
      "0     An    20   8.5\n",
      "1   Bình    22   7.0\n",
      "2  Cường    21   9.0\n"
     ]
    }
   ],
   "source": [
    "import pandas as pd \n",
    "data = {\n",
    "    \"Tên\": [\"An\", \"Bình\", \"Cường\"],\n",
    "    \"Tuổi\": [20, 22, 21],\n",
    "    \"Điểm\": [8.5, 7.0, 9.0]\n",
    "}\n",
    "df = pd.DataFrame(data)\n",
    "print(df)"
   ]
  },
  {
   "cell_type": "code",
   "execution_count": 17,
   "id": "2b2b5f03",
   "metadata": {},
   "outputs": [],
   "source": [
    "import pandas as pd\n",
    "import numpy as np "
   ]
  },
  {
   "cell_type": "code",
   "execution_count": 25,
   "id": "f11a5033",
   "metadata": {},
   "outputs": [
    {
     "name": "stdout",
     "output_type": "stream",
     "text": [
      "0    a\n",
      "1    b\n",
      "2    c\n",
      "3    d\n",
      "dtype: object\n"
     ]
    }
   ],
   "source": [
    "#Tạo series từ ndarray, với index tự động \n",
    "nd_array_1 = np.array(['a', 'b', 'c', 'd'])\n",
    "s1 = pd.Series(nd_array_1)\n",
    "print(s1)"
   ]
  },
  {
   "cell_type": "code",
   "execution_count": null,
   "id": "7b91f6f0",
   "metadata": {},
   "outputs": [
    {
     "name": "stdout",
     "output_type": "stream",
     "text": [
      "100    a\n",
      "101    b\n",
      "102    c\n",
      "103    d\n",
      "dtype: object\n"
     ]
    }
   ],
   "source": [
    "#Tạo series từ ndarray, với index do coder tạo\n",
    "s2=  pd.Series(nd_array_1, index = [100, 101, 102, 103])\n",
    "print(s2)"
   ]
  },
  {
   "cell_type": "code",
   "execution_count": 26,
   "id": "638916e1",
   "metadata": {},
   "outputs": [
    {
     "name": "stdout",
     "output_type": "stream",
     "text": [
      "a    0.0\n",
      "b    1.0\n",
      "c    2.0\n",
      "dtype: float64\n"
     ]
    }
   ],
   "source": [
    "#Tạo series từ dictionary \n",
    "dic_1 = {'a':0.,'b':1.,'c':2.}\n",
    "s3 = pd.Series(dic_1)\n",
    "print(s3)\n"
   ]
  },
  {
   "cell_type": "code",
   "execution_count": 3,
   "id": "e11e5eff",
   "metadata": {},
   "outputs": [
    {
     "name": "stdout",
     "output_type": "stream",
     "text": [
      "a    1\n",
      "b    2\n",
      "c    3\n",
      "d    4\n",
      "e    5\n",
      "dtype: int64\n",
      "\n",
      "\n",
      "Cách 1: 1\n",
      "Cách 2: 1\n",
      "Từ đều đến cận 2:\n",
      "a    1\n",
      "b    2\n",
      "dtype: int64\n",
      "Từ 1 đến cận 3:\n",
      "b    2\n",
      "c    3\n",
      "dtype: int64\n",
      "Từ -3:\n",
      "\n",
      "\n",
      "c    3\n",
      "d    4\n",
      "e    5\n",
      "dtype: int64\n",
      "Truy xuất nhiều phần tử theo index:\n",
      "\n",
      "\n",
      "a    1\n",
      "c    3\n",
      "d    4\n",
      "dtype: int64\n"
     ]
    },
    {
     "name": "stderr",
     "output_type": "stream",
     "text": [
      "C:\\Users\\ADMIN\\AppData\\Local\\Temp\\ipykernel_20780\\1598285091.py:9: FutureWarning: Series.__getitem__ treating keys as positions is deprecated. In a future version, integer keys will always be treated as labels (consistent with DataFrame behavior). To access a value by position, use `ser.iloc[pos]`\n",
      "  print('Cách 2:',s5[0])\n"
     ]
    }
   ],
   "source": [
    "import pandas as pd\n",
    "# get element value from Series\n",
    "s5 = pd.Series([1,2,3,4,5], index = ['a', 'b', 'c', 'd', 'e'])\n",
    "print(s5)\n",
    "print('\\n')\n",
    "print('Cách 1:',s5['a'])\n",
    "#Truy cập phần tử có nhãn = 'a'.\n",
    "#Kết quả: 1\n",
    "print('Cách 2:',s5[0])\n",
    "#Truy cập phần tử có vị trí = 0.\n",
    "#KẾT QUẢ: 1\n",
    "print('Từ đều đến cận 2:')\n",
    "#LẤY THEO SLIDE CẮT TỪ ĐẦU KHÔNG LẤY 2 (0->1)\n",
    "print(s5[:2])\n",
    "print('Từ 1 đến cận 3:')\n",
    "print(s5[1:3])\n",
    "#LẤY TỪ 1->2 \n",
    "print('Từ -3:')\n",
    "print('\\n')\n",
    "print(s5[-3:])\n",
    "print('Truy xuất nhiều phần tử theo index:')\n",
    "print('\\n')\n",
    "print(s5[['a','c', 'd']])"
   ]
  },
  {
   "cell_type": "code",
   "execution_count": 5,
   "id": "d4116599",
   "metadata": {},
   "outputs": [
    {
     "name": "stdout",
     "output_type": "stream",
     "text": [
      "idx1     12\n",
      "idx2     21\n",
      "idx3    100\n",
      "dtype: int64\n"
     ]
    }
   ],
   "source": [
    "#Cập nhật phần tử\n",
    "s3 = pd.Series([12, 21, 11], index=['idx1', 'idx2', 'idx3'])\n",
    "s3['idx3'] = 100\n",
    "print(s3)"
   ]
  },
  {
   "cell_type": "code",
   "execution_count": 10,
   "id": "688d99cd",
   "metadata": {},
   "outputs": [
    {
     "name": "stdout",
     "output_type": "stream",
     "text": [
      "Truoc khi them:\n",
      " idx1     12\n",
      "idx2      3\n",
      "idx3    100\n",
      "f         6\n",
      "idx4      6\n",
      "dtype: int64\n",
      "\n",
      "\n",
      "Sau khi them:\n",
      " idx1     12\n",
      "idx2      3\n",
      "idx3    100\n",
      "f         6\n",
      "idx4      6\n",
      "dtype: int64\n"
     ]
    }
   ],
   "source": [
    "print('Truoc khi them:\\n', s3) \n",
    "print(\"\\n\")\n",
    "s3['idx2'] = 3 \n",
    "print('Sau khi them:\\n', s3)"
   ]
  },
  {
   "cell_type": "code",
   "execution_count": null,
   "id": "1a6ef4a3",
   "metadata": {},
   "outputs": [
    {
     "name": "stdout",
     "output_type": "stream",
     "text": [
      "0    a\n",
      "2    c\n",
      "3    d\n",
      "dtype: object\n",
      "1    b\n",
      "2    c\n",
      "3    d\n",
      "4    e\n",
      "dtype: object\n"
     ]
    }
   ],
   "source": [
    "t = s.drop([1, 4])  # Drops 'a' (index 0) and 'e' (index 4)\n",
    "tt = s.drop(0)      # Drops 'a' (index 0)\n",
    "print(t)\n",
    "print(tt)\n"
   ]
  },
  {
   "cell_type": "markdown",
   "id": "11475148",
   "metadata": {},
   "source": [
    "BÀI TẬP:\n",
    "BT1: Thực hiện những yêu cầu liên quan đến series\n",
    "Part 1: Thực hiện các phép toán trên series\n",
    "Câu 1:\n",
    "a/ Cho arr_1 là mảng số nguyên chẵn [2, 4, 6, 8, 10], arr_2 là mảng số nguyên lẻ [1, 3, 5, 7, 11]. Tạo biến kiểu Serries serl từ arr_1, ser2 từ arr_2. In danh sách các phần tử của serl và ser2\n",
    "b/ Thực hiện phép toán và thể hiện kết quả của: ser1 + ser2\n",
    "c/ Thực hiện phép toán và thể hiện kết quả của: serl - ser2\n",
    "d/ Thực hiện phép toán và thể hiện kết quả của: ser1 * ser2\n",
    "e/ Thực hiện phép toán và thể hiện kết quả của: serl / ser2"
   ]
  },
  {
   "cell_type": "markdown",
   "id": "89040fb2",
   "metadata": {},
   "source": [
    "part 1 : "
   ]
  },
  {
   "cell_type": "code",
   "execution_count": null,
   "id": "0696b90f",
   "metadata": {},
   "outputs": [
    {
     "name": "stdout",
     "output_type": "stream",
     "text": [
      "ser1:\n",
      "0     2\n",
      "1     4\n",
      "2     6\n",
      "3     8\n",
      "4    10\n",
      "dtype: int64\n",
      "\n",
      "ser2:\n",
      "0     1\n",
      "1     3\n",
      "2     5\n",
      "3     7\n",
      "4    11\n",
      "dtype: int64\n"
     ]
    }
   ],
   "source": [
    "#a/ Cho arr_1 là mảng số nguyên chẵn [2, 4, 6, 8, 10], arr_2 là mảng số nguyên lẻ [1, 3, 5, 7, 11]. \n",
    "# Tạo biến kiểu Serries serl từ arr_1, ser2 từ arr_2. In danh sách các phần tử của serl và ser2\n",
    "import pandas as pd\n",
    "\n",
    "arr_1 = [2, 4, 6, 8, 10]      # mảng số chẵn\n",
    "arr_2 = [1, 3, 5, 7, 11]      # mảng số lẻ\n",
    "\n",
    "ser1 = pd.Series(arr_1)\n",
    "ser2 = pd.Series(arr_2)\n",
    "\n",
    "print(\"ser1:\")\n",
    "print(ser1)\n",
    "print(\"\\nser2:\")\n",
    "print(ser2)\n"
   ]
  },
  {
   "cell_type": "code",
   "execution_count": 18,
   "id": "dd5f37de",
   "metadata": {},
   "outputs": [
    {
     "name": "stdout",
     "output_type": "stream",
     "text": [
      "ser1 + ser2:\n",
      "0     3\n",
      "1     7\n",
      "2    11\n",
      "3    15\n",
      "4    21\n",
      "dtype: int64\n"
     ]
    }
   ],
   "source": [
    "#b/ Thực hiện phép toán và thể hiện kết quả của: ser1 + ser2\n",
    "print('ser1 + ser2:')\n",
    "print(ser1 + ser2)"
   ]
  },
  {
   "cell_type": "code",
   "execution_count": 19,
   "id": "d79c10f6",
   "metadata": {},
   "outputs": [
    {
     "name": "stdout",
     "output_type": "stream",
     "text": [
      "ser1 -ser2:\n",
      "0    1\n",
      "1    1\n",
      "2    1\n",
      "3    1\n",
      "4   -1\n",
      "dtype: int64\n"
     ]
    }
   ],
   "source": [
    "#c/ Thực hiện phép toán và thể hiện kết quả của: serl - ser2\n",
    "print('ser1 -ser2:') \n",
    "print(ser1 - ser2 )"
   ]
  },
  {
   "cell_type": "code",
   "execution_count": 21,
   "id": "c3b65069",
   "metadata": {},
   "outputs": [
    {
     "name": "stdout",
     "output_type": "stream",
     "text": [
      "ser1 * ser2:\n",
      "0      2\n",
      "1     12\n",
      "2     30\n",
      "3     56\n",
      "4    110\n",
      "dtype: int64\n"
     ]
    }
   ],
   "source": [
    "print(\"ser1 * ser2:\")\n",
    "print(ser1 * ser2)\n"
   ]
  },
  {
   "cell_type": "code",
   "execution_count": 22,
   "id": "afc40101",
   "metadata": {},
   "outputs": [
    {
     "name": "stdout",
     "output_type": "stream",
     "text": [
      "ser1 / ser2:\n",
      "0    2.000000\n",
      "1    1.333333\n",
      "2    1.200000\n",
      "3    1.142857\n",
      "4    0.909091\n",
      "dtype: float64\n"
     ]
    }
   ],
   "source": [
    "print(\"ser1 / ser2:\")\n",
    "print(ser1 / ser2)\n"
   ]
  },
  {
   "cell_type": "markdown",
   "id": "21e71891",
   "metadata": {},
   "source": [
    "Câu 2\n",
    "a/ Kiểm tra xem các phần tử của serl có > các phần tử của ser2 không?\n",
    "b/ Kiểm tra xem các phần tử của serl có < các phần tử của ser2 không?\n",
    "c/ Kiểm tra xem các phần tử của serl có = các phần tử của ser2 không?"
   ]
  },
  {
   "cell_type": "code",
   "execution_count": null,
   "id": "2ae5b78e",
   "metadata": {},
   "outputs": [
    {
     "name": "stdout",
     "output_type": "stream",
     "text": [
      "0     True\n",
      "1     True\n",
      "2     True\n",
      "3     True\n",
      "4    False\n",
      "dtype: bool\n"
     ]
    }
   ],
   "source": [
    "#a/ Kiểm tra xem các phần tử của serl có > các phần tử của ser2 không?\n",
    "ser1 = pd.Series([2, 4, 6, 8, 10])\n",
    "ser2 = pd.Series([1, 3, 5, 7, 11])\n",
    "print(ser1.gt(ser2))\n",
    "# Hoặc dùng phương thức tương đương: ser1.gt(ser2)\n"
   ]
  },
  {
   "cell_type": "code",
   "execution_count": null,
   "id": "b5b38a6b",
   "metadata": {},
   "outputs": [
    {
     "name": "stdout",
     "output_type": "stream",
     "text": [
      "0    False\n",
      "1    False\n",
      "2    False\n",
      "3    False\n",
      "4     True\n",
      "dtype: bool\n"
     ]
    }
   ],
   "source": [
    "#b/ Kiểm tra xem các phần tử của serl có < các phần tử của ser2 không?\n",
    "print(ser1.lt(ser2))"
   ]
  },
  {
   "cell_type": "code",
   "execution_count": 33,
   "id": "08673d33",
   "metadata": {},
   "outputs": [
    {
     "name": "stdout",
     "output_type": "stream",
     "text": [
      "0    False\n",
      "1    False\n",
      "2    False\n",
      "3    False\n",
      "4    False\n",
      "dtype: bool\n",
      "False\n"
     ]
    }
   ],
   "source": [
    "#c/ Kiểm tra xem các phần tử của serl có = các phần tử của ser2 không?\n",
    "result_eq = ser1 == ser2\n",
    "print(result_eq)\n",
    "print(ser1.equals(ser2))"
   ]
  },
  {
   "cell_type": "markdown",
   "id": "6896ddcb",
   "metadata": {},
   "source": [
    "Câu 3\n",
    "a/ Thêm 2 phần tử [6, 12] vào ser2. In lại danh sách các phần tử của ser2.\n",
    "b/ Tạo series ser3 chỉ chứa các phần tử có trong serl mà không có trong ser2. In danh sách các phần tử\n",
    "của ser3\n",
    "c/ Tạo series ser4 chỉ chứa các phần tử có trong ser2 mà không có trong serl. In danh sách các phần tử\n",
    "của ser4"
   ]
  },
  {
   "cell_type": "code",
   "execution_count": null,
   "id": "9549ca19",
   "metadata": {},
   "outputs": [
    {
     "name": "stdout",
     "output_type": "stream",
     "text": [
      "ser2 sau khi thêm:\n",
      "0     1\n",
      "1     3\n",
      "2     5\n",
      "3     7\n",
      "4    11\n",
      "5     6\n",
      "6    12\n",
      "dtype: int64\n"
     ]
    }
   ],
   "source": [
    "#a/ Thêm 2 phần tử [6, 12] vào ser2. In lại danh sách các phần tử của ser2.\n",
    "ser2_extended = pd.concat([ser2, pd.Series([6, 12])], ignore_index=True)\n",
    "print(\"ser2 sau khi thêm:\")\n",
    "print(ser2_extended)\n"
   ]
  },
  {
   "cell_type": "code",
   "execution_count": 49,
   "id": "5baa7172",
   "metadata": {},
   "outputs": [
    {
     "name": "stdout",
     "output_type": "stream",
     "text": [
      "ser3 (có trong ser1 nhưng không có trong ser2):\n",
      "0     2\n",
      "1     4\n",
      "3     8\n",
      "4    10\n",
      "dtype: int64\n"
     ]
    }
   ],
   "source": [
    "#b/ Tạo series ser3 chỉ chứa các phần tử có trong serl mà không có trong ser2. In danh sách các phần tử của ser3\n",
    "ser3 = ser1[~ser1.isin(ser2_extended)]\n",
    "print(\"ser3 (có trong ser1 nhưng không có trong ser2):\")\n",
    "print(ser3)\n"
   ]
  },
  {
   "cell_type": "code",
   "execution_count": 45,
   "id": "97a19443",
   "metadata": {},
   "outputs": [
    {
     "name": "stdout",
     "output_type": "stream",
     "text": [
      "ser4 (có trong ser2 nhưng không có trong ser1):\n",
      "0     1\n",
      "1     3\n",
      "2     5\n",
      "3     7\n",
      "4    11\n",
      "6    12\n",
      "dtype: int64\n"
     ]
    }
   ],
   "source": [
    "#c/ Tạo series ser4 chỉ chứa các phần tử có trong ser2 mà không có trong serl. In danh sách các phần tử của ser4\n",
    "ser4 = ser2_extended[~ser2_extended.isin(ser1)]\n",
    "print(\"ser4 (có trong ser2 nhưng không có trong ser1):\")\n",
    "print(ser4)\n"
   ]
  },
  {
   "cell_type": "markdown",
   "id": "776a6d94",
   "metadata": {},
   "source": [
    "Câu 4: Tạo series ser5 chứa các phần tử chỉ có trong ser1 và chỉ có trong ser2. In danh sách các phần tử\n",
    "của ser5 \n",
    "Part 2: Truy xuất các phần tử, và thống kê thông tin trên series \n"
   ]
  },
  {
   "cell_type": "code",
   "execution_count": 50,
   "id": "60753692",
   "metadata": {},
   "outputs": [
    {
     "name": "stdout",
     "output_type": "stream",
     "text": [
      "ser5 (các phần tử chỉ có trong cả ser1 và ser2):\n",
      "2    6\n",
      "dtype: int64\n"
     ]
    }
   ],
   "source": [
    "ser5 = ser1[ser1.isin(ser2_extended)]\n",
    "print(\"ser5 (các phần tử chỉ có trong cả ser1 và ser2):\")\n",
    "print(ser5)\n"
   ]
  },
  {
   "cell_type": "markdown",
   "id": "1788d435",
   "metadata": {},
   "source": [
    "Part 2: Truy xuất các phần tử, và thống kê thông tin trên series \n"
   ]
  },
  {
   "cell_type": "markdown",
   "id": "0644c87b",
   "metadata": {},
   "source": [
    "Câu 1\n",
    "a/ Tạo series ser6 có 35 phần tử số nguyên ngẫu nhiên có giá trị trong khoảng từ 1 đến 9. Cho biết kích thước (shape) của ser6. Xem 5 dòng dữ liệu đầu tiên (head) và 5 dòng dữ liệu cuối cùng (tail) có trong\n",
    "ser6\n",
    "b/ In danh sách các phần tử của ser6 theo dạng array\n",
    "c/ Cho biết thông tin thống kê chung (describe()) của ser6\n",
    "d/ Cho biết tổng của các phần tử có trong ser6\n",
    "e/ Cho biết phần tử có tần suất xuất hiện nhiều nhất trong ser6\n",
    "Câu 2: Liệt kê các dòng trong ser6 mà giá trị chia hết cho 2 và cho 3\n",
    "Câu 3: In các phần tử ở vị trí 0, 5, 10, 15 trong ser6\n",
    "Câu 4: In ra các giá trị unique (array) trong ser6\n",
    "Câu 5: Tạo series ser7 với mỗi phần tử có giá trị = lập phương của phần tử trong ser6. Xem 5 dòng dữ liệu đầu tiên (head) của ser7"
   ]
  },
  {
   "cell_type": "code",
   "execution_count": 52,
   "id": "00cc50df",
   "metadata": {},
   "outputs": [],
   "source": [
    "import numpy as np\n",
    "import pandas as pd\n",
    "\n",
    "# Để kết quả ngẫu nhiên có thể lặp lại (khuyến nghị khi demo)\n",
    "np.random.seed(42)\n",
    "\n",
    "# Tạo ser6: 35 phần tử số nguyên ngẫu nhiên trong khoảng 1..9\n",
    "ser6 = pd.Series(np.random.randint(1, 10, size=35))\n"
   ]
  },
  {
   "cell_type": "code",
   "execution_count": null,
   "id": "2912055b",
   "metadata": {},
   "outputs": [
    {
     "name": "stdout",
     "output_type": "stream",
     "text": [
      "shape: (35,)\n",
      "\n",
      "head(5):\n",
      " 0    7\n",
      "1    4\n",
      "2    8\n",
      "3    5\n",
      "4    7\n",
      "dtype: int32\n",
      "\n",
      "tail(5):\n",
      " 30    3\n",
      "31    7\n",
      "32    5\n",
      "33    9\n",
      "34    7\n",
      "dtype: int32\n"
     ]
    }
   ],
   "source": [
    "#a/ Tạo series ser6 có 35 phần tử số nguyên ngẫu nhiên có giá trị trong khoảng từ 1 đến 9. \n",
    "# Cho biết kích thước (shape) của ser6. Xem 5 dòng dữ liệu đầu tiên (head) và 5 dòng dữ liệu cuối cùng (tail) có trongser6\n",
    "print(\"shape:\", ser6.shape)\n",
    "print(\"\\nhead(5):\\n\", ser6.head(5))\n",
    "print(\"\\ntail(5):\\n\", ser6.tail(5))\n"
   ]
  },
  {
   "cell_type": "code",
   "execution_count": 54,
   "id": "4d30ab4a",
   "metadata": {},
   "outputs": [
    {
     "name": "stdout",
     "output_type": "stream",
     "text": [
      "\n",
      "As array: [7 4 8 5 7 3 7 8 5 4 8 8 3 6 5 2 8 6 2 5 1 6 9 1 3 7 4 9 3 5 3 7 5 9 7]\n"
     ]
    }
   ],
   "source": [
    "#b/ In danh sách các phần tử của ser6 theo dạng array\n",
    "print(\"\\nAs array:\", ser6.to_numpy())\n"
   ]
  },
  {
   "cell_type": "code",
   "execution_count": 55,
   "id": "24bff74f",
   "metadata": {},
   "outputs": [
    {
     "name": "stdout",
     "output_type": "stream",
     "text": [
      "\n",
      "Describe:\n",
      " count    35.000000\n",
      "mean      5.428571\n",
      "std       2.342519\n",
      "min       1.000000\n",
      "25%       3.500000\n",
      "50%       5.000000\n",
      "75%       7.000000\n",
      "max       9.000000\n",
      "dtype: float64\n"
     ]
    }
   ],
   "source": [
    "#c ) Thông tin thống kê chung (describe())\n",
    "print(\"\\nDescribe:\\n\", ser6.describe())\n"
   ]
  },
  {
   "cell_type": "code",
   "execution_count": 57,
   "id": "e063eec8",
   "metadata": {},
   "outputs": [
    {
     "name": "stdout",
     "output_type": "stream",
     "text": [
      "\n",
      "Sum: 190\n"
     ]
    }
   ],
   "source": [
    "#d) Tổng các phần tử trong ser6\n",
    "print(\"\\nSum:\", ser6.sum())\n"
   ]
  },
  {
   "cell_type": "code",
   "execution_count": 58,
   "id": "82840dc3",
   "metadata": {},
   "outputs": [
    {
     "name": "stdout",
     "output_type": "stream",
     "text": [
      "\n",
      "Most frequent value: 7 count: 6\n",
      "All mode(s): [5, 7]\n"
     ]
    }
   ],
   "source": [
    "# e) Phần tử có tần suất xuất hiện nhiều nhất (mode / most frequent)\n",
    "vc = ser6.value_counts()\n",
    "most_freq_value = vc.idxmax()         # giá trị xuất hiện nhiều nhất\n",
    "most_freq_count = vc.max()            # số lần xuất hiện\n",
    "print(\"\\nMost frequent value:\", most_freq_value, \"count:\", most_freq_count)\n",
    "# Nếu cần tất cả giá trị có cùng tần suất lớn nhất:\n",
    "modes = ser6.mode()\n",
    "print(\"All mode(s):\", modes.to_list())\n"
   ]
  },
  {
   "cell_type": "code",
   "execution_count": 59,
   "id": "28f9798b",
   "metadata": {},
   "outputs": [
    {
     "name": "stdout",
     "output_type": "stream",
     "text": [
      "\n",
      "Elements at positions 0,5,10,15:\n",
      "0     7\n",
      "5     3\n",
      "10    8\n",
      "15    2\n",
      "dtype: int32\n"
     ]
    }
   ],
   "source": [
    "#Câu 3 — In các phần tử ở vị trí 0, 5, 10, 15 trong ser6 \n",
    "indices = [0, 5, 10, 15]\n",
    "print(\"\\nElements at positions 0,5,10,15:\")\n",
    "print(ser6.iloc[indices])\n"
   ]
  },
  {
   "cell_type": "code",
   "execution_count": 60,
   "id": "d8a4f734",
   "metadata": {},
   "outputs": [
    {
     "name": "stdout",
     "output_type": "stream",
     "text": [
      "\n",
      "Unique values (array): [7 4 8 5 3 6 2 1 9]\n",
      "Unique sorted: [1 2 3 4 5 6 7 8 9]\n"
     ]
    }
   ],
   "source": [
    "# Câu 4 — In ra các giá trị unique (dạng array) trong ser6\n",
    "unique_values = ser6.unique()\n",
    "print(\"\\nUnique values (array):\", unique_values)\n",
    "# Sắp xếp nếu cần:\n",
    "print(\"Unique sorted:\", np.sort(unique_values))\n"
   ]
  },
  {
   "cell_type": "code",
   "execution_count": 61,
   "id": "43a20a83",
   "metadata": {},
   "outputs": [],
   "source": [
    "#Câu 5 — Tạo ser7 với mỗi phần tử là lập phương (cube) của phần tử tương ứng trong ser6; xem 5 dòng đầu của ser7"
   ]
  },
  {
   "cell_type": "code",
   "execution_count": 62,
   "id": "1724ffc8",
   "metadata": {},
   "outputs": [
    {
     "name": "stdout",
     "output_type": "stream",
     "text": [
      "\n",
      "ser7 head(5):\n",
      " 0    343\n",
      "1     64\n",
      "2    512\n",
      "3    125\n",
      "4    343\n",
      "dtype: int32\n"
     ]
    }
   ],
   "source": [
    "ser7 = ser6.pow(3)   # hoặc ser6 ** 3\n",
    "print(\"\\nser7 head(5):\\n\", ser7.head(5))\n"
   ]
  },
  {
   "cell_type": "markdown",
   "id": "a0c6f07f",
   "metadata": {},
   "source": [
    "    Part 3: Tạo series từ list, chuỗi và biểu thức điều kiện"
   ]
  },
  {
   "cell_type": "markdown",
   "id": "5fa43a8e",
   "metadata": {},
   "source": [
    "Câu 1: Cho list sau:\n",
    "Ist=[\"abc\", \"defg\", \"htlmj\", \"dfg\", \"ljsac\"]\n",
    "a/ Tạo series ser chuoi từ lst\n",
    "b/ Tạo series ser_dodai với mỗi phần tử có giá trị là chiều dài của mỗi phần tử trong ser_chuoi\n",
    "Câu 2: Cho ser = pd.Series(np.array([1, 2, 4, 5, 8, 7, 6, 9])). Sử dụng biểu thức điều kiện thích hợp để in ra các dòng trong ser có giá trị là số nguyên tố\n",
    "Câu 3: Cho mẫu email như sau:\n",
    "pattern ='[A-Za-z0-9._%+-]+@[A-Za-z0-9.-]+\\\\.[A-Za-z]{2,4}'\n",
    "Tạo một series ser_ch, với mỗi phần tử trong ser_ch là một chuỗi\n",
    "Gợi ý: 'reading newspaper from tuoitre.vn', 'tubirona@gmail.com', 'nguyen.nn@yahoo.com','tran_2014@hotmail.com.vn'\n",
    "In ra những dòng trong ser_ch thỏa điều kiện chuỗi là email"
   ]
  },
  {
   "cell_type": "code",
   "execution_count": null,
   "id": "4fb43908",
   "metadata": {},
   "outputs": [
    {
     "name": "stdout",
     "output_type": "stream",
     "text": [
      "ser_chuoi:\n",
      "0      abc\n",
      "1     defg\n",
      "2    htlmj\n",
      "3      dfg\n",
      "4    ljsac\n",
      "dtype: object\n",
      "\n",
      "ser_dodai (độ dài từng phần tử):\n",
      "0    3\n",
      "1    4\n",
      "2    5\n",
      "3    3\n",
      "4    5\n",
      "dtype: int64\n"
     ]
    }
   ],
   "source": [
    "lst = [\"abc\", \"defg\", \"htlmj\", \"dfg\", \"ljsac\"]\n",
    "# a) Tạo Series ser_chuoi từ lst\n",
    "\n",
    "ser_chuoi = pd.Series(lst)\n",
    "print(\"ser_chuoi:\")\n",
    "print(ser_chuoi)\n",
    "# b) Tạo ser_dodai với mỗi phần tử là chiều dài tương ứng\n",
    "\n",
    "ser_dodai = ser_chuoi.str.len()\n",
    "print(\"\\nser_dodai (độ dài từng phần tử):\")\n",
    "print(ser_dodai)"
   ]
  },
  {
   "cell_type": "code",
   "execution_count": 65,
   "id": "23e570da",
   "metadata": {},
   "outputs": [
    {
     "name": "stdout",
     "output_type": "stream",
     "text": [
      "Phần tử là số nguyên tố trong ser:\n",
      "1    2\n",
      "3    5\n",
      "5    7\n",
      "dtype: int64\n"
     ]
    }
   ],
   "source": [
    "#Câu 2 — In các giá trị là số nguyên tố trong ser\n",
    "import math\n",
    "ser = pd.Series(np.array([1, 2, 4, 5, 8, 7, 6, 9]))\n",
    "# Hàm kiểm tra số nguyên tố (dành cho số nguyên dương)\n",
    "def is_prime(n):\n",
    "    if n <= 1:\n",
    "        return False\n",
    "    if n <= 3:\n",
    "        return True\n",
    "    if n % 2 == 0:\n",
    "        return False\n",
    "    r = int(math.isqrt(n))\n",
    "    for i in range(3, r + 1, 2):\n",
    "        if n % i == 0:\n",
    "            return False\n",
    "    return True\n",
    "\n",
    "# Lọc và in các phần tử là số nguyên tố\n",
    "primes = ser[ser.apply(is_prime)]\n",
    "print(\"Phần tử là số nguyên tố trong ser:\")\n",
    "print(primes)\n"
   ]
  },
  {
   "cell_type": "code",
   "execution_count": null,
   "id": "6b8fc3d8",
   "metadata": {},
   "outputs": [
    {
     "name": "stdout",
     "output_type": "stream",
     "text": [
      "Các dòng thỏa điều kiện email:\n",
      "1          tubirona@gmail.com\n",
      "2         nguyen.nn@yahoo.com\n",
      "3    tran_2014@hotmail.com.vn\n",
      "dtype: object\n"
     ]
    }
   ],
   "source": [
    "#Câu 3 — Lọc chuỗi là email theo mẫu regex \n",
    "import pandas as pd\n",
    "\n",
    "pattern = r'[A-Za-z0-9._%+-]+@[A-Za-z0-9.-]+\\.[A-Za-z]{2,4}'\n",
    "\n",
    "ser_ch = pd.Series([\n",
    "    'reading newspaper from tuoitre.vn',\n",
    "    'tubirona@gmail.com',\n",
    "    'nguyen.nn@yahoo.com',\n",
    "    'tran_2014@hotmail.com.vn'\n",
    "])\n",
    "\n",
    "# Lọc các phần tử thỏa điều kiện là email\n",
    "is_email = ser_ch.str.contains(pattern, regex=True)\n",
    "emails = ser_ch[is_email]\n",
    "\n",
    "print(\"Các dòng thỏa điều kiện email:\")\n",
    "print(emails)\n"
   ]
  },
  {
   "cell_type": "markdown",
   "id": "c600c0fd",
   "metadata": {},
   "source": [
    "#Câu 4: Cho series:\n",
    "ser_names = pd.Series(['Manufacturer', 'Model', 'CarType', 'Min_Price', 'Price', 'Max_Price',\n",
    "'MPG_city', 'MPG_highway', 'AirBags', 'DriveTrain', 'Cylinders',\n",
    "'EngineSize', 'Horsepower', 'RPM', 'Rev_per_mile', 'Man_trans_avail',\n",
    "'Fuel_tank_capacity', 'Passengers', 'Length', 'Wheelbase', 'Width',\n",
    "'Turn_circle', 'Rear_seat_room', 'Luggage_room', 'Weight', 'Origin',\n",
    "'Make'])\n",
    "Sử dụng biểu thức điều kiện thích hợp để in ra các dòng của ser_names thỏa điều kiện trong chuỗi có\n",
    "chữ 'Price'"
   ]
  },
  {
   "cell_type": "code",
   "execution_count": 67,
   "id": "dd975063",
   "metadata": {},
   "outputs": [
    {
     "name": "stdout",
     "output_type": "stream",
     "text": [
      "3    Min_Price\n",
      "4        Price\n",
      "5    Max_Price\n",
      "dtype: object\n"
     ]
    }
   ],
   "source": [
    "import pandas as pd\n",
    "\n",
    "ser_names = pd.Series([\n",
    "    'Manufacturer', 'Model', 'CarType', 'Min_Price', 'Price', 'Max_Price',\n",
    "    'MPG_city', 'MPG_highway', 'AirBags', 'DriveTrain', 'Cylinders',\n",
    "    'EngineSize', 'Horsepower', 'RPM', 'Rev_per_mile', 'Man_trans_avail',\n",
    "    'Fuel_tank_capacity', 'Passengers', 'Length', 'Wheelbase', 'Width',\n",
    "    'Turn_circle', 'Rear_seat_room', 'Luggage_room', 'Weight', 'Origin',\n",
    "    'Make'\n",
    "])\n",
    "\n",
    "mask = ser_names.str.contains('Price', na=False)   # na=False tránh lỗi khi có NaN\n",
    "result = ser_names[mask]\n",
    "\n",
    "print(result)\n"
   ]
  },
  {
   "cell_type": "markdown",
   "id": "549b96ba",
   "metadata": {},
   "source": [
    "BT2:\n",
    "# Cho tập tin dữ liệu auto.csv, và list headers sau:\n",
    "headers = [\"symboling\",\"normalized-losses\",\"make\", \"fuel-type\",\"aspiration\", \"num-of-doors\", \"body-style\",\"drive-wheels\", \"engine-location\",\"wheel-base\", \"length\",\"width\",\"height\",\"curb-weight\",\"engine-type\",\"num-of-cylinders\", \"engine-size\", \"fuel-system\", \"bore\",\"stroke\",\"compression-ratio\",\"horsepower\",\"peak-rpm\",\"city-mpg\",\"highway-mpg\",\"price\"]\n",
    "Câu 1: Đọc dữ liệu từ tập tin auto.csv, kết hợp với list headers đã cho để tạo thành dataframe df có tiêu đề hoàn chỉnh. Liệt kê kiểu dữ liệu các cột của df. Liệt kê 5 dòng dữ liệu đầu tiên (head) của df\n",
    "Câu 2: Trong tập dữ liệu, có một số dữ liệu bị thiếu đi kèm với dấu ?, bạn hãy thay thế các dữ liệu này thành NaN. In lại 5 dòng dữ liệu đầu tiên của df\n",
    "Câu 3: Đổi kiểu dữ liệu các cột thành kiểu dữ liệu đúng theo mô tả sau\n",
    "#1. make: alfa-romero, audi, bmw, chevrolet, dodge, honda, isuzu, jaguar, mazda, mercedes-benz, porsche,...\n",
    "#2. fuel-type: diesel, gas.\n",
    "#3. num-of-doors: four, two.\n",
    "#4. body-style: hardtop, wagon, sedan, hatchback, convertible.\n",
    "#5. drive-wheels: 4wd, fwd, rwd.\n",
    "#6. engine-location: front, rear.\n",
    "#7. wheel-base: continuous from 86.6 120.9.\n",
    "# 8. length: continuous from 141.1 to 208.1.\n",
    "#9. width: continuous from 60.3 to 72.3.\n",
    "#10. height: continuous from 47.8 to 59.8.\n",
    "#11. curb-weight: continuous from 1488 to 4066.\n",
    "#12. engine-size: continuous from 61 to 326.\n",
    "#13. bore: continuous from 2.54 to 3.94.\n",
    "#14. stroke: continuous from 2.07 to 4.17.\n",
    "# 15. horsepower: continuous from 48 to 288.\n",
    "#16. peak-rpm: continuous from 4150 to 6600.\n",
    "#17. city-mpg: continuous from 13 to 49.\n",
    "#18. highway-mpg: continuous from 16 to 54.\n",
    "#19. price: continuous from 5118 to 45400.\n",
    "Câu 4: Xóa bỏ các cột không cần thiết, chỉ giữ lại các cột:\n",
    "# \"make\", \"fuel-type\",\"num-of-doors\", \"body-style\",\"drive-wheels\", \"engine-location\", \"wheel-base\", \"length\",\"width\",\"height\", \"curb-weight\", \"engine size\", \"bore\", \"stroke\", \"horsepower\", \"peak-rpm\",\"city-mpg\", \"highway-mpg\",\"price\"\n",
    "Câu 5: Liệt kê số dòng có giá trị null trong các thuộc tính\n",
    "Câu 6: Nếu cột 'num-of-doors' nếu có chứa giá trị NaN thì thay bằng giá trị phổ biến nhất của cột 'num-of-doors'\n",
    "Câu 7: Xóa tất cả các dòng có giá trị NaN trong cột 'price' (nếu có)\n",
    "Câu 8: Các cột kiểu số khác nếu chứa giá trị NaN thì thay thế bằng giá trị trung bình\n",
    "Câu 9: Đặt lại chỉ mục (index) sau khi đã bỏ các dòng có giá trị NaN trong cột 'price' và các cập nhật trên dữ liệu\n",
    "Câu 10: In thông tin thống kê chung của df\n",
    "Câu 11: Cho biết thông tin thống kê chung của các cột có kiểu dữ liệu là object.\n",
    "Câu 12: Cho biết số lượng của mỗi loại hệ thống dẫn động (drive-wheels)?\n",
    "Câu 13: Cho biết số lượng của mỗi loại động cơ (engine-location)?\n",
    "Câu 14: Cho biết các giá trị của cột drive-wheels?\n",
    "Câu 15: Tính giá (price) trung bình của mỗi loại hệ dẫn động (drive-wheels).\n",
    "Câu 16: Tính giá (price) trung bình của mỗi chiếc xe dựa vào kiểu dáng thân xe (body-style).\n",
    "Câu 17: Tính giá (price) trung bình mỗi kiểu dáng thân xe của các loại hệ dẫn động (drive-wheels).\n",
    "Câu 18: Từ câu trên, sử dụng hàm pivot để tạo bảng từ các nhóm cho dễ xem hơn.\n",
    "(drive-wheel thể hiện giá trị các dòng, body-style thể hiện giá trị các cột)\n",
    "Câu 19: Vẽ biểu đồ thể hiện phân bố dữ liệu của cột price (histogram)\n",
    "Câu 20: Thể hiện hệ số tương quan của df\n",
    "Câu 21: Vẽ biểu đồ thể hiện giá trị giữa 'engine-size' và 'price'\n",
    "Câu 22: Vẽ biểu đồ boxplot thể hiện giá xe thay đổi như thế nào với từng loại body-style"
   ]
  },
  {
   "cell_type": "code",
   "execution_count": 83,
   "id": "4dfa6888",
   "metadata": {},
   "outputs": [
    {
     "name": "stdout",
     "output_type": "stream",
     "text": [
      "Kiểu dữ liệu các cột:\n",
      "symboling              int64\n",
      "normalized-losses     object\n",
      "make                  object\n",
      "fuel-type             object\n",
      "aspiration            object\n",
      "num-of-doors          object\n",
      "body-style            object\n",
      "drive-wheels          object\n",
      "engine-location       object\n",
      "wheel-base           float64\n",
      "length               float64\n",
      "width                float64\n",
      "height               float64\n",
      "curb-weight            int64\n",
      "engine-type           object\n",
      "num-of-cylinders      object\n",
      "engine-size            int64\n",
      "fuel-system           object\n",
      "bore                 float64\n",
      "stroke               float64\n",
      "compression-ratio      int64\n",
      "horsepower             int64\n",
      "peak-rpm               int64\n",
      "city-mpg               int64\n",
      "highway-mpg            int64\n",
      "price                  int64\n",
      "dtype: object\n",
      "\n",
      "5 dòng dữ liệu đầu tiên:\n",
      "   symboling normalized-losses         make fuel-type aspiration num-of-doors  \\\n",
      "0          3                 ?  alfa-romero       gas        std          two   \n",
      "1          3                 ?  alfa-romero       gas        std          two   \n",
      "2          1                 ?  alfa-romero       gas        std          two   \n",
      "3          2               164         audi       gas        std         four   \n",
      "4          2               164         audi       gas        std         four   \n",
      "\n",
      "    body-style drive-wheels engine-location  wheel-base  ...  engine-size  \\\n",
      "0  convertible          rwd           front        88.6  ...          130   \n",
      "1  convertible          rwd           front        88.6  ...          130   \n",
      "2    hatchback          rwd           front        94.5  ...          152   \n",
      "3        sedan          fwd           front        99.8  ...          109   \n",
      "4        sedan          4wd           front        99.4  ...          136   \n",
      "\n",
      "   fuel-system  bore  stroke compression-ratio horsepower  peak-rpm city-mpg  \\\n",
      "0         mpfi  3.47    2.68                 9        111      5000       21   \n",
      "1         mpfi  3.47    2.68                 9        111      5000       21   \n",
      "2         mpfi  2.68    3.47                 9        154      5000       19   \n",
      "3         mpfi  3.19    3.40                10        102      5500       24   \n",
      "4         mpfi  3.19    3.40                 8        115      5500       18   \n",
      "\n",
      "   highway-mpg  price  \n",
      "0           27  13495  \n",
      "1           27  16500  \n",
      "2           26  16500  \n",
      "3           30  13950  \n",
      "4           22  17450  \n",
      "\n",
      "[5 rows x 26 columns]\n"
     ]
    }
   ],
   "source": [
    "#cau 1\n",
    "import pandas as pd\n",
    "\n",
    "# Danh sách headers\n",
    "headers = [\n",
    "    \"symboling\",\"normalized-losses\",\"make\", \"fuel-type\",\"aspiration\", \"num-of-doors\",\n",
    "    \"body-style\",\"drive-wheels\", \"engine-location\",\"wheel-base\", \"length\",\"width\",\"height\",\n",
    "    \"curb-weight\",\"engine-type\",\"num-of-cylinders\", \"engine-size\", \"fuel-system\", \"bore\",\n",
    "    \"stroke\",\"compression-ratio\",\"horsepower\",\"peak-rpm\",\"city-mpg\",\"highway-mpg\",\"price\"\n",
    "]\n",
    "\n",
    "# Đọc file auto.csv (nếu file gốc không có header, dùng header=None)\n",
    "df = pd.read_csv(\"auto.csv\", header=None, names=headers)\n",
    "\n",
    "# 1. Liệt kê kiểu dữ liệu các cột\n",
    "print(\"Kiểu dữ liệu các cột:\")\n",
    "print(df.dtypes)\n",
    "\n",
    "# 2. In 5 dòng dữ liệu đầu tiên\n",
    "print(\"\\n5 dòng dữ liệu đầu tiên:\")\n",
    "print(df.head())\n"
   ]
  },
  {
   "cell_type": "code",
   "execution_count": null,
   "id": "724c9207",
   "metadata": {},
   "outputs": [
    {
     "name": "stdout",
     "output_type": "stream",
     "text": [
      "5 dòng đầu tiên sau khi thay ? bằng NaN:\n",
      "   symboling  normalized-losses         make fuel-type aspiration  \\\n",
      "0          3                NaN  alfa-romero       gas        std   \n",
      "1          3                NaN  alfa-romero       gas        std   \n",
      "2          1                NaN  alfa-romero       gas        std   \n",
      "3          2              164.0         audi       gas        std   \n",
      "4          2              164.0         audi       gas        std   \n",
      "\n",
      "  num-of-doors   body-style drive-wheels engine-location  wheel-base  ...  \\\n",
      "0          two  convertible          rwd           front        88.6  ...   \n",
      "1          two  convertible          rwd           front        88.6  ...   \n",
      "2          two    hatchback          rwd           front        94.5  ...   \n",
      "3         four        sedan          fwd           front        99.8  ...   \n",
      "4         four        sedan          4wd           front        99.4  ...   \n",
      "\n",
      "   engine-size  fuel-system  bore  stroke compression-ratio horsepower  \\\n",
      "0          130         mpfi  3.47    2.68                 9        111   \n",
      "1          130         mpfi  3.47    2.68                 9        111   \n",
      "2          152         mpfi  2.68    3.47                 9        154   \n",
      "3          109         mpfi  3.19    3.40                10        102   \n",
      "4          136         mpfi  3.19    3.40                 8        115   \n",
      "\n",
      "   peak-rpm city-mpg  highway-mpg  price  \n",
      "0      5000       21           27  13495  \n",
      "1      5000       21           27  16500  \n",
      "2      5000       19           26  16500  \n",
      "3      5500       24           30  13950  \n",
      "4      5500       18           22  17450  \n",
      "\n",
      "[5 rows x 26 columns]\n"
     ]
    }
   ],
   "source": [
    "#cau 2: \n",
    "import pandas as pd\n",
    "import numpy as np\n",
    "\n",
    "headers = [\n",
    "    \"symboling\",\"normalized-losses\",\"make\", \"fuel-type\",\"aspiration\", \"num-of-doors\",\n",
    "    \"body-style\",\"drive-wheels\", \"engine-location\",\"wheel-base\", \"length\",\"width\",\"height\",\n",
    "    \"curb-weight\",\"engine-type\",\"num-of-cylinders\", \"engine-size\", \"fuel-system\", \"bore\",\n",
    "    \"stroke\",\"compression-ratio\",\"horsepower\",\"peak-rpm\",\"city-mpg\",\"highway-mpg\",\"price\"\n",
    "]\n",
    "\n",
    "# Đọc file và thay thế ? -> NaN ngay khi load\n",
    "df = pd.read_csv(\"auto.csv\", header=None, names=headers, na_values=\"?\")\n",
    "\n",
    "print(\"5 dòng đầu tiên sau khi thay ? bằng NaN:\")\n",
    "print(df.head())\n"
   ]
  },
  {
   "cell_type": "code",
   "execution_count": null,
   "id": "53d8c836",
   "metadata": {},
   "outputs": [
    {
     "name": "stdout",
     "output_type": "stream",
     "text": [
      "symboling               int64\n",
      "normalized-losses     float64\n",
      "make                 category\n",
      "fuel-type            category\n",
      "aspiration             object\n",
      "num-of-doors         category\n",
      "body-style           category\n",
      "drive-wheels         category\n",
      "engine-location      category\n",
      "wheel-base            float64\n",
      "length                float64\n",
      "width                 float64\n",
      "height                float64\n",
      "curb-weight             int64\n",
      "engine-type            object\n",
      "num-of-cylinders       object\n",
      "engine-size             int64\n",
      "fuel-system            object\n",
      "bore                  float64\n",
      "stroke                float64\n",
      "compression-ratio       int64\n",
      "horsepower              int64\n",
      "peak-rpm                int64\n",
      "city-mpg                int64\n",
      "highway-mpg             int64\n",
      "price                   int64\n",
      "dtype: object\n",
      "   symboling  normalized-losses         make fuel-type aspiration  \\\n",
      "0          3                NaN  alfa-romero       gas        std   \n",
      "1          3                NaN  alfa-romero       gas        std   \n",
      "2          1                NaN  alfa-romero       gas        std   \n",
      "3          2              164.0         audi       gas        std   \n",
      "4          2              164.0         audi       gas        std   \n",
      "\n",
      "  num-of-doors   body-style drive-wheels engine-location  wheel-base  ...  \\\n",
      "0          two  convertible          rwd           front        88.6  ...   \n",
      "1          two  convertible          rwd           front        88.6  ...   \n",
      "2          two    hatchback          rwd           front        94.5  ...   \n",
      "3         four        sedan          fwd           front        99.8  ...   \n",
      "4         four        sedan          4wd           front        99.4  ...   \n",
      "\n",
      "   engine-size  fuel-system  bore  stroke compression-ratio horsepower  \\\n",
      "0          130         mpfi  3.47    2.68                 9        111   \n",
      "1          130         mpfi  3.47    2.68                 9        111   \n",
      "2          152         mpfi  2.68    3.47                 9        154   \n",
      "3          109         mpfi  3.19    3.40                10        102   \n",
      "4          136         mpfi  3.19    3.40                 8        115   \n",
      "\n",
      "   peak-rpm city-mpg  highway-mpg  price  \n",
      "0      5000       21           27  13495  \n",
      "1      5000       21           27  16500  \n",
      "2      5000       19           26  16500  \n",
      "3      5500       24           30  13950  \n",
      "4      5500       18           22  17450  \n",
      "\n",
      "[5 rows x 26 columns]\n"
     ]
    }
   ],
   "source": [
    "#cau_3:\n",
    "import pandas as pd\n",
    "import numpy as np\n",
    "\n",
    "# Đọc lại file với headers\n",
    "headers = [\"symboling\",\"normalized-losses\",\"make\", \"fuel-type\",\"aspiration\", \"num-of-doors\",\n",
    "           \"body-style\",\"drive-wheels\", \"engine-location\",\"wheel-base\", \"length\",\"width\",\"height\",\n",
    "           \"curb-weight\",\"engine-type\",\"num-of-cylinders\", \"engine-size\", \"fuel-system\", \"bore\",\"stroke\",\n",
    "           \"compression-ratio\",\"horsepower\",\"peak-rpm\",\"city-mpg\",\"highway-mpg\",\"price\"]\n",
    "\n",
    "df = pd.read_csv(\"auto.csv\", header=None, names=headers, na_values=\"?\")\n",
    "\n",
    "# ---------------------------\n",
    "# 1. Các cột dạng category (chuỗi phân loại)\n",
    "categorical_cols = [\"make\",\"fuel-type\",\"num-of-doors\",\"body-style\",\n",
    "                    \"drive-wheels\",\"engine-location\"]\n",
    "\n",
    "for col in categorical_cols:\n",
    "    df[col] = df[col].astype(\"category\")\n",
    "\n",
    "# ---------------------------\n",
    "# 2. Các cột dạng số liên tục (float hoặc int)\n",
    "numeric_cols = [\"wheel-base\",\"length\",\"width\",\"height\",\"curb-weight\",\"engine-size\",\n",
    "                \"bore\",\"stroke\",\"compression-ratio\",\"horsepower\",\"peak-rpm\",\n",
    "                \"city-mpg\",\"highway-mpg\",\"price\"]\n",
    "\n",
    "for col in numeric_cols:\n",
    "    df[col] = pd.to_numeric(df[col], errors=\"coerce\")\n",
    "\n",
    "# ---------------------------\n",
    "# Kiểm tra lại kiểu dữ liệu\n",
    "print(df.dtypes)\n",
    "\n",
    "# Xem 5 dòng đầu tiên\n",
    "print(df.head())\n"
   ]
  },
  {
   "cell_type": "code",
   "execution_count": 87,
   "id": "7b8c2dd3",
   "metadata": {},
   "outputs": [
    {
     "name": "stdout",
     "output_type": "stream",
     "text": [
      "Cột được khớp và sẽ giữ lại (theo thứ tự yêu cầu):\n",
      "['make', 'fuel-type', 'num-of-doors', 'body-style', 'drive-wheels', 'engine-location', 'wheel-base', 'length', 'width', 'height', 'curb-weight', 'engine-size', 'bore', 'stroke', 'horsepower', 'peak-rpm', 'city-mpg', 'highway-mpg', 'price']\n",
      "\n",
      "Kích thước sau khi giảm cột: (5, 19)\n",
      "\n",
      "5 dòng đầu của dataframe sau khi giữ cột:\n",
      "          make fuel-type num-of-doors   body-style drive-wheels  \\\n",
      "0  alfa-romero       gas          two  convertible          rwd   \n",
      "1  alfa-romero       gas          two  convertible          rwd   \n",
      "2  alfa-romero       gas          two    hatchback          rwd   \n",
      "3         audi       gas         four        sedan          fwd   \n",
      "4         audi       gas         four        sedan          4wd   \n",
      "\n",
      "  engine-location  wheel-base  length  width  height  curb-weight  \\\n",
      "0           front        88.6   168.8   64.1    48.8         2548   \n",
      "1           front        88.6   168.8   64.1    48.8         2548   \n",
      "2           front        94.5   171.2   65.5    52.4         2823   \n",
      "3           front        99.8   176.6   66.2    54.3         2337   \n",
      "4           front        99.4   176.6   66.4    54.3         2824   \n",
      "\n",
      "   engine-size  bore  stroke  horsepower  peak-rpm  city-mpg  highway-mpg  \\\n",
      "0          130  3.47    2.68         111      5000        21           27   \n",
      "1          130  3.47    2.68         111      5000        21           27   \n",
      "2          152  2.68    3.47         154      5000        19           26   \n",
      "3          109  3.19    3.40         102      5500        24           30   \n",
      "4          136  3.19    3.40         115      5500        18           22   \n",
      "\n",
      "   price  \n",
      "0  13495  \n",
      "1  16500  \n",
      "2  16500  \n",
      "3  13950  \n",
      "4  17450  \n",
      "\n",
      "Đã lưu dataframe kết quả vào 'auto_reduced.csv'.\n"
     ]
    }
   ],
   "source": [
    "#cau4 \n",
    "import pandas as pd\n",
    "\n",
    "# Giả sử df đã có (đọc file trước, Câu 1/2)\n",
    "# df = pd.read_csv(\"auto.csv\", names=headers, na_values=['?'], header=None)\n",
    "\n",
    "# Danh sách cột bạn muốn giữ (theo yêu cầu)\n",
    "keep_requested = [\n",
    "    \"make\",\"fuel-type\",\"num-of-doors\",\"body-style\",\"drive-wheels\",\"engine-location\",\n",
    "    \"wheel-base\",\"length\",\"width\",\"height\",\"curb-weight\",\"engine size\",\n",
    "    \"bore\",\"stroke\",\"horsepower\",\"peak-rpm\",\"citympg\",\"highway-mpg\",\"price\"\n",
    "]\n",
    "\n",
    "# Hàm chuẩn hóa tên (chuyển về chữ thường, thay -/_ bằng space, bỏ khoảng thừa)\n",
    "def norm_name(s):\n",
    "    return s.strip().lower().replace(\"_\", \" \").replace(\"-\", \" \")\n",
    "\n",
    "# Tạo map: norm_name(existing_col) -> existing_col (giữ first match nếu trùng)\n",
    "existing_cols = list(df.columns)\n",
    "norm_map = {}\n",
    "for c in existing_cols:\n",
    "    n = norm_name(str(c))\n",
    "    if n not in norm_map:\n",
    "        norm_map[n] = c\n",
    "\n",
    "# Thử khớp từng tên yêu cầu với tên thực tế\n",
    "resolved_cols = []\n",
    "not_found = []\n",
    "for req in keep_requested:\n",
    "    nreq = norm_name(req)\n",
    "    # một số biến thể đặc biệt: \"citympg\" có thể là \"city mpg\" hoặc \"city-mpg\"\n",
    "    # norm_name đã xử lý - và _\n",
    "    if nreq in norm_map:\n",
    "        resolved_cols.append(norm_map[nreq])\n",
    "    else:\n",
    "        # nếu không tìm thấy chính xác, thử một vài biến thể thường gặp\n",
    "        variants = [nreq.replace(\" \", \"\"), nreq.replace(\"mpg\", \" mpg\")]\n",
    "        found = False\n",
    "        for v in variants:\n",
    "            if v in norm_map:\n",
    "                resolved_cols.append(norm_map[v])\n",
    "                found = True\n",
    "                break\n",
    "        if not found:\n",
    "            not_found.append(req)\n",
    "\n",
    "# Thông báo\n",
    "print(\"Cột được khớp và sẽ giữ lại (theo thứ tự yêu cầu):\")\n",
    "print(resolved_cols)\n",
    "if not_found:\n",
    "    print(\"\\nKhông tìm thấy các cột sau trong dataframe (không thể giữ):\")\n",
    "    print(not_found)\n",
    "\n",
    "# Giữ lại những cột đã khớp (nếu có ít nhất 1 cột)\n",
    "if resolved_cols:\n",
    "    df_reduced = df[resolved_cols].copy()\n",
    "else:\n",
    "    raise RuntimeError(\"Không khớp được cột nào — kiểm tra tên cột trong dataframe của bạn.\")\n",
    "\n",
    "# Kiểm tra kết quả\n",
    "print(\"\\nKích thước sau khi giảm cột:\", df_reduced.shape)\n",
    "print(\"\\n5 dòng đầu của dataframe sau khi giữ cột:\")\n",
    "print(df_reduced.head(5))\n",
    "\n",
    "# (Tùy chọn) lưu ra file mới\n",
    "df_reduced.to_csv(\"auto_reduced.csv\", index=False)\n",
    "print(\"\\nĐã lưu dataframe kết quả vào 'auto_reduced.csv'.\")\n"
   ]
  },
  {
   "cell_type": "code",
   "execution_count": 88,
   "id": "ccdd98fa",
   "metadata": {},
   "outputs": [
    {
     "name": "stdout",
     "output_type": "stream",
     "text": [
      "Số giá trị NULL theo cột:\n",
      "symboling            0\n",
      "normalized-losses    3\n",
      "make                 0\n",
      "fuel-type            0\n",
      "aspiration           0\n",
      "num-of-doors         0\n",
      "body-style           0\n",
      "drive-wheels         0\n",
      "engine-location      0\n",
      "wheel-base           0\n",
      "length               0\n",
      "width                0\n",
      "height               0\n",
      "curb-weight          0\n",
      "engine-type          0\n",
      "num-of-cylinders     0\n",
      "engine-size          0\n",
      "fuel-system          0\n",
      "bore                 0\n",
      "stroke               0\n",
      "compression-ratio    0\n",
      "horsepower           0\n",
      "peak-rpm             0\n",
      "city-mpg             0\n",
      "highway-mpg          0\n",
      "price                0\n",
      "dtype: int64\n",
      "\n",
      "Tỷ lệ % giá trị NULL theo cột:\n",
      "symboling             0.0\n",
      "normalized-losses    60.0\n",
      "make                  0.0\n",
      "fuel-type             0.0\n",
      "aspiration            0.0\n",
      "num-of-doors          0.0\n",
      "body-style            0.0\n",
      "drive-wheels          0.0\n",
      "engine-location       0.0\n",
      "wheel-base            0.0\n",
      "length                0.0\n",
      "width                 0.0\n",
      "height                0.0\n",
      "curb-weight           0.0\n",
      "engine-type           0.0\n",
      "num-of-cylinders      0.0\n",
      "engine-size           0.0\n",
      "fuel-system           0.0\n",
      "bore                  0.0\n",
      "stroke                0.0\n",
      "compression-ratio     0.0\n",
      "horsepower            0.0\n",
      "peak-rpm              0.0\n",
      "city-mpg              0.0\n",
      "highway-mpg           0.0\n",
      "price                 0.0\n",
      "dtype: float64\n",
      "\n",
      "Tóm tắt NULL (sắp xếp theo số null giảm dần):\n",
      "                   null_count  null_percent\n",
      "normalized-losses           3          60.0\n",
      "symboling                   0           0.0\n",
      "make                        0           0.0\n",
      "fuel-type                   0           0.0\n",
      "aspiration                  0           0.0\n",
      "num-of-doors                0           0.0\n",
      "body-style                  0           0.0\n",
      "drive-wheels                0           0.0\n",
      "engine-location             0           0.0\n",
      "wheel-base                  0           0.0\n",
      "length                      0           0.0\n",
      "width                       0           0.0\n",
      "height                      0           0.0\n",
      "curb-weight                 0           0.0\n",
      "engine-type                 0           0.0\n",
      "num-of-cylinders            0           0.0\n",
      "engine-size                 0           0.0\n",
      "fuel-system                 0           0.0\n",
      "bore                        0           0.0\n",
      "stroke                      0           0.0\n",
      "compression-ratio           0           0.0\n",
      "horsepower                  0           0.0\n",
      "peak-rpm                    0           0.0\n",
      "city-mpg                    0           0.0\n",
      "highway-mpg                 0           0.0\n",
      "price                       0           0.0\n",
      "\n",
      "Số dòng có ít nhất 1 giá trị NULL: 3 / 5 (60.00%)\n",
      "\n",
      "Cột 'normalized-losses' có 3 dòng NULL. Ví dụ các index: [0, 1, 2]\n",
      "\n",
      "Đã lưu tóm tắt null vào 'null_summary.csv'\n"
     ]
    }
   ],
   "source": [
    "#cau 5 \n",
    "import pandas as pd\n",
    "\n",
    "# Giả sử df là dataframe hiện tại (có thể là df_reduced hoặc df)\n",
    "# Ví dụ: df = pd.read_csv(\"auto_reduced.csv\")\n",
    "\n",
    "# 1) Số giá trị null theo từng cột (số ô rỗng)\n",
    "null_counts = df.isna().sum()\n",
    "print(\"Số giá trị NULL theo cột:\")\n",
    "print(null_counts)\n",
    "\n",
    "# 2) Tỷ lệ phần trăm giá trị null theo từng cột\n",
    "null_percent = (df.isna().mean() * 100).round(2)\n",
    "print(\"\\nTỷ lệ % giá trị NULL theo cột:\")\n",
    "print(null_percent)\n",
    "\n",
    "# 3) Gộp vào DataFrame để dễ quan sát (cột, số null, tỷ lệ %)\n",
    "null_summary = pd.DataFrame({\n",
    "    \"null_count\": null_counts,\n",
    "    \"null_percent\": null_percent\n",
    "}).sort_values(by=\"null_count\", ascending=False)\n",
    "print(\"\\nTóm tắt NULL (sắp xếp theo số null giảm dần):\")\n",
    "print(null_summary)\n",
    "\n",
    "# 4) Số dòng có ít nhất một giá trị NULL\n",
    "rows_with_any_null = df.isna().any(axis=1).sum()\n",
    "total_rows = len(df)\n",
    "print(f\"\\nSố dòng có ít nhất 1 giá trị NULL: {rows_with_any_null} / {total_rows} ({rows_with_any_null/total_rows*100:.2f}%)\")\n",
    "\n",
    "# 5) Nếu muốn danh sách chỉ số (index) của các dòng có null cho từng cột:\n",
    "for col in df.columns:\n",
    "    idx = df[df[col].isna()].index\n",
    "    if len(idx) > 0:\n",
    "        print(f\"\\nCột '{col}' có {len(idx)} dòng NULL. Ví dụ các index: {list(idx[:10])}\")  # liệt kê tối đa 10 index mẫu\n",
    "\n",
    "# 6) (Tùy chọn) Lưu kết quả tổng kết vào file csv\n",
    "null_summary.to_csv(\"null_summary.csv\")\n",
    "print(\"\\nĐã lưu tóm tắt null vào 'null_summary.csv'\")\n"
   ]
  },
  {
   "cell_type": "code",
   "execution_count": 90,
   "id": "45082f42",
   "metadata": {},
   "outputs": [
    {
     "name": "stdout",
     "output_type": "stream",
     "text": [
      "Trước khi thay:\n",
      "num-of-doors\n",
      "two     3\n",
      "four    2\n",
      "Name: count, dtype: int64\n",
      "Số dòng NaN: 0\n",
      "\n",
      "Sau khi thay:\n",
      "num-of-doors\n",
      "two     3\n",
      "four    2\n",
      "Name: count, dtype: int64\n",
      "Số dòng NaN (sau): 0\n"
     ]
    },
    {
     "name": "stderr",
     "output_type": "stream",
     "text": [
      "C:\\Users\\ADMIN\\AppData\\Local\\Temp\\ipykernel_20780\\2884619439.py:28: FutureWarning: A value is trying to be set on a copy of a DataFrame or Series through chained assignment using an inplace method.\n",
      "The behavior will change in pandas 3.0. This inplace method will never work because the intermediate object on which we are setting values always behaves as a copy.\n",
      "\n",
      "For example, when doing 'df[col].method(value, inplace=True)', try using 'df.method({col: value}, inplace=True)' or df[col] = df[col].method(value) instead, to perform the operation inplace on the original object.\n",
      "\n",
      "\n",
      "  df[col].fillna(mode_value, inplace=True)\n"
     ]
    }
   ],
   "source": [
    "#cau 6 \n",
    "\n",
    "# --- tìm tên cột thực tế trong df ---\n",
    "candidates = [\"num-of-doors\",\"num_of_doors\",\"numof-doors\",\"numofdoors\",\"num of doors\",\"numof_doors\"]\n",
    "def find_col(df, candidates):\n",
    "    cols_lower = {c.lower(): c for c in df.columns}\n",
    "    for cand in candidates:\n",
    "        if cand.lower() in cols_lower:\n",
    "            return cols_lower[cand.lower()]\n",
    "    return None\n",
    "\n",
    "col = find_col(df, candidates)\n",
    "if col is None:\n",
    "    raise KeyError(\"Không tìm thấy cột 'num-of-doors' trong dataframe. Kiểm tra lại tên cột bằng df.columns.\")\n",
    "\n",
    "# --- hiển thị thông tin trước khi thay ---\n",
    "print(\"Trước khi thay:\")\n",
    "print(df[col].value_counts(dropna=False))\n",
    "print(\"Số dòng NaN:\", df[col].isna().sum())\n",
    "\n",
    "# --- tính giá trị phổ biến nhất (mode) loại trừ NaN ---\n",
    "modes = df[col].mode(dropna=True)   # trả về Series (có thể nhiều mode)\n",
    "if len(modes) == 0:\n",
    "    raise ValueError(\"Cột tồn tại nhưng toàn bộ giá trị là NaN — không có giá trị mode để thay.\")\n",
    "mode_value = modes.iloc[0]  # chọn mode đầu tiên nếu có nhiều\n",
    "\n",
    "# --- thay NaN bằng mode ---\n",
    "df[col].fillna(mode_value, inplace=True)\n",
    "\n",
    "# --- kiểm tra lại sau khi thay ---\n",
    "print(\"\\nSau khi thay:\")\n",
    "print(df[col].value_counts(dropna=False))\n",
    "print(\"Số dòng NaN (sau):\", df[col].isna().sum())\n",
    "\n",
    "# --- (tùy chọn) lưu kết quả ---\n",
    "# df.to_csv(\"auto_filled.csv\", index=False)\n"
   ]
  },
  {
   "cell_type": "code",
   "execution_count": 91,
   "id": "89f9f977",
   "metadata": {},
   "outputs": [
    {
     "name": "stdout",
     "output_type": "stream",
     "text": [
      "Trước: tổng dòng = 5, số NaN ở 'price' = 0\n",
      "Sau khi ép kiểu số: số NaN ở 'price' = 0\n",
      "Đã xóa 0 dòng. Tổng dòng sau khi xóa = 5\n"
     ]
    }
   ],
   "source": [
    "#cau 7 \n",
    "import pandas as pd\n",
    "\n",
    "# Hàm chuẩn hóa tên cột\n",
    "def norm_name(s):\n",
    "    return str(s).strip().lower().replace(\"-\", \" \").replace(\"_\", \" \")\n",
    "\n",
    "# Tìm cột price (match chính xác hoặc chứa 'price')\n",
    "def find_price_col(df):\n",
    "    for c in df.columns:\n",
    "        n = norm_name(c)\n",
    "        if n == \"price\" or \"price\" in n:\n",
    "            return c\n",
    "    return None\n",
    "\n",
    "price_col = find_price_col(df)\n",
    "if price_col is None:\n",
    "    raise KeyError(\"Không tìm thấy cột 'price' trong dataframe. Kiểm tra df.columns để xem tên thực tế.\")\n",
    "\n",
    "# Thông tin trước khi xử lý\n",
    "total_before = len(df)\n",
    "nan_before = df[price_col].isna().sum()\n",
    "print(f\"Trước: tổng dòng = {total_before}, số NaN ở '{price_col}' = {nan_before}\")\n",
    "\n",
    "# Ép kiểu số an toàn (loại bỏ dấu phẩy/thừa khoảng)\n",
    "# (chuyển mọi giá trị không chuyển được thành NaN)\n",
    "df[price_col] = pd.to_numeric(df[price_col].astype(str).str.replace(\",\", \"\", regex=False).str.strip(), errors=\"coerce\")\n",
    "\n",
    "nan_after_conversion = df[price_col].isna().sum()\n",
    "print(f\"Sau khi ép kiểu số: số NaN ở '{price_col}' = {nan_after_conversion}\")\n",
    "\n",
    "# Xóa mọi dòng có NaN ở cột price\n",
    "df_clean = df.dropna(subset=[price_col]).reset_index(drop=True)\n",
    "\n",
    "total_after = len(df_clean)\n",
    "removed = total_before - total_after\n",
    "print(f\"Đã xóa {removed} dòng. Tổng dòng sau khi xóa = {total_after}\")\n",
    "\n",
    "# (Tùy chọn) lưu kết quả\n",
    "# df_clean.to_csv(\"auto_no_null_price.csv\", index=False)\n",
    "# print(\"Đã lưu dataframe đã xóa NaN ở 'price' vào file 'auto_no_null_price.csv'\")\n",
    "\n",
    "# Nếu muốn xem vài dòng bị xóa (ví dụ 10 dòng đầu bị xóa):\n",
    "# removed_indices = df[df[price_col].isna()].index\n",
    "# print(\"Ví dụ index dòng bị xóa:\", list(removed_indices[:10]))\n"
   ]
  },
  {
   "cell_type": "code",
   "execution_count": 92,
   "id": "65aece86",
   "metadata": {},
   "outputs": [
    {
     "name": "stdout",
     "output_type": "stream",
     "text": [
      "Các cột được coi là số (sẽ thay NaN bằng mean):\n",
      "['symboling', 'normalized-losses', 'wheel-base', 'length', 'width', 'height', 'curb-weight', 'engine-size', 'bore', 'stroke', 'compression-ratio', 'horsepower', 'peak-rpm', 'city-mpg', 'highway-mpg', 'price']\n",
      "\n",
      "Số NaN trước khi thay (chỉ các cột số):\n",
      "  symboling: 0 NaN\n",
      "  normalized-losses: 3 NaN\n",
      "  wheel-base: 0 NaN\n",
      "  length: 0 NaN\n",
      "  width: 0 NaN\n",
      "  height: 0 NaN\n",
      "  curb-weight: 0 NaN\n",
      "  engine-size: 0 NaN\n",
      "  bore: 0 NaN\n",
      "  stroke: 0 NaN\n",
      "  compression-ratio: 0 NaN\n",
      "  horsepower: 0 NaN\n",
      "  peak-rpm: 0 NaN\n",
      "  city-mpg: 0 NaN\n",
      "  highway-mpg: 0 NaN\n",
      "  price: 0 NaN\n",
      "\n",
      "Số NaN sau khi thay (chỉ các cột số):\n",
      "  symboling: 0 NaN\n",
      "  normalized-losses: 0 NaN\n",
      "  wheel-base: 0 NaN\n",
      "  length: 0 NaN\n",
      "  width: 0 NaN\n",
      "  height: 0 NaN\n",
      "  curb-weight: 0 NaN\n",
      "  engine-size: 0 NaN\n",
      "  bore: 0 NaN\n",
      "  stroke: 0 NaN\n",
      "  compression-ratio: 0 NaN\n",
      "  horsepower: 0 NaN\n",
      "  peak-rpm: 0 NaN\n",
      "  city-mpg: 0 NaN\n",
      "  highway-mpg: 0 NaN\n",
      "  price: 0 NaN\n"
     ]
    }
   ],
   "source": [
    "# Câu 8: Các cột kiểu số khác nếu chứa giá trị NaN thì thay thế bằng giá trị trung bình \n",
    "import pandas as pd\n",
    "import numpy as np\n",
    "\n",
    "# --- Tùy chỉnh: tỉ lệ tối thiểu của giá trị có thể chuyển được thành số để coi cột là 'numeric-like' ---\n",
    "MIN_NUMERIC_RATIO = 0.5  # nếu >=50% giá trị có thể chuyển thành số -> coi là cột số\n",
    "\n",
    "def detect_numeric_like_columns(df, min_ratio=MIN_NUMERIC_RATIO):\n",
    "    numeric_cols = list(df.select_dtypes(include=[np.number]).columns)  # đã là số\n",
    "    candidate_cols = []\n",
    "    for col in df.columns:\n",
    "        if col in numeric_cols:\n",
    "            continue\n",
    "        # thử ép về số (loại bỏ dấu phẩy, khoảng trắng)\n",
    "        coerced = pd.to_numeric(df[col].astype(str).str.replace(\",\", \"\", regex=False).str.strip(), errors=\"coerce\")\n",
    "        num_numeric = coerced.notna().sum()\n",
    "        if len(df) == 0:\n",
    "            ratio = 0\n",
    "        else:\n",
    "            ratio = num_numeric / len(df)\n",
    "        # nếu tỉ lệ giá trị số sau khi coercion đủ lớn -> coi là numeric-like\n",
    "        if ratio >= min_ratio:\n",
    "            candidate_cols.append(col)\n",
    "    return numeric_cols + candidate_cols\n",
    "\n",
    "# 1) Phát hiện cột số (bao gồm numeric-like)\n",
    "numeric_cols = detect_numeric_like_columns(df)\n",
    "print(\"Các cột được coi là số (sẽ thay NaN bằng mean):\")\n",
    "print(numeric_cols)\n",
    "\n",
    "# 2) Trước khi thay: in số NaN từng cột số\n",
    "print(\"\\nSố NaN trước khi thay (chỉ các cột số):\")\n",
    "for c in numeric_cols:\n",
    "    print(f\"  {c}: {df[c].isna().sum()} NaN\")\n",
    "\n",
    "# 3) Với từng cột: ép kiểu số an toàn, tính mean và fillna(mean)\n",
    "for c in numeric_cols:\n",
    "    # ép kiểu số an toàn (loại bỏ dấu phẩy, khoảng thừa)\n",
    "    coerced = pd.to_numeric(df[c].astype(str).str.replace(\",\", \"\", regex=False).str.strip(), errors=\"coerce\")\n",
    "    # tính mean (bỏ NaN)\n",
    "    mean_val = coerced.mean()\n",
    "    # nếu toàn NaN thì skip\n",
    "    if pd.isna(mean_val):\n",
    "        print(f\"  -> Bỏ qua cột '{c}' vì không có giá trị số hợp lệ để tính mean.\")\n",
    "        continue\n",
    "    # gán lại cột (giữ dtype numeric)\n",
    "    df[c] = coerced.fillna(mean_val)\n",
    "    # nếu bạn muốn giữ nguyên dtype integer khi mean là integer, có thể ép kiểu ở đây (nhưng cẩn thận mất thông tin)\n",
    "    # nếu mean là số không nguyên, thường nên giữ float.\n",
    "\n",
    "# 4) Sau khi thay: in số NaN từng cột số\n",
    "print(\"\\nSố NaN sau khi thay (chỉ các cột số):\")\n",
    "for c in numeric_cols:\n",
    "    print(f\"  {c}: {df[c].isna().sum()} NaN\")\n",
    "\n",
    "# 5) (Tùy chọn) lưu dataframe kết quả\n",
    "# df.to_csv(\"auto_filled_numeric_means.csv\", index=False)\n",
    "# print(\"\\nĐã lưu dataframe kết quả vào 'auto_filled_numeric_means.csv'\")\n"
   ]
  },
  {
   "cell_type": "code",
   "execution_count": 93,
   "id": "4c6847f9",
   "metadata": {},
   "outputs": [
    {
     "name": "stdout",
     "output_type": "stream",
     "text": [
      "Trước: tổng dòng = 5, số NaN ở 'price' = 0\n",
      "Đã xóa 0 dòng có NaN ở 'price'. Tổng dòng sau = 5\n",
      "\n",
      "Index hiện tại: RangeIndex(start=0, stop=5, step=1)\n",
      "\n",
      "5 dòng đầu sau khi reset index:\n",
      "   symboling  normalized-losses         make fuel-type aspiration  \\\n",
      "0          3              164.0  alfa-romero       gas        std   \n",
      "1          3              164.0  alfa-romero       gas        std   \n",
      "2          1              164.0  alfa-romero       gas        std   \n",
      "3          2              164.0         audi       gas        std   \n",
      "4          2              164.0         audi       gas        std   \n",
      "\n",
      "  num-of-doors   body-style drive-wheels engine-location  wheel-base  ...  \\\n",
      "0          two  convertible          rwd           front        88.6  ...   \n",
      "1          two  convertible          rwd           front        88.6  ...   \n",
      "2          two    hatchback          rwd           front        94.5  ...   \n",
      "3         four        sedan          fwd           front        99.8  ...   \n",
      "4         four        sedan          4wd           front        99.4  ...   \n",
      "\n",
      "   engine-size  fuel-system  bore  stroke compression-ratio horsepower  \\\n",
      "0          130         mpfi  3.47    2.68                 9        111   \n",
      "1          130         mpfi  3.47    2.68                 9        111   \n",
      "2          152         mpfi  2.68    3.47                 9        154   \n",
      "3          109         mpfi  3.19    3.40                10        102   \n",
      "4          136         mpfi  3.19    3.40                 8        115   \n",
      "\n",
      "   peak-rpm city-mpg  highway-mpg  price  \n",
      "0      5000       21           27  13495  \n",
      "1      5000       21           27  16500  \n",
      "2      5000       19           26  16500  \n",
      "3      5500       24           30  13950  \n",
      "4      5500       18           22  17450  \n",
      "\n",
      "[5 rows x 26 columns]\n"
     ]
    }
   ],
   "source": [
    "#cau 9 \n",
    "import pandas as pd\n",
    "\n",
    "# Hàm chuẩn hóa tên cột (dễ tìm tên price)\n",
    "def norm_name(s):\n",
    "    return str(s).strip().lower().replace(\"-\", \" \").replace(\"_\", \" \")\n",
    "\n",
    "def find_price_col(df):\n",
    "    for c in df.columns:\n",
    "        n = norm_name(c)\n",
    "        if n == \"price\" or \"price\" in n:\n",
    "            return c\n",
    "    return None\n",
    "\n",
    "# Tìm cột price\n",
    "price_col = find_price_col(df)\n",
    "if price_col is None:\n",
    "    raise KeyError(\"Không tìm thấy cột 'price' trong dataframe. Kiểm tra df.columns để biết tên thực tế.\")\n",
    "\n",
    "# Thông tin trước khi xử lý\n",
    "total_before = len(df)\n",
    "nan_before = df[price_col].isna().sum()\n",
    "print(f\"Trước: tổng dòng = {total_before}, số NaN ở '{price_col}' = {nan_before}\")\n",
    "\n",
    "# 1) Ép kiểu số an toàn cho cột price (nếu chưa ép)\n",
    "df[price_col] = pd.to_numeric(df[price_col].astype(str).str.replace(\",\", \"\", regex=False).str.strip(), errors=\"coerce\")\n",
    "\n",
    "# 2) Xóa các dòng có NaN ở price (nếu còn)\n",
    "df = df.dropna(subset=[price_col])  # gán về df để cập nhật dữ liệu gốc\n",
    "\n",
    "# 3) Đặt lại index (bỏ index cũ)\n",
    "df.reset_index(drop=True, inplace=True)\n",
    "\n",
    "# 4) Thông tin sau khi xử lý\n",
    "total_after = len(df)\n",
    "removed = total_before - total_after\n",
    "print(f\"Đã xóa {removed} dòng có NaN ở '{price_col}'. Tổng dòng sau = {total_after}\")\n",
    "print(\"\\nIndex hiện tại:\", df.index)\n",
    "print(\"\\n5 dòng đầu sau khi reset index:\")\n",
    "print(df.head(5))\n",
    "\n",
    "# 5) (Tùy chọn) Lưu kết quả\n",
    "# df.to_csv(\"auto_after_price_cleanup.csv\", index=False)\n",
    "# print(\"\\nĐã lưu dataframe đã xử lý vào 'auto_after_price_cleanup.csv'\")\n"
   ]
  },
  {
   "cell_type": "code",
   "execution_count": 94,
   "id": "8fc8ad4f",
   "metadata": {},
   "outputs": [
    {
     "name": "stdout",
     "output_type": "stream",
     "text": [
      "=== Thông tin chung ===\n",
      "Shape (rows, cols): (5, 26)\n",
      "\n",
      "=== df.info() ===\n",
      "<class 'pandas.core.frame.DataFrame'>\n",
      "RangeIndex: 5 entries, 0 to 4\n",
      "Data columns (total 26 columns):\n",
      " #   Column             Non-Null Count  Dtype   \n",
      "---  ------             --------------  -----   \n",
      " 0   symboling          5 non-null      int64   \n",
      " 1   normalized-losses  5 non-null      float64 \n",
      " 2   make               5 non-null      category\n",
      " 3   fuel-type          5 non-null      category\n",
      " 4   aspiration         5 non-null      object  \n",
      " 5   num-of-doors       5 non-null      category\n",
      " 6   body-style         5 non-null      category\n",
      " 7   drive-wheels       5 non-null      category\n",
      " 8   engine-location    5 non-null      category\n",
      " 9   wheel-base         5 non-null      float64 \n",
      " 10  length             5 non-null      float64 \n",
      " 11  width              5 non-null      float64 \n",
      " 12  height             5 non-null      float64 \n",
      " 13  curb-weight        5 non-null      int64   \n",
      " 14  engine-type        5 non-null      object  \n",
      " 15  num-of-cylinders   5 non-null      object  \n",
      " 16  engine-size        5 non-null      int64   \n",
      " 17  fuel-system        5 non-null      object  \n",
      " 18  bore               5 non-null      float64 \n",
      " 19  stroke             5 non-null      float64 \n",
      " 20  compression-ratio  5 non-null      int64   \n",
      " 21  horsepower         5 non-null      int64   \n",
      " 22  peak-rpm           5 non-null      int64   \n",
      " 23  city-mpg           5 non-null      int64   \n",
      " 24  highway-mpg        5 non-null      int64   \n",
      " 25  price              5 non-null      int64   \n",
      "dtypes: category(6), float64(7), int64(9), object(4)\n",
      "memory usage: 3.1 KB\n",
      "\n",
      "=== Thống kê mô tả (số) ===\n",
      "                   count       mean        std       min       25%       50%  \\\n",
      "symboling            5.0      2.200     0.8367      1.00      2.00      2.00   \n",
      "normalized-losses    5.0    164.000     0.0000    164.00    164.00    164.00   \n",
      "wheel-base           5.0     94.180     5.5047     88.60     88.60     94.50   \n",
      "length               5.0    172.400     3.9573    168.80    168.80    171.20   \n",
      "width                5.0     65.260     1.1104     64.10     64.10     65.50   \n",
      "height               5.0     51.720     2.7761     48.80     48.80     52.40   \n",
      "curb-weight          5.0   2616.000   208.0877   2337.00   2548.00   2548.00   \n",
      "engine-size          5.0    131.400    15.4208    109.00    130.00    130.00   \n",
      "bore                 5.0      3.200     0.3226      2.68      3.19      3.19   \n",
      "stroke               5.0      3.126     0.4081      2.68      2.68      3.40   \n",
      "compression-ratio    5.0      9.000     0.7071      8.00      9.00      9.00   \n",
      "horsepower           5.0    118.600    20.3544    102.00    111.00    111.00   \n",
      "peak-rpm             5.0   5200.000   273.8613   5000.00   5000.00   5000.00   \n",
      "city-mpg             5.0     20.600     2.3022     18.00     19.00     21.00   \n",
      "highway-mpg          5.0     26.400     2.8810     22.00     26.00     27.00   \n",
      "price                5.0  15579.000  1745.9825  13495.00  13950.00  16500.00   \n",
      "\n",
      "                        75%       max  \n",
      "symboling              3.00      3.00  \n",
      "normalized-losses    164.00    164.00  \n",
      "wheel-base            99.40     99.80  \n",
      "length               176.60    176.60  \n",
      "width                 66.20     66.40  \n",
      "height                54.30     54.30  \n",
      "curb-weight         2823.00   2824.00  \n",
      "engine-size          136.00    152.00  \n",
      "bore                   3.47      3.47  \n",
      "stroke                 3.40      3.47  \n",
      "compression-ratio      9.00     10.00  \n",
      "horsepower           115.00    154.00  \n",
      "peak-rpm            5500.00   5500.00  \n",
      "city-mpg              21.00     24.00  \n",
      "highway-mpg           27.00     30.00  \n",
      "price              16500.00  17450.00  \n",
      "\n",
      "=== Thống kê mô tả (tất cả cột) ===\n",
      "                  count unique          top freq     mean          std  \\\n",
      "symboling           5.0    NaN          NaN  NaN      2.2      0.83666   \n",
      "normalized-losses   5.0    NaN          NaN  NaN    164.0          0.0   \n",
      "make                  5      2  alfa-romero    3      NaN          NaN   \n",
      "fuel-type             5      1          gas    5      NaN          NaN   \n",
      "aspiration            5      1          std    5      NaN          NaN   \n",
      "num-of-doors          5      2          two    3      NaN          NaN   \n",
      "body-style            5      3  convertible    2      NaN          NaN   \n",
      "drive-wheels          5      3          rwd    3      NaN          NaN   \n",
      "engine-location       5      1        front    5      NaN          NaN   \n",
      "wheel-base          5.0    NaN          NaN  NaN    94.18     5.504725   \n",
      "length              5.0    NaN          NaN  NaN    172.4     3.957272   \n",
      "width               5.0    NaN          NaN  NaN    65.26     1.110405   \n",
      "height              5.0    NaN          NaN  NaN    51.72     2.776148   \n",
      "curb-weight         5.0    NaN          NaN  NaN   2616.0   208.087722   \n",
      "engine-type           5      3         dohc    2      NaN          NaN   \n",
      "num-of-cylinders      5      3         four    3      NaN          NaN   \n",
      "engine-size         5.0    NaN          NaN  NaN    131.4    15.420765   \n",
      "fuel-system           5      1         mpfi    5      NaN          NaN   \n",
      "bore                5.0    NaN          NaN  NaN      3.2     0.322645   \n",
      "stroke              5.0    NaN          NaN  NaN    3.126     0.408142   \n",
      "compression-ratio   5.0    NaN          NaN  NaN      9.0     0.707107   \n",
      "horsepower          5.0    NaN          NaN  NaN    118.6    20.354361   \n",
      "peak-rpm            5.0    NaN          NaN  NaN   5200.0   273.861279   \n",
      "city-mpg            5.0    NaN          NaN  NaN     20.6     2.302173   \n",
      "highway-mpg         5.0    NaN          NaN  NaN     26.4     2.880972   \n",
      "price               5.0    NaN          NaN  NaN  15579.0  1745.982531   \n",
      "\n",
      "                       min      25%      50%      75%      max  \n",
      "symboling              1.0      2.0      2.0      3.0      3.0  \n",
      "normalized-losses    164.0    164.0    164.0    164.0    164.0  \n",
      "make                   NaN      NaN      NaN      NaN      NaN  \n",
      "fuel-type              NaN      NaN      NaN      NaN      NaN  \n",
      "aspiration             NaN      NaN      NaN      NaN      NaN  \n",
      "num-of-doors           NaN      NaN      NaN      NaN      NaN  \n",
      "body-style             NaN      NaN      NaN      NaN      NaN  \n",
      "drive-wheels           NaN      NaN      NaN      NaN      NaN  \n",
      "engine-location        NaN      NaN      NaN      NaN      NaN  \n",
      "wheel-base            88.6     88.6     94.5     99.4     99.8  \n",
      "length               168.8    168.8    171.2    176.6    176.6  \n",
      "width                 64.1     64.1     65.5     66.2     66.4  \n",
      "height                48.8     48.8     52.4     54.3     54.3  \n",
      "curb-weight         2337.0   2548.0   2548.0   2823.0   2824.0  \n",
      "engine-type            NaN      NaN      NaN      NaN      NaN  \n",
      "num-of-cylinders       NaN      NaN      NaN      NaN      NaN  \n",
      "engine-size          109.0    130.0    130.0    136.0    152.0  \n",
      "fuel-system            NaN      NaN      NaN      NaN      NaN  \n",
      "bore                  2.68     3.19     3.19     3.47     3.47  \n",
      "stroke                2.68     2.68      3.4      3.4     3.47  \n",
      "compression-ratio      8.0      9.0      9.0      9.0     10.0  \n",
      "horsepower           102.0    111.0    111.0    115.0    154.0  \n",
      "peak-rpm            5000.0   5000.0   5000.0   5500.0   5500.0  \n",
      "city-mpg              18.0     19.0     21.0     21.0     24.0  \n",
      "highway-mpg           22.0     26.0     27.0     27.0     30.0  \n",
      "price              13495.0  13950.0  16500.0  16500.0  17450.0  \n",
      "\n",
      "=== Tóm tắt NULL / unique / dtype ===\n",
      "                      dtype  null_count  null_percent  unique_count\n",
      "symboling             int64           0           0.0             3\n",
      "normalized-losses   float64           0           0.0             1\n",
      "make               category           0           0.0             2\n",
      "fuel-type          category           0           0.0             1\n",
      "aspiration           object           0           0.0             1\n",
      "num-of-doors       category           0           0.0             2\n",
      "body-style         category           0           0.0             3\n",
      "drive-wheels       category           0           0.0             3\n",
      "engine-location    category           0           0.0             1\n",
      "wheel-base          float64           0           0.0             4\n",
      "length              float64           0           0.0             3\n",
      "width               float64           0           0.0             4\n",
      "height              float64           0           0.0             3\n",
      "curb-weight           int64           0           0.0             4\n",
      "engine-type          object           0           0.0             3\n",
      "num-of-cylinders     object           0           0.0             3\n",
      "engine-size           int64           0           0.0             4\n",
      "fuel-system          object           0           0.0             1\n",
      "bore                float64           0           0.0             3\n",
      "stroke              float64           0           0.0             3\n",
      "compression-ratio     int64           0           0.0             3\n",
      "horsepower            int64           0           0.0             4\n",
      "peak-rpm              int64           0           0.0             2\n",
      "city-mpg              int64           0           0.0             4\n",
      "highway-mpg           int64           0           0.0             4\n",
      "price                 int64           0           0.0             4\n",
      "\n",
      "=== Top 10 giá trị phổ biến cho cột không phải số ===\n",
      "\n",
      "Cột: make  (non-null count: 5)\n",
      "make\n",
      "alfa-romero    3\n",
      "audi           2\n",
      "Name: count, dtype: int64\n",
      "\n",
      "Cột: fuel-type  (non-null count: 5)\n",
      "fuel-type\n",
      "gas    5\n",
      "Name: count, dtype: int64\n",
      "\n",
      "Cột: aspiration  (non-null count: 5)\n",
      "aspiration\n",
      "std    5\n",
      "Name: count, dtype: int64\n",
      "\n",
      "Cột: num-of-doors  (non-null count: 5)\n",
      "num-of-doors\n",
      "two     3\n",
      "four    2\n",
      "Name: count, dtype: int64\n",
      "\n",
      "Cột: body-style  (non-null count: 5)\n",
      "body-style\n",
      "convertible    2\n",
      "sedan          2\n",
      "hatchback      1\n",
      "Name: count, dtype: int64\n",
      "\n",
      "Cột: drive-wheels  (non-null count: 5)\n",
      "drive-wheels\n",
      "rwd    3\n",
      "4wd    1\n",
      "fwd    1\n",
      "Name: count, dtype: int64\n",
      "\n",
      "Cột: engine-location  (non-null count: 5)\n",
      "engine-location\n",
      "front    5\n",
      "Name: count, dtype: int64\n",
      "\n",
      "Cột: engine-type  (non-null count: 5)\n",
      "engine-type\n",
      "dohc    2\n",
      "ohc     2\n",
      "ohcv    1\n",
      "Name: count, dtype: int64\n",
      "\n",
      "Cột: num-of-cylinders  (non-null count: 5)\n",
      "num-of-cylinders\n",
      "four    3\n",
      "six     1\n",
      "five    1\n",
      "Name: count, dtype: int64\n",
      "\n",
      "Cột: fuel-system  (non-null count: 5)\n",
      "fuel-system\n",
      "mpfi    5\n",
      "Name: count, dtype: int64\n",
      "\n",
      "=== Ma trận tương quan (correlation) giữa các cột số (pearson) ===\n",
      "                   symboling  normalized-losses  wheel-base  length  width  \\\n",
      "symboling              1.000                NaN      -0.623  -0.453 -0.689   \n",
      "normalized-losses        NaN                NaN         NaN     NaN    NaN   \n",
      "wheel-base            -0.623                NaN       1.000   0.979  0.992   \n",
      "length                -0.453                NaN       0.979   1.000  0.956   \n",
      "width                 -0.689                NaN       0.992   0.956  1.000   \n",
      "height                -0.702                NaN       0.994   0.953  0.998   \n",
      "curb-weight           -0.493                NaN       0.075  -0.017  0.197   \n",
      "engine-size           -0.453                NaN      -0.235  -0.366 -0.111   \n",
      "bore                   0.982                NaN      -0.463  -0.275 -0.539   \n",
      "stroke                -0.905                NaN       0.897   0.789  0.931   \n",
      "compression-ratio     -0.000                NaN       0.026   0.000 -0.064   \n",
      "horsepower            -0.743                NaN      -0.036  -0.225  0.071   \n",
      "peak-rpm              -0.218                NaN       0.899   0.969  0.855   \n",
      "city-mpg               0.312                NaN       0.011   0.066 -0.106   \n",
      "highway-mpg            0.166                NaN      -0.151  -0.158 -0.244   \n",
      "price                 -0.357                NaN       0.192   0.148  0.280   \n",
      "\n",
      "                   height  curb-weight  engine-size   bore  stroke  \\\n",
      "symboling          -0.702       -0.493       -0.453  0.982  -0.905   \n",
      "normalized-losses     NaN          NaN          NaN    NaN     NaN   \n",
      "wheel-base          0.994        0.075       -0.235 -0.463   0.897   \n",
      "length              0.953       -0.017       -0.366 -0.275   0.789   \n",
      "width               0.998        0.197       -0.111 -0.539   0.931   \n",
      "height              1.000        0.154       -0.139 -0.553   0.938   \n",
      "curb-weight         0.154        1.000        0.908 -0.535   0.331   \n",
      "engine-size        -0.139        0.908        1.000 -0.567   0.137   \n",
      "bore               -0.553       -0.535       -0.567  1.000  -0.807   \n",
      "stroke              0.938        0.331        0.137 -0.807   1.000   \n",
      "compression-ratio   0.000       -0.827       -0.619 -0.000   0.000   \n",
      "horsepower          0.072        0.723        0.881 -0.849   0.404   \n",
      "peak-rpm            0.848       -0.156       -0.527 -0.028   0.613   \n",
      "city-mpg           -0.053       -0.978       -0.861  0.350  -0.183   \n",
      "highway-mpg        -0.183       -0.869       -0.623  0.145  -0.190   \n",
      "price               0.240        0.766        0.610 -0.353   0.316   \n",
      "\n",
      "                   compression-ratio  horsepower  peak-rpm  city-mpg  \\\n",
      "symboling                     -0.000      -0.743    -0.218     0.312   \n",
      "normalized-losses                NaN         NaN       NaN       NaN   \n",
      "wheel-base                     0.026      -0.036     0.899     0.011   \n",
      "length                         0.000      -0.225     0.969     0.066   \n",
      "width                         -0.064       0.071     0.855    -0.106   \n",
      "height                         0.000       0.072     0.848    -0.053   \n",
      "curb-weight                   -0.827       0.723    -0.156    -0.978   \n",
      "engine-size                   -0.619       0.881    -0.527    -0.861   \n",
      "bore                          -0.000      -0.849    -0.028     0.350   \n",
      "stroke                         0.000       0.404     0.613    -0.183   \n",
      "compression-ratio              1.000      -0.226     0.000     0.921   \n",
      "horsepower                    -0.226       1.000    -0.453    -0.586   \n",
      "peak-rpm                       0.000      -0.453     1.000     0.159   \n",
      "city-mpg                       0.921      -0.586     0.159     1.000   \n",
      "highway-mpg                    0.982      -0.286    -0.127     0.935   \n",
      "price                         -0.709       0.434     0.063    -0.768   \n",
      "\n",
      "                   highway-mpg  price  \n",
      "symboling                0.166 -0.357  \n",
      "normalized-losses          NaN    NaN  \n",
      "wheel-base              -0.151  0.192  \n",
      "length                  -0.158  0.148  \n",
      "width                   -0.244  0.280  \n",
      "height                  -0.183  0.240  \n",
      "curb-weight             -0.869  0.766  \n",
      "engine-size             -0.623  0.610  \n",
      "bore                     0.145 -0.353  \n",
      "stroke                  -0.190  0.316  \n",
      "compression-ratio        0.982 -0.709  \n",
      "horsepower              -0.286  0.434  \n",
      "peak-rpm                -0.127  0.063  \n",
      "city-mpg                 0.935 -0.768  \n",
      "highway-mpg              1.000 -0.754  \n",
      "price                   -0.754  1.000  \n",
      "\n",
      "=== Skewness & Kurtosis của cột số ===\n",
      "                     skew  kurtosis\n",
      "symboling         -0.5122   -0.6122\n",
      "normalized-losses  0.0000    0.0000\n",
      "wheel-base        -0.0692   -2.9916\n",
      "length             0.3573   -3.1050\n",
      "width             -0.2422   -2.9892\n",
      "height            -0.2947   -3.0708\n",
      "curb-weight       -0.2071   -1.4599\n",
      "engine-size       -0.2734    1.5559\n",
      "bore              -1.2560    1.6598\n",
      "stroke            -0.5858   -3.2966\n",
      "compression-ratio  0.0000    2.0000\n",
      "horsepower         1.9202    4.0393\n",
      "peak-rpm           0.6086   -3.3333\n",
      "city-mpg           0.6065    0.2741\n",
      "highway-mpg       -0.6649    1.8537\n",
      "price             -0.4119   -2.6738\n",
      "\n",
      "=== 5 dòng mẫu (head) ===\n",
      "   symboling  normalized-losses         make fuel-type aspiration  \\\n",
      "0          3              164.0  alfa-romero       gas        std   \n",
      "1          3              164.0  alfa-romero       gas        std   \n",
      "2          1              164.0  alfa-romero       gas        std   \n",
      "3          2              164.0         audi       gas        std   \n",
      "4          2              164.0         audi       gas        std   \n",
      "\n",
      "  num-of-doors   body-style drive-wheels engine-location  wheel-base  ...  \\\n",
      "0          two  convertible          rwd           front        88.6  ...   \n",
      "1          two  convertible          rwd           front        88.6  ...   \n",
      "2          two    hatchback          rwd           front        94.5  ...   \n",
      "3         four        sedan          fwd           front        99.8  ...   \n",
      "4         four        sedan          4wd           front        99.4  ...   \n",
      "\n",
      "   engine-size  fuel-system  bore  stroke compression-ratio horsepower  \\\n",
      "0          130         mpfi  3.47    2.68                 9        111   \n",
      "1          130         mpfi  3.47    2.68                 9        111   \n",
      "2          152         mpfi  2.68    3.47                 9        154   \n",
      "3          109         mpfi  3.19    3.40                10        102   \n",
      "4          136         mpfi  3.19    3.40                 8        115   \n",
      "\n",
      "   peak-rpm city-mpg  highway-mpg  price  \n",
      "0      5000       21           27  13495  \n",
      "1      5000       21           27  16500  \n",
      "2      5000       19           26  16500  \n",
      "3      5500       24           30  13950  \n",
      "4      5500       18           22  17450  \n",
      "\n",
      "[5 rows x 26 columns]\n",
      "\n",
      "=== 5 dòng cuối (tail) ===\n",
      "   symboling  normalized-losses         make fuel-type aspiration  \\\n",
      "0          3              164.0  alfa-romero       gas        std   \n",
      "1          3              164.0  alfa-romero       gas        std   \n",
      "2          1              164.0  alfa-romero       gas        std   \n",
      "3          2              164.0         audi       gas        std   \n",
      "4          2              164.0         audi       gas        std   \n",
      "\n",
      "  num-of-doors   body-style drive-wheels engine-location  wheel-base  ...  \\\n",
      "0          two  convertible          rwd           front        88.6  ...   \n",
      "1          two  convertible          rwd           front        88.6  ...   \n",
      "2          two    hatchback          rwd           front        94.5  ...   \n",
      "3         four        sedan          fwd           front        99.8  ...   \n",
      "4         four        sedan          4wd           front        99.4  ...   \n",
      "\n",
      "   engine-size  fuel-system  bore  stroke compression-ratio horsepower  \\\n",
      "0          130         mpfi  3.47    2.68                 9        111   \n",
      "1          130         mpfi  3.47    2.68                 9        111   \n",
      "2          152         mpfi  2.68    3.47                 9        154   \n",
      "3          109         mpfi  3.19    3.40                10        102   \n",
      "4          136         mpfi  3.19    3.40                 8        115   \n",
      "\n",
      "   peak-rpm city-mpg  highway-mpg  price  \n",
      "0      5000       21           27  13495  \n",
      "1      5000       21           27  16500  \n",
      "2      5000       19           26  16500  \n",
      "3      5500       24           30  13950  \n",
      "4      5500       18           22  17450  \n",
      "\n",
      "[5 rows x 26 columns]\n",
      "\n"
     ]
    }
   ],
   "source": [
    "#cau 10 \n",
    "import pandas as pd\n",
    "import numpy as np\n",
    "\n",
    "def general_report(df, show_top_n_values=10, save_report=False, report_prefix=\"df_report\"):\n",
    "    if df is None:\n",
    "        raise ValueError(\"DataFrame rỗng (df is None).\")\n",
    "    print(\"=== Thông tin chung ===\")\n",
    "    print(\"Shape (rows, cols):\", df.shape)\n",
    "    print()\n",
    "\n",
    "    print(\"=== df.info() ===\")\n",
    "    # memory_usage='deep' cho con số chính xác hơn (có thể chậm với dataframe rất lớn)\n",
    "    try:\n",
    "        df.info(memory_usage='deep')\n",
    "    except TypeError:\n",
    "        df.info()\n",
    "    print()\n",
    "\n",
    "    # Describe cho numeric và cho tất cả (include='all')\n",
    "    print(\"=== Thống kê mô tả (số) ===\")\n",
    "    numeric_desc = df.describe().transpose()\n",
    "    # round for nicer printing\n",
    "    pd.set_option('display.max_rows', None)\n",
    "    print(numeric_desc.round(4))\n",
    "    print()\n",
    "\n",
    "    print(\"=== Thống kê mô tả (tất cả cột) ===\")\n",
    "    all_desc = df.describe(include='all').transpose()\n",
    "    # avoid too long floats\n",
    "    print(all_desc)\n",
    "    print()\n",
    "\n",
    "    # NULLs and uniques\n",
    "    null_counts = df.isna().sum()\n",
    "    null_percent = (null_counts / len(df) * 100).round(2)\n",
    "    unique_counts = df.nunique(dropna=True)\n",
    "    summary = pd.DataFrame({\n",
    "        'dtype': df.dtypes.astype(str),\n",
    "        'null_count': null_counts,\n",
    "        'null_percent': null_percent,\n",
    "        'unique_count': unique_counts\n",
    "    }).sort_values(by='null_count', ascending=False)\n",
    "    print(\"=== Tóm tắt NULL / unique / dtype ===\")\n",
    "    print(summary)\n",
    "    print()\n",
    "\n",
    "    # Top frequent values for object (non-numeric-like) columns\n",
    "    print(f\"=== Top {show_top_n_values} giá trị phổ biến cho cột không phải số ===\")\n",
    "    obj_cols = df.select_dtypes(include=['object', 'category']).columns.tolist()\n",
    "    if len(obj_cols) == 0:\n",
    "        print(\"Không có cột object/category.\")\n",
    "    else:\n",
    "        for c in obj_cols:\n",
    "            print(f\"\\nCột: {c}  (non-null count: {df[c].notna().sum()})\")\n",
    "            try:\n",
    "                vc = df[c].value_counts(dropna=False).head(show_top_n_values)\n",
    "                print(vc)\n",
    "            except Exception as e:\n",
    "                print(\"  Lỗi khi tính value_counts:\", e)\n",
    "    print()\n",
    "\n",
    "    # Correlation matrix for numeric columns\n",
    "    print(\"=== Ma trận tương quan (correlation) giữa các cột số (pearson) ===\")\n",
    "    numeric_df = df.select_dtypes(include=[np.number])\n",
    "    if numeric_df.shape[1] <= 1:\n",
    "        print(\"Không đủ cột số để tính correlation.\")\n",
    "    else:\n",
    "        corr = numeric_df.corr().round(3)\n",
    "        print(corr)\n",
    "    print()\n",
    "\n",
    "    # Skewness & kurtosis for numeric columns\n",
    "    print(\"=== Skewness & Kurtosis của cột số ===\")\n",
    "    if numeric_df.shape[1] == 0:\n",
    "        print(\"Không có cột số.\")\n",
    "    else:\n",
    "        skew_kurt = pd.DataFrame({\n",
    "            'skew': numeric_df.skew().round(4),\n",
    "            'kurtosis': numeric_df.kurtosis().round(4)\n",
    "        })\n",
    "        print(skew_kurt)\n",
    "    print()\n",
    "\n",
    "    # Some sample rows\n",
    "    print(\"=== 5 dòng mẫu (head) ===\")\n",
    "    print(df.head(5))\n",
    "    print()\n",
    "    print(\"=== 5 dòng cuối (tail) ===\")\n",
    "    print(df.tail(5))\n",
    "    print()\n",
    "\n",
    "    # Optional: save reports to csv files\n",
    "    if save_report:\n",
    "        try:\n",
    "            summary.to_csv(f\"{report_prefix}_nulls_uniques_dtypes.csv\")\n",
    "            numeric_desc.to_csv(f\"{report_prefix}_numeric_description.csv\")\n",
    "            if numeric_df.shape[1] > 1:\n",
    "                corr.to_csv(f\"{report_prefix}_correlation.csv\")\n",
    "            print(f\"Đã lưu báo cáo (csv) với tiền tố '{report_prefix}_*.csv'\")\n",
    "        except Exception as e:\n",
    "            print(\"Lỗi khi lưu báo cáo:\", e)\n",
    "\n",
    "# Gọi hàm (nếu df đã tồn tại)\n",
    "general_report(df, show_top_n_values=10, save_report=False)\n"
   ]
  },
  {
   "cell_type": "code",
   "execution_count": 95,
   "id": "bf79b00a",
   "metadata": {},
   "outputs": [
    {
     "name": "stdout",
     "output_type": "stream",
     "text": [
      "=== Tóm tắt chung cho cột object/category ===\n",
      "                     dtype  non_null_count  null_count  null_percent  \\\n",
      "column                                                                 \n",
      "make              category               5           0           0.0   \n",
      "fuel-type         category               5           0           0.0   \n",
      "aspiration          object               5           0           0.0   \n",
      "num-of-doors      category               5           0           0.0   \n",
      "body-style        category               5           0           0.0   \n",
      "drive-wheels      category               5           0           0.0   \n",
      "engine-location   category               5           0           0.0   \n",
      "engine-type         object               5           0           0.0   \n",
      "num-of-cylinders    object               5           0           0.0   \n",
      "fuel-system         object               5           0           0.0   \n",
      "\n",
      "                  unique_count    top_value  top_freq  mean_str_len  \\\n",
      "column                                                                \n",
      "make                         2  alfa-romero         3           8.2   \n",
      "fuel-type                    1          gas         5           3.0   \n",
      "aspiration                   1          std         5           3.0   \n",
      "num-of-doors                 2          two         3           3.4   \n",
      "body-style                   3  convertible         2           8.2   \n",
      "drive-wheels                 3          rwd         3           3.0   \n",
      "engine-location              1        front         5           5.0   \n",
      "engine-type                  3         dohc         2           3.6   \n",
      "num-of-cylinders             3         four         3           3.8   \n",
      "fuel-system                  1         mpfi         5           4.0   \n",
      "\n",
      "                  min_str_len  max_str_len  \n",
      "column                                      \n",
      "make                        4           11  \n",
      "fuel-type                   3            3  \n",
      "aspiration                  3            3  \n",
      "num-of-doors                3            4  \n",
      "body-style                  5           11  \n",
      "drive-wheels                3            3  \n",
      "engine-location             5            5  \n",
      "engine-type                 3            4  \n",
      "num-of-cylinders            3            4  \n",
      "fuel-system                 4            4  \n",
      "\n",
      "=== Top frequent values (tới top_n) cho từng cột ===\n",
      "\n",
      "-- Cột: make --\n",
      "make\n",
      "alfa-romero    3\n",
      "audi           2\n",
      "Name: count, dtype: int64\n",
      "\n",
      "-- Cột: fuel-type --\n",
      "fuel-type\n",
      "gas    5\n",
      "Name: count, dtype: int64\n",
      "\n",
      "-- Cột: aspiration --\n",
      "aspiration\n",
      "std    5\n",
      "Name: count, dtype: int64\n",
      "\n",
      "-- Cột: num-of-doors --\n",
      "num-of-doors\n",
      "two     3\n",
      "four    2\n",
      "Name: count, dtype: int64\n",
      "\n",
      "-- Cột: body-style --\n",
      "body-style\n",
      "convertible    2\n",
      "sedan          2\n",
      "hatchback      1\n",
      "Name: count, dtype: int64\n",
      "\n",
      "-- Cột: drive-wheels --\n",
      "drive-wheels\n",
      "rwd    3\n",
      "4wd    1\n",
      "fwd    1\n",
      "Name: count, dtype: int64\n",
      "\n",
      "-- Cột: engine-location --\n",
      "engine-location\n",
      "front    5\n",
      "Name: count, dtype: int64\n",
      "\n",
      "-- Cột: engine-type --\n",
      "engine-type\n",
      "dohc    2\n",
      "ohc     2\n",
      "ohcv    1\n",
      "Name: count, dtype: int64\n",
      "\n",
      "-- Cột: num-of-cylinders --\n",
      "num-of-cylinders\n",
      "four    3\n",
      "six     1\n",
      "five    1\n",
      "Name: count, dtype: int64\n",
      "\n",
      "-- Cột: fuel-system --\n",
      "fuel-system\n",
      "mpfi    5\n",
      "Name: count, dtype: int64\n"
     ]
    }
   ],
   "source": [
    "#Câu 11: Cho biết thông tin thống kê chung của các cột có kiểu dữ liệu là object.\n",
    "import pandas as pd\n",
    "\n",
    "def obj_columns_report(df, top_n=10, save_csv=False, prefix=\"object_report\"):\n",
    "    # chọn cột object / category\n",
    "    obj_cols = df.select_dtypes(include=['object', 'category']).columns.tolist()\n",
    "    if not obj_cols:\n",
    "        print(\"Không tìm thấy cột kiểu object/category trong df.\")\n",
    "        return\n",
    "\n",
    "    # Tóm tắt chung\n",
    "    summary = []\n",
    "    for c in obj_cols:\n",
    "        series = df[c]\n",
    "        non_null = series.notna().sum()\n",
    "        null_count = series.isna().sum()\n",
    "        null_pct = (null_count / len(series) * 100) if len(series)>0 else 0\n",
    "        unique = series.nunique(dropna=True)\n",
    "        # mode (top value). xử lý khi toàn NaN\n",
    "        try:\n",
    "            mode_val = series.mode(dropna=True).iloc[0]\n",
    "            mode_count = series.value_counts(dropna=True).get(mode_val, 0)\n",
    "        except IndexError:\n",
    "            mode_val = None\n",
    "            mode_count = 0\n",
    "\n",
    "        # độ dài chuỗi — chỉ tính với các giá trị non-null (chuyển sang str trước)\n",
    "        lengths = series.dropna().astype(str).str.len()\n",
    "        if len(lengths) > 0:\n",
    "            mean_len = lengths.mean()\n",
    "            min_len = lengths.min()\n",
    "            max_len = lengths.max()\n",
    "        else:\n",
    "            mean_len = min_len = max_len = None\n",
    "\n",
    "        summary.append({\n",
    "            'column': c,\n",
    "            'dtype': str(df[c].dtype),\n",
    "            'non_null_count': int(non_null),\n",
    "            'null_count': int(null_count),\n",
    "            'null_percent': round(null_pct, 2),\n",
    "            'unique_count': int(unique),\n",
    "            'top_value': mode_val,\n",
    "            'top_freq': int(mode_count),\n",
    "            'mean_str_len': None if mean_len is None else round(mean_len, 2),\n",
    "            'min_str_len': min_len,\n",
    "            'max_str_len': max_len\n",
    "        })\n",
    "\n",
    "    summary_df = pd.DataFrame(summary).set_index('column').sort_values(by='null_count', ascending=False)\n",
    "    pd.set_option('display.max_colwidth', 120)\n",
    "    print(\"=== Tóm tắt chung cho cột object/category ===\")\n",
    "    print(summary_df)\n",
    "    print(\"\\n=== Top frequent values (tới top_n) cho từng cột ===\")\n",
    "    for c in obj_cols:\n",
    "        print(f\"\\n-- Cột: {c} --\")\n",
    "        try:\n",
    "            print(df[c].value_counts(dropna=False).head(top_n))\n",
    "        except Exception as e:\n",
    "            print(\"  Lỗi khi tính value_counts:\", e)\n",
    "\n",
    "    # (Tùy chọn) lưu file CSV\n",
    "    if save_csv:\n",
    "        try:\n",
    "            summary_df.to_csv(f\"{prefix}_summary.csv\")\n",
    "            print(f\"\\nĐã lưu bảng tóm tắt vào {prefix}_summary.csv\")\n",
    "        except Exception as e:\n",
    "            print(\"Lỗi khi lưu file:\", e)\n",
    "\n",
    "# Gọi hàm (giả sử df đã có)\n",
    "obj_columns_report(df, top_n=10, save_csv=False)\n"
   ]
  },
  {
   "cell_type": "code",
   "execution_count": 96,
   "id": "42ab226a",
   "metadata": {},
   "outputs": [
    {
     "name": "stdout",
     "output_type": "stream",
     "text": [
      "Số lượng mỗi loại drive-wheels (bao gồm NaN nếu có):\n",
      "drive-wheels\n",
      "rwd    3\n",
      "4wd    1\n",
      "fwd    1\n",
      "Name: count, dtype: int64\n",
      "\n",
      "Tỷ lệ phần trăm mỗi loại (%):\n",
      "drive-wheels\n",
      "rwd    60.0\n",
      "4wd    20.0\n",
      "fwd    20.0\n",
      "Name: proportion, dtype: float64\n",
      "\n",
      "Sắp xếp theo tên loại:\n",
      "drive-wheels\n",
      "4wd    1\n",
      "fwd    1\n",
      "rwd    3\n",
      "Name: count, dtype: int64\n",
      "\n",
      "Đã lưu tóm tắt vào 'drive_wheels_summary.csv'\n"
     ]
    }
   ],
   "source": [
    "#Câu 12: Cho biết số lượng của mỗi loại hệ thống dẫn động (drive-wheels)? \n",
    "import pandas as pd\n",
    "\n",
    "# Hàm chuẩn hóa tên cột\n",
    "def norm_name(s):\n",
    "    return str(s).strip().lower().replace(\"-\", \" \").replace(\"_\", \" \")\n",
    "\n",
    "# Tìm cột drive-wheels (match chính xác hoặc chứa 'drive' và 'wheel')\n",
    "def find_drive_col(df):\n",
    "    for c in df.columns:\n",
    "        n = norm_name(c)\n",
    "        if n == \"drive wheels\" or n == \"drive-wheels\" or \"drive\" in n and \"wheel\" in n:\n",
    "            return c\n",
    "    return None\n",
    "\n",
    "drive_col = find_drive_col(df)\n",
    "if drive_col is None:\n",
    "    raise KeyError(\"Không tìm thấy cột hệ thống dẫn động trong dataframe. Kiểm tra df.columns để biết tên thực tế.\")\n",
    "\n",
    "# 1) Số lượng cho mỗi loại (mặc định không hiện NaN)\n",
    "counts = df[drive_col].value_counts(dropna=False)   # dropna=False để thấy cả NaN nếu có\n",
    "print(\"Số lượng mỗi loại drive-wheels (bao gồm NaN nếu có):\")\n",
    "print(counts)\n",
    "\n",
    "# 2) Tỷ lệ % cho mỗi loại\n",
    "percent = (df[drive_col].value_counts(normalize=True, dropna=False) * 100).round(2)\n",
    "print(\"\\nTỷ lệ phần trăm mỗi loại (%):\")\n",
    "print(percent)\n",
    "\n",
    "# 3) Nếu muốn sắp xếp theo tên loại thay vì số lượng:\n",
    "print(\"\\nSắp xếp theo tên loại:\")\n",
    "print(counts.sort_index())\n",
    "\n",
    "# 4) Nếu muốn lưu kết quả vào DataFrame / CSV:\n",
    "summary_df = pd.DataFrame({\n",
    "    'drive_wheels': counts.index.astype(str),\n",
    "    'count': counts.values,\n",
    "    'percent': (percent.values)\n",
    "})\n",
    "summary_df.to_csv(\"drive_wheels_summary.csv\", index=False)\n",
    "print(\"\\nĐã lưu tóm tắt vào 'drive_wheels_summary.csv'\")\n",
    "\n",
    "# 5) (Tùy chọn) hiển thị bar plot nhanh:\n",
    "# import matplotlib.pyplot as plt\n",
    "# counts.plot(kind='bar')\n",
    "# plt.title('Counts of drive-wheels')\n",
    "# plt.xlabel('drive-wheels')\n",
    "# plt.ylabel('count')\n",
    "# plt.show()\n"
   ]
  },
  {
   "cell_type": "code",
   "execution_count": 97,
   "id": "53bcaf1f",
   "metadata": {},
   "outputs": [
    {
     "name": "stdout",
     "output_type": "stream",
     "text": [
      "Câu 13: Số lượng của mỗi loại engine-location\n",
      "engine-location\n",
      "front    5\n",
      "Name: count, dtype: int64\n"
     ]
    }
   ],
   "source": [
    "#Câu 13: Số lượng của mỗi loại động cơ (engine-location)\n",
    "print(\"Câu 13: Số lượng của mỗi loại engine-location\")\n",
    "print(df['engine-location'].value_counts(dropna=False))\n"
   ]
  },
  {
   "cell_type": "code",
   "execution_count": 98,
   "id": "42455630",
   "metadata": {},
   "outputs": [
    {
     "name": "stdout",
     "output_type": "stream",
     "text": [
      "Câu 14: Các giá trị duy nhất của cột drive-wheels\n",
      "['rwd', 'fwd', '4wd']\n",
      "Categories (3, object): ['4wd', 'fwd', 'rwd']\n"
     ]
    }
   ],
   "source": [
    "#Câu 14: Các giá trị của cột drive-wheels\n",
    "print(\"Câu 14: Các giá trị duy nhất của cột drive-wheels\")\n",
    "print(df['drive-wheels'].unique())\n"
   ]
  },
  {
   "cell_type": "code",
   "execution_count": 99,
   "id": "4d8a4621",
   "metadata": {},
   "outputs": [
    {
     "name": "stdout",
     "output_type": "stream",
     "text": [
      "Câu 15: Giá trung bình mỗi loại hệ dẫn động (drive-wheels)\n",
      "drive-wheels\n",
      "4wd    17450.000000\n",
      "fwd    13950.000000\n",
      "rwd    15498.333333\n",
      "Name: price, dtype: float64\n"
     ]
    },
    {
     "name": "stderr",
     "output_type": "stream",
     "text": [
      "C:\\Users\\ADMIN\\AppData\\Local\\Temp\\ipykernel_20780\\4018078117.py:3: FutureWarning: The default of observed=False is deprecated and will be changed to True in a future version of pandas. Pass observed=False to retain current behavior or observed=True to adopt the future default and silence this warning.\n",
      "  avg_price_drive = df.groupby('drive-wheels')['price'].mean()\n"
     ]
    }
   ],
   "source": [
    "#Câu 15: Giá trung bình của mỗi loại hệ dẫn động (drive-wheels)\n",
    "print(\"Câu 15: Giá trung bình mỗi loại hệ dẫn động (drive-wheels)\")\n",
    "avg_price_drive = df.groupby('drive-wheels')['price'].mean()\n",
    "print(avg_price_drive)\n"
   ]
  },
  {
   "cell_type": "code",
   "execution_count": 100,
   "id": "af4f4344",
   "metadata": {},
   "outputs": [
    {
     "name": "stdout",
     "output_type": "stream",
     "text": [
      "Câu 16: Giá trung bình mỗi kiểu dáng thân xe (body-style)\n",
      "body-style\n",
      "convertible    14997.5\n",
      "hatchback      16500.0\n",
      "sedan          15700.0\n",
      "Name: price, dtype: float64\n"
     ]
    },
    {
     "name": "stderr",
     "output_type": "stream",
     "text": [
      "C:\\Users\\ADMIN\\AppData\\Local\\Temp\\ipykernel_20780\\2459671339.py:3: FutureWarning: The default of observed=False is deprecated and will be changed to True in a future version of pandas. Pass observed=False to retain current behavior or observed=True to adopt the future default and silence this warning.\n",
      "  avg_price_body = df.groupby('body-style')['price'].mean()\n"
     ]
    }
   ],
   "source": [
    "#Câu 16: Giá trung bình mỗi kiểu dáng thân xe (body-style)\n",
    "print(\"Câu 16: Giá trung bình mỗi kiểu dáng thân xe (body-style)\")\n",
    "avg_price_body = df.groupby('body-style')['price'].mean()\n",
    "print(avg_price_body)\n"
   ]
  },
  {
   "cell_type": "code",
   "execution_count": 103,
   "id": "89b7c3e7",
   "metadata": {},
   "outputs": [
    {
     "name": "stdout",
     "output_type": "stream",
     "text": [
      "body-style    convertible  hatchback    sedan\n",
      "drive-wheels                                 \n",
      "4wd                   NaN        NaN  17450.0\n",
      "fwd                   NaN        NaN  13950.0\n",
      "rwd               14997.5    16500.0      NaN\n"
     ]
    },
    {
     "name": "stderr",
     "output_type": "stream",
     "text": [
      "C:\\Users\\ADMIN\\AppData\\Local\\Temp\\ipykernel_20780\\3426216344.py:3: FutureWarning: The default value of observed=False is deprecated and will change to observed=True in a future version of pandas. Specify observed=False to silence this warning and retain the current behavior\n",
      "  pivot = df.pivot_table(values='price', index='drive-wheels', columns='body-style', aggfunc='mean')\n"
     ]
    }
   ],
   "source": [
    "#Câu 17: Giá trung bình mỗi kiểu dáng thân xe của từng loại hệ dẫn độn\n",
    "# print(\"Pivot table: drive-wheels x body-style (giá trung bình)\")\n",
    "pivot = df.pivot_table(values='price', index='drive-wheels', columns='body-style', aggfunc='mean')\n",
    "print(pivot)\n"
   ]
  },
  {
   "cell_type": "code",
   "execution_count": 104,
   "id": "4201f40d",
   "metadata": {},
   "outputs": [
    {
     "name": "stdout",
     "output_type": "stream",
     "text": [
      "Câu 18: Pivot table giá trung bình (price)\n",
      "body-style    convertible  hatchback    sedan\n",
      "drive-wheels                                 \n",
      "4wd                   NaN        NaN  17450.0\n",
      "fwd                   NaN        NaN  13950.0\n",
      "rwd               14997.5    16500.0      NaN\n"
     ]
    },
    {
     "name": "stderr",
     "output_type": "stream",
     "text": [
      "C:\\Users\\ADMIN\\AppData\\Local\\Temp\\ipykernel_20780\\2264972976.py:5: FutureWarning: The default value of observed=False is deprecated and will change to observed=True in a future version of pandas. Specify observed=False to silence this warning and retain the current behavior\n",
      "  pivot = df.pivot_table(values='price',\n"
     ]
    }
   ],
   "source": [
    "#Câu 18: Từ câu trên, sử dụng hàm pivot để tạo bảng từ các nhóm cho dễ xem hơn.\n",
    "#(drive-wheel thể hiện giá trị các dòng, body-style thể hiện giá trị các cột)\n",
    "import pandas as pd\n",
    "\n",
    "pivot = df.pivot_table(values='price', \n",
    "                       index='drive-wheels', \n",
    "                       columns='body-style', \n",
    "                       aggfunc='mean')\n",
    "\n",
    "print(\"Câu 18: Pivot table giá trung bình (price)\")\n",
    "print(pivot)\n"
   ]
  },
  {
   "cell_type": "code",
   "execution_count": 105,
   "id": "105c76d2",
   "metadata": {},
   "outputs": [
    {
     "data": {
      "image/png": "[encoded data removed]",
      "text/plain": [
       "<Figure size 640x480 with 1 Axes>"
      ]
     },
     "metadata": {},
     "output_type": "display_data"
    }
   ],
   "source": [
    "#Câu 19: Biểu đồ histogram phân bố dữ liệu của price\n",
    "import matplotlib.pyplot as plt\n",
    "\n",
    "plt.hist(df['price'].dropna(), bins=20, edgecolor='black')\n",
    "plt.xlabel('Price')\n",
    "plt.ylabel('Frequency')\n",
    "plt.title('Histogram of Price')\n",
    "plt.show()\n"
   ]
  },
  {
   "cell_type": "code",
   "execution_count": 106,
   "id": "269219a6",
   "metadata": {},
   "outputs": [
    {
     "name": "stdout",
     "output_type": "stream",
     "text": [
      "Câu 20: Ma trận hệ số tương quan\n",
      "                      symboling  normalized-losses  wheel-base    length  \\\n",
      "symboling          1.000000e+00                NaN   -0.623157 -0.453050   \n",
      "normalized-losses           NaN                NaN         NaN       NaN   \n",
      "wheel-base        -6.231566e-01                NaN    1.000000  0.979173   \n",
      "length            -4.530502e-01                NaN    0.979173  1.000000   \n",
      "width             -6.888893e-01                NaN    0.992069  0.955811   \n",
      "height            -7.017718e-01                NaN    0.994180  0.953033   \n",
      "curb-weight       -4.925368e-01                NaN    0.074839 -0.017305   \n",
      "engine-size       -4.534203e-01                NaN   -0.234606 -0.366248   \n",
      "bore               9.816835e-01                NaN   -0.462819 -0.274907   \n",
      "stroke            -9.048947e-01                NaN    0.896600  0.789410   \n",
      "compression-ratio -4.691549e-17                NaN    0.025691  0.000000   \n",
      "horsepower        -7.428208e-01                NaN   -0.035566 -0.225332   \n",
      "peak-rpm          -2.182179e-01                NaN    0.898821  0.968864   \n",
      "city-mpg           3.115045e-01                NaN    0.011047  0.065859   \n",
      "highway-mpg        1.659480e-01                NaN   -0.150703 -0.157884   \n",
      "price             -3.566554e-01                NaN    0.192378  0.148278   \n",
      "\n",
      "                      width        height  curb-weight  engine-size  \\\n",
      "symboling         -0.688889 -7.017718e-01    -0.492537    -0.453420   \n",
      "normalized-losses       NaN           NaN          NaN          NaN   \n",
      "wheel-base         0.992069  9.941804e-01     0.074839    -0.234606   \n",
      "length             0.955811  9.530334e-01    -0.017305    -0.366248   \n",
      "width              1.000000  9.978428e-01     0.197242    -0.111252   \n",
      "height             0.997843  1.000000e+00     0.153501    -0.138635   \n",
      "curb-weight        0.197242  1.535013e-01     1.000000     0.908497   \n",
      "engine-size       -0.111252 -1.386348e-01     0.908497     1.000000   \n",
      "bore              -0.538704 -5.531916e-01    -0.534902    -0.567287   \n",
      "stroke             0.930708  9.382531e-01     0.330893     0.137356   \n",
      "compression-ratio -0.063680  4.524520e-16    -0.827442    -0.619032   \n",
      "horsepower         0.071013  7.229228e-02     0.722702     0.880751   \n",
      "peak-rpm           0.854990  8.483722e-01    -0.155737    -0.526858   \n",
      "city-mpg          -0.105620 -5.319837e-02    -0.978491    -0.860533   \n",
      "highway-mpg       -0.243823 -1.825455e-01    -0.869065    -0.623498   \n",
      "price              0.280052  2.396584e-01     0.766127     0.610014   \n",
      "\n",
      "                           bore        stroke  compression-ratio  horsepower  \\\n",
      "symboling          9.816835e-01 -9.048947e-01      -4.691549e-17   -0.742821   \n",
      "normalized-losses           NaN           NaN                NaN         NaN   \n",
      "wheel-base        -4.628186e-01  8.965998e-01       2.569090e-02   -0.035566   \n",
      "length            -2.749070e-01  7.894105e-01       0.000000e+00   -0.225332   \n",
      "width             -5.387043e-01  9.307083e-01      -6.368006e-02    0.071013   \n",
      "height            -5.531916e-01  9.382531e-01       4.524520e-16    0.072292   \n",
      "curb-weight       -5.349015e-01  3.308926e-01      -8.274419e-01    0.722702   \n",
      "engine-size       -5.672868e-01  1.373560e-01      -6.190316e-01    0.880751   \n",
      "bore               1.000000e+00 -8.072285e-01      -1.216578e-16   -0.849291   \n",
      "stroke            -8.072285e-01  1.000000e+00       9.617314e-17    0.403913   \n",
      "compression-ratio -1.216578e-16  9.617314e-17       1.000000e+00   -0.225809   \n",
      "horsepower        -8.492914e-01  4.039135e-01      -2.258088e-01    1.000000   \n",
      "peak-rpm          -2.829333e-02  6.128420e-01       0.000000e+00   -0.452974   \n",
      "city-mpg           3.500339e-01 -1.830539e-01       9.214427e-01   -0.585797   \n",
      "highway-mpg        1.452344e-01 -1.896507e-01       9.817614e-01   -0.286492   \n",
      "price             -3.529661e-01  3.163832e-01      -7.087338e-01    0.434376   \n",
      "\n",
      "                   peak-rpm  city-mpg  highway-mpg     price  \n",
      "symboling         -0.218218  0.311504     0.165948 -0.356655  \n",
      "normalized-losses       NaN       NaN          NaN       NaN  \n",
      "wheel-base         0.898821  0.011047    -0.150703  0.192378  \n",
      "length             0.968864  0.065859    -0.157884  0.148278  \n",
      "width              0.854990 -0.105620    -0.243823  0.280052  \n",
      "height             0.848372 -0.053198    -0.182545  0.239658  \n",
      "curb-weight       -0.155737 -0.978491    -0.869065  0.766127  \n",
      "engine-size       -0.526858 -0.860533    -0.623498  0.610014  \n",
      "bore              -0.028293  0.350034     0.145234 -0.352966  \n",
      "stroke             0.612842 -0.183054    -0.189651  0.316383  \n",
      "compression-ratio  0.000000  0.921443     0.981761 -0.708734  \n",
      "horsepower        -0.452974 -0.585797    -0.286492  0.434376  \n",
      "peak-rpm           1.000000  0.158610    -0.126745  0.063264  \n",
      "city-mpg           0.158610  1.000000     0.934791 -0.767623  \n",
      "highway-mpg       -0.126745  0.934791     1.000000 -0.753609  \n",
      "price              0.063264 -0.767623    -0.753609  1.000000  \n"
     ]
    },
    {
     "data": {
      "image/png": "[encoded data removed]",
      "text/plain": [
       "<Figure size 1000x800 with 2 Axes>"
      ]
     },
     "metadata": {},
     "output_type": "display_data"
    }
   ],
   "source": [
    "#cau20 \n",
    "print(\"Câu 20: Ma trận hệ số tương quan\")\n",
    "print(df.corr(numeric_only=True))\n",
    "\n",
    "# Nếu muốn vẽ heatmap trực quan (matplotlib thuần):\n",
    "import numpy as np\n",
    "\n",
    "corr = df.corr(numeric_only=True)\n",
    "fig, ax = plt.subplots(figsize=(10,8))\n",
    "cax = ax.matshow(corr, cmap='coolwarm')\n",
    "plt.xticks(range(len(corr.columns)), corr.columns, rotation=90)\n",
    "plt.yticks(range(len(corr.columns)), corr.columns)\n",
    "fig.colorbar(cax)\n",
    "plt.title(\"Correlation Heatmap\", pad=20)\n",
    "plt.show()\n"
   ]
  },
  {
   "cell_type": "code",
   "execution_count": 107,
   "id": "97117e3c",
   "metadata": {},
   "outputs": [
    {
     "data": {
      "image/png": "[encoded data removed]",
      "text/plain": [
       "<Figure size 640x480 with 1 Axes>"
      ]
     },
     "metadata": {},
     "output_type": "display_data"
    }
   ],
   "source": [
    "#Câu 21: Biểu đồ scatter giữa engine-size và price\n",
    "plt.scatter(df['engine-size'], df['price'], alpha=0.6)\n",
    "plt.xlabel('Engine Size')\n",
    "plt.ylabel('Price')\n",
    "plt.title('Scatter plot: Engine Size vs Price')\n",
    "plt.show()\n"
   ]
  },
  {
   "cell_type": "code",
   "execution_count": 108,
   "id": "106057d9",
   "metadata": {},
   "outputs": [],
   "source": [
    "#Câu 22: Boxplot giá theo body-style"
   ]
  },
  {
   "cell_type": "code",
   "execution_count": 109,
   "id": "107b0212",
   "metadata": {},
   "outputs": [
    {
     "data": {
      "image/png": "[encoded data removed]",
      "text/plain": [
       "<Figure size 800x600 with 1 Axes>"
      ]
     },
     "metadata": {},
     "output_type": "display_data"
    }
   ],
   "source": [
    "df.boxplot(column='price', by='body-style', grid=False, figsize=(8,6))\n",
    "plt.title('Boxplot of Price by Body Style')\n",
    "plt.suptitle('')  # bỏ tiêu đề mặc định của pandas\n",
    "plt.xlabel('Body Style')\n",
    "plt.ylabel('Price')\n",
    "plt.show()\n"
   ]
  }
 ],
 "metadata": {
  "kernelspec": {
   "display_name": "Python 3",
   "language": "python",
   "name": "python3"
  },
  "language_info": {
   "codemirror_mode": {
    "name": "ipython",
    "version": 3
   },
   "file_extension": ".py",
   "mimetype": "text/x-python",
   "name": "python",
   "nbconvert_exporter": "python",
   "pygments_lexer": "ipython3",
   "version": "3.13.5"
  }
 },
 "nbformat": 4,
 "nbformat_minor": 5
}
