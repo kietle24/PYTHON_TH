{
 "cells": [
  {
   "cell_type": "code",
   "execution_count": 2,
   "id": "a910bf83",
   "metadata": {},
   "outputs": [
    {
     "name": "stdout",
     "output_type": "stream",
     "text": [
      "Vui lòng nhập số hợp lệ!\n"
     ]
    }
   ],
   "source": [
    "#1. Tổng quan về xử lý ngoại lệ trong Python\n",
    "try:\n",
    "    num = int(input(\"Nhập số: \"))\n",
    "    result = 10 / num\n",
    "except ValueError: # Xử lý ngoại lệ nhập không hợp lệ\n",
    "    print(\"Vui lòng nhập số hợp lệ!\")\n",
    "except ZeroDivisionError: # Xử lý ngoại lệ chia cho 0\n",
    "    print(\"Không thể chia cho 0!\")\n",
    "else:\n",
    "    print(f\"Kết quả: {result}\")\n"
   ]
  },
  {
   "cell_type": "markdown",
   "id": "05bb3798",
   "metadata": {},
   "source": [
    "'''\n",
    "ValueError : Nhập sai định dạng (ví dụ: chuyển \"abc\" thành int ).\n",
    "\n",
    "ZeroDivisionError : Chia cho 0.\n",
    "\n",
    "IndexError : Truy cập chỉ số ngoài giới hạn.\n",
    "\n",
    "TypeError : Sử dụng sai kiểu dữ liệu.\n",
    "\n",
    "KeyError : Truy cập key không tồn tại trong dictionary.\n",
    "\n",
    "'''\n"
   ]
  },
  {
   "cell_type": "code",
   "execution_count": 3,
   "id": "18081e3a",
   "metadata": {},
   "outputs": [
    {
     "name": "stdout",
     "output_type": "stream",
     "text": [
      "Không thể chia cho 0!\n"
     ]
    }
   ],
   "source": [
    "try:\n",
    "    result = 10 / int(input(\"Nhập số: \"))\n",
    "    print(f\"Kết quả: {result}\")\n",
    "except ZeroDivisionError:\n",
    "    print(\"Không thể chia cho 0!\")"
   ]
  },
  {
   "cell_type": "code",
   "execution_count": 4,
   "id": "a0f7a539",
   "metadata": {},
   "outputs": [
    {
     "name": "stdout",
     "output_type": "stream",
     "text": [
      "Kết quả: 0.83\n"
     ]
    }
   ],
   "source": [
    "#Ví dụ 1: Xử lý lỗi khi chia số \n",
    "try:\n",
    "    a, b = map(int, input(\"Nhập hai số (cách nhau bởi khoảng trắng): \").split())\n",
    "    result = a / b\n",
    "except ValueError:\n",
    "    print(\"Vui lòng nhập số hợp lệ!\")\n",
    "except ZeroDivisionError:\n",
    "    print(\"Không thể chia cho 0!\")\n",
    "else:\n",
    "    print(f\"Kết quả: {result:.2f}\")"
   ]
  },
  {
   "cell_type": "code",
   "execution_count": 5,
   "id": "7836f6cc",
   "metadata": {},
   "outputs": [
    {
     "name": "stdout",
     "output_type": "stream",
     "text": [
      "Chỉ số ngoài giới hạn!\n"
     ]
    }
   ],
   "source": [
    "#Ví dụ 2: Truy cập danh sách an toàn\n",
    "numbers = [1, 2, 3]\n",
    "try:\n",
    "    index = int(input(\"Nhập chỉ số: \"))\n",
    "    print(f\"Giá trị: {numbers[index]}\")\n",
    "except IndexError:\n",
    "    print(\"Chỉ số ngoài giới hạn!\")\n",
    "except ValueError:\n",
    "    print(\"Chỉ số phải là số nguyên!\")"
   ]
  },
  {
   "cell_type": "code",
   "execution_count": 7,
   "id": "ab77ce94",
   "metadata": {},
   "outputs": [
    {
     "name": "stdout",
     "output_type": "stream",
     "text": [
      "Giá apple: 5,000 VND\n"
     ]
    }
   ],
   "source": [
    "#Ví dụ 3: Kiểm tra key trong dictionary \n",
    "prices = {\"apple\": 5000, \"banana\": 10000}\n",
    "try:\n",
    "    item = input(\"Nhập món hàng: \")\n",
    "    price = prices[item]\n",
    "    print(f\"Giá {item}: {price:,.0f} VND\")\n",
    "except KeyError:\n",
    "    print(f\"Món hàng '{item}' không tồn tại!\")"
   ]
  }
 ],
 "metadata": {
  "kernelspec": {
   "display_name": "Python 3",
   "language": "python",
   "name": "python3"
  },
  "language_info": {
   "codemirror_mode": {
    "name": "ipython",
    "version": 3
   },
   "file_extension": ".py",
   "mimetype": "text/x-python",
   "name": "python",
   "nbconvert_exporter": "python",
   "pygments_lexer": "ipython3",
   "version": "3.13.7"
  }
 },
 "nbformat": 4,
 "nbformat_minor": 5
}
