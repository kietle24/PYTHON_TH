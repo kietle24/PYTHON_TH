{
 "cells": [
  {
   "cell_type": "code",
   "execution_count": 1,
   "id": "3a4a3576",
   "metadata": {},
   "outputs": [
    {
     "name": "stdout",
     "output_type": "stream",
     "text": [
      "Diện tích hình tròn: 12.57 cm²\n"
     ]
    }
   ],
   "source": [
    "# Bài 1: Sử dụng module math để tính diện tích hình tròn\n",
    "import math\n",
    "def circle_area(radius):\n",
    " return math.pi * radius ** 2\n",
    "r = float(input(\"Nhập bán kính (cm): \"))\n",
    "print(f\"Diện tích hình tròn: {circle_area(r):.2f} cm²\")"
   ]
  },
  {
   "cell_type": "code",
   "execution_count": 6,
   "id": "44ba5aa9",
   "metadata": {},
   "outputs": [
    {
     "name": "stdout",
     "output_type": "stream",
     "text": [
      "Số ngẫu nhiên: 53\n"
     ]
    }
   ],
   "source": [
    "# Bài 2: Sử dụng module random để tạo số ngẫu nhiên\n",
    "import random\n",
    "def random_number():\n",
    " return random.randint(1, 100)\n",
    "print(f\"Số ngẫu nhiên: {random_number()}\")"
   ]
  },
  {
   "cell_type": "code",
   "execution_count": 2,
   "id": "22f6d3f4",
   "metadata": {},
   "outputs": [
    {
     "name": "stdout",
     "output_type": "stream",
     "text": [
      "tong5\n",
      "hieu-1\n"
     ]
    }
   ],
   "source": [
    "# Bài 3: Tạo module tính toán\n",
    "import calc \n",
    "a ,b = map(int ,input(\"a b(cach nha boi khoang trang) \").split())\n",
    "print(f\"tong{calc.add(a,b)}\")\n",
    "print(f\"hieu{calc.subtract(a,b)}\")"
   ]
  },
  {
   "cell_type": "code",
   "execution_count": 3,
   "id": "2b1ea931",
   "metadata": {},
   "outputs": [
    {
     "name": "stdout",
     "output_type": "stream",
     "text": [
      "ngay hien tai: {'2025-08-24'}\n"
     ]
    }
   ],
   "source": [
    "# Bài 4: Sử dụng module datetime để lấy ngày hiện tại\n",
    "from datetime import datetime\n",
    "def get_current_datetime():\n",
    "    return datetime.now().strftime(\"%Y-%m-%d\")\n",
    "print(f\"ngay hien tai:\",{get_current_datetime()})"
   ]
  },
  {
   "cell_type": "code",
   "execution_count": 4,
   "id": "cdfdcd71",
   "metadata": {},
   "outputs": [
    {
     "name": "stdout",
     "output_type": "stream",
     "text": [
      "Chuỗi chuẩn hóa: Asasasas\n"
     ]
    }
   ],
   "source": [
    "import string_utils\n",
    "text = input(\"Nhập chuỗi: \")\n",
    "print(f\"Chuỗi chuẩn hóa: {string_utils.clean_string(text)}\")"
   ]
  },
  {
   "cell_type": "code",
   "execution_count": 12,
   "id": "896fda24",
   "metadata": {},
   "outputs": [
    {
     "name": "stdout",
     "output_type": "stream",
     "text": [
      "Quả ngẫu nhiên: orange\n"
     ]
    }
   ],
   "source": [
    "# Bài 6: Sử dụng module random để chọn ngẫu nhiên\n",
    "import random \n",
    "def random_choice(iteams):\n",
    "    return random.choice(iteams) \n",
    "fruits = [\"apple\", \"banana\", \"orange\" ]\n",
    "print(f\"Quả ngẫu nhiên: {random_choice(fruits)}\")"
   ]
  },
  {
   "cell_type": "code",
   "execution_count": null,
   "id": "c783fc9b",
   "metadata": {},
   "outputs": [
    {
     "name": "stdout",
     "output_type": "stream",
     "text": [
      "Số 2 là số nguyên tố\n"
     ]
    }
   ],
   "source": [
    "# Bài 7: Tạo module kiểm tra số nguyên tố\n",
    "import prime\n",
    "n = int(input(\"Nhập số: \"))\n",
    "print(f\"Số {n} {'là số nguyên tố' if prime.is_prime(n) else 'không là số nguyên tố'}\")\n"
   ]
  },
  {
   "cell_type": "code",
   "execution_count": 14,
   "id": "b19dd342",
   "metadata": {},
   "outputs": [
    {
     "name": "stdout",
     "output_type": "stream",
     "text": [
      "sin(20.0°) = 0.3420\n"
     ]
    }
   ],
   "source": [
    "# Bài 8: Sử dụng module math để tính sin\n",
    "import math\n",
    "def calculate_sin(angle):\n",
    " return math.sin(math.radians(angle))\n",
    "angle = float(input(\"Nhập góc (độ): \"))\n",
    "print(f\"sin({angle}°) = {calculate_sin(angle):.4f}\")"
   ]
  },
  {
   "cell_type": "code",
   "execution_count": 1,
   "id": "7dccf8d9",
   "metadata": {},
   "outputs": [
    {
     "name": "stdout",
     "output_type": "stream",
     "text": [
      "4! = 24\n"
     ]
    }
   ],
   "source": [
    "# Bài 9: Tạo module tính giai thừa\n",
    "import my_factorial \n",
    "n = int(input(\"Nhập số: \")) \n",
    "print(f\"{n}! = {my_factorial.factorial(n)}\")"
   ]
  },
  {
   "cell_type": "code",
   "execution_count": 2,
   "id": "8ee64dc0",
   "metadata": {},
   "outputs": [
    {
     "name": "stdout",
     "output_type": "stream",
     "text": [
      "Danh sách số ngẫu nhiên: [42, 37]\n"
     ]
    }
   ],
   "source": [
    "# Bài 10: Sử dụng module random để tạo danh sách số\n",
    "import random\n",
    "def generate_numbers(n):\n",
    " return [random.randint(1, 50) for _ in range(n)]\n",
    "n = int(input(\"Nhập số lượng số: \"))\n",
    "print(f\"Danh sách số ngẫu nhiên: {generate_numbers(n)}\")"
   ]
  }
 ],
 "metadata": {
  "kernelspec": {
   "display_name": "Python 3",
   "language": "python",
   "name": "python3"
  },
  "language_info": {
   "codemirror_mode": {
    "name": "ipython",
    "version": 3
   },
   "file_extension": ".py",
   "mimetype": "text/x-python",
   "name": "python",
   "nbconvert_exporter": "python",
   "pygments_lexer": "ipython3",
   "version": "3.13.7"
  }
 },
 "nbformat": 4,
 "nbformat_minor": 5
}
