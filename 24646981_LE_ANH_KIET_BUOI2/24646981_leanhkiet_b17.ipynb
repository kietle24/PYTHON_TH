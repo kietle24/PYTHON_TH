{
 "cells": [
  {
   "cell_type": "code",
   "execution_count": null,
   "id": "f3445135",
   "metadata": {},
   "outputs": [
    {
     "name": "stdout",
     "output_type": "stream",
     "text": [
      "Hello, Nguyen!\n"
     ]
    }
   ],
   "source": [
    "#Cú pháp cơ bản:\n",
    "import my_module\n",
    "print(my_module.greet(\"Nguyen\")) "
   ]
  },
  {
   "cell_type": "code",
   "execution_count": 2,
   "id": "267dbc0e",
   "metadata": {},
   "outputs": [
    {
     "name": "stdout",
     "output_type": "stream",
     "text": [
      "4.0\n"
     ]
    }
   ],
   "source": [
    "import math\n",
    "print(math.sqrt(16))"
   ]
  },
  {
   "cell_type": "code",
   "execution_count": 3,
   "id": "a4f57ae3",
   "metadata": {},
   "outputs": [
    {
     "name": "stdout",
     "output_type": "stream",
     "text": [
      "8\n"
     ]
    }
   ],
   "source": [
    "import math_utils\n",
    "print(math_utils.add(3, 5))"
   ]
  },
  {
   "cell_type": "code",
   "execution_count": 4,
   "id": "c28d88cd",
   "metadata": {},
   "outputs": [
    {
     "name": "stdout",
     "output_type": "stream",
     "text": [
      "8\n"
     ]
    }
   ],
   "source": [
    "import add\n",
    "print(add.add(3, 5))"
   ]
  },
  {
   "cell_type": "code",
   "execution_count": 5,
   "id": "858c35df",
   "metadata": {},
   "outputs": [
    {
     "name": "stdout",
     "output_type": "stream",
     "text": [
      "25\n"
     ]
    }
   ],
   "source": [
    "import utils\n",
    "print(utils.square(5)) "
   ]
  },
  {
   "cell_type": "code",
   "execution_count": 6,
   "id": "5ef3566e",
   "metadata": {},
   "outputs": [
    {
     "name": "stdout",
     "output_type": "stream",
     "text": [
      "Diện tích: 78.54\n",
      "Chu vi: 31.42\n"
     ]
    }
   ],
   "source": [
    "#Ví dụ 1: Module tính toán hình học\n",
    "import geometry\n",
    "r = 5\n",
    "print(f\"Diện tích: {geometry.circle_area(r):.2f}\")\n",
    "print(f\"Chu vi: {geometry.circle_perimeter(r):.2f}\")"
   ]
  },
  {
   "cell_type": "code",
   "execution_count": 10,
   "id": "876357cc",
   "metadata": {},
   "outputs": [
    {
     "name": "stdout",
     "output_type": "stream",
     "text": [
      "Danh sách số ngẫu nhiên: [7, 4, 9, 3, 6]\n"
     ]
    }
   ],
   "source": [
    "#Ví dụ 2: Module tạo số ngẫu nhiên\n",
    "import random\n",
    "numbers = [random.randint(1, 10) for _ in range(5)]\n",
    "print(f\"Danh sách số ngẫu nhiên: {numbers}\")"
   ]
  },
  {
   "cell_type": "code",
   "execution_count": 18,
   "id": "e7b72383",
   "metadata": {},
   "outputs": [
    {
     "name": "stdout",
     "output_type": "stream",
     "text": [
      "Chuỗi chuẩn hóa: Nguyen Van A\n"
     ]
    }
   ],
   "source": [
    "#Ví dụ 3: Module xử lý chuỗi\n",
    "\n",
    "name = \" nguyen van a \"\n",
    "cleaned_name = name.strip().title()\n",
    "print(f\"Chuỗi chuẩn hóa: {cleaned_name}\")"
   ]
  }
 ],
 "metadata": {
  "kernelspec": {
   "display_name": "Python 3",
   "language": "python",
   "name": "python3"
  },
  "language_info": {
   "codemirror_mode": {
    "name": "ipython",
    "version": 3
   },
   "file_extension": ".py",
   "mimetype": "text/x-python",
   "name": "python",
   "nbconvert_exporter": "python",
   "pygments_lexer": "ipython3",
   "version": "3.13.7"
  }
 },
 "nbformat": 4,
 "nbformat_minor": 5
}
