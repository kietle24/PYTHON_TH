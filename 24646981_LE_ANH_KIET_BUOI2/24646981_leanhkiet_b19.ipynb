{
 "cells": [
  {
   "cell_type": "code",
   "execution_count": null,
   "id": "a59d1ba6",
   "metadata": {},
   "outputs": [],
   "source": [
    "file = open(\"example.txt\", \"r\") \n",
    "content = file.read()\n",
    "file.close()\n",
    "with open(\"example.txt\", \"r\") as file:\n",
    "    content = file.read() "
   ]
  },
  {
   "cell_type": "code",
   "execution_count": null,
   "id": "75440e3e",
   "metadata": {},
   "outputs": [
    {
     "name": "stdout",
     "output_type": "stream",
     "text": [
      "Hello, Python!\n",
      "\n"
     ]
    }
   ],
   "source": [
    "with open(\"output.txt\", \"w\") as file:\n",
    "    file.write(\"Hello, Python!\\n\")\n",
    "with open(\"output.txt\", \"r\") as file:\n",
    "    print(file.read()) "
   ]
  },
  {
   "cell_type": "code",
   "execution_count": 5,
   "id": "8648dfc9",
   "metadata": {},
   "outputs": [
    {
     "name": "stdout",
     "output_type": "stream",
     "text": [
      "Đã lưu danh sách!\n"
     ]
    }
   ],
   "source": [
    "items = [\"apple\", \"banana\", \"orange\"]\n",
    "try:\n",
    "    with open(\"shopping_list.txt\", \"w\") as file:\n",
    "        for item in items:\n",
    "         file.write(item + \"\\n\")\n",
    "    print(\"Đã lưu danh sách!\")\n",
    "except IOError:\n",
    "    print(\"Lỗi khi ghi tệp!\")\n"
   ]
  },
  {
   "cell_type": "code",
   "execution_count": 9,
   "id": "90c6ee1b",
   "metadata": {},
   "outputs": [
    {
     "name": "stdout",
     "output_type": "stream",
     "text": [
      "Số dòng: 3\n"
     ]
    }
   ],
   "source": [
    "#Ví dụ 2: Đọc và đếm số dòng trong tệp\n",
    "try:\n",
    "    with open(\"data.txt\", \"r\") as file:\n",
    "        line_count = sum(1 for line in file)\n",
    "    print(f\"Số dòng: {line_count}\")\n",
    "except FileNotFoundError:\n",
    "        print(\"Tệp không tồn tại!\")   "
   ]
  },
  {
   "cell_type": "code",
   "execution_count": 10,
   "id": "0dd025b0",
   "metadata": {},
   "outputs": [
    {
     "name": "stdout",
     "output_type": "stream",
     "text": [
      "Đã ghi nhật ký!\n"
     ]
    }
   ],
   "source": [
    "#Ví dụ 3: Ghi nhật ký (log) với thời gian\n",
    "from datetime import datetime\n",
    "try:\n",
    "    with open(\"log.txt\", \"a\") as file:\n",
    "        file.write(f\"{datetime.now()}: User logged in\\n\")\n",
    "    print(\"Đã ghi nhật ký!\")\n",
    "except IOError:\n",
    "    print(\"Lỗi khi ghi tệp!\")\n"
   ]
  }
 ],
 "metadata": {
  "kernelspec": {
   "display_name": "Python 3",
   "language": "python",
   "name": "python3"
  },
  "language_info": {
   "codemirror_mode": {
    "name": "ipython",
    "version": 3
   },
   "file_extension": ".py",
   "mimetype": "text/x-python",
   "name": "python",
   "nbconvert_exporter": "python",
   "pygments_lexer": "ipython3",
   "version": "3.13.7"
  }
 },
 "nbformat": 4,
 "nbformat_minor": 5
}
