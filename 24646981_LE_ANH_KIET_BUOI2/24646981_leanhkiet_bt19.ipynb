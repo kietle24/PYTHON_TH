{
 "cells": [
  {
   "cell_type": "code",
   "execution_count": 2,
   "id": "5897cc8d",
   "metadata": {},
   "outputs": [],
   "source": [
    "# Bài 1: Ghi chuỗi vào tệp\n",
    "try: \n",
    "    text = input(\"nhap chuoi:\") \n",
    "    with open(\"output.txt\", \"w\") as file :  \n",
    "        file.write(text + \"\\n\")\n",
    "except IOError:\n",
    "    print(\"loi khi ghi tep: \")"
   ]
  },
  {
   "cell_type": "code",
   "execution_count": 6,
   "id": "6ffe050f",
   "metadata": {},
   "outputs": [
    {
     "name": "stdout",
     "output_type": "stream",
     "text": [
      "Nội dung tệp: toi yeu lap trinh \n"
     ]
    }
   ],
   "source": [
    "# Bài 2: Đọc toàn bộ nội dung tệp\n",
    "try:\n",
    " with open(\"input.txt\", \"r\") as file:\n",
    "    content = file.read()\n",
    "    print(\"Nội dung tệp:\", content)\n",
    "except FileNotFoundError:\n",
    " print(\"Tệp không tồn tại!\")"
   ]
  },
  {
   "cell_type": "code",
   "execution_count": 7,
   "id": "827197eb",
   "metadata": {},
   "outputs": [
    {
     "name": "stdout",
     "output_type": "stream",
     "text": [
      "Đã lưu danh sách số!\n"
     ]
    }
   ],
   "source": [
    "# Bài 3: Ghi danh sách số vào tệp\n",
    "try:\n",
    "\tnumbers = [int(x) for x in input(\"Nhập các số (cách nhau bởi khoảng trắng): \").split()]\n",
    "\twith open(\"numbers.txt\", \"w\") as file:\n",
    "\t\tfor num in numbers:\n",
    "\t\t\tfile.write(str(num) + \"\\n\")\n",
    "\tprint(\"Đã lưu danh sách số!\")\n",
    "except ValueError:\n",
    "\tprint(\"Vui lòng nhập số hợp lệ!\")\n",
    "except IOError:\n",
    "\tprint(\"Lỗi khi ghi tệp!\")"
   ]
  },
  {
   "cell_type": "code",
   "execution_count": 8,
   "id": "85cdd589",
   "metadata": {},
   "outputs": [
    {
     "name": "stdout",
     "output_type": "stream",
     "text": [
      "Số từ: 4\n"
     ]
    }
   ],
   "source": [
    "# Bài 4: Đếm số từ trong tệp\n",
    "try:\n",
    "\twith open(\"input.txt\", \"r\") as file:\n",
    "\t\tcontent = file.read()\n",
    "\t\tword_count = len(content.split())\n",
    "\t\tprint(f\"Số từ: {word_count}\")\n",
    "except FileNotFoundError:\n",
    "\tprint(\"Tệp không tồn tại!\")"
   ]
  },
  {
   "cell_type": "code",
   "execution_count": null,
   "id": "f9bbf3f7",
   "metadata": {},
   "outputs": [],
   "source": [
    "# Bài 5: Thêm dòng vào tệp\n",
    "try:\n",
    "\ttext = input(\"Nhập dòng để thêm: \")\n",
    "\twith open(\"log.txt\", \"a\") as file:\n",
    "\t\tfile.write(text + \"\\n\")\n",
    "\tprint(\"Đã thêm dòng vào tệp!\")\n",
    "except IOError:\n",
    "\tprint(\"Lỗi khi ghi tệp!\")"
   ]
  },
  {
   "cell_type": "code",
   "execution_count": 9,
   "id": "ea90bbca",
   "metadata": {},
   "outputs": [
    {
     "name": "stdout",
     "output_type": "stream",
     "text": [
      "Dòng 1: toi yeu lap trinh\n"
     ]
    }
   ],
   "source": [
    "# Bài 6: Đọc từng dòng trong tệp\n",
    "try:\n",
    "\twith open(\"input.txt\", \"r\") as file:\n",
    "\t\tfor i, line in enumerate(file, 1):\n",
    "\t\t\tprint(f\"Dòng {i}: {line.strip()}\")\n",
    "except FileNotFoundError:\n",
    "\tprint(\"Tệp không tồn tại!\")"
   ]
  },
  {
   "cell_type": "code",
   "execution_count": 10,
   "id": "8fb6e3fe",
   "metadata": {},
   "outputs": [
    {
     "name": "stdout",
     "output_type": "stream",
     "text": [
      "Tổng các số: 5\n"
     ]
    }
   ],
   "source": [
    "# Bài 7: Tính tổng số từ tệp\n",
    "try: \n",
    "    with open(\"numbers.txt\", \"r\") as file:\n",
    "        total = sum(int(line) for line in file)\n",
    "        print(f\"Tổng các số: {total}\")\n",
    "except FileNotFoundError:\n",
    "    print(\"Tệp không tồn tại!\")\n",
    "except ValueError:\n",
    "    print(\"Tệp chứa dữ liệu không phải số!\")"
   ]
  },
  {
   "cell_type": "code",
   "execution_count": 11,
   "id": "2f37f1b9",
   "metadata": {},
   "outputs": [
    {
     "name": "stdout",
     "output_type": "stream",
     "text": [
      "Đã sao chép tệp!\n"
     ]
    }
   ],
   "source": [
    "# Bài 8: Sao chép nội dung tệp\n",
    "try:\n",
    "\twith open(\"input.txt\", \"r\") as source:\n",
    "\t\tcontent = source.read()\n",
    "\twith open(\"copy.txt\", \"w\") as dest:\n",
    "\t\tdest.write(content)\n",
    "\tprint(\"Đã sao chép tệp!\")\n",
    "except FileNotFoundError:\n",
    "\tprint(\"Tệp nguồn không tồn tại!\")\n",
    "except IOError:\n",
    "\tprint(\"Lỗi khi xử lý tệp!\")"
   ]
  },
  {
   "cell_type": "code",
   "execution_count": 12,
   "id": "02870135",
   "metadata": {},
   "outputs": [
    {
     "name": "stdout",
     "output_type": "stream",
     "text": [
      "Tệp không rỗng!\n"
     ]
    }
   ],
   "source": [
    "# Bài 9: Kiểm tra tệp rỗng\n",
    "try:\n",
    "\twith open(\"input.txt\", \"r\") as file:\n",
    "\t\tcontent = file.read()\n",
    "\t\tif not content:\n",
    "\t\t\tprint(\"Tệp rỗng!\")\n",
    "\t\telse:\n",
    "\t\t\tprint(\"Tệp không rỗng!\")\n",
    "except FileNotFoundError:\n",
    "\tprint(\"Tệp không tồn tại!\")"
   ]
  },
  {
   "cell_type": "code",
   "execution_count": null,
   "id": "4eaa734b",
   "metadata": {},
   "outputs": [
    {
     "name": "stdout",
     "output_type": "stream",
     "text": [
      "Đã lưu thông tin sinh viên!\n"
     ]
    }
   ],
   "source": [
    "# Bài 10: Ghi thông tin sinh viên\n",
    "try:\n",
    "\tname = input(\"Nhập tên sinh viên: \")\n",
    "\tscore = float(input(\"Nhập điểm: \"))\n",
    "\twith open(\"students.txt\", \"a\") as file:\n",
    "\t\tfile.write(f\"{name},{score}\\n\")\n",
    "\tprint(\"Đã lưu thông tin sinh viên!\")\n",
    "except ValueError:\n",
    "\tprint(\"Điểm phải là số!\")\n",
    "except IOError:\n",
    "\tprint(\"Lỗi khi ghi tệp!\")"
   ]
  }
 ],
 "metadata": {
  "kernelspec": {
   "display_name": "Python 3",
   "language": "python",
   "name": "python3"
  },
  "language_info": {
   "codemirror_mode": {
    "name": "ipython",
    "version": 3
   },
   "file_extension": ".py",
   "mimetype": "text/x-python",
   "name": "python",
   "nbconvert_exporter": "python",
   "pygments_lexer": "ipython3",
   "version": "3.13.7"
  }
 },
 "nbformat": 4,
 "nbformat_minor": 5
}
