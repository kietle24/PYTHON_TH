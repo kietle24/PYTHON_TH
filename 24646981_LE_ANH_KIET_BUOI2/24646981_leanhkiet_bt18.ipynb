{
 "cells": [
  {
   "cell_type": "code",
   "execution_count": 1,
   "id": "410279b8",
   "metadata": {},
   "outputs": [
    {
     "name": "stdout",
     "output_type": "stream",
     "text": [
      "vui long nhap so hop le!\n"
     ]
    }
   ],
   "source": [
    "# Bài 1: Chia hai số\n",
    "try: \n",
    "    a , b = map(int,input(\"nhap hai so co cach nha co khoang trang: \").split()) \n",
    "    result = a / b \n",
    "except ValueError: \n",
    "    print(\"vui long nhap so hop le!\")\n",
    "except ZeroDivisionError:\n",
    "    print(\"khong the chia cho 0!\")\n",
    "else:\n",
    "    print(f\"Ket qua: {result:.2f}\")\n"
   ]
  },
  {
   "cell_type": "code",
   "execution_count": 2,
   "id": "e6eeaf38",
   "metadata": {},
   "outputs": [
    {
     "name": "stdout",
     "output_type": "stream",
     "text": [
      "Giá trị: 30\n"
     ]
    }
   ],
   "source": [
    "# Bài 2: Truy cập danh sách\n",
    "numbers = [10, 20, 30, 40]\n",
    "try:\n",
    " index = int(input(\"Nhập chỉ số (0-3): \"))\n",
    " print(f\"Giá trị: {numbers[index]}\")\n",
    "except IndexError:\n",
    " print(\"Chỉ số ngoài giới hạn!\")\n",
    "except ValueError:\n",
    " print(\"Chỉ số phải là số nguyên!\")"
   ]
  },
  {
   "cell_type": "code",
   "execution_count": 4,
   "id": "de030365",
   "metadata": {},
   "outputs": [
    {
     "name": "stdout",
     "output_type": "stream",
     "text": [
      "Giá pen: 5,000 VND\n"
     ]
    }
   ],
   "source": [
    "# Bài 3: Kiểm tra key trong dictionary\n",
    "prices = {\"pen\": 5000, \"book\": 20000}\n",
    "try:\n",
    " item = input(\"Nhập món hàng: \")\n",
    " print(f\"Giá {item}: {prices[item]:,.0f} VND\")\n",
    "except KeyError:\n",
    " print(f\"Món hàng '{item}' không tồn tại!\")"
   ]
  },
  {
   "cell_type": "code",
   "execution_count": 5,
   "id": "0ae6139e",
   "metadata": {},
   "outputs": [
    {
     "name": "stdout",
     "output_type": "stream",
     "text": [
      "Vui lòng nhập số hợp lệ!\n"
     ]
    }
   ],
   "source": [
    "# Bài 4: Chuyển đổi chuỗi thành số\n",
    "try:\n",
    " num = float(input(\"Nhập một số: \"))\n",
    " print(f\"Số gấp đôi: {num * 2:.2f}\")\n",
    "except ValueError:\n",
    " print(\"Vui lòng nhập số hợp lệ!\")"
   ]
  },
  {
   "cell_type": "code",
   "execution_count": 6,
   "id": "d604b5b1",
   "metadata": {},
   "outputs": [
    {
     "name": "stdout",
     "output_type": "stream",
     "text": [
      "Tuổi hợp lệ: 11\n"
     ]
    }
   ],
   "source": [
    "# Bài 5: Kiểm tra tuổi hợp lệ\n",
    "try:\n",
    "    age = int(input(\"Nhập tuổi: \"))\n",
    "    if age < 0:\n",
    "        raise ValueError(\"Tuổi không thể âm!\")\n",
    "except ValueError as e:\n",
    "    print(f\"Lỗi: {e}\")\n",
    "else:\n",
    "    print(f\"Tuổi hợp lệ: {age}\")"
   ]
  },
  {
   "cell_type": "code",
   "execution_count": 7,
   "id": "f1b86bcb",
   "metadata": {},
   "outputs": [
    {
     "name": "stdout",
     "output_type": "stream",
     "text": [
      "Bình phương: 4\n",
      "Hoàn tất tính toán.\n"
     ]
    }
   ],
   "source": [
    "# Bài 6: Tính bình phương an toàn\n",
    "try:\n",
    " num = int(input(\"Nhập số nguyên: \"))\n",
    " result = num ** 2\n",
    "except ValueError:\n",
    " print(\"Vui lòng nhập số nguyên!\")\n",
    "else:\n",
    " print(f\"Bình phương: {result}\")\n",
    "finally:\n",
    " print(\"Hoàn tất tính toán.\")"
   ]
  },
  {
   "cell_type": "code",
   "execution_count": 8,
   "id": "cb76d5f4",
   "metadata": {},
   "outputs": [
    {
     "name": "stdout",
     "output_type": "stream",
     "text": [
      "Danh sách rỗng!\n"
     ]
    }
   ],
   "source": [
    "# Bài 7: Kiểm tra danh sách rỗng\n",
    "numbers = []\n",
    "try:\n",
    " print(f\"Phần tử đầu tiên: {numbers[0]}\")\n",
    "except IndexError:\n",
    " print(\"Danh sách rỗng!\")"
   ]
  },
  {
   "cell_type": "code",
   "execution_count": null,
   "id": "dc6d12c1",
   "metadata": {},
   "outputs": [
    {
     "name": "stdout",
     "output_type": "stream",
     "text": [
      "Tổng: 5\n"
     ]
    }
   ],
   "source": [
    "# Bài 8: Tính tổng danh sách\n",
    "try:\n",
    " numbers = [int(x) for x in input(\"Nhập các số (cách nhau bởi khoảng trắng): \").split()]\n",
    " total = sum(numbers)\n",
    "except ValueError:\n",
    " print(\"Vui lòng nhập danh sách số hợp lệ!\")\n",
    "else:\n",
    " print(f\"Tổng: {total}\")"
   ]
  },
  {
   "cell_type": "code",
   "execution_count": 11,
   "id": "b598c7c6",
   "metadata": {},
   "outputs": [
    {
     "name": "stdout",
     "output_type": "stream",
     "text": [
      "Email hợp lệ: leanhkietl336@.email.com\n"
     ]
    }
   ],
   "source": [
    "# Bài 9: Kiểm tra định dạng email\n",
    "try:\n",
    " email = input(\"Nhập email: \")\n",
    " if \"@\" not in email or \".\" not in email: raise ValueError(\"Email không hợp lệ!\")\n",
    "except ValueError as e:\n",
    " print(f\"Lỗi: {e}\")\n",
    "else:\n",
    " print(f\"Email hợp lệ: {email}\")"
   ]
  },
  {
   "cell_type": "code",
   "execution_count": 12,
   "id": "6316fafe",
   "metadata": {},
   "outputs": [
    {
     "name": "stdout",
     "output_type": "stream",
     "text": [
      "Lỗi: not enough values to unpack (expected 2, got 1)\n"
     ]
    }
   ],
   "source": [
    "# Bài 10: Tính diện tích hình chữ nhật\n",
    "try:\n",
    "\tlength, width = map(float, input(\"Nhập chiều dài và chiều rộng (cách nhau bởi khoảng trắng): \").split())\n",
    "\tif length <= 0 or width <= 0:\n",
    "\t\traise ValueError(\"Kích thước phải dương!\")\n",
    "\tarea = length * width\n",
    "except ValueError as e:\n",
    "\tprint(f\"Lỗi: {e}\")\n",
    "else:\n",
    "\tprint(f\"Diện tích: {area:.2f} cm²\")"
   ]
  }
 ],
 "metadata": {
  "kernelspec": {
   "display_name": "Python 3",
   "language": "python",
   "name": "python3"
  },
  "language_info": {
   "codemirror_mode": {
    "name": "ipython",
    "version": 3
   },
   "file_extension": ".py",
   "mimetype": "text/x-python",
   "name": "python",
   "nbconvert_exporter": "python",
   "pygments_lexer": "ipython3",
   "version": "3.13.7"
  }
 },
 "nbformat": 4,
 "nbformat_minor": 5
}
