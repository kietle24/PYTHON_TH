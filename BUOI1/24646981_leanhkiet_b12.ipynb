{
 "cells": [
  {
   "cell_type": "code",
   "execution_count": 2,
   "id": "4ec05e30",
   "metadata": {},
   "outputs": [
    {
     "name": "stdout",
     "output_type": "stream",
     "text": [
      "2\n",
      "2.0\n",
      "100000\n"
     ]
    }
   ],
   "source": [
    "a, b = 10 , 5  \n",
    "print(a//b)\n",
    "print(a/b)\n",
    "print(a**b)"
   ]
  },
  {
   "cell_type": "code",
   "execution_count": 3,
   "id": "c03a768d",
   "metadata": {},
   "outputs": [
    {
     "name": "stdout",
     "output_type": "stream",
     "text": [
      "True\n",
      "True\n"
     ]
    }
   ],
   "source": [
    "print(\"a\" in \"abc\" )\n",
    "x = 5  \n",
    "y = 5 \n",
    "print(x is y )"
   ]
  },
  {
   "cell_type": "code",
   "execution_count": 4,
   "id": "1496ce00",
   "metadata": {},
   "outputs": [
    {
     "name": "stdout",
     "output_type": "stream",
     "text": [
      "125\n"
     ]
    }
   ],
   "source": [
    "a,b = 5 ,3 \n",
    "print(a**b)"
   ]
  },
  {
   "cell_type": "code",
   "execution_count": 5,
   "id": "9f3535e6",
   "metadata": {},
   "outputs": [
    {
     "name": "stdout",
     "output_type": "stream",
     "text": [
      "True\n"
     ]
    }
   ],
   "source": [
    "print(3 in  [1,2,3] )"
   ]
  },
  {
   "cell_type": "code",
   "execution_count": 6,
   "id": "d9da6867",
   "metadata": {},
   "outputs": [
    {
     "name": "stdout",
     "output_type": "stream",
     "text": [
      "False\n"
     ]
    }
   ],
   "source": [
    "x = 0 \n",
    "print(x != 0 and  10/ x > 2 )"
   ]
  },
  {
   "cell_type": "code",
   "execution_count": 7,
   "id": "ddd02d60",
   "metadata": {},
   "outputs": [
    {
     "name": "stdout",
     "output_type": "stream",
     "text": [
      "True\n",
      "False\n"
     ]
    }
   ],
   "source": [
    "a= [1,2] \n",
    "b = [1,2 ]\n",
    "print(a == b )\n",
    "print(a is b )"
   ]
  },
  {
   "cell_type": "code",
   "execution_count": 16,
   "id": "8b1ae1f0",
   "metadata": {},
   "outputs": [
    {
     "name": "stdout",
     "output_type": "stream",
     "text": [
      "45\n"
     ]
    }
   ],
   "source": [
    "x= 1\n",
    "for x in range(x,10):\n",
    "    x =x*(x+1)//2 \n",
    "print(x)"
   ]
  },
  {
   "cell_type": "code",
   "execution_count": 21,
   "id": "b2276556",
   "metadata": {},
   "outputs": [
    {
     "name": "stdout",
     "output_type": "stream",
     "text": [
      "Tổng tiền (bao gồm VAT): 1,100,000 VND\n"
     ]
    }
   ],
   "source": [
    "price = float(input(\"Nhập giá trị đơn hàng (VND): \"))\n",
    "vat = 0.1\n",
    "total = price + (price * vat)\n",
    "print(f\"Tổng tiền (bao gồm VAT): {total:,.0f} VND\")\n"
   ]
  },
  {
   "cell_type": "code",
   "execution_count": 24,
   "id": "bbc802a6",
   "metadata": {},
   "outputs": [],
   "source": [
    "#vd2 : \n",
    "# Kiểm tra quyền truy cập\n",
    "is_Admin = True \n",
    "is_logged_in = False \n",
    "has_access = is_Admin or is_logged_in \n",
    "if is_Admin and is_logged_in:\n",
    "    print(f\"Bạn có quyền truy cập: {'cho phép'}\" if has_access else \"không cho phép\")\n"
   ]
  },
  {
   "cell_type": "code",
   "execution_count": 28,
   "id": "08ce5df2",
   "metadata": {},
   "outputs": [
    {
     "name": "stdout",
     "output_type": "stream",
     "text": [
      "ky tu acsad khong co ton tai trong chuoi.\n"
     ]
    }
   ],
   "source": [
    "#vd3 \n",
    "text = \"hello python!\"\n",
    "char = input(\"nhap ky tu an tim \") \n",
    "in_present = char in text \n",
    "print(f\"ky tu {char} {\"co \"if in_present else \"khong co \"}ton tai trong chuoi.\")"
   ]
  }
 ],
 "metadata": {
  "kernelspec": {
   "display_name": "Python 3",
   "language": "python",
   "name": "python3"
  },
  "language_info": {
   "codemirror_mode": {
    "name": "ipython",
    "version": 3
   },
   "file_extension": ".py",
   "mimetype": "text/x-python",
   "name": "python",
   "nbconvert_exporter": "python",
   "pygments_lexer": "ipython3",
   "version": "3.13.6"
  }
 },
 "nbformat": 4,
 "nbformat_minor": 5
}
