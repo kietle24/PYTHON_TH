{
 "cells": [
  {
   "cell_type": "code",
   "execution_count": null,
   "id": "d802a4e5",
   "metadata": {},
   "outputs": [],
   "source": [
    "#module la mot tep .py chua ma python co the duoc nhap import vao chuong trinh khac de su dung cac \n",
    "#ham hoac bien da duoc su dung \n"
   ]
  },
  {
   "cell_type": "code",
   "execution_count": null,
   "id": "3536085c",
   "metadata": {},
   "outputs": [],
   "source": [
    "def greet(name):\n",
    "    return f\"Hello, {name}!\"\n",
    "# Tệp chính\n",
    "import my_module\n",
    "print(my_module.greet(\"Nguyen\")) "
   ]
  },
  {
   "cell_type": "code",
   "execution_count": 8,
   "id": "fb8f31cb",
   "metadata": {},
   "outputs": [
    {
     "name": "stdout",
     "output_type": "stream",
     "text": [
      "4.0\n"
     ]
    }
   ],
   "source": [
    "import math \n",
    "print(math.sqrt(16))"
   ]
  },
  {
   "cell_type": "code",
   "execution_count": 22,
   "id": "7ddce68c",
   "metadata": {},
   "outputs": [
    {
     "name": "stdout",
     "output_type": "stream",
     "text": [
      "8\n"
     ]
    }
   ],
   "source": [
    "def add(a, b):\n",
    "    return a + b\n",
    "print(add(3,5))"
   ]
  },
  {
   "cell_type": "code",
   "execution_count": 46,
   "id": "e78fb47a",
   "metadata": {},
   "outputs": [
    {
     "name": "stdout",
     "output_type": "stream",
     "text": [
      "19\n"
     ]
    }
   ],
   "source": [
    "import random \n",
    "print(random.randint(1,31))"
   ]
  },
  {
   "cell_type": "code",
   "execution_count": 55,
   "id": "b4f1feaf",
   "metadata": {},
   "outputs": [
    {
     "name": "stdout",
     "output_type": "stream",
     "text": [
      "3.141592653589793\n"
     ]
    }
   ],
   "source": [
    "from math import pi \n",
    "print(pi)"
   ]
  }
 ],
 "metadata": {
  "kernelspec": {
   "display_name": "Python 3",
   "language": "python",
   "name": "python3"
  },
  "language_info": {
   "codemirror_mode": {
    "name": "ipython",
    "version": 3
   },
   "file_extension": ".py",
   "mimetype": "text/x-python",
   "name": "python",
   "nbconvert_exporter": "python",
   "pygments_lexer": "ipython3",
   "version": "3.13.7"
  }
 },
 "nbformat": 4,
 "nbformat_minor": 5
}
