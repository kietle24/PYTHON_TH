{
 "cells": [
  {
   "cell_type": "code",
   "execution_count": 1,
   "id": "dfb5f066",
   "metadata": {},
   "outputs": [
    {
     "name": "stdout",
     "output_type": "stream",
     "text": [
      "binh phuong cua 12: 144\n"
     ]
    }
   ],
   "source": [
    "# Bài 1: Tính bình phương\n",
    "def square(n):\n",
    "    return n*n\n",
    "n = int(input(\"nhap so nguyen\"))\n",
    "print(f\"binh phuong cua {n}: {square(n)}\")"
   ]
  },
  {
   "cell_type": "code",
   "execution_count": 3,
   "id": "b8178baa",
   "metadata": {},
   "outputs": [
    {
     "name": "stdout",
     "output_type": "stream",
     "text": [
      "so 12 la so chan\n"
     ]
    }
   ],
   "source": [
    "# Bài 2: Kiểm tra số chẵn\n",
    "def is_even(n):\n",
    "    return n % 2 == 0 \n",
    "n = int(input(\"Nhập số: \"))\n",
    "print(f\"so {n} {'la so chan' if is_even(n) else 'khong la so chan'}\")\n"
   ]
  },
  {
   "cell_type": "code",
   "execution_count": null,
   "id": "54fd54c4",
   "metadata": {},
   "outputs": [
    {
     "name": "stdout",
     "output_type": "stream",
     "text": [
      "Chu vi hình tròn có bán kính 2.0 là: 12.56\n"
     ]
    }
   ],
   "source": [
    "# Bài 3: Tính chu vi hình tròn\n",
    "def circle_circumference(r):\n",
    "    return 2 * 3.14 * r\n",
    "r = float(input(\"Nhập bán kính hình tròn: \"))\n",
    "print(f\"Chu vi hình tròn có bán kính {r} là: {circle_circumference(r)}\")"
   ]
  },
  {
   "cell_type": "code",
   "execution_count": null,
   "id": "62d51523",
   "metadata": {},
   "outputs": [
    {
     "name": "stdout",
     "output_type": "stream",
     "text": [
      "Số lớn nhất trong ba số 1, 2, 3 là: 3\n"
     ]
    }
   ],
   "source": [
    "# Bài 3: Tính chu vi hình tròn\n",
    "def max_of_three(a,b,c): \n",
    "    if a >= b and  a >= c : \n",
    "        return a \n",
    "    elif b >= a and b >= c : \n",
    "        return b \n",
    "    return c \n",
    "a,b,c = map(int, input(\"Nhập ba số nguyên cách nhau bởi khoảng trắng: \").split())\n",
    "print(f\"Số lớn nhất trong ba số {a}, {b}, {c} là: {max_of_three(a,b,c)}\")"
   ]
  },
  {
   "cell_type": "code",
   "execution_count": null,
   "id": "4606f7fb",
   "metadata": {},
   "outputs": [
    {
     "name": "stdout",
     "output_type": "stream",
     "text": [
      "chuoi chan hoa : Asdassd\n"
     ]
    }
   ],
   "source": [
    "# Bài 5: Chuẩn hóa chuỗi\n",
    "def clean_string(text):\n",
    " return text.strip().title()\n",
    "text = input(\"nhap chuoi \")\n",
    "print(f\"chuoi chuan hoa : {clean_string(text)}\")"
   ]
  },
  {
   "cell_type": "code",
   "execution_count": 7,
   "id": "ba40b172",
   "metadata": {},
   "outputs": [
    {
     "name": "stdout",
     "output_type": "stream",
     "text": [
      "Tổng: 37\n"
     ]
    }
   ],
   "source": [
    "# Bài 6: Tính tổng các số\n",
    "def sum_numbers(*args):\n",
    " return sum(args)\n",
    "numbers = [int(x) for x in input(\"Nhập các số (cách nhau bởi khoảng trắng): \").split()]\n",
    "print(f\"Tổng: {sum_numbers(*numbers)}\")\n"
   ]
  },
  {
   "cell_type": "code",
   "execution_count": 8,
   "id": "9f3ff964",
   "metadata": {},
   "outputs": [
    {
     "name": "stdout",
     "output_type": "stream",
     "text": [
      "Năm 2025 không là năm nhuận\n"
     ]
    }
   ],
   "source": [
    "# Bài 7: Kiểm tra năm nhuận\n",
    "def is_leap_year(year):\n",
    " return (year % 4 == 0 and year % 100 != 0) or (year % 400 == 0)\n",
    "year = int(input(\"Nhập năm: \"))\n",
    "print(f\"Năm {year} {'là năm nhuận' if is_leap_year(year) else 'không là năm nhuận'}\")"
   ]
  },
  {
   "cell_type": "code",
   "execution_count": 9,
   "id": "b759edc2",
   "metadata": {},
   "outputs": [
    {
     "name": "stdout",
     "output_type": "stream",
     "text": [
      "Giá sau giảm giá: 2,080,108,018,108 VND\n"
     ]
    }
   ],
   "source": [
    "# Bài 8: Tính tiền giảm giá\n",
    "def calculate_discount(price, discount_rate=0.1):\n",
    " return price * (1 - discount_rate)\n",
    "price = float(input(\"Nhập giá sản phẩm (VND): \"))\n",
    "print(f\"Giá sau giảm giá: {calculate_discount(price):,.0f} VND\")"
   ]
  },
  {
   "cell_type": "code",
   "execution_count": 13,
   "id": "097a50af",
   "metadata": {},
   "outputs": [
    {
     "name": "stdout",
     "output_type": "stream",
     "text": [
      "Hello, Guest !\n"
     ]
    }
   ],
   "source": [
    "# Bài 9: Tạo thông báo\n",
    "def create_message(name=\"Guest\", greeting=\"Hello\"):\n",
    " return f\"{greeting}, {name}!\"\n",
    "name = input(\"Nhập tên (nhấn Enter nếu không có): \")\n",
    "print(create_message(name))"
   ]
  },
  {
   "cell_type": "code",
   "execution_count": 12,
   "id": "20de5ebd",
   "metadata": {},
   "outputs": [
    {
     "name": "stdout",
     "output_type": "stream",
     "text": [
      "Khoảng cách: 2.83\n"
     ]
    }
   ],
   "source": [
    "def distance(x1, y1, x2, y2):\n",
    "\treturn ((x2 - x1) ** 2 + (y2 - y1) ** 2) ** 0.5\n",
    "\n",
    "x1, y1, x2, y2 = map(float, input(\"Nhập tọa độ x1 y1 x2 y2 (cách nhau bởi khoảng trắng): \").split())\n",
    "print(f\"Khoảng cách: {distance(x1, y1, x2, y2):.2f}\")"
   ]
  }
 ],
 "metadata": {
  "kernelspec": {
   "display_name": "Python 3",
   "language": "python",
   "name": "python3"
  },
  "language_info": {
   "codemirror_mode": {
    "name": "ipython",
    "version": 3
   },
   "file_extension": ".py",
   "mimetype": "text/x-python",
   "name": "python",
   "nbconvert_exporter": "python",
   "pygments_lexer": "ipython3",
   "version": "3.13.6"
  }
 },
 "nbformat": 4,
 "nbformat_minor": 5
}
