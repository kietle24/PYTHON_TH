{
 "cells": [
  {
   "cell_type": "code",
   "execution_count": 10,
   "id": "ada16a49",
   "metadata": {},
   "outputs": [
    {
     "name": "stdout",
     "output_type": "stream",
     "text": [
      "so duong\n"
     ]
    }
   ],
   "source": [
    "#bt 1: kiem tra so duong am hoac = 0 \n",
    "n = float(input(\"nhap mot so \"))\n",
    "if n > 0 :\n",
    "    print(\"so duong\")\n",
    "elif n < 0:\n",
    "    print(\"so am\")\n",
    "else:\n",
    "    print(\"so bang 0\")"
   ]
  },
  {
   "cell_type": "code",
   "execution_count": 11,
   "id": "ee52c3e2",
   "metadata": {},
   "outputs": [
    {
     "name": "stdout",
     "output_type": "stream",
     "text": [
      "mua xaun\n"
     ]
    }
   ],
   "source": [
    "# Bài 2: Xác định mùa trong năm\n",
    "month = int(input(\"nhap thang (1-12): \"))\n",
    "if month in [3, 4, 5]:\n",
    " print(\"mua xaun\")\n",
    "elif month in [6, 7, 8]:\n",
    " print(\"mua he\")\n",
    "elif month in [9, 10, 11]:\n",
    " print(\"mua thu \")\n",
    "elif month in [12, 1, 2]:\n",
    " print(\"mua dong \")\n",
    "else:\n",
    " print(\"Tháng không hợp lệ\")"
   ]
  },
  {
   "cell_type": "code",
   "execution_count": 12,
   "id": "76ca4701",
   "metadata": {},
   "outputs": [
    {
     "name": "stdout",
     "output_type": "stream",
     "text": [
      "Gia taxi: 54,000 VND\n"
     ]
    }
   ],
   "source": [
    "# Bài 3: Tính giá taxi\n",
    "distance = float(input(\" km: \"))\n",
    "if distance <= 1:\n",
    " fare = 15000\n",
    "elif distance <= 5:\n",
    " fare = 15000 + (distance - 1) * 13000\n",
    "else:\n",
    " fare = 15000 + 4 * 13000 + (distance - 5) * 11000\n",
    "print(f\"Gia taxi: {fare:,.0f} VND\")"
   ]
  },
  {
   "cell_type": "code",
   "execution_count": 13,
   "id": "778e33e4",
   "metadata": {},
   "outputs": [
    {
     "name": "stdout",
     "output_type": "stream",
     "text": [
      "Điem không hợp lệ\n"
     ]
    }
   ],
   "source": [
    "# Bài 4: Kiểm tra điểm hợp lệ\n",
    "score = float(input(\"Nhập điem (0-10): \"))\n",
    "if 0 <= score <= 10:\n",
    " print(\"Điem hợp lệ\")\n",
    "else:\n",
    " print(\"Điem không hợp lệ\")"
   ]
  },
  {
   "cell_type": "code",
   "execution_count": null,
   "id": "98ad3a49",
   "metadata": {},
   "outputs": [],
   "source": [
    "# Bài 5: Kiểm tra ngày cuối tuần\n",
    "day = input(\"Nhập ngày (thứ 2, thứ 3,..., chủ nhật): \").lower()\n",
    "is_weekend = day in [\"thu 7\", \"chu nhat\"]\n",
    "print(f\"{'Cuối tuan' if is_weekend else 'ngay thuong'}\")"
   ]
  },
  {
   "cell_type": "code",
   "execution_count": null,
   "id": "4876787b",
   "metadata": {},
   "outputs": [
    {
     "name": "stdout",
     "output_type": "stream",
     "text": [
      "Tiền lãi: 600,000 VND\n"
     ]
    }
   ],
   "source": [
    "# Bài 6: Tính tiền gửi tiết kiệm\n",
    "amount = float(input(\"Nhập số tiền gửi (VND): \"))\n",
    "months = int(input(\"Nhập số tháng: \"))\n",
    "if months >= 12:\n",
    " interest_rate = 0.06\n",
    "else:\n",
    " interest_rate = 0.04\n",
    "interest = amount * interest_rate * (months / 12)\n",
    "print(f\"Tiền lãi: {interest:,.0f} VND\")"
   ]
  },
  {
   "cell_type": "code",
   "execution_count": 2,
   "id": "af27b9db",
   "metadata": {},
   "outputs": [
    {
     "name": "stdout",
     "output_type": "stream",
     "text": [
      "Số 1 là Lẻ\n",
      "Tam giác đều\n"
     ]
    }
   ],
   "source": [
    "# Bài 7: Kiểm tra số chẵn/lẻ bằng toán tử ba ngôi\n",
    "number = int(input(\"Nhập số nguyên: \"))\n",
    "result = \"Chẵn\" if number % 2 == 0 else \"Lẻ\"\n",
    "print(f\"Số {number} là {result}\")\n",
    "1\n",
    "# Bài 8: Xác định loại tam giác\n",
    "a = float(input(\" a: \"))\n",
    "b = float(input(\" b: \"))\n",
    "c = float(input(\" c: \"))\n",
    "if a + b > c and b + c > a and a + c > b:\n",
    " if a == b == c:\n",
    "     print(\"Tam giác đều\")\n",
    " elif a == b or b == c or a == c:\n",
    "    print(\"Tam giác cân\")\n",
    " else:\n",
    "     print(\"Tam giác thường\")\n",
    "else:\n",
    "     print(\"Không phải tam giác\")"
   ]
  },
  {
   "cell_type": "code",
   "execution_count": 5,
   "id": "1b50fa41",
   "metadata": {},
   "outputs": [
    {
     "name": "stdout",
     "output_type": "stream",
     "text": [
      "Không được truy cập nội dung VIP\n"
     ]
    }
   ],
   "source": [
    "# Bài 9: Kiểm tra quyền truy cập\n",
    "age = int(input(\"Nhập tuổi: \"))\n",
    "is_member = input(\"Có phải thành viên?: \").lower() == \"yes\"\n",
    "if age >= 18 and is_member:\n",
    " print(\"Được truy cập nội dung VIP\")\n",
    "else:\n",
    " print(\"Không được truy cập nội dung VIP\")"
   ]
  },
  {
   "cell_type": "code",
   "execution_count": 9,
   "id": "1944bcae",
   "metadata": {},
   "outputs": [
    {
     "name": "stdout",
     "output_type": "stream",
     "text": [
      "BMI: 34.6 - Béo phì\n"
     ]
    }
   ],
   "source": [
    "# Bài 10: Tính BMI và phân loại\n",
    "weight = float(input(\"Nhập cân nặng (kg): \"))\n",
    "height = float(input(\"Nhập chiều cao (m): \"))\n",
    "bmi = weight / (height ** 2)\n",
    "if bmi < 18.5:\n",
    "    print(f\"BMI: {bmi:.1f} - Gầy\")\n",
    "elif bmi <= 24.9:\n",
    "     print(f\"BMI: {bmi:.1f} - Bình thường\")\n",
    "elif bmi <= 29.9:\n",
    "     print(f\"BMI: {bmi:.1f} - Thừa cân\")\n",
    "else:\n",
    "     print(f\"BMI: {bmi:.1f} - Béo phì\")"
   ]
  }
 ],
 "metadata": {
  "kernelspec": {
   "display_name": "Python 3",
   "language": "python",
   "name": "python3"
  },
  "language_info": {
   "codemirror_mode": {
    "name": "ipython",
    "version": 3
   },
   "file_extension": ".py",
   "mimetype": "text/x-python",
   "name": "python",
   "nbconvert_exporter": "python",
   "pygments_lexer": "ipython3",
   "version": "3.13.7"
  }
 },
 "nbformat": 4,
 "nbformat_minor": 5
}
