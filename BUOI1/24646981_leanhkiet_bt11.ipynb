{
 "cells": [
  {
   "cell_type": "code",
   "execution_count": 1,
   "id": "f50c0889",
   "metadata": {},
   "outputs": [
    {
     "name": "stdout",
     "output_type": "stream",
     "text": [
      "dien tich:100.00 cm\n",
      "chu vi: 40.00 cm \n"
     ]
    }
   ],
   "source": [
    "#bai tap 1 : dien tich chu vi hcn \n",
    "dai = float(input(\"dai:\"))\n",
    "rong = float(input(\"rong:\"))\n",
    "dientich = dai*rong \n",
    "chuvi = (dai+rong)*2 \n",
    "print(f\"dien tich:{dientich:.2f} cm\")\n",
    "print(f\"chu vi: {chuvi:.2f} cm \")"
   ]
  },
  {
   "cell_type": "code",
   "execution_count": null,
   "id": "1b8cafc6",
   "metadata": {},
   "outputs": [
    {
     "name": "stdout",
     "output_type": "stream",
     "text": [
      "ten chuan hoa: Kiet\n"
     ]
    }
   ],
   "source": [
    "#bt 2 chuan hoa ten nguoi \n",
    "name = input(\"nhap ten cua ban\") \n",
    "clean_name = name.strip().title() \n",
    "print(f\"ten chuan hoa: {clean_name}\") "
   ]
  },
  {
   "cell_type": "code",
   "execution_count": null,
   "id": "33a36721",
   "metadata": {},
   "outputs": [
    {
     "name": "stdout",
     "output_type": "stream",
     "text": [
      "nhiet do 30.0 tuong ung f 317.0\n"
     ]
    }
   ],
   "source": [
    "# bt3 chuyen doi nhiet do\n",
    "c = float(input(\"nhap nhiet do(c ):\"))\n",
    "f = (c*9.5) + 32 \n",
    "print(f\"nhiet do {c} tuong ung f {f}\")"
   ]
  },
  {
   "cell_type": "code",
   "execution_count": null,
   "id": "e8a80d6e",
   "metadata": {},
   "outputs": [
    {
     "name": "stdout",
     "output_type": "stream",
     "text": [
      "so 12 la so chan\n"
     ]
    }
   ],
   "source": [
    "#bt4 kiem tra chan le \n",
    "n = int(input(\"nhap so nguyen: \"))\n",
    "if_even = n % 2 == 0 \n",
    "print(f\"so {n} la so {\"chan\" if if_even else \"le\"}\")"
   ]
  },
  {
   "cell_type": "code",
   "execution_count": null,
   "id": "d4742875",
   "metadata": {},
   "outputs": [
    {
     "name": "stdout",
     "output_type": "stream",
     "text": [
      "diem trung binh: 8.00\n"
     ]
    }
   ],
   "source": [
    "#bt5: tinh trung binh mon \n",
    "diem1 = float(input(\"nhap diem 1: \"))\n",
    "diem2 = float(input(\"nhap diem 2:\"))\n",
    "diem3 = float(input(\"nhap diem 3 \"))\n",
    "diemtb = (diem1 + diem2 + diem3) / 3\n",
    "print(f\"diem trung binh: {diemtb:.2f}\")"
   ]
  },
  {
   "cell_type": "code",
   "execution_count": null,
   "id": "d6ef0dcf",
   "metadata": {},
   "outputs": [
    {
     "name": "stdout",
     "output_type": "stream",
     "text": [
      "mat khau 12313 qua ngan \n"
     ]
    }
   ],
   "source": [
    "#bt6 kiem tra do dai cua mat khau \n",
    "password = input(\"nhap mat khau:\")\n",
    "is_long_enough = len(password) >=8 \n",
    "print(f\"mat khau {password} {\"du manh\" if is_long_enough else \"qua ngan \"}\")"
   ]
  },
  {
   "cell_type": "code",
   "execution_count": null,
   "id": "4240a1c0",
   "metadata": {},
   "outputs": [
    {
     "name": "stdout",
     "output_type": "stream",
     "text": [
      "so tien phai tra: 900,001 VND(giam gia: 10.0%)\n"
     ]
    }
   ],
   "source": [
    "#bt7:\n",
    "price = float(input(\"Nhập số tiền hóa đơn (VND): \"))\n",
    "discount = 0.1 if price > 1000000 else 0\n",
    "total = price *(1-discount)\n",
    "print(f\"so tien phai tra: {total:,.0f} VND(giam gia: {discount*100}%)\")"
   ]
  },
  {
   "cell_type": "code",
   "execution_count": null,
   "id": "e7bb60e7",
   "metadata": {},
   "outputs": [
    {
     "name": "stdout",
     "output_type": "stream",
     "text": [
      "cau co 13ky tu \n",
      "bao gom khoangtrang 6\n"
     ]
    }
   ],
   "source": [
    "#bt8 diem so ky tu trong chuoi \n",
    "text = input(\"nhap chuoi:\")\n",
    "char_count = len(text)\n",
    "space_count = text .count(\" \")\n",
    "print(f\"cau co {char_count} ky tu \\nbao gom khoangtrang {space_count}\")\n"
   ]
  },
  {
   "cell_type": "code",
   "execution_count": null,
   "id": "8539716e",
   "metadata": {},
   "outputs": [
    {
     "name": "stdout",
     "output_type": "stream",
     "text": [
      "Năm 2022 không là năm nhuận\n"
     ]
    }
   ],
   "source": [
    "#bt9 kiem tra nam nhuan \n",
    "year = int(input(\"Nhập năm: \"))\n",
    "is_leap = (year % 4 == 0 and year % 100 != 0) or (year % 400 == 0)\n",
    "print(f\"Năm {year} {'là năm nhuận' if is_leap else 'không là năm nhuận'}\")"
   ]
  },
  {
   "cell_type": "code",
   "execution_count": 3,
   "id": "d46f98c1",
   "metadata": {},
   "outputs": [
    {
     "name": "stdout",
     "output_type": "stream",
     "text": [
      "chao mung kiet den voi python \n"
     ]
    }
   ],
   "source": [
    "#bt10 tao thong bao chao mung \n",
    "username = input(\"nhap ten nguoi dung: \")\n",
    "welcome_message = f\"chao mung {username if username else \"khach\"}den voi python \"\n",
    "print(welcome_message)\n"
   ]
  }
 ],
 "metadata": {
  "kernelspec": {
   "display_name": "Python 3",
   "language": "python",
   "name": "python3"
  },
  "language_info": {
   "codemirror_mode": {
    "name": "ipython",
    "version": 3
   },
   "file_extension": ".py",
   "mimetype": "text/x-python",
   "name": "python",
   "nbconvert_exporter": "python",
   "pygments_lexer": "ipython3",
   "version": "3.13.6"
  }
 },
 "nbformat": 4,
 "nbformat_minor": 5
}
