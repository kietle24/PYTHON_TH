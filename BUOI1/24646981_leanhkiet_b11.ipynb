{
 "cells": [
  {
   "cell_type": "code",
   "execution_count": null,
   "id": "77f464aa",
   "metadata": {},
   "outputs": [
    {
     "name": "stdout",
     "output_type": "stream",
     "text": [
      "25\n",
      "175\n",
      "Nguyen\n"
     ]
    }
   ],
   "source": [
    "#Đi sâu vào mục 1.1: Biến và các kiểu dữ liệu cơ sở trong Python\n",
    "age = 25 #int\n",
    "height = 175 #float\n",
    "name = \"Nguyen\" #str \n",
    "print(age)\n",
    "print(height)\n",
    "print(name)"
   ]
  },
  {
   "cell_type": "code",
   "execution_count": 3,
   "id": "aee1b162",
   "metadata": {},
   "outputs": [
    {
     "name": "stdout",
     "output_type": "stream",
     "text": [
      "10000000000000000000000000000000000000000000000000000000000000000000000000000000000000000000000000000\n"
     ]
    }
   ],
   "source": [
    "#Kích thước số nguyên:\n",
    "large_number = 10**100 \n",
    "print(large_number)"
   ]
  },
  {
   "cell_type": "code",
   "execution_count": null,
   "id": "35e5d063",
   "metadata": {},
   "outputs": [
    {
     "name": "stdout",
     "output_type": "stream",
     "text": [
      "HELLO\n"
     ]
    }
   ],
   "source": [
    "#chuoi \n",
    "test = \"hello\"\n",
    "print(test.upper()) "
   ]
  },
  {
   "cell_type": "code",
   "execution_count": null,
   "id": "41bd0812",
   "metadata": {},
   "outputs": [],
   "source": [
    "#MATLAB\n",
    "x =  10 \n",
    "name = 'nguyen'"
   ]
  },
  {
   "cell_type": "code",
   "execution_count": 11,
   "id": "77c05ad4",
   "metadata": {},
   "outputs": [
    {
     "name": "stdout",
     "output_type": "stream",
     "text": [
      "5\n"
     ]
    }
   ],
   "source": [
    "x= 5 \n",
    "print(int(x))"
   ]
  },
  {
   "cell_type": "code",
   "execution_count": null,
   "id": "6021d067",
   "metadata": {},
   "outputs": [
    {
     "name": "stdout",
     "output_type": "stream",
     "text": [
      "in\n"
     ]
    }
   ],
   "source": [
    "if 0: \n",
    "    print(\"khong in \")\n",
    "else :    \n",
    "    print(\"in\") "
   ]
  },
  {
   "cell_type": "code",
   "execution_count": null,
   "id": "e43c30bd",
   "metadata": {},
   "outputs": [
    {
     "name": "stdout",
     "output_type": "stream",
     "text": [
      "tien lai: 1,000,000 VND \n",
      "tong tien: 11,000,000 VND\n"
     ]
    }
   ],
   "source": [
    "#Ví dụ 1: Tính toán tài chính (Số nguyên và số thực)\n",
    "principal = 10000000 # tien goc \n",
    "interest_rate = 0.05  #lai suat \n",
    "years = 2   #thoi gian \n",
    "interest = principal * interest_rate * years\n",
    "total = principal + interest\n",
    "print(f\"tien lai: {interest:,.0f} VND \")\n",
    "print(f\"tong tien: {total:,.0f} VND\")"
   ]
  },
  {
   "cell_type": "code",
   "execution_count": 3,
   "id": "c34a36bc",
   "metadata": {},
   "outputs": [
    {
     "name": "stdout",
     "output_type": "stream",
     "text": [
      "ten chuan hoa:Kiet Le\n"
     ]
    }
   ],
   "source": [
    "#Ví dụ 2: Xử lý thông tin người dùng (Chuỗi)\n",
    "name = input(\"nhap ten:\")\n",
    "clean_name = \" \".join(name.split()).title()\n",
    "print(f\"ten chuan hoa:{clean_name}\")"
   ]
  },
  {
   "cell_type": "code",
   "execution_count": 16,
   "id": "9eb7f490",
   "metadata": {},
   "outputs": [
    {
     "name": "stdout",
     "output_type": "stream",
     "text": [
      "khong co ket noi \n"
     ]
    }
   ],
   "source": [
    "#Ví dụ 3: Kiểm tra trạng thái hệ thống (Boolean và None)\n",
    "connection = None\n",
    "is_active = False\n",
    "if connection is None:\n",
    "    print(\"khong co ket noi \")\n",
    "elif is_active: \n",
    "    print(\"thiet bi dang hoat dong \")\n",
    "else: \n",
    "    print(\"thiet bi khong hoat dong\")"
   ]
  },
  {
   "cell_type": "code",
   "execution_count": null,
   "id": "46786bec",
   "metadata": {},
   "outputs": [],
   "source": [
    "#5. Bài tập thú vị và mang tính ứng dụng \n",
    "#Bài tập 1: Kiểm tra định dạng email\n",
    "email = input(\"nhap mail\")\n",
    "is_valid = \"@\" in email and \".\" in email and email.index \n",
    "print(f\"email{email}{' hop le 'if is_valid else 'khong hop le'}\")"
   ]
  },
  {
   "cell_type": "code",
   "execution_count": 14,
   "id": "13e03e3c",
   "metadata": {},
   "outputs": [
    {
     "name": "stdout",
     "output_type": "stream",
     "text": [
      "BMI: 34.6, phan loai: beo phi\n"
     ]
    }
   ],
   "source": [
    "#Bài tập 2: Tính BMI (Chỉ số khối cơ thể)\n",
    "# Sử dụng các biến đã có sẵn: weight, height, bmi, category\n",
    "weight = float(input(\"nhap can nang (kg):\"))\n",
    "height = float(input(\"nhap chieu cao (m):\"))\n",
    "bmi = weight / (height ** 2)\n",
    "if bmi < 18.5: \n",
    "    category = \"gay\"\n",
    "elif 18.5 <= bmi <= 24.9: \n",
    "    category = \"binh thuong\"\n",
    "elif 25 <= bmi <= 29.9:\n",
    "    category = \"thua can\"\n",
    "else:\n",
    "    category = \"beo phi\"\n",
    "\n",
    "print(f\"BMI: {bmi:.1f}, phan loai: {category}\")\n"
   ]
  },
  {
   "cell_type": "code",
   "execution_count": 12,
   "id": "1e32e865",
   "metadata": {},
   "outputs": [
    {
     "name": "stdout",
     "output_type": "stream",
     "text": [
      "so 1 viet la: mot\n"
     ]
    }
   ],
   "source": [
    "#Bài tập 3: Đổi số thành chữ\n",
    "n = int(input(\"nhap so nguyen\"))\n",
    "n_to_w = {\n",
    "    0: \"khong\",\n",
    "    1: \"mot\",\n",
    "    2: \"hai\",\n",
    "    3: \"ba\",\n",
    "    4: \"bon\",\n",
    "    5: \"nam\", \n",
    "    6: \"sau\",\n",
    "    7: \"bay\",\n",
    "    8: \"tam\",\n",
    "    9: \"chin\"\n",
    "}\n",
    "print(f\"so {n} viet la: {n_to_w.get(n)}\")"
   ]
  },
  {
   "cell_type": "code",
   "execution_count": null,
   "id": "f9a094fd",
   "metadata": {},
   "outputs": [
    {
     "name": "stdout",
     "output_type": "stream",
     "text": [
      "nam 2025 khong la nam nhuan\n"
     ]
    }
   ],
   "source": [
    "#Bài tập 4: Kiểm tra năm nhuận\n",
    "year = int(input(\"nhap nam:\"))\n",
    "is_leap = (year % 4 == 0 and year % 100 != 0) or (year % 400 == 0)\n",
    "print(f\"nam {year} {'la nam nhuan' if is_leap else 'khong la nam nhuan'}\")"
   ]
  },
  {
   "cell_type": "code",
   "execution_count": 20,
   "id": "8cce40e5",
   "metadata": {},
   "outputs": [
    {
     "name": "stdout",
     "output_type": "stream",
     "text": [
      "True\n"
     ]
    }
   ],
   "source": [
    "#luu y khi lap trinh voi bien va kieu du lieu trong python \n",
    "x = 42 \n",
    "print(isinstance(x, int)) # true "
   ]
  },
  {
   "cell_type": "code",
   "execution_count": 21,
   "id": "d23753d6",
   "metadata": {},
   "outputs": [
    {
     "name": "stdout",
     "output_type": "stream",
     "text": [
      "124\n"
     ]
    }
   ],
   "source": [
    "num_str = \"123\"\n",
    "num = int(num_str)  # Chuyển đổi chuỗi thành số nguyên\n",
    "print(num+1)"
   ]
  },
  {
   "cell_type": "code",
   "execution_count": 22,
   "id": "d369d6f8",
   "metadata": {},
   "outputs": [
    {
     "name": "stdout",
     "output_type": "stream",
     "text": [
      "Hello\n",
      "Jello\n"
     ]
    }
   ],
   "source": [
    "text= \"Hello\"\n",
    "new_text = text.replace(\"H\", \"J\")  # Thay thế 'H' bằng 'J'\n",
    "print(text)\n",
    "print(new_text) "
   ]
  },
  {
   "cell_type": "code",
   "execution_count": 23,
   "id": "1f37d110",
   "metadata": {},
   "outputs": [
    {
     "name": "stdout",
     "output_type": "stream",
     "text": [
      "x is None\n"
     ]
    }
   ],
   "source": [
    "x = None\n",
    "if x is None:\n",
    "    print(\"x is None\")\n"
   ]
  }
 ],
 "metadata": {
  "kernelspec": {
   "display_name": "Python 3",
   "language": "python",
   "name": "python3"
  },
  "language_info": {
   "codemirror_mode": {
    "name": "ipython",
    "version": 3
   },
   "file_extension": ".py",
   "mimetype": "text/x-python",
   "name": "python",
   "nbconvert_exporter": "python",
   "pygments_lexer": "ipython3",
   "version": "3.13.6"
  }
 },
 "nbformat": 4,
 "nbformat_minor": 5
}
