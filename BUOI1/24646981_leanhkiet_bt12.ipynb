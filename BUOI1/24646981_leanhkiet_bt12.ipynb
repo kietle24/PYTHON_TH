{
 "cells": [
  {
   "cell_type": "code",
   "execution_count": 2,
   "id": "ef67918c",
   "metadata": {},
   "outputs": [
    {
     "name": "stdout",
     "output_type": "stream",
     "text": [
      "chu vi: 16.00\n",
      "dien tich: 16.00\n"
     ]
    }
   ],
   "source": [
    "#bt1 dien tich chu vi hinh vuong\n",
    "canh = float(input(\"nhap canh cua hinh vuong:\"))\n",
    "chuvi = 4 *canh\n",
    "dientich = canh **2 \n",
    "print(f\"chu vi: {chuvi:.2f}\")\n",
    "print(f\"dien tich: {dientich:.2f}\")\n",
    "\n"
   ]
  },
  {
   "cell_type": "code",
   "execution_count": 4,
   "id": "58a7e135",
   "metadata": {},
   "outputs": [
    {
     "name": "stdout",
     "output_type": "stream",
     "text": [
      "tong tien dien phai tra: 9000.00 VND\n"
     ]
    }
   ],
   "source": [
    "#bt 2 tinh tien dien \n",
    "usage = float(input(\"nhap so dien su dung (kWh): \"))\n",
    "price_pre_kwh =3000 \n",
    "total = usage * price_pre_kwh \n",
    "print(f\"tong tien dien phai tra: {total:.2f} VND\")"
   ]
  },
  {
   "cell_type": "code",
   "execution_count": 6,
   "id": "48e8293c",
   "metadata": {},
   "outputs": [
    {
     "name": "stdout",
     "output_type": "stream",
     "text": [
      "Số 15 chia hết cho cả 3 và 5\n"
     ]
    }
   ],
   "source": [
    "#kiem tra so chia het cho 3 va 5 \n",
    "n = int(input(\"nhap so nguyen: \"))\n",
    "is_divisible_by_3 = n % 3 == 0\n",
    "is_divisible_by_5 = n % 5 == 0\n",
    "print(f\"Số {n} {'chia hết' if is_divisible_by_3 and is_divisible_by_5 else 'không chia hết'} cho cả 3 và 5\")"
   ]
  },
  {
   "cell_type": "code",
   "execution_count": 7,
   "id": "979180b9",
   "metadata": {},
   "outputs": [
    {
     "name": "stdout",
     "output_type": "stream",
     "text": [
      "2 nho hon 3\n"
     ]
    }
   ],
   "source": [
    "#so sanh 2 so \n",
    "a = int(input(\"nhap a \"))\n",
    "b = int (input(\"nhap b \"))\n",
    "print(f\"{a} {\"lon hon\" if a> b else \"nho hon\"} {b}\")"
   ]
  },
  {
   "cell_type": "code",
   "execution_count": 8,
   "id": "ddee2011",
   "metadata": {},
   "outputs": [
    {
     "name": "stdout",
     "output_type": "stream",
     "text": [
      "Mật khẩu có số\n"
     ]
    }
   ],
   "source": [
    "# Bài 5: Kiểm tra mật khẩu đơn giản\n",
    "password = input(\"Nhập mật khẩu: \")\n",
    "has_digit = any(c in \"0123456789\" for c in password)\n",
    "print(f\"Mật khẩu {'có' if has_digit else 'không có'} số\")"
   ]
  },
  {
   "cell_type": "code",
   "execution_count": 10,
   "id": "42e623e4",
   "metadata": {},
   "outputs": [
    {
     "name": "stdout",
     "output_type": "stream",
     "text": [
      "Giảm giá: 20.0%, Tổng tiền: 800,000,000 VND\n"
     ]
    }
   ],
   "source": [
    "# Bài 6: Tính tiền giảm giá\n",
    "price = float(input(\"Nhập giá sản phẩm (VND): \"))\n",
    "discount = 0.2 if price >= 500000 else 0.05\n",
    "total = price * (1 - discount)\n",
    "print(f\"Giảm giá: {discount*100}%, Tổng tiền: {total:,.0f} VND\")"
   ]
  },
  {
   "cell_type": "code",
   "execution_count": 11,
   "id": "67630a49",
   "metadata": {},
   "outputs": [
    {
     "name": "stdout",
     "output_type": "stream",
     "text": [
      "Bạn là người lớn\n"
     ]
    }
   ],
   "source": [
    "# Bài 7: Kiểm tra độ tuổi\n",
    "age = int(input(\"tuoi: \"))\n",
    "is_adult = age >= 18\n",
    "print(f\"Bạn {'la nguoi lon ' if is_adult else 'chu du tuoi'}\")"
   ]
  },
  {
   "cell_type": "code",
   "execution_count": null,
   "id": "40685f33",
   "metadata": {},
   "outputs": [
    {
     "name": "stdout",
     "output_type": "stream",
     "text": [
      "Tổng chi phí thuê xe: 1,161,500,000 VND\n"
     ]
    }
   ],
   "source": [
    "# Bài 8: Tính số ngày thuê xe\n",
    "days = int(input(\"nhap mot ky tu: \"))\n",
    "rate = 500000 # Giả sử 500,000 VND/ngày\n",
    "total_cost = days * rate\n",
    "print(f\"tong chi phi thue xe: {total_cost:,.0f} VND\")"
   ]
  },
  {
   "cell_type": "code",
   "execution_count": null,
   "id": "766e10e5",
   "metadata": {},
   "outputs": [
    {
     "name": "stdout",
     "output_type": "stream",
     "text": [
      "Ký tự 'AA' là chữ hoa\n"
     ]
    }
   ],
   "source": [
    "# Bài 9: Kiểm tra ký tự hoa\n",
    "char = input(\"nhap mot ky tu hoa\")\n",
    "is_upper = char >= \"A\" and char <= \"Z\"\n",
    "print(f\"Ký tự '{char}' {'là chữ hoa' if is_upper else 'không phải chữ hoa'}\")"
   ]
  },
  {
   "cell_type": "code",
   "execution_count": null,
   "id": "bfc414e5",
   "metadata": {},
   "outputs": [
    {
     "name": "stdout",
     "output_type": "stream",
     "text": [
      "Điểm trung bình: 8.0, Đậu\n"
     ]
    }
   ],
   "source": [
    "# Bài 10: Tính diem xep loai \n",
    "math = float(input(\"nhap diem toan \"))\n",
    "literature = float(input(\"nhap diem van \"))\n",
    "average = (math + literature) / 2\n",
    "is_pass = average >= 5.0\n",
    "print(f\"Điểm trung bình: {average:.1f}, {'Đậu' if is_pass else 'Trượt'}\")"
   ]
  }
 ],
 "metadata": {
  "kernelspec": {
   "display_name": "Python 3",
   "language": "python",
   "name": "python3"
  },
  "language_info": {
   "codemirror_mode": {
    "name": "ipython",
    "version": 3
   },
   "file_extension": ".py",
   "mimetype": "text/x-python",
   "name": "python",
   "nbconvert_exporter": "python",
   "pygments_lexer": "ipython3",
   "version": "3.13.6"
  }
 },
 "nbformat": 4,
 "nbformat_minor": 5
}
