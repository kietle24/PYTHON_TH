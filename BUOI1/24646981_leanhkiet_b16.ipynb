{
 "cells": [
  {
   "cell_type": "code",
   "execution_count": 2,
   "id": "ae3f24c0",
   "metadata": {},
   "outputs": [
    {
     "name": "stdout",
     "output_type": "stream",
     "text": [
      "8\n"
     ]
    }
   ],
   "source": [
    "def add(a,b):\n",
    "    return a+ b\n",
    "\n",
    "result =add(3,5)\n",
    "print(result)"
   ]
  },
  {
   "cell_type": "code",
   "execution_count": 3,
   "id": "80068325",
   "metadata": {},
   "outputs": [
    {
     "name": "stdout",
     "output_type": "stream",
     "text": [
      "5 3\n"
     ]
    }
   ],
   "source": [
    "def swap(a,b): \n",
    "    return b ,a \n",
    "x, y = swap(3,5 )\n",
    "print(x,y)\n"
   ]
  },
  {
   "cell_type": "code",
   "execution_count": 5,
   "id": "6453cebb",
   "metadata": {},
   "outputs": [
    {
     "name": "stdout",
     "output_type": "stream",
     "text": [
      "Hello, Guest!\n"
     ]
    }
   ],
   "source": [
    "def greet(name=\"Guest\"):\n",
    "    return f\"Hello, {name}!\"\n",
    "print(greet())"
   ]
  },
  {
   "cell_type": "code",
   "execution_count": 9,
   "id": "ad1ab9c0",
   "metadata": {},
   "outputs": [
    {
     "name": "stdout",
     "output_type": "stream",
     "text": [
      "Kiet is 20 year old \n"
     ]
    }
   ],
   "source": [
    "def describe(name , age =20 ):\n",
    "    return f\"{name} is {age} year old \"\n",
    "print(describe(\"Kiet\"))"
   ]
  },
  {
   "cell_type": "code",
   "execution_count": 18,
   "id": "a2d717d6",
   "metadata": {},
   "outputs": [
    {
     "name": "stdout",
     "output_type": "stream",
     "text": [
      "Tổng: 15, Số lượng: 5\n"
     ]
    }
   ],
   "source": [
    "# Python tự động xác định kiểu dữ liệu của tham số và giá trị trả về, giúp mã ngắn gọn\n",
    "def get_status(numbers):\n",
    "    return sum(numbers), len(numbers)\n",
    "total, count = get_status([1, 2, 3, 4, 5])\n",
    "print(f\"Tổng: {total}, Số lượng: {count}\")"
   ]
  },
  {
   "cell_type": "code",
   "execution_count": null,
   "id": "9224b35b",
   "metadata": {},
   "outputs": [
    {
     "name": "stdout",
     "output_type": "stream",
     "text": [
      "(1, 'two', 3.0)\n",
      "{'key1': 'value1', 'key2': 'value2'}\n"
     ]
    }
   ],
   "source": [
    "#*args : Nhận số lượng tham số bất kỳ dưới dạng tuple .\n",
    "#**kwargs : Nhận cặp key-value dưới dạng dict .\n",
    "\n",
    "def print_args(*args, **kwargs):\n",
    "    print(args)\n",
    "    print(kwargs)\n",
    "print_args(1, \"two\", 3.0, key1=\"value1\", key2=\"value2\")"
   ]
  },
  {
   "cell_type": "code",
   "execution_count": 26,
   "id": "9e915c22",
   "metadata": {},
   "outputs": [
    {
     "name": "stdout",
     "output_type": "stream",
     "text": [
      "25\n"
     ]
    }
   ],
   "source": [
    "#Có thể gán hàm cho biến hoặc truyền vào hàm khác\n",
    "def square(n):\n",
    "        return n * n\n",
    "func = square\n",
    "print(func(5))"
   ]
  },
  {
   "cell_type": "code",
   "execution_count": 34,
   "id": "f42a541f",
   "metadata": {},
   "outputs": [
    {
     "name": "stdout",
     "output_type": "stream",
     "text": [
      "25\n",
      "50\n"
     ]
    }
   ],
   "source": [
    "#Ví dụ 1: Tính diện tích hình học\n",
    "def dientich(dai, rong=None):\n",
    "    if rong is None:\n",
    "        return dai *dai \n",
    "    else: \n",
    "        return dai *rong\n",
    "print(dientich(5))\n",
    "print(dientich(5, 10))"
   ]
  },
  {
   "cell_type": "code",
   "execution_count": 36,
   "id": "29847f8f",
   "metadata": {},
   "outputs": [
    {
     "name": "stdout",
     "output_type": "stream",
     "text": [
      "Hello World\n"
     ]
    }
   ],
   "source": [
    "#Ví dụ 2: Chuẩn hóa chuỗi \n",
    "def normalize_name(name): \n",
    "    return \" \".join(word.title() for word in name.split()) \n",
    "print(normalize_name(\"   hello   world  \"))  # \"Hello World\""
   ]
  },
  {
   "cell_type": "code",
   "execution_count": null,
   "id": "9ecaeb4b",
   "metadata": {},
   "outputs": [
    {
     "name": "stdout",
     "output_type": "stream",
     "text": [
      "True\n",
      "False\n"
     ]
    }
   ],
   "source": [
    "#Ví dụ 3: Kiểm tra số nguyên tố\n",
    "def is_prime(n): \n",
    "    if n < 2: \n",
    "        return False \n",
    "    for i in range(2,n):\n",
    "        if n % i == 0: \n",
    "            return False \n",
    "    return True \n",
    "print(is_prime(7))  # True\n",
    "print(is_prime(10))  # False"
   ]
  }
 ],
 "metadata": {
  "kernelspec": {
   "display_name": "Python 3",
   "language": "python",
   "name": "python3"
  },
  "language_info": {
   "codemirror_mode": {
    "name": "ipython",
    "version": 3
   },
   "file_extension": ".py",
   "mimetype": "text/x-python",
   "name": "python",
   "nbconvert_exporter": "python",
   "pygments_lexer": "ipython3",
   "version": "3.13.6"
  }
 },
 "nbformat": 4,
 "nbformat_minor": 5
}
