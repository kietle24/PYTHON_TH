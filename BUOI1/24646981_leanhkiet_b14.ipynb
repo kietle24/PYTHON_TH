{
 "cells": [
  {
   "cell_type": "code",
   "execution_count": null,
   "id": "d34440e2",
   "metadata": {},
   "outputs": [
    {
     "name": "stdout",
     "output_type": "stream",
     "text": [
      "9 x 1 = 9\n",
      "9 x 2 = 18\n",
      "9 x 3 = 27\n",
      "9 x 4 = 36\n",
      "9 x 5 = 45\n",
      "9 x 6 = 54\n",
      "9 x 7 = 63\n",
      "9 x 8 = 72\n",
      "9 x 9 = 81\n",
      "9 x 10 = 90\n"
     ]
    }
   ],
   "source": [
    "#vd 4 : \n",
    "number = int(input(\"(1-9): \"))\n",
    "for i in range(1, 11):\n",
    "    print(f\"{number} x {i} = {number * i}\")"
   ]
  },
  {
   "cell_type": "code",
   "execution_count": null,
   "id": "c64db82b",
   "metadata": {},
   "outputs": [],
   "source": [
    "#Ví dụ 2: Tính tổng hóa đơn\n",
    "#Tính tổng tiền từ nhiều món hàng.\n",
    "\n",
    "total = 0\n",
    "while True:\n",
    "    price = float(input(\"Nhập giá món hàng (0 để kết thúc): \"))\n",
    "    if price == 0:\n",
    "        break\n",
    "    total += price\n",
    "print(f\"Tổng hóa đơn: {total:,.0f} VND\")"
   ]
  },
  {
   "cell_type": "code",
   "execution_count": 2,
   "id": "9502ddc0",
   "metadata": {},
   "outputs": [
    {
     "name": "stdout",
     "output_type": "stream",
     "text": [
      "Số lần xuất hiện của '2 ': 0\n"
     ]
    }
   ],
   "source": [
    "#Ví dụ 3: Đếm ký tự trong chuỗi\n",
    "text = input(\"Nhập chuỗi: \")\n",
    "char = input(\"Nhập ký tự cần đếm: \")\n",
    "count = 0 \n",
    "for c in text :\n",
    "     if c == char:\n",
    "        count += 1\n",
    "print(f\"Số lần xuất hiện của '{char}': {count}\")"
   ]
  }
 ],
 "metadata": {
  "kernelspec": {
   "display_name": "Python 3",
   "language": "python",
   "name": "python3"
  },
  "language_info": {
   "codemirror_mode": {
    "name": "ipython",
    "version": 3
   },
   "file_extension": ".py",
   "mimetype": "text/x-python",
   "name": "python",
   "nbconvert_exporter": "python",
   "pygments_lexer": "ipython3",
   "version": "3.13.6"
  }
 },
 "nbformat": 4,
 "nbformat_minor": 5
}
