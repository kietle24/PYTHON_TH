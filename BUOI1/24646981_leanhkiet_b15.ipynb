{
 "cells": [
  {
   "cell_type": "code",
   "execution_count": 2,
   "id": "c20e2ad4",
   "metadata": {},
   "outputs": [
    {
     "name": "stdout",
     "output_type": "stream",
     "text": [
      "banana\n",
      "['apple ', 'mango', 'orange', 'grape']\n"
     ]
    }
   ],
   "source": [
    "fruit = [\"apple \", \"banana\" ,\"orange\" ]\n",
    "fruit.append(\"grape\") \n",
    "print(fruit[1])\n",
    "fruit[1] = \"mango\"\n",
    "print(fruit)"
   ]
  },
  {
   "cell_type": "code",
   "execution_count": null,
   "id": "72270707",
   "metadata": {},
   "outputs": [
    {
     "name": "stdout",
     "output_type": "stream",
     "text": [
      "Nguyen\n",
      "{'name': 'Nguyen', 'age': 20, 'score': 10.0}\n"
     ]
    }
   ],
   "source": [
    "student = {\"name\": \"Nguyen\", \"age\": 20, \"score\": 8.5}\n",
    "print(student[\"name\"]) \n",
    "student[\"score\"] = 10.0\n",
    "print(student)"
   ]
  },
  {
   "cell_type": "code",
   "execution_count": 10,
   "id": "e0056aa8",
   "metadata": {},
   "outputs": [
    {
     "name": "stdout",
     "output_type": "stream",
     "text": [
      "[1, 'two', 3.0, '4']\n"
     ]
    }
   ],
   "source": [
    "lst = [1,\"two\" , 3.0]\n",
    "lst.append(\"4\")\n",
    "print(lst)"
   ]
  },
  {
   "cell_type": "code",
   "execution_count": 13,
   "id": "d5719856",
   "metadata": {},
   "outputs": [
    {
     "name": "stdout",
     "output_type": "stream",
     "text": [
      "1\n"
     ]
    }
   ],
   "source": [
    "lst = [1, \"two\" , 3.0]\n",
    "print(lst[0]) "
   ]
  },
  {
   "cell_type": "code",
   "execution_count": 19,
   "id": "bcaa7b71",
   "metadata": {},
   "outputs": [
    {
     "name": "stdout",
     "output_type": "stream",
     "text": [
      "12\n"
     ]
    }
   ],
   "source": [
    "d = {\"a\": 12}\n",
    "print(d.get(\"a\"))\n",
    "\n"
   ]
  },
  {
   "cell_type": "code",
   "execution_count": 43,
   "id": "a0a756e4",
   "metadata": {},
   "outputs": [
    {
     "name": "stdout",
     "output_type": "stream",
     "text": [
      "Total price: 21234312\n"
     ]
    }
   ],
   "source": [
    "#vd1:\n",
    "items = ['apple','banana','orange']\n",
    "prices = {'apple':21231312 ,'banana': 1000 ,'orange': 2000}\n",
    "total = 0\n",
    "for item in items:\n",
    "    total += prices[item]\n",
    "print(\"Total price:\", total) "
   ]
  },
  {
   "cell_type": "code",
   "execution_count": 2,
   "id": "21039c93",
   "metadata": {},
   "outputs": [
    {
     "name": "stdout",
     "output_type": "stream",
     "text": [
      "Point (3, 4) is 5.00 \n",
      "Point (0, 0) is 0.00 \n",
      "Point (1, 1) is 1.41 \n"
     ]
    }
   ],
   "source": [
    "#vd2 \n",
    "points = [(3,4),(0,0),(1,1)]\n",
    "for x, y in points:\n",
    "    distance = (x**2 + y**2)**0.5\n",
    "    print(f\"Point ({x}, {y}) is {distance:.2f} \")"
   ]
  },
  {
   "cell_type": "code",
   "execution_count": 1,
   "id": "44e486fb",
   "metadata": {},
   "outputs": [
    {
     "name": "stdout",
     "output_type": "stream",
     "text": [
      "ten: nguyen, diem: 8.5\n"
     ]
    }
   ],
   "source": [
    "#vd3\n",
    "student = {\"S001\":{\"name\":\"nguyen\",\"score\":8.5},\n",
    "           \"S002\":{\"name\":\"tran\",\"score\":9.0},\n",
    "           \"S003\":{\"name\":\"le\",\"score\":7.5}}\n",
    "id = input(\"ma so sinh vien:\")\n",
    "info= student.get(id,{\"name\":\"Unknown\",\"score\":0})\n",
    "print(f\"ten: {info[\"name\"]}, diem: {info[\"score\"]}\")"
   ]
  }
 ],
 "metadata": {
  "kernelspec": {
   "display_name": "Python 3",
   "language": "python",
   "name": "python3"
  },
  "language_info": {
   "codemirror_mode": {
    "name": "ipython",
    "version": 3
   },
   "file_extension": ".py",
   "mimetype": "text/x-python",
   "name": "python",
   "nbconvert_exporter": "python",
   "pygments_lexer": "ipython3",
   "version": "3.13.7"
  }
 },
 "nbformat": 4,
 "nbformat_minor": 5
}
