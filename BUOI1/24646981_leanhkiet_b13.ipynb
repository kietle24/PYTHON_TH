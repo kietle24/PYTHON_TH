{
 "cells": [
  {
   "cell_type": "code",
   "execution_count": 2,
   "id": "5f7585c7",
   "metadata": {},
   "outputs": [
    {
     "name": "stdout",
     "output_type": "stream",
     "text": [
      "gioi\n"
     ]
    }
   ],
   "source": [
    "score = 85 \n",
    "if score >= 90: \n",
    "    print(\"xuat sac \" )\n",
    "elif score >= 80: \n",
    "    print (\"gioi\")\n",
    "else: \n",
    "    print(\"can co gang \")\n"
   ]
  },
  {
   "cell_type": "code",
   "execution_count": 4,
   "id": "bd138855",
   "metadata": {},
   "outputs": [
    {
     "name": "stdout",
     "output_type": "stream",
     "text": [
      "10 la so chan \n"
     ]
    }
   ],
   "source": [
    "#cu phap so sanh \n",
    "number = 10 \n",
    "result = \"chan \"if number % 2 == 0 else \"le\"\n",
    "print(f\"{number} la so {result}\")"
   ]
  },
  {
   "cell_type": "code",
   "execution_count": 5,
   "id": "45b5ad4e",
   "metadata": {},
   "outputs": [
    {
     "name": "stdout",
     "output_type": "stream",
     "text": [
      "in\n"
     ]
    }
   ],
   "source": [
    "if \"\" : \n",
    "    print(\"khong in \") \n",
    "else: \n",
    "    print(\"in\")"
   ]
  },
  {
   "cell_type": "code",
   "execution_count": 8,
   "id": "6b97ebf9",
   "metadata": {},
   "outputs": [
    {
     "name": "stdout",
     "output_type": "stream",
     "text": [
      "ban la nguoi lon \n"
     ]
    }
   ],
   "source": [
    "age = 19\n",
    " \n",
    "status =\"nguoi lon \" if age >= 18 else \"tre em\" \n",
    "print(f\"ban la {status}\")"
   ]
  },
  {
   "cell_type": "code",
   "execution_count": 9,
   "id": "7e0f3388",
   "metadata": {},
   "outputs": [],
   "source": [
    "x =0  \n",
    "if x  != 0 and  10 /x  > 2: \n",
    "    print(\"khong in \")"
   ]
  },
  {
   "cell_type": "code",
   "execution_count": 10,
   "id": "797fa276",
   "metadata": {},
   "outputs": [],
   "source": [
    "if x > 0 and y <  10 : \n",
    "    print(\"hop le\")\n",
    "    "
   ]
  },
  {
   "cell_type": "code",
   "execution_count": 12,
   "id": "453130f7",
   "metadata": {},
   "outputs": [
    {
     "name": "stdout",
     "output_type": "stream",
     "text": [
      "Gioi\n"
     ]
    }
   ],
   "source": [
    "#vd 1 : \n",
    "average = float(input(\"nhap diem tb:\"))\n",
    "if average >= 8.0:\n",
    "    print(\"Gioi\")\n",
    "elif average >= 6.5:\n",
    "    print(\"Kha\")\n",
    "elif average >= 5.0:\n",
    "    print(\"trung binh \")\n",
    "else:\n",
    "    print(\"yeu\")"
   ]
  },
  {
   "cell_type": "code",
   "execution_count": 13,
   "id": "0fb644c8",
   "metadata": {},
   "outputs": [
    {
     "name": "stdout",
     "output_type": "stream",
     "text": [
      "Giá vé: 20,000 VND\n"
     ]
    }
   ],
   "source": [
    "#vd2 \n",
    "age = int(input(\"Nhập tuổi: \"))\n",
    "if age < 6 or age >= 60:\n",
    "    price = 0\n",
    "elif age <= 18:\n",
    "    price = 10000\n",
    "else:\n",
    "    price = 20000\n",
    "print(f\"Giá vé: {price:,.0f} VND\")"
   ]
  }
 ],
 "metadata": {
  "kernelspec": {
   "display_name": "Python 3",
   "language": "python",
   "name": "python3"
  },
  "language_info": {
   "codemirror_mode": {
    "name": "ipython",
    "version": 3
   },
   "file_extension": ".py",
   "mimetype": "text/x-python",
   "name": "python",
   "nbconvert_exporter": "python",
   "pygments_lexer": "ipython3",
   "version": "3.13.6"
  }
 },
 "nbformat": 4,
 "nbformat_minor": 5
}
