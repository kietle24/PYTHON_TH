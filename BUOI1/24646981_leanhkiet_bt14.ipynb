{
 "cells": [
  {
   "cell_type": "code",
   "execution_count": 7,
   "id": "b29f8352",
   "metadata": {},
   "outputs": [
    {
     "name": "stdout",
     "output_type": "stream",
     "text": [
      "2 4 6 8 10 12 14 16 18 20 \n"
     ]
    }
   ],
   "source": [
    "# Bài 1: In các số chẵn từ 1 đến 20\n",
    "for i in range(1, 21):\n",
    " if i % 2 ==0: \n",
    "   print(i, end=\" \")\n",
    "print()"
   ]
  },
  {
   "cell_type": "code",
   "execution_count": 8,
   "id": "5b671564",
   "metadata": {},
   "outputs": [
    {
     "name": "stdout",
     "output_type": "stream",
     "text": [
      "Tổng từ 1 đến 121: 7381\n"
     ]
    }
   ],
   "source": [
    "# Bài 2: Tính tổng các số từ 1 đến n\n",
    "n = int(input(\"nhap so n:\"))\n",
    "total = 0\n",
    "for i in range(1, n + 1):\n",
    "    total += i\n",
    "print(f\"Tổng từ 1 đến {n}: {total}\")"
   ]
  },
  {
   "cell_type": "code",
   "execution_count": 2,
   "id": "767a142c",
   "metadata": {},
   "outputs": [
    {
     "name": "stdout",
     "output_type": "stream",
     "text": [
      "d s a s d a \n"
     ]
    }
   ],
   "source": [
    "# Bài 3: In các ký tự của chuỗi ngược lại\n",
    "text = input(\"Nhập chuỗi: \"\n",
    ")\n",
    "for char in text[::-1]:\n",
    " print(char, end=\" \"\n",
    ")\n",
    "print()"
   ]
  },
  {
   "cell_type": "code",
   "execution_count": 4,
   "id": "969bd06c",
   "metadata": {},
   "outputs": [
    {
     "name": "stdout",
     "output_type": "stream",
     "text": [
      "12! = 479001600\n"
     ]
    }
   ],
   "source": [
    "# Bài 5: Tính giai thừa\n",
    "n = int(input(\"Nhập số n: \"))\n",
    "factorial =1\n",
    "for i in range(1, n +1):\n",
    " factorial *= i\n",
    "print(f\"{n}! = {factorial}\"\n",
    ")"
   ]
  },
  {
   "cell_type": "code",
   "execution_count": 2,
   "id": "0e857eaa",
   "metadata": {},
   "outputs": [
    {
     "name": "stdout",
     "output_type": "stream",
     "text": [
      "Số chữ số: 2\n"
     ]
    }
   ],
   "source": [
    "# Bài 6: Đếm số chữ số của một số\n",
    "number = int(input(\"Nhập số nguyên: \"))\n",
    "count =0\n",
    "while number !=0:\n",
    " number //= 10\n",
    " count += 1\n",
    "print(f\"Số chữ số: {count}\"\n",
    ")"
   ]
  },
  {
   "cell_type": "code",
   "execution_count": 6,
   "id": "603ea47f",
   "metadata": {},
   "outputs": [
    {
     "name": "stdout",
     "output_type": "stream",
     "text": [
      "\n"
     ]
    }
   ],
   "source": [
    "# Bài 7: In các số nguyên tố nhỏ hơn n  \n",
    "n = int(input(\"Nhập số n: \"))\n",
    "for num in range(\n",
    "2, n):\n",
    " is_prime = True\n",
    " for i in range(2, num):\n",
    "     if num % i == 0:\n",
    "        is_prime = False\n",
    " break\n",
    " if is_prime:\n",
    "   print(num, end=\" \")\n",
    "print()"
   ]
  },
  {
   "cell_type": "code",
   "execution_count": 1,
   "id": "21c7962f",
   "metadata": {},
   "outputs": [
    {
     "name": "stdout",
     "output_type": "stream",
     "text": [
      "Tổng các số lẻ: 55\n"
     ]
    }
   ],
   "source": [
    "# Bài 8: Tính tổng các số lẻ trong khoảng\n",
    "start = int(input(\"Nhập số bắt đầu: \"))\n",
    "end = int(input(\"Nhập số kết thúc: \"))\n",
    "total = 0\n",
    "for i in range(start, end +1):\n",
    " if i %2 != 0:1\n",
    " total += i\n",
    "print(f\"Tổng các số lẻ: {total}\")"
   ]
  },
  {
   "cell_type": "code",
   "execution_count": null,
   "id": "6f823d62",
   "metadata": {},
   "outputs": [
    {
     "name": "stdout",
     "output_type": "stream",
     "text": [
      "Chuỗi là đối xứng\n"
     ]
    }
   ],
   "source": [
    "# Bài 9: Kiểm tra chuỗi đối xứng\n",
    "text = input(\"nhap chuoi:\")\n",
    "is_palindrome = True \n",
    "for i in range(len(text) // 2):\n",
    "    if text[i] != text[-(i+1)]:\n",
    "        is_palindrome = True \n",
    "        break\n",
    "print(f\"Chuỗi {'là' if is_palindrome else 'không là'} đối xứng\")"
   ]
  },
  {
   "cell_type": "code",
   "execution_count": 11,
   "id": "3c03667e",
   "metadata": {},
   "outputs": [
    {
     "name": "stdout",
     "output_type": "stream",
     "text": [
      "0 1 1 2 3 5 8 13 21 34 55 89 144 233 377 610 987 1597 2584 4181 6765 10946 17711 28657 46368 75025 121393 196418 317811 514229 832040 1346269 2178309 3524578 5702887 9227465 14930352 24157817 39088169 63245986 102334155 165580141 267914296 433494437 701408733 1134903170 1836311903 2971215073 4807526976 7778742049 12586269025 20365011074 32951280099 53316291173 86267571272 139583862445 225851433717 365435296162 591286729879 956722026041 1548008755920 2504730781961 4052739537881 6557470319842 10610209857723 17167680177565 27777890035288 44945570212853 72723460248141 117669030460994 190392490709135 308061521170129 498454011879264 806515533049393 1304969544928657 2111485077978050 3416454622906707 5527939700884757 8944394323791464 14472334024676221 23416728348467685 37889062373143906 61305790721611591 99194853094755497 160500643816367088 259695496911122585 420196140727489673 679891637638612258 1100087778366101931 1779979416004714189 2880067194370816120 4660046610375530309 7540113804746346429 12200160415121876738 19740274219868223167 31940434634990099905 51680708854858323072 83621143489848422977 135301852344706746049 218922995834555169026 354224848179261915075 573147844013817084101 927372692193078999176 1500520536206896083277 2427893228399975082453 3928413764606871165730 6356306993006846248183 10284720757613717413913 16641027750620563662096 26925748508234281076009 43566776258854844738105 70492524767089125814114 114059301025943970552219 184551825793033096366333 298611126818977066918552 483162952612010163284885 781774079430987230203437 1264937032042997393488322 2046711111473984623691759 3311648143516982017180081 5358359254990966640871840 \n"
     ]
    }
   ],
   "source": [
    "# Bài 10: Tạo chuỗi số Fibonacci\n",
    "n = int(input(\"Nhập số lượng số Fibonacci: \"))\n",
    "a, b = 0, 1\n",
    "count = 0\n",
    "while count < n:\n",
    " print(a, end=\" \")\n",
    " a, b = b, a + b\n",
    " count += 1\n",
    "print()"
   ]
  },
  {
   "cell_type": "markdown",
   "id": "7826edb3",
   "metadata": {},
   "source": []
  }
 ],
 "metadata": {
  "kernelspec": {
   "display_name": "Python 3",
   "language": "python",
   "name": "python3"
  },
  "language_info": {
   "codemirror_mode": {
    "name": "ipython",
    "version": 3
   },
   "file_extension": ".py",
   "mimetype": "text/x-python",
   "name": "python",
   "nbconvert_exporter": "python",
   "pygments_lexer": "ipython3",
   "version": "3.13.6"
  }
 },
 "nbformat": 4,
 "nbformat_minor": 5
}
