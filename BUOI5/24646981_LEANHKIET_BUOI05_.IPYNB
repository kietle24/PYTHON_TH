{
 "cells": [
  {
   "cell_type": "code",
   "execution_count": null,
   "id": "ab616ce7",
   "metadata": {},
   "outputs": [],
   "source": [
    "\"\"\"\"\n",
    "BeautifulSoup là một thư viện Python dùng để lấy dữ liệu ra khỏi các file HTML và XML. Nó\n",
    "hoạt động cùng với các parser (trình phân tích cú pháp) cung cấp cho bạn các cách để điều hướng, tìm\n",
    "kiếm và chỉnh sửa trong parse tree (cây phân tích được tạo từ parser). Nhờ các parser này nó đã giúp các\n",
    "lập trình viên tiết kiệm được nhiều giờ làm việc. \n",
    "\"\"\"\"\n"
   ]
  },
  {
   "cell_type": "code",
   "execution_count": 9,
   "id": "13b71bef",
   "metadata": {},
   "outputs": [
    {
     "name": "stdout",
     "output_type": "stream",
     "text": [
      "12312312 - Nguyen van a\n",
      "467643784 - Nguyen van b\n"
     ]
    }
   ],
   "source": [
    "from bs4 import BeautifulSoup\n",
    "with open(\"index.html\",\"r\", encoding=\"utf-8\") as f: \n",
    "    soup = BeautifulSoup(f, \"html.parser\")\n",
    "table = soup.find(\"table\")\n",
    "rows = table.find_all(\"tr\")[1:]\n",
    "for row in rows:\n",
    "    cols = row.find_all(\"td\")\n",
    "    ma_sv = cols[0].text.strip()\n",
    "    ten_sv = cols[1].text.strip()\n",
    "    print(ma_sv, \"-\", ten_sv)"
   ]
  },
  {
   "cell_type": "code",
   "execution_count": 16,
   "id": "e2877b20",
   "metadata": {},
   "outputs": [
    {
     "name": "stdout",
     "output_type": "stream",
     "text": [
      "Không tìm được heading HCM City\n"
     ]
    },
    {
     "ename": "SystemExit",
     "evalue": "",
     "output_type": "error",
     "traceback": [
      "An exception has occurred, use %tb to see the full traceback.\n",
      "\u001b[31mSystemExit\u001b[39m\n"
     ]
    }
   ],
   "source": [
    "import requests\n",
    "from bs4 import BeautifulSoup\n",
    "import re\n",
    "\n",
    "url = \"https://en.wikipedia.org/wiki/List_of_districts_of_Vietnam#H%E1%BB%93_Ch%C3%AD_Minh_City\"\n",
    "response = requests.get(url)\n",
    "soup = BeautifulSoup(response.text, \"html.parser\")\n",
    "\n",
    "# Tìm <h3> mà trong đó có cái span (hoặc thẻ) chứa \"Ho Chi Minh City\"\n",
    "heading_h3 = soup.find(\"h3\", string=lambda s: s and \"Ho Chi Minh City\" in s)\n",
    "# Nếu không tìm được trực tiếp, tìm span trong h3\n",
    "if not heading_h3:\n",
    "    heading_h3 = soup.find(\"h3\", lambda tag: tag.text and \"Ho Chi Minh City\" in tag.text)\n",
    "\n",
    "# Nếu vẫn None: in ra xem các h3 gần đó\n",
    "if heading_h3 is None:\n",
    "    print(\"Không tìm được heading HCM City\")\n",
    "    # debug: in ra 1 số heading để thấy cấu trúc\n",
    "    for h in soup.find_all(\"h3\")[:10]:\n",
    "        print(\"h3:\", h.text.strip())\n",
    "    raise SystemExit\n",
    "\n",
    "# Tìm bảng ngay sau heading này\n",
    "table = heading_h3.find_next_sibling(\"table\")\n",
    "\n",
    "districts = []\n",
    "for row in table.find_all(\"tr\")[1:]:\n",
    "    cols = row.find_all(\"td\")\n",
    "    if cols:\n",
    "        district_name = cols[0].get_text(strip=True)\n",
    "        districts.append(district_name)\n",
    "\n",
    "print(\"Các quận/huyện thuộc TP.HCM:\")\n",
    "for d in districts:\n",
    "    print(\"-\", d)\n"
   ]
  }
 ],
 "metadata": {
  "kernelspec": {
   "display_name": "Python 3",
   "language": "python",
   "name": "python3"
  },
  "language_info": {
   "codemirror_mode": {
    "name": "ipython",
    "version": 3
   },
   "file_extension": ".py",
   "mimetype": "text/x-python",
   "name": "python",
   "nbconvert_exporter": "python",
   "pygments_lexer": "ipython3",
   "version": "3.13.5"
  }
 },
 "nbformat": 4,
 "nbformat_minor": 5
}
