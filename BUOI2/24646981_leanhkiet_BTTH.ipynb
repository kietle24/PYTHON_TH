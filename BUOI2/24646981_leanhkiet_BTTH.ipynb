{
 "cells": [
  {
   "cell_type": "code",
   "execution_count": null,
   "id": "aeb6dd21",
   "metadata": {
    "vscode": {
     "languageId": "bat"
    }
   },
   "outputs": [],
   "source": [
    "Bài 1: Quản lý chi tiêu hàng ngày\n",
    "Bạn là nhân viên văn phòng, muốn theo dõi chi tiêu cá nhân để đảm bảo không vượt ngân sách. \n",
    "Các khoản chi tiêu bao gồm ăn uống, di chuyển, và giải trí.\n",
    "a. Nhập số tiền chi tiêu cho ăn uống và di chuyển trong ngày, tính tổng chi tiêu và kiểm tra xem có vượt\n",
    "500,000 VND không.\n",
    "b. Nhập chi tiêu cho 5 ngày liên tiếp, lưu vào danh sách, tính tổng chi tiêu và tìm ngày chi tiêu cao nhất.\n",
    "c. Tạo một hàm trong module để tính trung bình chi tiêu hàng ngày và trả về kết quả.\n",
    "d. Lưu chi tiêu của 5 ngày vào tệp văn bản, xử lý lỗi nếu tệp không thể ghi được"
   ]
  },
  {
   "cell_type": "code",
   "execution_count": 2,
   "id": "9f4e1209",
   "metadata": {},
   "outputs": [
    {
     "name": "stdout",
     "output_type": "stream",
     "text": [
      "Tổng chi tiêu trong ngày: 220000 VND\n",
      "chi tieu hop ly \n"
     ]
    }
   ],
   "source": [
    "# a. Nhập chi tiêu ăn uống và di chuyển trong ngày\n",
    "an_uong  = int(input(\"nhap cho tieu an uong(VND): \"))\n",
    "di_chuyen = int(input(\"nhap cho tieu di chuyen(VND): \"))\n",
    "tong_chi_tieu = an_uong + di_chuyen \n",
    "\n",
    "print(f\"Tổng chi tiêu trong ngày: {tong_chi_tieu} VND\")\n",
    "if tong_chi_tieu > 500000:\n",
    "    print(\"Bạn đã vượt ngân sách 500,000 VND!\")\n",
    "else:\n",
    "    print(\"chi tieu hop ly \")\n"
   ]
  },
  {
   "cell_type": "code",
   "execution_count": 3,
   "id": "0d0e6f1d",
   "metadata": {},
   "outputs": [
    {
     "name": "stdout",
     "output_type": "stream",
     "text": [
      "Tổng chi tiêu ngày 1: 400000 VND\n",
      "Tổng chi tiêu ngày 2: 300000 VND\n",
      "Tổng chi tiêu ngày 3: 700000 VND\n",
      "Tổng chi tiêu ngày 4: 300000 VND\n",
      "Tổng chi tiêu ngày 5: 600000 VND\n",
      "Tổng chi tiêu 5 ngày: 2300000 VND\n",
      "Ngày chi tiêu cao nhất: Ngày 3\n"
     ]
    }
   ],
   "source": [
    "#b. Nhập chi tiêu cho 5 ngày liên tiếp, lưu vào danh sách, tính tổng chi tiêu và tìm ngày chi tiêu cao nhất.\n",
    "chi_tieu_ngay = []\n",
    "for i in range(5):\n",
    "    an_uong = int(input(f\"Nhập chi tiêu ăn uống ngày {i+1} (VND): \"))\n",
    "    di_chuyen = int(input(f\"Nhập chi tiêu di chuyển ngày {i+1} (VND): \"))\n",
    "    tong_chi_tieu = an_uong + di_chuyen\n",
    "    chi_tieu_ngay.append(tong_chi_tieu)\n",
    "    print(f\"Tổng chi tiêu ngày {i+1}: {tong_chi_tieu} VND\")\n",
    "\n",
    "print(f\"Tổng chi tiêu 5 ngày: {sum(chi_tieu_ngay)} VND\")\n",
    "print(f\"Ngày chi tiêu cao nhất: Ngày {chi_tieu_ngay.index(max(chi_tieu_ngay)) + 1}\")"
   ]
  },
  {
   "cell_type": "code",
   "execution_count": 8,
   "id": "e6ff2e09",
   "metadata": {},
   "outputs": [
    {
     "name": "stdout",
     "output_type": "stream",
     "text": [
      "Chi tiêu trung bình mỗi ngày: 380000.0 VND\n"
     ]
    }
   ],
   "source": [
    "#c. Tạo một hàm để tính trung bình chi tiêu hàng ngày và trả về kết quả.\n",
    "def tinh_trung_binh(chi_tieu_list):\n",
    "\treturn sum(chi_tieu_list) / len(chi_tieu_list)\n",
    "\n",
    "tb = tinh_trung_binh(chi_tieu_5ngay)\n",
    "print(\"Chi tiêu trung bình mỗi ngày:\", tb, \"VND\")\n",
    "\n"
   ]
  },
  {
   "cell_type": "code",
   "execution_count": 9,
   "id": "af32a706",
   "metadata": {},
   "outputs": [
    {
     "name": "stdout",
     "output_type": "stream",
     "text": [
      "Đã ghi dữ liệu vào chi_tieu.txt\n"
     ]
    }
   ],
   "source": [
    "#d. Lưu chi tiêu của 5 ngày vào tệp văn bản, xử lý lỗi nếu tệp không thể ghi được\n",
    "\n",
    "try:\n",
    "    with open(\"chi_tieu.txt\", \"w\", encoding=\"utf-8\") as f:\n",
    "        for i, ct in enumerate(chi_tieu_ngay, start=1):\n",
    "            f.write(f\"Ngày {i}: {ct} VND\\n\")\n",
    "    print(\"Đã ghi dữ liệu vào chi_tieu.txt\")\n",
    "except IOError as e:\n",
    "    print(\"Lỗi khi ghi file:\", e)\n"
   ]
  },
  {
   "cell_type": "code",
   "execution_count": null,
   "id": "3acbf23d",
   "metadata": {
    "vscode": {
     "languageId": "bat"
    }
   },
   "outputs": [],
   "source": [
    "Bài 2: Tính lương nhân viên văn phòng\n",
    "Bạn cần tính lương cho nhân viên dựa trên giờ làm việc, với mức lương 50,000 VND/giờ và thưởng\n",
    "thêm 50% cho giờ làm thêm (trên 40 giờ/tuần).\n",
    "a. Nhập số giờ làm việc trong tuần, tính lương cơ bản và kiểm tra xem có giờ làm thêm không.\n",
    "b. Lưu giờ làm của 3 nhân viên vào dictionary, tính lương cho từng người và in tổng lương.\n",
    "c. Tạo module chứa hàm tính lương, bao gồm cả thưởng làm thêm, và gọi hàm này để tính lương.\n",
    "d. Ghi bảng lương của 3 nhân viên vào tệp, xử lý lỗi nếu không mở được tệp"
   ]
  },
  {
   "cell_type": "code",
   "execution_count": null,
   "id": "bff63fd9",
   "metadata": {},
   "outputs": [
    {
     "name": "stdout",
     "output_type": "stream",
     "text": [
      "Lương tuần này: 5000000.0 VND\n"
     ]
    }
   ],
   "source": [
    "#a. Nhập số giờ làm việc trong tuần, tính lương cơ bản và kiểm tra xem có giờ làm thêm không.\n",
    "gio_lam = int(input(\"Nhập số giờ làm việc trong tuần: \"))\n",
    "luong_gio = 50000\n",
    "\n",
    "if gio_lam <= 40:\n",
    "    luong = gio_lam * luong_gio\n",
    "else:\n",
    "    luong = 40 * luong_gio + (gio_lam - 40) * luong_gio * 1.5\n",
    "\n",
    "print(\"Lương tuần này:\", luong, \"VND\")\n"
   ]
  },
  {
   "cell_type": "code",
   "execution_count": 11,
   "id": "9333ebdb",
   "metadata": {},
   "outputs": [
    {
     "name": "stdout",
     "output_type": "stream",
     "text": [
      "Nhân viên A có lương: 1900000 VND\n",
      "Nhân viên B có lương: 2150000.0 VND\n",
      "Nhân viên C có lương: 2375000.0 VND\n",
      "Tổng lương phải trả: 6425000.0 VND\n"
     ]
    }
   ],
   "source": [
    "# b. Lưu giờ làm của 3 nhân viên vào dictionary\n",
    "# b. Lưu giờ làm của 3 nhân viên vào dictionary\n",
    "gio_lam_nhanvien = {\n",
    "    \"A\": 38,\n",
    "    \"B\": 42,\n",
    "    \"C\": 45\n",
    "}\n",
    "\n",
    "def tinh_luong(gio):\n",
    "    if gio <= 40:\n",
    "        return gio * 50000\n",
    "    else:\n",
    "        return 40 * 50000 + (gio - 40) * 50000 * 1.5\n",
    "\n",
    "tong_luong = 0\n",
    "for ten, gio in gio_lam_nhanvien.items():\n",
    "    luong = tinh_luong(gio)\n",
    "    print(f\"Nhân viên {ten} có lương: {luong} VND\")\n",
    "    tong_luong += luong\n",
    "\n",
    "print(\"Tổng lương phải trả:\", tong_luong, \"VND\")\n"
   ]
  },
  {
   "cell_type": "code",
   "execution_count": 14,
   "id": "e492a0e0",
   "metadata": {},
   "outputs": [
    {
     "name": "stdout",
     "output_type": "stream",
     "text": [
      "Nhân viên A có lương: 2600000.0 VND\n",
      "Nhân viên B có lương: 2150000.0 VND\n",
      "Nhân viên C có lương: 2375000.0 VND\n"
     ]
    }
   ],
   "source": [
    "#c. Tạo hàm tính lương, bao gồm cả thưởng làm thêm, và gọi hàm này để tính lương.\n",
    "def tinh_luong(gio):\n",
    "    if gio <= 40:\n",
    "        return gio * 50000\n",
    "    else:\n",
    "        return 40 * 50000 + (gio - 40) * 50000 * 1.5\n",
    "\n",
    "gio_lam_nhanvien = {\n",
    "    \"A\": 48,\n",
    "    \"B\": 42,\n",
    "    \"C\": 45\n",
    "}\n",
    "\n",
    "for ten, gio in gio_lam_nhanvien.items():\n",
    "    luong = tinh_luong(gio)\n",
    "    print(f\"Nhân viên {ten} có lương: {luong} VND\")\n"
   ]
  },
  {
   "cell_type": "code",
   "execution_count": 16,
   "id": "aa69b91c",
   "metadata": {},
   "outputs": [
    {
     "name": "stdout",
     "output_type": "stream",
     "text": [
      "Đã ghi bảng lương vào file bang_luong.txt\n"
     ]
    }
   ],
   "source": [
    "#d. Ghi bảng lương của 3 nhân viên vào tệp, xử lý lỗi nếu không mở được tệp\n",
    "\n",
    "gio_lam_nhanvien = {\n",
    "    \"A\": 38,\n",
    "    \"B\": 42,\n",
    "    \"C\": 45\n",
    "}\n",
    "\n",
    "try:\n",
    "    with open(\"bang_luong.txt\", \"w\", encoding=\"utf-8\") as f:\n",
    "        f.write(\"BẢNG LƯƠNG NHÂN VIÊN\\n\")\n",
    "        f.write(\"-------------------------\\n\")\n",
    "        for ten, gio in gio_lam_nhanvien.items():\n",
    "            luong = tinh_luong(gio)\n",
    "            f.write(f\"Nhân viên {ten}: {luong} VND\\n\")\n",
    "        print(\"Đã ghi bảng lương vào file bang_luong.txt\")\n",
    "except IOError:\n",
    "    print(\"Lỗi: Không thể mở hoặc ghi file!\")\n"
   ]
  },
  {
   "cell_type": "code",
   "execution_count": null,
   "id": "91375bd8",
   "metadata": {
    "vscode": {
     "languageId": "bat"
    }
   },
   "outputs": [],
   "source": [
    "Bài 3: Quản lý danh sách công việc\n",
    "Nhân viên văn phòng cần quản lý danh sách công việc (to-do list) để theo dõi tiến độ.\n",
    "Mỗi công việc có trạng thái hoàn thành hoặc chưa hoàn thành.\n",
    "a. Nhập tên công việc và trạng thái (hoàn thành/chưa), in thông báo phù hợp.\n",
    "b. Lưu 4 công việc vào danh sách, nhập trạng thái cho từng công việc, in danh sách các công việc chưa hoàn thành.\n",
    "c. Tạo module với hàm thêm công việc mới vào danh sách và trả về danh sách cập nhật.\n",
    "d. Lưu danh sách công việc vào tệp văn bản, xử lý lỗi nếu tệp không tồn tại."
   ]
  },
  {
   "cell_type": "code",
   "execution_count": 19,
   "id": "b8956be6",
   "metadata": {},
   "outputs": [
    {
     "name": "stdout",
     "output_type": "stream",
     "text": [
      "Công việc 'a' đã hoàn thành.\n"
     ]
    }
   ],
   "source": [
    "# a. Nhập tên công việc và trạng thái, in thông báo\n",
    "task_name = input(\"Nhập tên công việc: \")\n",
    "status = input(\"Trạng thái (hoàn thành/chưa): \")\n",
    "\n",
    "if status.strip().lower() == \"hoàn thành\":\n",
    "    print(f\"Công việc '{task_name}' đã hoàn thành.\")\n",
    "else:\n",
    "    print(f\"Công việc '{task_name}' chưa hoàn thành.\")\n"
   ]
  },
  {
   "cell_type": "code",
   "execution_count": null,
   "id": "3ce28dff",
   "metadata": {},
   "outputs": [
    {
     "name": "stdout",
     "output_type": "stream",
     "text": [
      "\n",
      "Danh sách công việc chưa hoàn thành:\n",
      "- a\n",
      "- v\n",
      "- 3 \n",
      "- 4\n"
     ]
    }
   ],
   "source": [
    "# b. Lưu 4 công việc vào danh sách, nhập trạng thái cho từng công việc, in danh sách các công việc chưa hoàn thành.\n",
    "tasks = []  # Mỗi công việc lưu dưới dạng dict\n",
    "\n",
    "for i in range(4):\n",
    "    name = input(f\"Nhập tên công việc {i+1}: \")\n",
    "    status = input(\"Trạng thái (hoàn thành/chưa): \")\n",
    "    tasks.append({\"name\": name, \"status\": status})\n",
    "    tasks.append({\"name\": name, \"status\": status})\n",
    "\n",
    "print(\"\\nDanh sách công việc chưa hoàn thành:\")\n",
    "for task in tasks:\n",
    "    if task[\"status\"].lower() != \"hoàn thành\":\n",
    "        print(\"-\", task[\"name\"])\n"
   ]
  },
  {
   "cell_type": "code",
   "execution_count": 22,
   "id": "eec6cff8",
   "metadata": {},
   "outputs": [
    {
     "name": "stdout",
     "output_type": "stream",
     "text": [
      "[{'name': 'Học Python', 'status': 'chưa'}, {'name': 'Viết báo cáo', 'status': 'hoàn thành'}]\n"
     ]
    }
   ],
   "source": [
    "#c. Tạo module với hàm thêm công việc mới vào danh sách và trả về danh sách cập nhật.\n",
    "# main.py\n",
    "import task_module\n",
    "\n",
    "tasks = []\n",
    "\n",
    "# Thêm công việc\n",
    "tasks = task_module.add_task(tasks, \"Học Python\", \"chưa\")\n",
    "tasks = task_module.add_task(tasks, \"Viết báo cáo\", \"hoàn thành\")\n",
    "\n",
    "print(tasks)\n"
   ]
  },
  {
   "cell_type": "code",
   "execution_count": null,
   "id": "4c277275",
   "metadata": {},
   "outputs": [
    {
     "name": "stdout",
     "output_type": "stream",
     "text": [
      "Đã lưu danh sách công việc vào tệp.\n"
     ]
    }
   ],
   "source": [
    "#d. Lưu danh sách công việc vào file văn bản, xử lý lỗi\n",
    "filename = \"tasks.txt\"\n",
    "\n",
    "try:\n",
    "    with open(filename, \"w\", encoding=\"utf-8\") as f:\n",
    "        for task in tasks:\n",
    "            f.write(f\"{task['name']} - {task['status']}\\n\")\n",
    "    print(\"Đã lưu danh sách công việc vào tệp.\")\n",
    "except FileNotFoundError:\n",
    "    print(\"Lỗi: Tệp không tồn tại.\")\n",
    "except Exception as e:\n",
    "    print(\"Có lỗi xảy ra:\", e)\n"
   ]
  },
  {
   "cell_type": "code",
   "execution_count": null,
   "id": "049ad8f1",
   "metadata": {
    "vscode": {
     "languageId": "bat"
    }
   },
   "outputs": [],
   "source": [
    "Bài 4: Tính hóa đơn nhà hàng\n",
    "Nhân viên phục vụ cần tính hóa đơn cho khách hàng, áp dụng giảm giá 10% cho món ăn trên 200,000 VND.\n",
    "a. Nhập giá một món ăn, tính tổng sau giảm giá và kiểm tra xem có được giảm không.\n",
    "b. Lưu giá 3 món ăn vào dictionary, tính tổng hóa đơn sau giảm giá cho từng món.\n",
    "c. Tạo module chứa hàm tính hóa đơn với danh sách giá món ăn, trả về tổng hóa đơn.\n",
    "d. Lưu hóa đơn vào tệp văn bản, xử lý lỗi nếu không thể ghi tệp."
   ]
  },
  {
   "cell_type": "code",
   "execution_count": 24,
   "id": "62927114",
   "metadata": {
    "vscode": {
     "languageId": "bat"
    }
   },
   "outputs": [
    {
     "name": "stdout",
     "output_type": "stream",
     "text": [
      "Món ăn không được giảm. Giá: 200000 VND\n"
     ]
    }
   ],
   "source": [
    "# a\n",
    "price = float(input(\"Nhập giá món ăn (VND): \"))\n",
    "\n",
    "if price > 200_000:\n",
    "    discounted = price * 0.9  # giảm 10%\n",
    "    print(f\"Món ăn được giảm 10%. Giá sau giảm: {discounted:.0f} VND\")\n",
    "else:\n",
    "    discounted = price\n",
    "    print(f\"Món ăn không được giảm. Giá: {discounted:.0f} VND\")\n"
   ]
  },
  {
   "cell_type": "code",
   "execution_count": 25,
   "id": "fe8ea57d",
   "metadata": {},
   "outputs": [
    {
     "name": "stdout",
     "output_type": "stream",
     "text": [
      "\n",
      "Danh sách món và giá sau giảm:\n",
      "- a: 200000 VND\n",
      "- b: 200000 VND\n",
      "- d: 270000 VND\n",
      "Tổng hóa đơn: 670000 VND\n"
     ]
    }
   ],
   "source": [
    "# b\n",
    "menu = {}  # dictionary: tên_món -> giá\n",
    "for i in range(1, 4):\n",
    "    name = input(f\"Nhập tên món {i}: \")\n",
    "    price = float(input(\"Nhập giá món: \"))\n",
    "    if price > 200_000:\n",
    "        price *= 0.9\n",
    "    menu[name] = price\n",
    "\n",
    "print(\"\\nDanh sách món và giá sau giảm:\")\n",
    "for item, final_price in menu.items():\n",
    "    print(f\"- {item}: {final_price:.0f} VND\")\n",
    "\n",
    "total = sum(menu.values())\n",
    "print(f\"Tổng hóa đơn: {total:.0f} VND\")\n"
   ]
  },
  {
   "cell_type": "code",
   "execution_count": 27,
   "id": "7252582a",
   "metadata": {},
   "outputs": [
    {
     "name": "stdout",
     "output_type": "stream",
     "text": [
      "Tổng hóa đơn: 675000 VND\n"
     ]
    }
   ],
   "source": [
    "#c. Tạo module chứa hàm tính hóa đơn với danh sách giá món ăn, trả về tổng hóa đơn.\n",
    "import bill_module\n",
    "\n",
    "prices = [250000, 180000, 300000]\n",
    "total = bill_module.calculate_bill(prices)\n",
    "print(f\"Tổng hóa đơn: {total:.0f} VND\")\n"
   ]
  },
  {
   "cell_type": "code",
   "execution_count": 28,
   "id": "7ee442b5",
   "metadata": {},
   "outputs": [
    {
     "name": "stdout",
     "output_type": "stream",
     "text": [
      "Hóa đơn đã được lưu vào file bill.txt\n"
     ]
    }
   ],
   "source": [
    "#d\n",
    "# d\n",
    "filename = \"bill.txt\"\n",
    "\n",
    "try:\n",
    "    with open(filename, \"w\", encoding=\"utf-8\") as f:\n",
    "        f.write(\"=== HÓA ĐƠN NHÀ HÀNG ===\\n\")\n",
    "        for item, price in menu.items():\n",
    "            f.write(f\"{item}: {price:.0f} VND\\n\")\n",
    "        f.write(f\"TỔNG CỘNG: {total:.0f} VND\\n\")\n",
    "    print(\"Hóa đơn đã được lưu vào file bill.txt\")\n",
    "except Exception as e:\n",
    "    print(\"Không thể ghi file. Lỗi:\", e)\n"
   ]
  },
  {
   "cell_type": "code",
   "execution_count": null,
   "id": "0753b8aa",
   "metadata": {
    "vscode": {
     "languageId": "bat"
    }
   },
   "outputs": [],
   "source": [
    "Bài 5: Theo dõi chỉ số BMI\n",
    "Nhân viên văn phòng muốn theo dõi chỉ số BMI (Body Mass Index) để duy trì sức khỏe, dựa trên cân nặng và chiều cao.\n",
    "a. Nhập cân nặng (kg) và chiều cao (m), tính BMI và kiểm tra xem có thuộc nhóm gầy (<18.5) không.\n",
    "b. Lưu cân nặng của 4 tuần vào danh sách, tính BMI trung bình và tìm tuần có BMI cao nhất.\n",
    "c. Tạo module với hàm phân loại BMI (gầy, bình thường, thừa cân) và trả về kết quả.\n",
    "d. Lưu lịch sử BMI vào tệp, xử lý lỗi nếu nhập sai định dạng hoặc không ghi được tệp."
   ]
  },
  {
   "cell_type": "code",
   "execution_count": 29,
   "id": "7d89bf3f",
   "metadata": {
    "vscode": {
     "languageId": "bat"
    }
   },
   "outputs": [
    {
     "name": "stdout",
     "output_type": "stream",
     "text": [
      "Chỉ số BMI: 17.30\n",
      "Bạn thuộc nhóm gầy.\n"
     ]
    }
   ],
   "source": [
    "# a\n",
    "weight = float(input(\"Nhập cân nặng (kg): \"))\n",
    "height = float(input(\"Nhập chiều cao (m): \"))\n",
    "\n",
    "bmi = weight / (height ** 2)\n",
    "print(f\"Chỉ số BMI: {bmi:.2f}\")\n",
    "\n",
    "if bmi < 18.5:\n",
    "    print(\"Bạn thuộc nhóm gầy.\")\n",
    "else:\n",
    "    print(\"Bạn không thuộc nhóm gầy.\")\n"
   ]
  },
  {
   "cell_type": "code",
   "execution_count": 30,
   "id": "7fe67267",
   "metadata": {
    "vscode": {
     "languageId": "bat"
    }
   },
   "outputs": [
    {
     "name": "stdout",
     "output_type": "stream",
     "text": [
      "\n",
      "BMI trung bình: 27.68\n",
      "Tuần 1 có BMI cao nhất: 27.68\n"
     ]
    }
   ],
   "source": [
    "# b\n",
    "heights = float(input(\"Nhập chiều cao (m): \"))\n",
    "weights = []\n",
    "bmis = []\n",
    "\n",
    "for i in range(4):\n",
    "    w = float(input(f\"Nhập cân nặng tuần {i+1} (kg): \"))\n",
    "    weights.append(w)\n",
    "    bmis.append(w / (heights ** 2))\n",
    "\n",
    "bmi_avg = sum(bmis) / len(bmis)\n",
    "max_bmi = max(bmis)\n",
    "week_max = bmis.index(max_bmi) + 1\n",
    "\n",
    "print(f\"\\nBMI trung bình: {bmi_avg:.2f}\")\n",
    "print(f\"Tuần {week_max} có BMI cao nhất: {max_bmi:.2f}\")\n"
   ]
  },
  {
   "cell_type": "code",
   "execution_count": 31,
   "id": "4491b761",
   "metadata": {},
   "outputs": [
    {
     "name": "stdout",
     "output_type": "stream",
     "text": [
      "BMI 26.30 → Thừa cân\n"
     ]
    }
   ],
   "source": [
    "#c\n",
    "# main.py\n",
    "import bmi_module\n",
    "\n",
    "bmi_value = 26.3\n",
    "result = bmi_module.classify_bmi(bmi_value)\n",
    "print(f\"BMI {bmi_value:.2f} → {result}\")\n"
   ]
  },
  {
   "cell_type": "code",
   "execution_count": 32,
   "id": "51d39ef0",
   "metadata": {},
   "outputs": [
    {
     "name": "stdout",
     "output_type": "stream",
     "text": [
      "Đã lưu lịch sử BMI vào tệp.\n"
     ]
    }
   ],
   "source": [
    "#d \n",
    "\n",
    "filename = \"bmi_history.txt\"\n",
    "\n",
    "try:\n",
    "    with open(filename, \"w\", encoding=\"utf-8\") as f:\n",
    "        f.write(\"=== LỊCH SỬ BMI ===\\n\")\n",
    "        for i, bmi in enumerate(bmis, start=1):\n",
    "            f.write(f\"Tuần {i}: {bmi:.2f}\\n\")\n",
    "        f.write(f\"Trung bình: {bmi_avg:.2f}\\n\")\n",
    "        f.write(f\"Tuần cao nhất: {week_max} (BMI = {max_bmi:.2f})\\n\")\n",
    "    print(\"Đã lưu lịch sử BMI vào tệp.\")\n",
    "except ValueError:\n",
    "    print(\"Lỗi: Dữ liệu nhập vào không đúng định dạng số.\")\n",
    "except Exception as e:\n",
    "    print(\"Không thể ghi tệp. Chi tiết lỗi:\", e)\n"
   ]
  },
  {
   "cell_type": "code",
   "execution_count": null,
   "id": "cb6e83db",
   "metadata": {
    "vscode": {
     "languageId": "bat"
    }
   },
   "outputs": [],
   "source": [
    "Bài 6: Quản lý lịch đặt bàn nhà hàng\n",
    "Nhân viên phục vụ cần quản lý lịch đặt bàn, kiểm tra xem giờ nào còn trống để nhận khách.\n",
    "a. Nhập giờ đặt bàn, kiểm tra xem có trùng với giờ đã đặt (10:00) không.\n",
    "b. Lưu 5 giờ đặt bàn vào tuple, kiểm tra xem giờ mới nhập có trùng không và in danh sách giờ đã đặt.\n",
    "c. Tạo module với hàm thêm giờ đặt bàn vào tuple và trả về danh sách cập nhật.\n",
    "d. Lưu lịch đặt bàn vào tệp văn bản, xử lý lỗi nếu không thể mở tệp."
   ]
  },
  {
   "cell_type": "code",
   "execution_count": 33,
   "id": "2903f542",
   "metadata": {},
   "outputs": [
    {
     "name": "stdout",
     "output_type": "stream",
     "text": [
      "Giờ này còn trống, có thể nhận khách.\n"
     ]
    }
   ],
   "source": [
    "# a\n",
    "time = input(\"Nhập giờ đặt bàn (HH:MM): \")\n",
    "\n",
    "if time == \"10:00\":\n",
    "    print(\"Giờ này đã có khách đặt, không thể nhận thêm.\")\n",
    "else:\n",
    "    print(\"Giờ này còn trống, có thể nhận khách.\")\n"
   ]
  },
  {
   "cell_type": "code",
   "execution_count": 34,
   "id": "996d3306",
   "metadata": {},
   "outputs": [
    {
     "name": "stdout",
     "output_type": "stream",
     "text": [
      "Giờ này đã có khách đặt.\n",
      "\n",
      "Danh sách giờ đã đặt:\n",
      "- 10:00\n",
      "- 12:00\n",
      "- 14:00\n",
      "- 18:00\n",
      "- 20:00\n"
     ]
    }
   ],
   "source": [
    "# b\n",
    "booked_times = (\"10:00\", \"12:00\", \"14:00\", \"18:00\", \"20:00\")\n",
    "\n",
    "new_time = input(\"Nhập giờ muốn đặt (HH:MM): \")\n",
    "\n",
    "if new_time in booked_times:\n",
    "    print(\"Giờ này đã có khách đặt.\")\n",
    "else:\n",
    "    print(\"Giờ này còn trống, có thể nhận.\")\n",
    "\n",
    "print(\"\\nDanh sách giờ đã đặt:\")\n",
    "for t in booked_times:\n",
    "    print(\"-\", t)\n"
   ]
  },
  {
   "cell_type": "code",
   "execution_count": 35,
   "id": "24b403f8",
   "metadata": {},
   "outputs": [
    {
     "name": "stdout",
     "output_type": "stream",
     "text": [
      "('10:00', '12:00', '14:00')\n"
     ]
    }
   ],
   "source": [
    "#c \n",
    "import booking_module\n",
    "\n",
    "booked_times = (\"10:00\", \"12:00\")\n",
    "booked_times = booking_module.add_booking(booked_times, \"14:00\")\n",
    "print(booked_times)\n"
   ]
  },
  {
   "cell_type": "code",
   "execution_count": 36,
   "id": "a75a2f07",
   "metadata": {},
   "outputs": [
    {
     "name": "stdout",
     "output_type": "stream",
     "text": [
      "Đã lưu lịch đặt bàn vào file.\n"
     ]
    }
   ],
   "source": [
    "# d\n",
    "filename = \"bookings.txt\"\n",
    "\n",
    "try:\n",
    "    with open(filename, \"w\", encoding=\"utf-8\") as f:\n",
    "        f.write(\"=== LỊCH ĐẶT BÀN ===\\n\")\n",
    "        for t in booked_times:\n",
    "            f.write(f\"{t}\\n\")\n",
    "    print(\"Đã lưu lịch đặt bàn vào file.\")\n",
    "except Exception as e:\n",
    "    print(\"Không thể mở hoặc ghi tệp. Chi tiết lỗi:\", e)\n"
   ]
  },
  {
   "cell_type": "code",
   "execution_count": null,
   "id": "e225ceb8",
   "metadata": {
    "vscode": {
     "languageId": "bat"
    }
   },
   "outputs": [],
   "source": [
    "Bài 7: Lọc email quan trọng\n",
    "Nhân viên văn phòng cần lọc các email có từ khóa \"khẩn cấp\" để ưu tiên xử lý.\n",
    "a. Nhập nội dung email, kiểm tra xem có chứa từ \"khẩn cấp\" không và in thông báo.\n",
    "b. Lưu 3 email vào danh sách, in danh sách các email chứa từ \"khẩn cấp\".\n",
    "c. Tạo module với hàm lọc email theo từ khóa và trả về danh sách email quan trọng.\n",
    "d. Lưu email quan trọng vào tệp, xử lý lỗi nếu tệp không thể ghi được."
   ]
  },
  {
   "cell_type": "code",
   "execution_count": 37,
   "id": "18aa2e24",
   "metadata": {
    "vscode": {
     "languageId": "bat"
    }
   },
   "outputs": [
    {
     "name": "stdout",
     "output_type": "stream",
     "text": [
      "Email bình thường.\n"
     ]
    }
   ],
   "source": [
    "# a\n",
    "email = input(\"Nhập nội dung email: \")\n",
    "\n",
    "if \"khẩn cấp\" in email.lower():\n",
    "    print(\"Đây là email KHẨN CẤP, cần ưu tiên xử lý.\")\n",
    "else:\n",
    "    print(\"Email bình thường.\")\n"
   ]
  },
  {
   "cell_type": "code",
   "execution_count": 38,
   "id": "4b6631a7",
   "metadata": {
    "vscode": {
     "languageId": "bat"
    }
   },
   "outputs": [
    {
     "name": "stdout",
     "output_type": "stream",
     "text": [
      "\n",
      "Danh sách email khẩn cấp:\n"
     ]
    }
   ],
   "source": [
    "# b\n",
    "emails = []\n",
    "for i in range(3):\n",
    "    e = input(f\"Nhập email {i+1}: \")\n",
    "    emails.append(e)\n",
    "\n",
    "print(\"\\nDanh sách email khẩn cấp:\")\n",
    "for e in emails:\n",
    "    if \"khẩn cấp\" in e.lower():\n",
    "        print(\"-\", e)\n"
   ]
  },
  {
   "cell_type": "code",
   "execution_count": 39,
   "id": "91b41739",
   "metadata": {
    "vscode": {
     "languageId": "bat"
    }
   },
   "outputs": [
    {
     "name": "stdout",
     "output_type": "stream",
     "text": [
      "Email quan trọng: ['Khẩn cấp: Họp gấp với đối tác']\n"
     ]
    }
   ],
   "source": [
    "#c \n",
    "import email_filter\n",
    "\n",
    "emails = [\n",
    "    \"Báo cáo doanh thu tuần này\",\n",
    "    \"Khẩn cấp: Họp gấp với đối tác\",\n",
    "    \"Nhắc nhở: Hoàn thành công việc\"\n",
    "]\n",
    "\n",
    "important_emails = email_filter.filter_emails(emails)\n",
    "print(\"Email quan trọng:\", important_emails)\n"
   ]
  },
  {
   "cell_type": "code",
   "execution_count": 40,
   "id": "2521226c",
   "metadata": {
    "vscode": {
     "languageId": "bat"
    }
   },
   "outputs": [
    {
     "name": "stdout",
     "output_type": "stream",
     "text": [
      "Đã lưu email quan trọng vào file.\n"
     ]
    }
   ],
   "source": [
    "# d\n",
    "filename = \"important_emails.txt\"\n",
    "\n",
    "important_emails = [e for e in emails if \"khẩn cấp\" in e.lower()]\n",
    "\n",
    "try:\n",
    "    with open(filename, \"w\", encoding=\"utf-8\") as f:\n",
    "        f.write(\"=== EMAIL QUAN TRỌNG ===\\n\")\n",
    "        for e in important_emails:\n",
    "            f.write(e + \"\\n\")\n",
    "    print(\"Đã lưu email quan trọng vào file.\")\n",
    "except Exception as e:\n",
    "    print(\"Không thể ghi tệp. Chi tiết lỗi:\", e)\n"
   ]
  },
  {
   "cell_type": "code",
   "execution_count": null,
   "id": "5eb60407",
   "metadata": {
    "vscode": {
     "languageId": "bat"
    }
   },
   "outputs": [],
   "source": [
    "Bài 8: Tính doanh số bán hàng\n",
    "Nhân viên bán lẻ cần tính doanh số bán hàng, áp dụng thuế 10% cho sản phẩm trên 1,000,000 VND và 5% cho sản phẩm dưới mức này.\n",
    "a. Nhập giá sản phẩm, tính doanh số sau thuế và kiểm tra mức thuế áp dụng.\n",
    "b. Lưu giá 4 sản phẩm vào dictionary, tính tổng doanh số sau thuế và in từng sản phẩm.\n",
    "c. Tạo module với hàm tính doanh số sau thuế cho danh sách giá sản phẩm.\n",
    "d. Lưu báo cáo doanh số vào tệp, xử lý lỗi nếu không thể ghi tệp."
   ]
  },
  {
   "cell_type": "code",
   "execution_count": 41,
   "id": "7625cef0",
   "metadata": {
    "vscode": {
     "languageId": "bat"
    }
   },
   "outputs": [
    {
     "name": "stdout",
     "output_type": "stream",
     "text": [
      "Giá sau thuế: 1050000 VND\n",
      "Thuế áp dụng: 5%\n"
     ]
    }
   ],
   "source": [
    "# a\n",
    "price = float(input(\"Nhập giá sản phẩm (VND): \"))\n",
    "\n",
    "if price > 1_000_000:\n",
    "    tax_rate = 0.10\n",
    "else:\n",
    "    tax_rate = 0.05\n",
    "\n",
    "final_price = price * (1 + tax_rate)\n",
    "\n",
    "print(f\"Giá sau thuế: {final_price:.0f} VND\")\n",
    "print(f\"Thuế áp dụng: {tax_rate*100:.0f}%\")\n"
   ]
  },
  {
   "cell_type": "code",
   "execution_count": 42,
   "id": "15110beb",
   "metadata": {
    "vscode": {
     "languageId": "bat"
    }
   },
   "outputs": [
    {
     "name": "stdout",
     "output_type": "stream",
     "text": [
      "\n",
      "Danh sách sản phẩm và giá sau thuế:\n",
      "- a: 105000 VND\n",
      "- b: 210000 VND\n",
      "- c: 315000 VND\n",
      "- g: 420000 VND\n",
      "Tổng doanh số sau thuế: 1050000 VND\n"
     ]
    }
   ],
   "source": [
    "# b\n",
    "products = {}  # {tên_sản_phẩm: giá_sau_thuế}\n",
    "\n",
    "for i in range(1, 5):\n",
    "    name = input(f\"Nhập tên sản phẩm {i}: \")\n",
    "    price = float(input(\"Nhập giá sản phẩm: \"))\n",
    "\n",
    "    if price > 1_000_000:\n",
    "        price *= 1.10\n",
    "    else:\n",
    "        price *= 1.05\n",
    "\n",
    "    products[name] = price\n",
    "\n",
    "print(\"\\nDanh sách sản phẩm và giá sau thuế:\")\n",
    "for name, final in products.items():\n",
    "    print(f\"- {name}: {final:.0f} VND\")\n",
    "\n",
    "total = sum(products.values())\n",
    "print(f\"Tổng doanh số sau thuế: {total:.0f} VND\")\n"
   ]
  },
  {
   "cell_type": "code",
   "execution_count": null,
   "id": "a07b8556",
   "metadata": {
    "vscode": {
     "languageId": "bat"
    }
   },
   "outputs": [
    {
     "name": "stdout",
     "output_type": "stream",
     "text": [
      "Tổng doanh số sau thuế: 4807500 VND\n"
     ]
    }
   ],
   "source": [
    "#c\n",
    "import sales_module\n",
    "\n",
    "prices = [800000, 1500000, 950000, 1200000]\n",
    "total_sales = sales_module.calculate_sales(prices)\n",
    "\n",
    "print(f\"Tổng doanh số sau thuế: {total_sales:.0f} VND\")\n"
   ]
  },
  {
   "cell_type": "code",
   "execution_count": 44,
   "id": "0660c782",
   "metadata": {
    "vscode": {
     "languageId": "bat"
    }
   },
   "outputs": [
    {
     "name": "stdout",
     "output_type": "stream",
     "text": [
      "Báo cáo doanh số đã được lưu.\n"
     ]
    }
   ],
   "source": [
    "# d\n",
    "filename = \"sales_report.txt\"\n",
    "\n",
    "try:\n",
    "    with open(filename, \"w\", encoding=\"utf-8\") as f:\n",
    "        f.write(\"=== BÁO CÁO DOANH SỐ ===\\n\")\n",
    "        for name, final in products.items():\n",
    "            f.write(f\"{name}: {final:.0f} VND\\n\")\n",
    "        f.write(f\"TỔNG DOANH SỐ: {total:.0f} VND\\n\")\n",
    "    print(\"Báo cáo doanh số đã được lưu.\")\n",
    "except Exception as e:\n",
    "    print(\"Không thể ghi tệp. Chi tiết lỗi:\", e)\n"
   ]
  },
  {
   "cell_type": "code",
   "execution_count": null,
   "id": "141b75e2",
   "metadata": {
    "vscode": {
     "languageId": "bat"
    }
   },
   "outputs": [],
   "source": [
    "Bài 9: Quản lý kho hàng\n",
    "Nhân viên kho cần theo dõi số lượng hàng tồn và kiểm tra xem có đủ để đáp ứng đơn hàng không.\n",
    "a. Nhập số lượng tồn kho và số lượng đặt, kiểm tra xem có đủ hàng không.\n",
    "b. Lưu số lượng tồn kho của 3 sản phẩm vào dictionary, kiểm tra từng đơn hàng và in kết quả.\n",
    "c. Tạo module với hàm cập nhật tồn kho sau khi nhận đơn hàng, trả về số lượng mới.\n",
    "d. Lưu trạng thái kho vào tệp văn bản, xử lý lỗi nếu không thể mở tệp."
   ]
  },
  {
   "cell_type": "code",
   "execution_count": 46,
   "id": "6a6a8e74",
   "metadata": {
    "vscode": {
     "languageId": "bat"
    }
   },
   "outputs": [
    {
     "name": "stdout",
     "output_type": "stream",
     "text": [
      "Không đủ hàng trong kho.\n"
     ]
    }
   ],
   "source": [
    "# a\n",
    "stock = int(input(\"Nhập số lượng tồn kho: \"))\n",
    "order = int(input(\"Nhập số lượng khách đặt: \"))\n",
    "\n",
    "if order <= stock:\n",
    "    print(\"Đủ hàng để đáp ứng đơn.\")\n",
    "else:\n",
    "    print(\"Không đủ hàng trong kho.\")\n"
   ]
  },
  {
   "cell_type": "code",
   "execution_count": 47,
   "id": "e71bfa5c",
   "metadata": {
    "vscode": {
     "languageId": "bat"
    }
   },
   "outputs": [
    {
     "name": "stdout",
     "output_type": "stream",
     "text": [
      "\n",
      "Kiểm tra đơn hàng:\n",
      "- a: KHÔNG đủ hàng (5000/2000)\n",
      "- b: KHÔNG đủ hàng (7000/300)\n",
      "- c: KHÔNG đủ hàng (7000/2000)\n"
     ]
    }
   ],
   "source": [
    "# b\n",
    "warehouse = {}  # {tên_sản_phẩm: số lượng_tồn}\n",
    "\n",
    "for i in range(1, 4):\n",
    "    name = input(f\"Nhập tên sản phẩm {i}: \")\n",
    "    qty = int(input(\"Nhập số lượng tồn kho: \"))\n",
    "    warehouse[name] = qty\n",
    "\n",
    "print(\"\\nKiểm tra đơn hàng:\")\n",
    "for product, qty in warehouse.items():\n",
    "    order_qty = int(input(f\"Khách đặt bao nhiêu {product}? \"))\n",
    "    if order_qty <= qty:\n",
    "        print(f\"- {product}: Đáp ứng được đơn ({order_qty}/{qty})\")\n",
    "    else:\n",
    "        print(f\"- {product}: KHÔNG đủ hàng ({order_qty}/{qty})\")\n"
   ]
  },
  {
   "cell_type": "code",
   "execution_count": 48,
   "id": "d0e822b3",
   "metadata": {},
   "outputs": [
    {
     "name": "stdout",
     "output_type": "stream",
     "text": [
      "{'Gạo': 40, 'Dầu ăn': 30, 'Nước mắm': 20}\n"
     ]
    }
   ],
   "source": [
    "#c\n",
    "import warehouse_module\n",
    "\n",
    "warehouse = {\"Gạo\": 50, \"Dầu ăn\": 30, \"Nước mắm\": 20}\n",
    "\n",
    "warehouse = warehouse_module.update_stock(warehouse, \"Gạo\", 10)\n",
    "print(warehouse)\n"
   ]
  },
  {
   "cell_type": "code",
   "execution_count": 49,
   "id": "a1298abc",
   "metadata": {},
   "outputs": [
    {
     "name": "stdout",
     "output_type": "stream",
     "text": [
      "Đã lưu trạng thái kho vào file.\n"
     ]
    }
   ],
   "source": [
    "# d\n",
    "filename = \"warehouse_status.txt\"\n",
    "\n",
    "try:\n",
    "    with open(filename, \"w\", encoding=\"utf-8\") as f:\n",
    "        f.write(\"=== TRẠNG THÁI KHO ===\\n\")\n",
    "        for product, qty in warehouse.items():\n",
    "            f.write(f\"{product}: {qty}\\n\")\n",
    "    print(\"Đã lưu trạng thái kho vào file.\")\n",
    "except Exception as e:\n",
    "    print(\"Không thể mở hoặc ghi tệp. Chi tiết lỗi:\", e)\n"
   ]
  },
  {
   "cell_type": "code",
   "execution_count": null,
   "id": "6d7bff8f",
   "metadata": {
    "vscode": {
     "languageId": "bat"
    }
   },
   "outputs": [],
   "source": [
    "Bài 10: Theo dõi giờ làm việc\n",
    "Nhân viên văn phòng muốn theo dõi giờ làm việc để tính thưởng overtime (trên 8 giờ/ngày).\n",
    "a. Nhập giờ làm việc trong ngày, tính thưởng overtime (1.5 lần lương giờ).\n",
    "b. Lưu giờ làm việc của 5 ngày vào danh sách, tính tổng giờ overtime và in kết quả.\n",
    "c. Tạo module với hàm tính tổng thưởng overtime từ danh sách giờ làm việc.\n",
    "d. Lưu lịch sử giờ làm việc vào tệp, xử lý lỗi nếu nhập sai định dạng hoặc không ghi được tệp."
   ]
  },
  {
   "cell_type": "code",
   "execution_count": 50,
   "id": "54cbb1f0",
   "metadata": {
    "vscode": {
     "languageId": "bat"
    }
   },
   "outputs": [
    {
     "name": "stdout",
     "output_type": "stream",
     "text": [
      "Không có giờ overtime.\n"
     ]
    }
   ],
   "source": [
    "# a\n",
    "wage_per_hour = 50000\n",
    "hours = float(input(\"Nhập số giờ làm việc trong ngày: \"))\n",
    "\n",
    "if hours > 8:\n",
    "    overtime_hours = hours - 8\n",
    "    overtime_pay = overtime_hours * wage_per_hour * 1.5\n",
    "    print(f\"Số giờ overtime: {overtime_hours}, Thưởng: {overtime_pay:.0f} VND\")\n",
    "else:\n",
    "    print(\"Không có giờ overtime.\")\n"
   ]
  },
  {
   "cell_type": "code",
   "execution_count": 51,
   "id": "a7121990",
   "metadata": {},
   "outputs": [
    {
     "name": "stdout",
     "output_type": "stream",
     "text": [
      "\n",
      "Tổng số giờ overtime: 2.0\n",
      "Tổng tiền thưởng overtime: 150000 VND\n"
     ]
    }
   ],
   "source": [
    "# b\n",
    "wage_per_hour = 50000\n",
    "work_hours = []\n",
    "total_overtime_hours = 0\n",
    "total_overtime_pay = 0\n",
    "\n",
    "for i in range(1, 6):\n",
    "    h = float(input(f\"Nhập giờ làm việc ngày {i}: \"))\n",
    "    work_hours.append(h)\n",
    "    if h > 8:\n",
    "        overtime = h - 8\n",
    "        total_overtime_hours += overtime\n",
    "        total_overtime_pay += overtime * wage_per_hour * 1.5\n",
    "\n",
    "print(f\"\\nTổng số giờ overtime: {total_overtime_hours}\")\n",
    "print(f\"Tổng tiền thưởng overtime: {total_overtime_pay:.0f} VND\")\n"
   ]
  },
  {
   "cell_type": "code",
   "execution_count": 52,
   "id": "a92a3922",
   "metadata": {},
   "outputs": [
    {
     "name": "stdout",
     "output_type": "stream",
     "text": [
      "Tổng overtime: 7 giờ, Thưởng: 525000 VND\n"
     ]
    }
   ],
   "source": [
    "#c\n",
    "import overtime_module\n",
    "\n",
    "work_hours = [9, 8, 10, 7, 12]  # ví dụ 5 ngày\n",
    "hours, pay = overtime_module.calculate_overtime(work_hours)\n",
    "print(f\"Tổng overtime: {hours} giờ, Thưởng: {pay:.0f} VND\")\n"
   ]
  },
  {
   "cell_type": "code",
   "execution_count": 53,
   "id": "2a9d0564",
   "metadata": {},
   "outputs": [
    {
     "name": "stdout",
     "output_type": "stream",
     "text": [
      "Đã lưu lịch sử giờ làm việc vào file.\n"
     ]
    }
   ],
   "source": [
    "# d\n",
    "filename = \"work_history.txt\"\n",
    "\n",
    "try:\n",
    "    with open(filename, \"w\", encoding=\"utf-8\") as f:\n",
    "        f.write(\"=== LỊCH SỬ GIỜ LÀM VIỆC ===\\n\")\n",
    "        for i, h in enumerate(work_hours, start=1):\n",
    "            f.write(f\"Ngày {i}: {h} giờ\\n\")\n",
    "        f.write(f\"\\nTổng overtime: {total_overtime_hours} giờ\\n\")\n",
    "        f.write(f\"Tổng thưởng overtime: {total_overtime_pay:.0f} VND\\n\")\n",
    "    print(\"Đã lưu lịch sử giờ làm việc vào file.\")\n",
    "except ValueError:\n",
    "    print(\"Lỗi: Nhập sai định dạng số.\")\n",
    "except Exception as e:\n",
    "    print(\"Không thể ghi tệp. Chi tiết lỗi:\", e)\n"
   ]
  },
  {
   "cell_type": "code",
   "execution_count": null,
   "id": "854f0439",
   "metadata": {
    "vscode": {
     "languageId": "bat"
    }
   },
   "outputs": [],
   "source": [
    "Bài 11: Tạo báo cáo tiến độ dự án\n",
    "Nhân viên văn phòng cần tạo báo cáo tiến độ các nhiệm vụ trong dự án, dựa trên phần trăm hoàn thành.\n",
    "a. Nhập phần trăm hoàn thành của một nhiệm vụ, kiểm tra xem đã hoàn thành (100%) chưa.\n",
    "b. Lưu tiến độ 4 nhiệm vụ vào dictionary, in danh sách các nhiệm vụ chưa hoàn thành.\n",
    "c. Tạo module với hàm tạo báo cáo tiến độ, trả về chuỗi báo cáo.\n",
    "d. Lưu báo cáo vào tệp văn bản, xử lý lỗi nếu tệp không thể ghi được."
   ]
  },
  {
   "cell_type": "code",
   "execution_count": 54,
   "id": "edd71adb",
   "metadata": {
    "vscode": {
     "languageId": "bat"
    }
   },
   "outputs": [
    {
     "name": "stdout",
     "output_type": "stream",
     "text": [
      "Nhiệm vụ chưa hoàn thành.\n"
     ]
    }
   ],
   "source": [
    "#a \n",
    "progress = int(input(\"Nhập phần trăm hoàn thành (%): \"))\n",
    "\n",
    "if progress == 100:\n",
    "    print(\"Nhiệm vụ đã hoàn thành.\")\n",
    "else:\n",
    "    print(\"Nhiệm vụ chưa hoàn thành.\")\n"
   ]
  },
  {
   "cell_type": "code",
   "execution_count": 55,
   "id": "82474912",
   "metadata": {
    "vscode": {
     "languageId": "bat"
    }
   },
   "outputs": [
    {
     "name": "stdout",
     "output_type": "stream",
     "text": [
      "Các nhiệm vụ chưa hoàn thành:\n",
      "- Nhiệm vụ 2: 75%\n",
      "- Nhiệm vụ 3: 40%\n"
     ]
    }
   ],
   "source": [
    "tasks = {\n",
    "    \"Nhiệm vụ 1\": 100,\n",
    "    \"Nhiệm vụ 2\": 75,\n",
    "    \"Nhiệm vụ 3\": 40,\n",
    "    \"Nhiệm vụ 4\": 100\n",
    "}\n",
    "\n",
    "print(\"Các nhiệm vụ chưa hoàn thành:\")\n",
    "for task, percent in tasks.items():\n",
    "    if percent < 100:\n",
    "        print(f\"- {task}: {percent}%\")\n"
   ]
  },
  {
   "cell_type": "code",
   "execution_count": null,
   "id": "b2331d07",
   "metadata": {
    "vscode": {
     "languageId": "bat"
    }
   },
   "outputs": [],
   "source": [
    "def tao_bao_cao(tien_do: dict) -> str:\n",
    "    \"\"\"\n",
    "    Hàm tạo báo cáo tiến độ dự án.\n",
    "    Input: dictionary {nhiệm vụ: % hoàn thành}\n",
    "    Output: chuỗi báo cáo\n",
    "    \"\"\"\n",
    "    report = \"BÁO CÁO TIẾN ĐỘ DỰ ÁN\\n\"\n",
    "    report += \"------------------------\\n\"\n",
    "    for task, percent in tien_do.items():\n",
    "        status = \"Hoàn thành\" if percent == 100 else \"Chưa hoàn thành\"\n",
    "        report += f\"{task}: {percent}% - {status}\\n\"\n",
    "    return report\n"
   ]
  },
  {
   "cell_type": "code",
   "execution_count": 56,
   "id": "8c97a55f",
   "metadata": {},
   "outputs": [
    {
     "name": "stdout",
     "output_type": "stream",
     "text": [
      "BÁO CÁO TIẾN ĐỘ DỰ ÁN\n",
      "------------------------\n",
      "Nhiệm vụ 1: 100% - Hoàn thành\n",
      "Nhiệm vụ 2: 75% - Chưa hoàn thành\n",
      "Nhiệm vụ 3: 40% - Chưa hoàn thành\n",
      "Nhiệm vụ 4: 100% - Hoàn thành\n",
      "\n"
     ]
    }
   ],
   "source": [
    "import project_report\n",
    "\n",
    "tasks = {\n",
    "    \"Nhiệm vụ 1\": 100,\n",
    "    \"Nhiệm vụ 2\": 75,\n",
    "    \"Nhiệm vụ 3\": 40,\n",
    "    \"Nhiệm vụ 4\": 100\n",
    "}\n",
    "\n",
    "bao_cao = project_report.tao_bao_cao(tasks)\n",
    "print(bao_cao)\n"
   ]
  },
  {
   "cell_type": "code",
   "execution_count": 57,
   "id": "ccde1a58",
   "metadata": {},
   "outputs": [
    {
     "name": "stdout",
     "output_type": "stream",
     "text": [
      "Báo cáo đã được lưu vào bao_cao_du_an.txt\n"
     ]
    }
   ],
   "source": [
    "#d\n",
    "try:\n",
    "    with open(\"bao_cao_du_an.txt\", \"w\", encoding=\"utf-8\") as f:\n",
    "        f.write(bao_cao)\n",
    "    print(\"Báo cáo đã được lưu vào bao_cao_du_an.txt\")\n",
    "except Exception as e:\n",
    "    print(\"Lỗi khi ghi tệp:\", e)\n"
   ]
  },
  {
   "cell_type": "code",
   "execution_count": null,
   "id": "f92949fa",
   "metadata": {
    "vscode": {
     "languageId": "bat"
    }
   },
   "outputs": [],
   "source": [
    "Bài 12: Quản lý danh sách khách hàng nhà hàng\n",
    "Nhân viên phục vụ cần quản lý thông tin khách hàng (tên, loại phòng) để ưu tiên khách VIP.\n",
    "a. Nhập tên khách và loại phòng, kiểm tra xem có phải khách VIP không.\n",
    "b. Lưu thông tin 3 khách hàng vào list tuple, in danh sách khách VIP.\n",
    "c. Tạo module với hàm thêm khách hàng mới vào danh sách và trả về danh sách cập nhật.\n",
    "d. Lưu danh sách khách hàng vào tệp CSV, xử lý lỗi nếu không thể ghi tệp."
   ]
  },
  {
   "cell_type": "code",
   "execution_count": 58,
   "id": "f20774c1",
   "metadata": {
    "vscode": {
     "languageId": "bat"
    }
   },
   "outputs": [
    {
     "name": "stdout",
     "output_type": "stream",
     "text": [
      "Khách a là khách VIP.\n"
     ]
    }
   ],
   "source": [
    "#a \n",
    "ten = input(\"Nhập tên khách: \")\n",
    "loai_phong = input(\"Nhập loại phòng: \")\n",
    "\n",
    "if loai_phong.lower() == \"vip\":\n",
    "    print(f\"Khách {ten} là khách VIP.\")\n",
    "else:\n",
    "    print(f\"Khách {ten} không phải VIP.\")\n"
   ]
  },
  {
   "cell_type": "code",
   "execution_count": 3,
   "id": "c2f3e69f",
   "metadata": {
    "vscode": {
     "languageId": "bat"
    }
   },
   "outputs": [
    {
     "name": "stdout",
     "output_type": "stream",
     "text": [
      "Danh sách khách VIP:\n",
      "| Nguyen Van A (VIP)\n",
      "| Le Van C (VIP)\n"
     ]
    }
   ],
   "source": [
    "#b\n",
    "khach_hang = [\n",
    "    (\"Nguyen Van A\", \"VIP\"),\n",
    "    (\"Tran Thi B\", \"Thường\"),\n",
    "    (\"Le Van C\", \"VIP\")\n",
    "]\n",
    "\n",
    "print(\"Danh sách khách VIP:\")\n",
    "for ten, loai in khach_hang:\n",
    "    if loai.lower() == \"vip\":\n",
    "        print(f\"| {ten} ({loai})\")\n"
   ]
  },
  {
   "cell_type": "code",
   "execution_count": 4,
   "id": "ecd5da3f",
   "metadata": {
    "vscode": {
     "languageId": "bat"
    }
   },
   "outputs": [
    {
     "name": "stdout",
     "output_type": "stream",
     "text": [
      "Danh sách sau khi cập nhật:\n",
      "| Nguyen Van A (VIP)\n",
      "| Tran Thi B (Thường)\n",
      "| Le Van C (VIP)\n",
      "| Pham Thi D (Thường)\n"
     ]
    }
   ],
   "source": [
    "#c\n",
    "import customer_manager\n",
    "\n",
    "khach_hang = [\n",
    "    (\"Nguyen Van A\", \"VIP\"),\n",
    "    (\"Tran Thi B\", \"Thường\"),\n",
    "    (\"Le Van C\", \"VIP\")\n",
    "]\n",
    "\n",
    "# Thêm khách mới\n",
    "khach_hang = customer_manager.them_khach_hang(khach_hang, \"Pham Thi D\", \"Thường\")\n",
    "\n",
    "print(\"Danh sách sau khi cập nhật:\")\n",
    "for ten, loai in khach_hang:\n",
    "    print(f\"| {ten} ({loai})\")\n"
   ]
  },
  {
   "cell_type": "code",
   "execution_count": 61,
   "id": "c870640f",
   "metadata": {},
   "outputs": [
    {
     "name": "stdout",
     "output_type": "stream",
     "text": [
      "Danh sách khách hàng đã lưu vào khach_hang.csv\n"
     ]
    }
   ],
   "source": [
    "#d\n",
    "import csv\n",
    "\n",
    "try:\n",
    "    with open(\"khach_hang.csv\", \"w\", newline=\"\", encoding=\"utf-8\") as f:\n",
    "        writer = csv.writer(f)\n",
    "        writer.writerow([\"Tên khách\", \"Loại phòng\"])  # header\n",
    "        writer.writerows(khach_hang)\n",
    "    print(\"Danh sách khách hàng đã lưu vào khach_hang.csv\")\n",
    "except Exception as e:\n",
    "    print(\"Lỗi khi ghi file CSV:\", e)\n"
   ]
  },
  {
   "cell_type": "code",
   "execution_count": null,
   "id": "f27b03cd",
   "metadata": {
    "vscode": {
     "languageId": "bat"
    }
   },
   "outputs": [],
   "source": [
    "Bài 13: Lập kế hoạch du lịch\n",
    "Nhân viên văn phòng muốn lập kế hoạch chi phí du lịch, \n",
    "với chi phí di chuyển 10,000 VND/km và giảm giá 10% cho quãng đường trên 100 km.\n",
    "a. Nhập khoảng cách di chuyển, tính chi phí và kiểm tra xem có được giảm giá không.\n",
    "b. Lưu khoảng cách của 3 chuyến đi vào danh sách, tính tổng chi phí sau giảm giá.\n",
    "c. Tạo module với hàm tính tổng chi phí di chuyển cho danh sách khoảng cách.\n",
    "d. Lưu kế hoạch chi phí du lịch vào tệp, xử lý lỗi nếu không thể ghi tệp."
   ]
  },
  {
   "cell_type": "code",
   "execution_count": 62,
   "id": "2ba553b1",
   "metadata": {
    "vscode": {
     "languageId": "bat"
    }
   },
   "outputs": [
    {
     "name": "stdout",
     "output_type": "stream",
     "text": [
      "Chi phí sau giảm giá: 3,600,000 VND\n"
     ]
    }
   ],
   "source": [
    "#a\n",
    "khoang_cach = float(input(\"Nhập khoảng cách di chuyển (km): \"))\n",
    "don_gia = 10000\n",
    "\n",
    "chi_phi = khoang_cach * don_gia\n",
    "if khoang_cach > 100:\n",
    "    chi_phi *= 0.9   # giảm 10%\n",
    "    print(f\"Chi phí sau giảm giá: {chi_phi:,.0f} VND\")\n",
    "else:\n",
    "    print(f\"Chi phí: {chi_phi:,.0f} VND\")\n"
   ]
  },
  {
   "cell_type": "code",
   "execution_count": 63,
   "id": "99626151",
   "metadata": {
    "vscode": {
     "languageId": "bat"
    }
   },
   "outputs": [
    {
     "name": "stdout",
     "output_type": "stream",
     "text": [
      "Tổng chi phí 3 chuyến đi: 3,680,000 VND\n"
     ]
    }
   ],
   "source": [
    "distances = [80, 120, 200]  # ví dụ 3 chuyến đi\n",
    "don_gia = 10000\n",
    "\n",
    "def tinh_chi_phi(km):\n",
    "    chi_phi = km * don_gia\n",
    "    if km > 100:\n",
    "        chi_phi *= 0.9\n",
    "    return chi_phi\n",
    "\n",
    "tong_chi_phi = sum(tinh_chi_phi(d) for d in distances)\n",
    "\n",
    "print(\"Tổng chi phí 3 chuyến đi:\", f\"{tong_chi_phi:,.0f} VND\")\n"
   ]
  },
  {
   "cell_type": "code",
   "execution_count": 64,
   "id": "1ea05b49",
   "metadata": {
    "vscode": {
     "languageId": "bat"
    }
   },
   "outputs": [
    {
     "name": "stdout",
     "output_type": "stream",
     "text": [
      "Tổng chi phí du lịch: 3,680,000 VND\n"
     ]
    }
   ],
   "source": [
    "#c \n",
    "import travel_cost\n",
    "\n",
    "distances = [80, 120, 200]\n",
    "tong = travel_cost.tong_chi_phi(distances)\n",
    "\n",
    "print(\"Tổng chi phí du lịch:\", f\"{tong:,.0f} VND\")\n"
   ]
  },
  {
   "cell_type": "code",
   "execution_count": 65,
   "id": "3e608b99",
   "metadata": {},
   "outputs": [
    {
     "name": "stdout",
     "output_type": "stream",
     "text": [
      "Đã lưu kế hoạch vào ke_hoach_du_lich.txt\n"
     ]
    }
   ],
   "source": [
    "#d \n",
    "try:\n",
    "    with open(\"ke_hoach_du_lich.txt\", \"w\", encoding=\"utf-8\") as f:\n",
    "        f.write(\"Kế hoạch chi phí du lịch\\n\")\n",
    "        for i, km in enumerate(distances, 1):\n",
    "            f.write(f\"Chuyến {i}: {km} km - Chi phí: {travel_cost.tinh_chi_phi(km):,.0f} VND\\n\")\n",
    "        f.write(f\"Tổng chi phí: {tong:,.0f} VND\\n\")\n",
    "    print(\"Đã lưu kế hoạch vào ke_hoach_du_lich.txt\")\n",
    "except Exception as e:\n",
    "    print(\"Lỗi khi ghi file:\", e)\n"
   ]
  },
  {
   "cell_type": "code",
   "execution_count": null,
   "id": "62e222f9",
   "metadata": {
    "vscode": {
     "languageId": "bat"
    }
   },
   "outputs": [],
   "source": [
    "Bài 14: Theo dõi tiến độ học tập\n",
    "Nhân viên văn phòng học thêm các khóa học online, cần theo dõi điểm số và phân loại kết quả.\n",
    "a. Nhập điểm một môn học, kiểm tra xem có đạt (điểm ≥ 5) không.\n",
    "b. Lưu điểm của 3 môn học vào dictionary, in danh sách các môn đạt và tính điểm trung bình.\n",
    "c. Tạo module với hàm tính tỷ lệ môn đạt, trả về phần trăm.\n",
    "d. Lưu kết quả học tập vào tệp, xử lý lỗi nếu nhập sai định dạng hoặc không ghi được tệp."
   ]
  },
  {
   "cell_type": "code",
   "execution_count": 66,
   "id": "0d21e1f1",
   "metadata": {
    "vscode": {
     "languageId": "bat"
    }
   },
   "outputs": [
    {
     "name": "stdout",
     "output_type": "stream",
     "text": [
      "Kết quả: Đạt\n"
     ]
    }
   ],
   "source": [
    "\n",
    "#a\n",
    "diem = float(input(\"Nhập điểm môn học: \"))\n",
    "\n",
    "if diem >= 5:\n",
    "    print(\"Kết quả: Đạt\")\n",
    "else:\n",
    "    print(\"Kết quả: Không đạt\")\n"
   ]
  },
  {
   "cell_type": "code",
   "execution_count": 68,
   "id": "d34fb41e",
   "metadata": {},
   "outputs": [
    {
     "name": "stdout",
     "output_type": "stream",
     "text": [
      "Các môn đạt: ['Toán', 'Anh văn']\n",
      "Điểm trung bình: 6.5\n"
     ]
    }
   ],
   "source": [
    "#b\n",
    "diem_mon = {\n",
    "    \"Toán\": 7.5,\n",
    "    \"Tin học\": 4.0,\n",
    "    \"Anh văn\": 8.0\n",
    "}\n",
    "\n",
    "mon_dat = [mon for mon, d in diem_mon.items() if d >= 5]\n",
    "diem_tb = sum(diem_mon.values()) / len(diem_mon)\n",
    "\n",
    "print(\"Các môn đạt:\", mon_dat)\n",
    "print(\"Điểm trung bình:\", round(diem_tb, 2))\n"
   ]
  },
  {
   "cell_type": "code",
   "execution_count": 69,
   "id": "9bdca4d5",
   "metadata": {},
   "outputs": [
    {
     "name": "stdout",
     "output_type": "stream",
     "text": [
      "Tỷ lệ môn đạt: 66.67%\n"
     ]
    }
   ],
   "source": [
    "#c\n",
    "import study_progress\n",
    "\n",
    "diem_mon = {\n",
    "    \"Toán\": 7.5,\n",
    "    \"Tin học\": 4.0,\n",
    "    \"Anh văn\": 8.0\n",
    "}\n",
    "\n",
    "ty_le = study_progress.ty_le_mon_dat(diem_mon)\n",
    "print(f\"Tỷ lệ môn đạt: {ty_le:.2f}%\")\n"
   ]
  },
  {
   "cell_type": "code",
   "execution_count": 70,
   "id": "66f2a0f5",
   "metadata": {},
   "outputs": [
    {
     "name": "stdout",
     "output_type": "stream",
     "text": [
      "Đã lưu kết quả vào ket_qua_hoc_tap.txt\n"
     ]
    }
   ],
   "source": [
    "import study_progress\n",
    "\n",
    "diem_mon = {}\n",
    "for mon in [\"Toán\", \"Tin học\", \"Anh văn\"]:\n",
    "    try:\n",
    "        diem = float(input(f\"Nhập điểm {mon}: \"))\n",
    "        if diem < 0 or diem > 10:\n",
    "            raise ValueError(\"Điểm phải từ 0 đến 10\")\n",
    "        diem_mon[mon] = diem\n",
    "    except ValueError as e:\n",
    "        print(\"Lỗi:\", e)\n",
    "        diem_mon[mon] = 0.0  # gán mặc định\n",
    "\n",
    "ty_le = study_progress.ty_le_mon_dat(diem_mon)\n",
    "diem_tb = sum(diem_mon.values()) / len(diem_mon)\n",
    "\n",
    "try:\n",
    "    with open(\"ket_qua_hoc_tap.txt\", \"w\", encoding=\"utf-8\") as f:\n",
    "        f.write(\"KẾT QUẢ HỌC TẬP\\n\")\n",
    "        for mon, d in diem_mon.items():\n",
    "            trang_thai = \"Đạt\" if d >= 5 else \"Không đạt\"\n",
    "            f.write(f\"{mon}: {d} điểm - {trang_thai}\\n\")\n",
    "        f.write(f\"Điểm trung bình: {round(diem_tb,2)}\\n\")\n",
    "        f.write(f\"Tỷ lệ môn đạt: {ty_le:.2f}%\\n\")\n",
    "    print(\"Đã lưu kết quả vào ket_qua_hoc_tap.txt\")\n",
    "except Exception as e:\n",
    "    print(\"Lỗi khi ghi file:\", e)\n"
   ]
  },
  {
   "cell_type": "code",
   "execution_count": null,
   "id": "ab95c068",
   "metadata": {
    "vscode": {
     "languageId": "bat"
    }
   },
   "outputs": [],
   "source": [
    "Bài 15: Quản lý công thức nấu ăn\n",
    "Nhân viên phục vụ nhà hàng cần tính toán calo của các món ăn dựa trên nguyên liệu.\n",
    "a. Nhập số lượng phần của một nguyên liệu (100 calo/phần), tính tổng calo và kiểm tra xem có vượt 500 calo không.\n",
    "b. Lưu thông tin 3 nguyên liệu (tên, calo) vào list tuple, tính tổng calo của món ăn.\n",
    "c. Tạo module với hàm tính tổng calo từ danh sách nguyên liệu, trả về kết quả.\n",
    "d. Lưu công thức món ăn vào tệp văn bản, xử lý lỗi nếu không thể ghi tệp."
   ]
  },
  {
   "cell_type": "code",
   "execution_count": 72,
   "id": "9b03d078",
   "metadata": {},
   "outputs": [
    {
     "name": "stdout",
     "output_type": "stream",
     "text": [
      "Tổng calo: 60000\n",
      " Món ăn vượt 500 calo.\n"
     ]
    }
   ],
   "source": [
    "\n",
    "# a\n",
    "try:\n",
    "    so_phan = int(input(\"Nhập số lượng phần nguyên liệu: \"))\n",
    "    tong_calo = so_phan * 100\n",
    "    print(f\"Tổng calo: {tong_calo}\")\n",
    "\n",
    "    if tong_calo > 500:\n",
    "        print(\" Món ăn vượt 500 calo.\")\n",
    "    else:\n",
    "        print(\" Món ăn trong giới hạn calo.\")\n",
    "except ValueError:\n",
    "    print(\"Lỗi: Vui lòng nhập số nguyên hợp lệ.\")\n",
    "\n"
   ]
  },
  {
   "cell_type": "code",
   "execution_count": 73,
   "id": "691c8615",
   "metadata": {},
   "outputs": [
    {
     "name": "stdout",
     "output_type": "stream",
     "text": [
      "Danh sách nguyên liệu: [('Thịt gà', 250), ('Rau củ', 80), ('Cơm', 200)]\n",
      "Tổng calo của món ăn: 530\n"
     ]
    }
   ],
   "source": [
    "# b\n",
    "nguyen_lieu = [\n",
    "    (\"Thịt gà\", 250),\n",
    "    (\"Rau củ\", 80),\n",
    "    (\"Cơm\", 200)\n",
    "]\n",
    "\n",
    "tong_calo = sum(calo for _, calo in nguyen_lieu)\n",
    "print(\"Danh sách nguyên liệu:\", nguyen_lieu)\n",
    "print(f\"Tổng calo của món ăn: {tong_calo}\")\n"
   ]
  },
  {
   "cell_type": "code",
   "execution_count": 74,
   "id": "9e68a0c3",
   "metadata": {},
   "outputs": [
    {
     "name": "stdout",
     "output_type": "stream",
     "text": [
      "Tổng calo món ăn: 530\n"
     ]
    }
   ],
   "source": [
    "#c\n",
    "import calo_module\n",
    "\n",
    "nguyen_lieu = [\n",
    "    (\"Thịt gà\", 250),\n",
    "    (\"Rau củ\", 80),\n",
    "    (\"Cơm\", 200)\n",
    "]\n",
    "\n",
    "tong_calo = calo_module.tinh_tong_calo(nguyen_lieu)\n",
    "print(f\"Tổng calo món ăn: {tong_calo}\")\n"
   ]
  },
  {
   "cell_type": "code",
   "execution_count": null,
   "id": "4b28a17c",
   "metadata": {},
   "outputs": [
    {
     "name": "stdout",
     "output_type": "stream",
     "text": [
      "Đã lưu công thức vào tệp cong_thuc.txt\n"
     ]
    }
   ],
   "source": [
    "\n",
    "# d\n",
    "try:\n",
    "    with open(\"cong_thuc.txt\", \"w\", encoding=\"utf-8\") as f:\n",
    "        f.write(\"Công thức món ăn:\\n\")\n",
    "        for ten, calo in nguyen_lieu:\n",
    "            f.write(f\"- {ten}: {calo} calo\\n\")\n",
    "        f.write(f\"Tổng calo: {tong_calo}\\n\")\n",
    "    print(\"Đã lưu công thức vào tệp cong_thuc.txt\")\n",
    "except IOError:\n",
    "    print(\" Lỗi: Không thể ghi tệp.\")\n"
   ]
  },
  {
   "cell_type": "code",
   "execution_count": null,
   "id": "f795bf8f",
   "metadata": {
    "vscode": {
     "languageId": "bat"
    }
   },
   "outputs": [],
   "source": [
    "Bài 16: Tính lãi suất tiết kiệm\n",
    "Nhân viên văn phòng muốn tính lãi suất tiết kiệm, với lãi 5% và thưởng thêm 1% nếu số tiền gửi trên 100,000,000 VND.\n",
    "a. Nhập số tiền gửi, tính lãi suất và kiểm tra xem có thưởng thêm không.\n",
    "b. Lưu số tiền gửi của 3 tài khoản vào tuple, tính tổng lãi suất và in kết quả.\n",
    "c. Tạo module với hàm tính lãi suất dựa trên số tiền, trả về lãi.\n",
    "d. Lưu lịch sử lãi suất vào tệp, xử lý lỗi nếu không thể ghi tệp."
   ]
  },
  {
   "cell_type": "code",
   "execution_count": 76,
   "id": "019336a0",
   "metadata": {
    "vscode": {
     "languageId": "bat"
    }
   },
   "outputs": [
    {
     "name": "stdout",
     "output_type": "stream",
     "text": [
      "Số tiền gửi: 200,000 VND\n",
      "Lãi suất áp dụng: 5.0%\n",
      "Tiền lãi nhận được: 10,000 VND\n"
     ]
    }
   ],
   "source": [
    "# a\n",
    "try:\n",
    "    so_tien = float(input(\"Nhập số tiền gửi (VND): \"))\n",
    "    lai_suat = 0.05  # 5%\n",
    "    if so_tien > 100_000_000:\n",
    "        lai_suat += 0.01  # cộng thêm 1%\n",
    "\n",
    "    tien_lai = so_tien * lai_suat\n",
    "    print(f\"Số tiền gửi: {so_tien:,.0f} VND\")\n",
    "    print(f\"Lãi suất áp dụng: {lai_suat*100}%\")\n",
    "    print(f\"Tiền lãi nhận được: {tien_lai:,.0f} VND\")\n",
    "except ValueError:\n",
    "    print(\"Lỗi: Vui lòng nhập số hợp lệ.\")\n"
   ]
  },
  {
   "cell_type": "code",
   "execution_count": 77,
   "id": "d800e99b",
   "metadata": {
    "vscode": {
     "languageId": "bat"
    }
   },
   "outputs": [
    {
     "name": "stdout",
     "output_type": "stream",
     "text": [
      "Danh sách tài khoản: (50000000, 120000000, 80000000)\n",
      "Tổng lãi suất các tài khoản: 13,700,000 VND\n"
     ]
    }
   ],
   "source": [
    "# b\n",
    "tai_khoan = (50_000_000, 120_000_000, 80_000_000)\n",
    "\n",
    "tong_lai = 0\n",
    "for tien in tai_khoan:\n",
    "    lai_suat = 0.05\n",
    "    if tien > 100_000_000:\n",
    "        lai_suat += 0.01\n",
    "    tong_lai += tien * lai_suat\n",
    "\n",
    "print(\"Danh sách tài khoản:\", tai_khoan)\n",
    "print(f\"Tổng lãi suất các tài khoản: {tong_lai:,.0f} VND\")\n"
   ]
  },
  {
   "cell_type": "code",
   "execution_count": 78,
   "id": "611f53bc",
   "metadata": {
    "vscode": {
     "languageId": "bat"
    }
   },
   "outputs": [
    {
     "name": "stdout",
     "output_type": "stream",
     "text": [
      "Tài khoản 1: 2,500,000 VND tiền lãi\n",
      "Tài khoản 2: 7,200,000 VND tiền lãi\n",
      "Tài khoản 3: 4,000,000 VND tiền lãi\n"
     ]
    }
   ],
   "source": [
    "#c\n",
    "import lai_module\n",
    "\n",
    "tai_khoan = (50_000_000, 120_000_000, 80_000_000)\n",
    "\n",
    "for i, tien in enumerate(tai_khoan, start=1):\n",
    "    print(f\"Tài khoản {i}: {lai_module.tinh_lai(tien):,.0f} VND tiền lãi\")\n"
   ]
  },
  {
   "cell_type": "code",
   "execution_count": 79,
   "id": "607bf489",
   "metadata": {},
   "outputs": [
    {
     "name": "stdout",
     "output_type": "stream",
     "text": [
      " Đã lưu lịch sử vào tệp lai_suat.txt\n"
     ]
    }
   ],
   "source": [
    "# d\n",
    "try:\n",
    "    with open(\"lai_suat.txt\", \"w\", encoding=\"utf-8\") as f:\n",
    "        f.write(\"Lịch sử lãi suất các tài khoản:\\n\")\n",
    "        for i, tien in enumerate(tai_khoan, start=1):\n",
    "            lai = lai_module.tinh_lai(tien)\n",
    "            f.write(f\"Tài khoản {i}: Gửi {tien:,.0f} VND -> Lãi {lai:,.0f} VND\\n\")\n",
    "    print(\" Đã lưu lịch sử vào tệp lai_suat.txt\")\n",
    "except IOError:\n",
    "    print(\"Lỗi: Không thể ghi tệp.\")\n"
   ]
  },
  {
   "cell_type": "code",
   "execution_count": null,
   "id": "36f7e7ee",
   "metadata": {
    "vscode": {
     "languageId": "bat"
    }
   },
   "outputs": [],
   "source": [
    "Bài 17: Quản lý giỏ hàng mua sắm online\n",
    "Nhân viên văn phòng thường mua sắm online và cần quản lý giỏ hàng để theo dõi chi phí.\n",
    "a. Nhập giá một món hàng, kiểm tra xem có vượt ngân sách 500,000 VND không.\n",
    "b. Lưu giá 4 món hàng vào danh sách, tính tổng chi phí và tìm món đắt nhất.\n",
    "c. Tạo module với hàm thêm món hàng vào giỏ và tính tổng chi phí.\n",
    "d. Lưu giỏ hàng vào tệp văn bản, xử lý lỗi nếu không thể ghi tệp."
   ]
  },
  {
   "cell_type": "code",
   "execution_count": 80,
   "id": "535c2b76",
   "metadata": {
    "vscode": {
     "languageId": "bat"
    }
   },
   "outputs": [
    {
     "name": "stdout",
     "output_type": "stream",
     "text": [
      "Món hàng trong ngân sách\n"
     ]
    }
   ],
   "source": [
    "#a\n",
    "price = float(input(\"Nhập giá món hàng: \"))\n",
    "\n",
    "if price > 500000:\n",
    "    print(\"Món hàng vượt ngân sách 500,000 VND\")\n",
    "else:\n",
    "    print(\"Món hàng trong ngân sách\")\n"
   ]
  },
  {
   "cell_type": "code",
   "execution_count": 81,
   "id": "eb65e8be",
   "metadata": {
    "vscode": {
     "languageId": "bat"
    }
   },
   "outputs": [
    {
     "name": "stdout",
     "output_type": "stream",
     "text": [
      "Danh sách giỏ hàng: [150000, 320000, 450000, 200000]\n",
      "Tổng chi phí: 1120000 VND\n",
      "Món đắt nhất: 450000 VND\n"
     ]
    }
   ],
   "source": [
    "# Danh sách giá các món hàng\n",
    "cart = [150000, 320000, 450000, 200000]\n",
    "\n",
    "# Tính tổng chi phí\n",
    "total_cost = sum(cart)\n",
    "\n",
    "# Tìm món đắt nhất\n",
    "max_price = max(cart)\n",
    "\n",
    "print(\"Danh sách giỏ hàng:\", cart)\n",
    "print(\"Tổng chi phí:\", total_cost, \"VND\")\n",
    "print(\"Món đắt nhất:\", max_price, \"VND\")\n"
   ]
  },
  {
   "cell_type": "code",
   "execution_count": 82,
   "id": "f9c4b4f1",
   "metadata": {
    "vscode": {
     "languageId": "bat"
    }
   },
   "outputs": [
    {
     "name": "stdout",
     "output_type": "stream",
     "text": [
      "Giỏ hàng sau khi thêm: [150000, 320000, 450000, 200000, 280000]\n",
      "Tổng chi phí: 1400000 VND\n"
     ]
    }
   ],
   "source": [
    "#c \n",
    "import shopping_module\n",
    "\n",
    "cart = [150000, 320000, 450000, 200000]\n",
    "\n",
    "# Thêm món mới\n",
    "cart = shopping_module.add_item(cart, 280000)\n",
    "\n",
    "# Tính tổng\n",
    "total = shopping_module.calculate_total(cart)\n",
    "\n",
    "print(\"Giỏ hàng sau khi thêm:\", cart)\n",
    "print(\"Tổng chi phí:\", total, \"VND\")\n"
   ]
  },
  {
   "cell_type": "code",
   "execution_count": 83,
   "id": "1af1636d",
   "metadata": {
    "vscode": {
     "languageId": "bat"
    }
   },
   "outputs": [
    {
     "name": "stdout",
     "output_type": "stream",
     "text": [
      "Đã lưu giỏ hàng vào tệp gio_hang.txt\n"
     ]
    }
   ],
   "source": [
    "#d \n",
    "try:\n",
    "    with open(\"gio_hang.txt\", \"w\", encoding=\"utf-8\") as f:\n",
    "        f.write(\"Danh sách giỏ hàng:\\n\")\n",
    "        for price in cart:\n",
    "            f.write(f\"{price} VND\\n\")\n",
    "        f.write(f\"\\nTổng chi phí: {total} VND\\n\")\n",
    "    print(\"Đã lưu giỏ hàng vào tệp gio_hang.txt\")\n",
    "except Exception as e:\n",
    "    print(\"Lỗi khi ghi tệp:\", e)\n"
   ]
  },
  {
   "cell_type": "markdown",
   "id": "7e6ba7bc",
   "metadata": {},
   "source": [
    "Bài 18: Theo dõi thời tiết giả định\n",
    "Nhân viên văn phòng cần theo dõi nhiệt độ để lên kế hoạch đi làm hoặc du lịch.\n",
    "a. Nhập nhiệt độ một ngày, kiểm tra xem có nóng (>30°C) không.\n",
    "b. Lưu nhiệt độ 5 ngày vào danh sách, đếm số ngày nóng và tính nhiệt độ trung bình.\n",
    "c. Tạo module với hàm dự báo thời tiết, trả về \"Nóng\" nếu có ngày nào trên 30°C.\n",
    "d. Lưu nhật ký nhiệt độ vào tệp, xử lý lỗi nếu không thể ghi tệp."
   ]
  },
  {
   "cell_type": "code",
   "execution_count": 84,
   "id": "29b11853",
   "metadata": {
    "vscode": {
     "languageId": "bat"
    }
   },
   "outputs": [
    {
     "name": "stdout",
     "output_type": "stream",
     "text": [
      "Hôm nay không nóng\n"
     ]
    }
   ],
   "source": [
    "#a\n",
    "temp = float(input(\"Nhập nhiệt độ hôm nay (°C): \"))\n",
    "\n",
    "if temp > 30:\n",
    "    print(\"Hôm nay trời nóng (>30°C)\")\n",
    "else:\n",
    "    print(\"Hôm nay không nóng\")\n"
   ]
  },
  {
   "cell_type": "code",
   "execution_count": 86,
   "id": "cc20493c",
   "metadata": {
    "vscode": {
     "languageId": "bat"
    }
   },
   "outputs": [
    {
     "name": "stdout",
     "output_type": "stream",
     "text": [
      "Nhiệt độ 5 ngày: [28, 31, 30, 33, 27]\n",
      "Số ngày nóng: 2\n",
      "Nhiệt độ trung bình: 29.8 °C\n"
     ]
    }
   ],
   "source": [
    "#b\n",
    "temps = [28, 31, 30, 33, 27]\n",
    "\n",
    "# Đếm số ngày nóng\n",
    "hot_days = sum(1 for t in temps if t > 30)\n",
    "\n",
    "# Tính nhiệt độ trung bình\n",
    "avg_temp = sum(temps) / len(temps)\n",
    "\n",
    "print(\"Nhiệt độ 5 ngày:\", temps)\n",
    "print(\"Số ngày nóng:\", hot_days)\n",
    "print(\"Nhiệt độ trung bình:\", round(avg_temp, 2), \"°C\")\n"
   ]
  },
  {
   "cell_type": "code",
   "execution_count": 88,
   "id": "e1bc0b0e",
   "metadata": {
    "vscode": {
     "languageId": "bat"
    }
   },
   "outputs": [
    {
     "name": "stdout",
     "output_type": "stream",
     "text": [
      "Dự báo thời tiết: Nóng\n"
     ]
    }
   ],
   "source": [
    "#c\n",
    "import weather_module\n",
    "\n",
    "temps = [28, 31, 30, 33, 27]\n",
    "\n",
    "result = weather_module.forecast(temps)\n",
    "print(\"Dự báo thời tiết:\", result)\n",
    "\n"
   ]
  },
  {
   "cell_type": "code",
   "execution_count": 89,
   "id": "320e6fe8",
   "metadata": {},
   "outputs": [
    {
     "name": "stdout",
     "output_type": "stream",
     "text": [
      "Đã lưu nhật ký nhiệt độ vào tệp nhat_ky_nhiet_do.txt\n"
     ]
    }
   ],
   "source": [
    "#d \n",
    "try:\n",
    "    with open(\"nhat_ky_nhiet_do.txt\", \"w\", encoding=\"utf-8\") as f:\n",
    "        f.write(\"Nhiệt độ 5 ngày:\\n\")\n",
    "        for i, t in enumerate(temps, 1):\n",
    "            f.write(f\"Ngày {i}: {t}°C\\n\")\n",
    "        f.write(f\"\\nSố ngày nóng: {hot_days}\\n\")\n",
    "        f.write(f\"Nhiệt độ trung bình: {round(avg_temp, 2)}°C\\n\")\n",
    "        f.write(f\"Dự báo: {result}\\n\")\n",
    "    print(\"Đã lưu nhật ký nhiệt độ vào tệp nhat_ky_nhiet_do.txt\")\n",
    "except Exception as e:\n",
    "    print(\"Lỗi khi ghi tệp:\", e)\n"
   ]
  },
  {
   "cell_type": "code",
   "execution_count": null,
   "id": "c2b01e69",
   "metadata": {
    "vscode": {
     "languageId": "bat"
    }
   },
   "outputs": [],
   "source": [
    "Bài 19: Quản lý điểm thi học viên\n",
    "Nhân viên giáo dục hoặc văn phòng cần quản lý điểm thi của học viên để đánh giá kết quả.\n",
    "a. Nhập điểm một học viên, kiểm tra xem có đậu (di hat em >= 5 ) không.\n",
    "b. Lưu điểm của 4 học viên vào dictionary, in danh sách học viên đậu và tính điểm trung bình.\n",
    "c. Tạo module với hàm tính tỷ lệ đậu, trả về phần trăm học viên đậu.\n",
    "d. Lưu kết quả thi vào tệp CSV, xử lý lỗi nếu nhập sai định dạng hoặc không ghi được tệp."
   ]
  },
  {
   "cell_type": "code",
   "execution_count": null,
   "id": "afdc0237",
   "metadata": {},
   "outputs": [
    {
     "name": "stdout",
     "output_type": "stream",
     "text": [
      "Học viên ĐẬU\n"
     ]
    }
   ],
   "source": [
    "#a \n",
    "score = float(input(\"Nhập điểm học viên: \"))\n",
    "\n",
    "if score >= 5:\n",
    "    print(\"Học viên ĐẬU\")\n",
    "else:\n",
    "    print(\"Học viên RỚT\")\n"
   ]
  },
  {
   "cell_type": "code",
   "execution_count": 93,
   "id": "e5ce639e",
   "metadata": {
    "vscode": {
     "languageId": "bat"
    }
   },
   "outputs": [
    {
     "name": "stdout",
     "output_type": "stream",
     "text": [
      "Học viên ĐẬU\n"
     ]
    }
   ],
   "source": [
    "#b\n",
    "score = float(input(\"Nhập điểm học viên: \"))\n",
    "\n",
    "if score >= 5:\n",
    "    print(\"Học viên ĐẬU\")\n",
    "else:\n",
    "    print(\"Học viên RỚT\")\n"
   ]
  },
  {
   "cell_type": "code",
   "execution_count": 95,
   "id": "799a21bc",
   "metadata": {
    "vscode": {
     "languageId": "bat"
    }
   },
   "outputs": [
    {
     "name": "stdout",
     "output_type": "stream",
     "text": [
      "Tỷ lệ đậu: 75.0 %\n"
     ]
    }
   ],
   "source": [
    "#c\n",
    "import exam_module\n",
    "\n",
    "scores = {\n",
    "    \"An\": 7.5,\n",
    "    \"Bình\": 4.0,\n",
    "    \"Chi\": 8.0,\n",
    "    \"Dũng\": 5.5\n",
    "}\n",
    "\n",
    "rate = exam_module.pass_rate(scores)\n",
    "print(\"Tỷ lệ đậu:\", round(rate, 2), \"%\")\n"
   ]
  },
  {
   "cell_type": "code",
   "execution_count": 98,
   "id": "ef80979c",
   "metadata": {
    "vscode": {
     "languageId": "bat"
    }
   },
   "outputs": [
    {
     "name": "stdout",
     "output_type": "stream",
     "text": [
      "Lỗi khi ghi tệp CSV: name 'avg_score' is not defined\n"
     ]
    }
   ],
   "source": [
    "#d\n",
    "try:\n",
    "    with open(\"ket_qua_thi.csv\", \"w\", newline=\"\", encoding=\"utf-8\") as f:\n",
    "        writer = csv.writer(f)\n",
    "        writer.writerow([\"Học viên\", \"Điểm\", \"Kết quả\"])\n",
    "        for name, s in scores.items():\n",
    "            result = \"Đậu\" if s >= 5 else \"Rớt\"\n",
    "            writer.writerow([name, s, result])\n",
    "        writer.writerow([])\n",
    "        writer.writerow([\"Điểm trung bình\", round(avg_score, 2)])\n",
    "        writer.writerow([\"Tỷ lệ đậu (%)\", round(rate, 2)])\n",
    "    print(\"Đã lưu kết quả thi vào ket_qua_thi.csv\")\n",
    "except Exception as e:\n",
    "    print(\"Lỗi khi ghi tệp CSV:\", e)\n"
   ]
  },
  {
   "cell_type": "markdown",
   "id": "88ea13bd",
   "metadata": {},
   "source": [
    "Bài 20: Trò chơi đoán số đơn giản\n",
    "Nhân viên văn phòng muốn tạo một trò chơi nhỏ để giải trí trong giờ nghỉ, đoán số ngẫu nhiên từ 1 đến 10.\n",
    "a. Nhập số đoán, kiểm tra xem có khớp với số ngẫu nhiên không.\n",
    "b. Lưu 3 lượt đoán vào tuple, kiểm tra xem có lượt nào đúng không và in kết quả.\n",
    "c. Tạo module với hàm chạy trò chơi, cho phép tối đa 3 lượt đoán và trả về \"Thắng\" hoặc \"Thua\".\n",
    "d. Lưu kết quả trò chơi vào tệp văn bản, xử lý lỗi nếu nhập sai định dạng hoặc không ghi được tệp."
   ]
  },
  {
   "cell_type": "code",
   "execution_count": 100,
   "id": "0dd558e5",
   "metadata": {
    "vscode": {
     "languageId": "bat"
    }
   },
   "outputs": [
    {
     "name": "stdout",
     "output_type": "stream",
     "text": [
      "Sai rồi. Số đúng là 9.\n"
     ]
    }
   ],
   "source": [
    "#a \n",
    "import random\n",
    "\n",
    "secret = random.randint(1, 10)\n",
    "guess = int(input(\"Nhập số bạn đoán (1-10): \"))\n",
    "\n",
    "if guess == secret:\n",
    "    print(\"Chính xác! Bạn đã đoán đúng.\")\n",
    "else:\n",
    "    print(f\"Sai rồi. Số đúng là {secret}.\")\n"
   ]
  },
  {
   "cell_type": "code",
   "execution_count": 107,
   "id": "58411109",
   "metadata": {},
   "outputs": [
    {
     "name": "stdout",
     "output_type": "stream",
     "text": [
      "Không có lượt nào đúng. Số đúng là 3.\n"
     ]
    }
   ],
   "source": [
    "#b\n",
    "import random\n",
    "\n",
    "secret = random.randint(1, 10)\n",
    "guesses = (\n",
    "    int(input(\"Đoán lần 1: \")),\n",
    "    int(input(\"Đoán lần 2: \")),\n",
    "    int(input(\"Đoán lần 3: \"))\n",
    ")\n",
    "\n",
    "if secret in guesses:\n",
    "    print(\"Có ít nhất một lượt đoán đúng!\")\n",
    "else:\n",
    "    print(f\"Không có lượt nào đúng. Số đúng là {secret}.\")\n"
   ]
  },
  {
   "cell_type": "code",
   "execution_count": null,
   "id": "073fb365",
   "metadata": {},
   "outputs": [
    {
     "name": "stdout",
     "output_type": "stream",
     "text": [
      "Bạn có 3 lượt đoán số từ 1 đến 10.\n",
      "Bạn đoán đúng!\n",
      "Kết quả trò chơi: Thắng\n"
     ]
    }
   ],
   "source": [
    "#c\n",
    "import game_module\n",
    "ket_qua = game_module.play_game()\n",
    "print(\"Kết quả trò chơi:\", ket_qua)\n"
   ]
  },
  {
   "cell_type": "code",
   "execution_count": 1,
   "id": "186d51f1",
   "metadata": {},
   "outputs": [
    {
     "name": "stdout",
     "output_type": "stream",
     "text": [
      "Bạn có 3 lượt đoán số từ 1 đến 10.\n",
      "Bạn đã thua. Số đúng là 2.\n",
      "Kết quả trò chơi: Thua\n",
      "Kết quả đã được lưu vào 'ket_qua_tro_choi.txt'\n"
     ]
    }
   ],
   "source": [
    "#d\n",
    "import game_module\n",
    "\n",
    "try:\n",
    "  \n",
    "    ket_qua = game_module.play_game()\n",
    "    print(\"Kết quả trò chơi:\", ket_qua)\n",
    "\n",
    "  \n",
    "    try:\n",
    "        with open(\"ket_qua_tro_choi.txt\", \"w\", encoding=\"utf-8\") as f:\n",
    "            f.write(f\"Kết quả trò chơi: {ket_qua}\\n\")\n",
    "        print(\"Kết quả đã được lưu vào 'ket_qua_tro_choi.txt'\")\n",
    "    except IOError:\n",
    "        print(\"Lỗi: Không thể ghi vào tệp!\")\n",
    "\n",
    "except ValueError:\n",
    "    print(\"Lỗi: Nhập sai định dạng, hãy nhập số nguyên.\")\n"
   ]
  }
 ],
 "metadata": {
  "kernelspec": {
   "display_name": "Python 3",
   "language": "python",
   "name": "python3"
  },
  "language_info": {
   "codemirror_mode": {
    "name": "ipython",
    "version": 3
   },
   "file_extension": ".py",
   "mimetype": "text/x-python",
   "name": "python",
   "nbconvert_exporter": "python",
   "pygments_lexer": "ipython3",
   "version": "3.13.7"
  }
 },
 "nbformat": 4,
 "nbformat_minor": 5
}
